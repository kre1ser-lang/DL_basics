{
 "cells": [
  {
   "cell_type": "markdown",
   "metadata": {
    "id": "Q_upCOEI3Upu"
   },
   "source": [
    "# Основы глубинного обучения, майнор ИАД\n",
    "\n",
    "## Домашнее задание 1. Введение в PyTorch. Полносвязные нейронные сети.\n",
    "\n",
    "### Общая информация\n",
    "\n",
    "Дата выдачи: 07.10.2023\n",
    "\n",
    "Мягкий дедлайн: 23:59MSK 20.10.2023\n",
    "\n",
    "Жесткий дедлайн: 23:59MSK 24.10.2023\n",
    "\n",
    "### Оценивание и штрафы\n",
    "Максимально допустимая оценка за работу — 10 баллов. За каждый день просрочки снимается 1 балл. Сдавать задание после жёсткого дедлайна сдачи нельзя.\n",
    "\n",
    "Задание выполняется самостоятельно. «Похожие» решения считаются плагиатом и все задействованные студенты (в том числе те, у кого списали) не могут получить за него больше 0 баллов. Если вы нашли решение какого-то из заданий (или его часть) в открытом источнике, необходимо указать ссылку на этот источник в отдельном блоке в конце вашей работы (скорее всего вы будете не единственным, кто это нашел, поэтому чтобы исключить подозрение в плагиате, необходима ссылка на источник).\n",
    "\n",
    "Неэффективная реализация кода может негативно отразиться на оценке.\n",
    "Также оценка может быть снижена за плохо читаемый код и плохо оформленные графики. Все ответы должны сопровождаться кодом или комментариями о том, как они были получены.\n",
    "\n",
    "Итогова оценка считается как\n",
    "$$\n",
    "min(task_1, task_2)*0.6 + max(task_1, task_2)*0.2 + task_4*0.2\n",
    "$$\n",
    "\n",
    "где $task_1$, $task_2$ и $task_4$ - оценки за первое и второе заданиее соответсвенно.\n",
    "Также, за домашнее задание выставляется 0, если не сделано нулевое или третье задание.\n",
    "### О задании\n",
    "\n",
    "В этом задании вам предстоит предсказывать год выпуска песни (**задача регрессии**) по некоторым звуковым признакам: [данные](https://archive.ics.uci.edu/ml/datasets/yearpredictionmsd). В ячейках ниже находится код для загрузки данных. Обратите внимание, что обучающая и тестовая выборки располагаются в одном файле, поэтому НЕ меняйте ячейку, в которой производится деление данных."
   ]
  },
  {
   "cell_type": "code",
   "execution_count": null,
   "metadata": {
    "id": "RI_eoe063VaP"
   },
   "outputs": [],
   "source": [
    "import torch\n",
    "from torch import nn\n",
    "import torch.nn.functional as F\n",
    "import pandas as pd\n",
    "import numpy as np\n",
    "import random\n",
    "device = \"cuda\" if torch.cuda.is_available() else \"cpu\"\n",
    "from tqdm.notebook import tqdm\n",
    "from IPython.display import clear_output\n",
    "import matplotlib.pyplot as plt"
   ]
  },
  {
   "cell_type": "code",
   "execution_count": null,
   "metadata": {
    "id": "R8OIIRnLWf8S"
   },
   "outputs": [],
   "source": [
    "a = torch.tensor([1.0, 1.0], requires_grad= True)\n",
    "b = torch.tensor([1.0, -1.0], requires_grad= False)\n",
    "c = torch.tensor([-1.0, 2.0], requires_grad= True)\n",
    "\n",
    "l = torch.relu(a*b).sum() + (a + c**2).prod()\n",
    "l.backward()"
   ]
  },
  {
   "cell_type": "code",
   "execution_count": null,
   "metadata": {
    "colab": {
     "base_uri": "https://localhost:8080/"
    },
    "id": "AQwimoCcbE1h",
    "outputId": "de3c8034-a476-48fc-deb2-5ec3a2bc2f27"
   },
   "outputs": [
    {
     "name": "stdout",
     "output_type": "stream",
     "text": [
      "tensor([6., 2.])\n"
     ]
    }
   ],
   "source": [
    "print(a.grad)"
   ]
  },
  {
   "cell_type": "code",
   "execution_count": null,
   "metadata": {
    "colab": {
     "base_uri": "https://localhost:8080/"
    },
    "id": "a_HzlzvZXAks",
    "outputId": "8a597152-ef76-4268-9b53-80fa148466af"
   },
   "outputs": [
    {
     "data": {
      "text/plain": [
       "tensor(10., grad_fn=<ProdBackward0>)"
      ]
     },
     "execution_count": 4,
     "metadata": {},
     "output_type": "execute_result"
    }
   ],
   "source": [
    "(a + c**2).prod()"
   ]
  },
  {
   "cell_type": "code",
   "execution_count": null,
   "metadata": {
    "colab": {
     "base_uri": "https://localhost:8080/"
    },
    "id": "7NgSZeU-7vgj",
    "outputId": "536b99d9-a96a-417c-9436-5dc9832380a7"
   },
   "outputs": [
    {
     "name": "stdout",
     "output_type": "stream",
     "text": [
      "--2024-10-24 11:49:14--  https://archive.ics.uci.edu/ml/machine-learning-databases/00203/YearPredictionMSD.txt.zip\n",
      "Resolving archive.ics.uci.edu (archive.ics.uci.edu)... 128.195.10.252\n",
      "Connecting to archive.ics.uci.edu (archive.ics.uci.edu)|128.195.10.252|:443... connected.\n",
      "HTTP request sent, awaiting response... 200 OK\n",
      "Length: unspecified\n",
      "Saving to: ‘data.txt.zip’\n",
      "\n",
      "data.txt.zip            [ <=>                ] 201.24M  26.7MB/s    in 7.1s    \n",
      "\n",
      "2024-10-24 11:49:22 (28.2 MB/s) - ‘data.txt.zip’ saved [211011981]\n",
      "\n"
     ]
    }
   ],
   "source": [
    "!wget -O data.txt.zip https://archive.ics.uci.edu/ml/machine-learning-databases/00203/YearPredictionMSD.txt.zip"
   ]
  },
  {
   "cell_type": "code",
   "execution_count": null,
   "metadata": {
    "colab": {
     "base_uri": "https://localhost:8080/",
     "height": 236
    },
    "id": "DSVJZzkJ7zZE",
    "outputId": "c184f839-07be-41e9-d789-b7650862d267",
    "scrolled": false
   },
   "outputs": [
    {
     "data": {
      "application/vnd.google.colaboratory.intrinsic+json": {
       "type": "dataframe",
       "variable_name": "df"
      },
      "text/html": [
       "\n",
       "  <div id=\"df-3bd39000-7f9d-459a-a53e-d91385278600\" class=\"colab-df-container\">\n",
       "    <div>\n",
       "<style scoped>\n",
       "    .dataframe tbody tr th:only-of-type {\n",
       "        vertical-align: middle;\n",
       "    }\n",
       "\n",
       "    .dataframe tbody tr th {\n",
       "        vertical-align: top;\n",
       "    }\n",
       "\n",
       "    .dataframe thead th {\n",
       "        text-align: right;\n",
       "    }\n",
       "</style>\n",
       "<table border=\"1\" class=\"dataframe\">\n",
       "  <thead>\n",
       "    <tr style=\"text-align: right;\">\n",
       "      <th></th>\n",
       "      <th>0</th>\n",
       "      <th>1</th>\n",
       "      <th>2</th>\n",
       "      <th>3</th>\n",
       "      <th>4</th>\n",
       "      <th>5</th>\n",
       "      <th>6</th>\n",
       "      <th>7</th>\n",
       "      <th>8</th>\n",
       "      <th>9</th>\n",
       "      <th>...</th>\n",
       "      <th>81</th>\n",
       "      <th>82</th>\n",
       "      <th>83</th>\n",
       "      <th>84</th>\n",
       "      <th>85</th>\n",
       "      <th>86</th>\n",
       "      <th>87</th>\n",
       "      <th>88</th>\n",
       "      <th>89</th>\n",
       "      <th>90</th>\n",
       "    </tr>\n",
       "  </thead>\n",
       "  <tbody>\n",
       "    <tr>\n",
       "      <th>0</th>\n",
       "      <td>2001</td>\n",
       "      <td>49.94357</td>\n",
       "      <td>21.47114</td>\n",
       "      <td>73.07750</td>\n",
       "      <td>8.74861</td>\n",
       "      <td>-17.40628</td>\n",
       "      <td>-13.09905</td>\n",
       "      <td>-25.01202</td>\n",
       "      <td>-12.23257</td>\n",
       "      <td>7.83089</td>\n",
       "      <td>...</td>\n",
       "      <td>13.01620</td>\n",
       "      <td>-54.40548</td>\n",
       "      <td>58.99367</td>\n",
       "      <td>15.37344</td>\n",
       "      <td>1.11144</td>\n",
       "      <td>-23.08793</td>\n",
       "      <td>68.40795</td>\n",
       "      <td>-1.82223</td>\n",
       "      <td>-27.46348</td>\n",
       "      <td>2.26327</td>\n",
       "    </tr>\n",
       "    <tr>\n",
       "      <th>1</th>\n",
       "      <td>2001</td>\n",
       "      <td>48.73215</td>\n",
       "      <td>18.42930</td>\n",
       "      <td>70.32679</td>\n",
       "      <td>12.94636</td>\n",
       "      <td>-10.32437</td>\n",
       "      <td>-24.83777</td>\n",
       "      <td>8.76630</td>\n",
       "      <td>-0.92019</td>\n",
       "      <td>18.76548</td>\n",
       "      <td>...</td>\n",
       "      <td>5.66812</td>\n",
       "      <td>-19.68073</td>\n",
       "      <td>33.04964</td>\n",
       "      <td>42.87836</td>\n",
       "      <td>-9.90378</td>\n",
       "      <td>-32.22788</td>\n",
       "      <td>70.49388</td>\n",
       "      <td>12.04941</td>\n",
       "      <td>58.43453</td>\n",
       "      <td>26.92061</td>\n",
       "    </tr>\n",
       "    <tr>\n",
       "      <th>2</th>\n",
       "      <td>2001</td>\n",
       "      <td>50.95714</td>\n",
       "      <td>31.85602</td>\n",
       "      <td>55.81851</td>\n",
       "      <td>13.41693</td>\n",
       "      <td>-6.57898</td>\n",
       "      <td>-18.54940</td>\n",
       "      <td>-3.27872</td>\n",
       "      <td>-2.35035</td>\n",
       "      <td>16.07017</td>\n",
       "      <td>...</td>\n",
       "      <td>3.03800</td>\n",
       "      <td>26.05866</td>\n",
       "      <td>-50.92779</td>\n",
       "      <td>10.93792</td>\n",
       "      <td>-0.07568</td>\n",
       "      <td>43.20130</td>\n",
       "      <td>-115.00698</td>\n",
       "      <td>-0.05859</td>\n",
       "      <td>39.67068</td>\n",
       "      <td>-0.66345</td>\n",
       "    </tr>\n",
       "    <tr>\n",
       "      <th>3</th>\n",
       "      <td>2001</td>\n",
       "      <td>48.24750</td>\n",
       "      <td>-1.89837</td>\n",
       "      <td>36.29772</td>\n",
       "      <td>2.58776</td>\n",
       "      <td>0.97170</td>\n",
       "      <td>-26.21683</td>\n",
       "      <td>5.05097</td>\n",
       "      <td>-10.34124</td>\n",
       "      <td>3.55005</td>\n",
       "      <td>...</td>\n",
       "      <td>34.57337</td>\n",
       "      <td>-171.70734</td>\n",
       "      <td>-16.96705</td>\n",
       "      <td>-46.67617</td>\n",
       "      <td>-12.51516</td>\n",
       "      <td>82.58061</td>\n",
       "      <td>-72.08993</td>\n",
       "      <td>9.90558</td>\n",
       "      <td>199.62971</td>\n",
       "      <td>18.85382</td>\n",
       "    </tr>\n",
       "    <tr>\n",
       "      <th>4</th>\n",
       "      <td>2001</td>\n",
       "      <td>50.97020</td>\n",
       "      <td>42.20998</td>\n",
       "      <td>67.09964</td>\n",
       "      <td>8.46791</td>\n",
       "      <td>-15.85279</td>\n",
       "      <td>-16.81409</td>\n",
       "      <td>-12.48207</td>\n",
       "      <td>-9.37636</td>\n",
       "      <td>12.63699</td>\n",
       "      <td>...</td>\n",
       "      <td>9.92661</td>\n",
       "      <td>-55.95724</td>\n",
       "      <td>64.92712</td>\n",
       "      <td>-17.72522</td>\n",
       "      <td>-1.49237</td>\n",
       "      <td>-7.50035</td>\n",
       "      <td>51.76631</td>\n",
       "      <td>7.88713</td>\n",
       "      <td>55.66926</td>\n",
       "      <td>28.74903</td>\n",
       "    </tr>\n",
       "  </tbody>\n",
       "</table>\n",
       "<p>5 rows × 91 columns</p>\n",
       "</div>\n",
       "    <div class=\"colab-df-buttons\">\n",
       "\n",
       "  <div class=\"colab-df-container\">\n",
       "    <button class=\"colab-df-convert\" onclick=\"convertToInteractive('df-3bd39000-7f9d-459a-a53e-d91385278600')\"\n",
       "            title=\"Convert this dataframe to an interactive table.\"\n",
       "            style=\"display:none;\">\n",
       "\n",
       "  <svg xmlns=\"http://www.w3.org/2000/svg\" height=\"24px\" viewBox=\"0 -960 960 960\">\n",
       "    <path d=\"M120-120v-720h720v720H120Zm60-500h600v-160H180v160Zm220 220h160v-160H400v160Zm0 220h160v-160H400v160ZM180-400h160v-160H180v160Zm440 0h160v-160H620v160ZM180-180h160v-160H180v160Zm440 0h160v-160H620v160Z\"/>\n",
       "  </svg>\n",
       "    </button>\n",
       "\n",
       "  <style>\n",
       "    .colab-df-container {\n",
       "      display:flex;\n",
       "      gap: 12px;\n",
       "    }\n",
       "\n",
       "    .colab-df-convert {\n",
       "      background-color: #E8F0FE;\n",
       "      border: none;\n",
       "      border-radius: 50%;\n",
       "      cursor: pointer;\n",
       "      display: none;\n",
       "      fill: #1967D2;\n",
       "      height: 32px;\n",
       "      padding: 0 0 0 0;\n",
       "      width: 32px;\n",
       "    }\n",
       "\n",
       "    .colab-df-convert:hover {\n",
       "      background-color: #E2EBFA;\n",
       "      box-shadow: 0px 1px 2px rgba(60, 64, 67, 0.3), 0px 1px 3px 1px rgba(60, 64, 67, 0.15);\n",
       "      fill: #174EA6;\n",
       "    }\n",
       "\n",
       "    .colab-df-buttons div {\n",
       "      margin-bottom: 4px;\n",
       "    }\n",
       "\n",
       "    [theme=dark] .colab-df-convert {\n",
       "      background-color: #3B4455;\n",
       "      fill: #D2E3FC;\n",
       "    }\n",
       "\n",
       "    [theme=dark] .colab-df-convert:hover {\n",
       "      background-color: #434B5C;\n",
       "      box-shadow: 0px 1px 3px 1px rgba(0, 0, 0, 0.15);\n",
       "      filter: drop-shadow(0px 1px 2px rgba(0, 0, 0, 0.3));\n",
       "      fill: #FFFFFF;\n",
       "    }\n",
       "  </style>\n",
       "\n",
       "    <script>\n",
       "      const buttonEl =\n",
       "        document.querySelector('#df-3bd39000-7f9d-459a-a53e-d91385278600 button.colab-df-convert');\n",
       "      buttonEl.style.display =\n",
       "        google.colab.kernel.accessAllowed ? 'block' : 'none';\n",
       "\n",
       "      async function convertToInteractive(key) {\n",
       "        const element = document.querySelector('#df-3bd39000-7f9d-459a-a53e-d91385278600');\n",
       "        const dataTable =\n",
       "          await google.colab.kernel.invokeFunction('convertToInteractive',\n",
       "                                                    [key], {});\n",
       "        if (!dataTable) return;\n",
       "\n",
       "        const docLinkHtml = 'Like what you see? Visit the ' +\n",
       "          '<a target=\"_blank\" href=https://colab.research.google.com/notebooks/data_table.ipynb>data table notebook</a>'\n",
       "          + ' to learn more about interactive tables.';\n",
       "        element.innerHTML = '';\n",
       "        dataTable['output_type'] = 'display_data';\n",
       "        await google.colab.output.renderOutput(dataTable, element);\n",
       "        const docLink = document.createElement('div');\n",
       "        docLink.innerHTML = docLinkHtml;\n",
       "        element.appendChild(docLink);\n",
       "      }\n",
       "    </script>\n",
       "  </div>\n",
       "\n",
       "\n",
       "<div id=\"df-81d65a81-a091-4e8a-8427-4e340593acbf\">\n",
       "  <button class=\"colab-df-quickchart\" onclick=\"quickchart('df-81d65a81-a091-4e8a-8427-4e340593acbf')\"\n",
       "            title=\"Suggest charts\"\n",
       "            style=\"display:none;\">\n",
       "\n",
       "<svg xmlns=\"http://www.w3.org/2000/svg\" height=\"24px\"viewBox=\"0 0 24 24\"\n",
       "     width=\"24px\">\n",
       "    <g>\n",
       "        <path d=\"M19 3H5c-1.1 0-2 .9-2 2v14c0 1.1.9 2 2 2h14c1.1 0 2-.9 2-2V5c0-1.1-.9-2-2-2zM9 17H7v-7h2v7zm4 0h-2V7h2v10zm4 0h-2v-4h2v4z\"/>\n",
       "    </g>\n",
       "</svg>\n",
       "  </button>\n",
       "\n",
       "<style>\n",
       "  .colab-df-quickchart {\n",
       "      --bg-color: #E8F0FE;\n",
       "      --fill-color: #1967D2;\n",
       "      --hover-bg-color: #E2EBFA;\n",
       "      --hover-fill-color: #174EA6;\n",
       "      --disabled-fill-color: #AAA;\n",
       "      --disabled-bg-color: #DDD;\n",
       "  }\n",
       "\n",
       "  [theme=dark] .colab-df-quickchart {\n",
       "      --bg-color: #3B4455;\n",
       "      --fill-color: #D2E3FC;\n",
       "      --hover-bg-color: #434B5C;\n",
       "      --hover-fill-color: #FFFFFF;\n",
       "      --disabled-bg-color: #3B4455;\n",
       "      --disabled-fill-color: #666;\n",
       "  }\n",
       "\n",
       "  .colab-df-quickchart {\n",
       "    background-color: var(--bg-color);\n",
       "    border: none;\n",
       "    border-radius: 50%;\n",
       "    cursor: pointer;\n",
       "    display: none;\n",
       "    fill: var(--fill-color);\n",
       "    height: 32px;\n",
       "    padding: 0;\n",
       "    width: 32px;\n",
       "  }\n",
       "\n",
       "  .colab-df-quickchart:hover {\n",
       "    background-color: var(--hover-bg-color);\n",
       "    box-shadow: 0 1px 2px rgba(60, 64, 67, 0.3), 0 1px 3px 1px rgba(60, 64, 67, 0.15);\n",
       "    fill: var(--button-hover-fill-color);\n",
       "  }\n",
       "\n",
       "  .colab-df-quickchart-complete:disabled,\n",
       "  .colab-df-quickchart-complete:disabled:hover {\n",
       "    background-color: var(--disabled-bg-color);\n",
       "    fill: var(--disabled-fill-color);\n",
       "    box-shadow: none;\n",
       "  }\n",
       "\n",
       "  .colab-df-spinner {\n",
       "    border: 2px solid var(--fill-color);\n",
       "    border-color: transparent;\n",
       "    border-bottom-color: var(--fill-color);\n",
       "    animation:\n",
       "      spin 1s steps(1) infinite;\n",
       "  }\n",
       "\n",
       "  @keyframes spin {\n",
       "    0% {\n",
       "      border-color: transparent;\n",
       "      border-bottom-color: var(--fill-color);\n",
       "      border-left-color: var(--fill-color);\n",
       "    }\n",
       "    20% {\n",
       "      border-color: transparent;\n",
       "      border-left-color: var(--fill-color);\n",
       "      border-top-color: var(--fill-color);\n",
       "    }\n",
       "    30% {\n",
       "      border-color: transparent;\n",
       "      border-left-color: var(--fill-color);\n",
       "      border-top-color: var(--fill-color);\n",
       "      border-right-color: var(--fill-color);\n",
       "    }\n",
       "    40% {\n",
       "      border-color: transparent;\n",
       "      border-right-color: var(--fill-color);\n",
       "      border-top-color: var(--fill-color);\n",
       "    }\n",
       "    60% {\n",
       "      border-color: transparent;\n",
       "      border-right-color: var(--fill-color);\n",
       "    }\n",
       "    80% {\n",
       "      border-color: transparent;\n",
       "      border-right-color: var(--fill-color);\n",
       "      border-bottom-color: var(--fill-color);\n",
       "    }\n",
       "    90% {\n",
       "      border-color: transparent;\n",
       "      border-bottom-color: var(--fill-color);\n",
       "    }\n",
       "  }\n",
       "</style>\n",
       "\n",
       "  <script>\n",
       "    async function quickchart(key) {\n",
       "      const quickchartButtonEl =\n",
       "        document.querySelector('#' + key + ' button');\n",
       "      quickchartButtonEl.disabled = true;  // To prevent multiple clicks.\n",
       "      quickchartButtonEl.classList.add('colab-df-spinner');\n",
       "      try {\n",
       "        const charts = await google.colab.kernel.invokeFunction(\n",
       "            'suggestCharts', [key], {});\n",
       "      } catch (error) {\n",
       "        console.error('Error during call to suggestCharts:', error);\n",
       "      }\n",
       "      quickchartButtonEl.classList.remove('colab-df-spinner');\n",
       "      quickchartButtonEl.classList.add('colab-df-quickchart-complete');\n",
       "    }\n",
       "    (() => {\n",
       "      let quickchartButtonEl =\n",
       "        document.querySelector('#df-81d65a81-a091-4e8a-8427-4e340593acbf button');\n",
       "      quickchartButtonEl.style.display =\n",
       "        google.colab.kernel.accessAllowed ? 'block' : 'none';\n",
       "    })();\n",
       "  </script>\n",
       "</div>\n",
       "    </div>\n",
       "  </div>\n"
      ],
      "text/plain": [
       "     0         1         2         3         4         5         6         7   \\\n",
       "0  2001  49.94357  21.47114  73.07750   8.74861 -17.40628 -13.09905 -25.01202   \n",
       "1  2001  48.73215  18.42930  70.32679  12.94636 -10.32437 -24.83777   8.76630   \n",
       "2  2001  50.95714  31.85602  55.81851  13.41693  -6.57898 -18.54940  -3.27872   \n",
       "3  2001  48.24750  -1.89837  36.29772   2.58776   0.97170 -26.21683   5.05097   \n",
       "4  2001  50.97020  42.20998  67.09964   8.46791 -15.85279 -16.81409 -12.48207   \n",
       "\n",
       "         8         9   ...        81         82        83        84        85  \\\n",
       "0 -12.23257   7.83089  ...  13.01620  -54.40548  58.99367  15.37344   1.11144   \n",
       "1  -0.92019  18.76548  ...   5.66812  -19.68073  33.04964  42.87836  -9.90378   \n",
       "2  -2.35035  16.07017  ...   3.03800   26.05866 -50.92779  10.93792  -0.07568   \n",
       "3 -10.34124   3.55005  ...  34.57337 -171.70734 -16.96705 -46.67617 -12.51516   \n",
       "4  -9.37636  12.63699  ...   9.92661  -55.95724  64.92712 -17.72522  -1.49237   \n",
       "\n",
       "         86         87        88         89        90  \n",
       "0 -23.08793   68.40795  -1.82223  -27.46348   2.26327  \n",
       "1 -32.22788   70.49388  12.04941   58.43453  26.92061  \n",
       "2  43.20130 -115.00698  -0.05859   39.67068  -0.66345  \n",
       "3  82.58061  -72.08993   9.90558  199.62971  18.85382  \n",
       "4  -7.50035   51.76631   7.88713   55.66926  28.74903  \n",
       "\n",
       "[5 rows x 91 columns]"
      ]
     },
     "execution_count": 3,
     "metadata": {},
     "output_type": "execute_result"
    }
   ],
   "source": [
    "df = pd.read_csv('data.txt.zip', header=None)\n",
    "df.head()"
   ]
  },
  {
   "cell_type": "markdown",
   "metadata": {
    "id": "N9a-eJUG35C3"
   },
   "source": [
    "Мы вывели кусок данных, чтобы понять, насколько они пригодны для работы без изменений. Здесь ясно, что сомнительно дальше с такими данными работать, потому что как минимум есть отрицательные значения, которые не отмасштабированы, кроме того еще сразу бросается в глаза совсем разная размерность, где-то видим реально большие числа, а где-то 0.075. Ясно, что будем скейлить."
   ]
  },
  {
   "cell_type": "code",
   "execution_count": null,
   "metadata": {
    "id": "n4wnRJT1778j"
   },
   "outputs": [],
   "source": [
    "X = df.iloc[:, 1:].values\n",
    "y = df.iloc[:, 0].values\n",
    "\n",
    "train_size = 463715\n",
    "X_train = X[:train_size, :]\n",
    "y_train = y[:train_size]\n",
    "X_test = X[train_size:, :]\n",
    "y_test = y[train_size:]"
   ]
  },
  {
   "cell_type": "markdown",
   "metadata": {
    "id": "_386JE_o5gOd"
   },
   "source": [
    "## Задание 0. (0 баллов, но при невыполнении максимум за все задание &mdash; 0 баллов)\n",
    "\n",
    "Мы будем использовать RMSE как метрику качества. Для самого первого бейзлайна обучите `Ridge` регрессию из `sklearn`. Кроме того, посчитайте качество при наилучшем константном прогнозе.\n",
    "\n",
    "Для выполнения данного задания (и всех последующих) предобработайте данные.\n",
    "\n",
    "1. Зафиксируйте random_seed везде где только возможно. Вам предоставлена функция для этого, однако вы можете дополнить ее своими дополнениями\n",
    "2. Обучите StandertScaler и предобработайте ваши данные. В следующих заданиях можете использовать другой scaler или вообще отказаться от него\n"
   ]
  },
  {
   "cell_type": "code",
   "execution_count": null,
   "metadata": {
    "id": "1kV-kCVs8Aju"
   },
   "outputs": [],
   "source": [
    "from sklearn.preprocessing import StandardScaler\n",
    "import warnings\n",
    "warnings.filterwarnings(\"ignore\")\n",
    "\n",
    "scaler = StandardScaler()"
   ]
  },
  {
   "cell_type": "code",
   "execution_count": null,
   "metadata": {
    "id": "lkfkXylb8U-O"
   },
   "outputs": [],
   "source": [
    "def set_random_seed(seed):\n",
    "    torch.backends.cudnn.deterministic = True\n",
    "    torch.manual_seed(seed)\n",
    "    torch.cuda.manual_seed(seed)\n",
    "    np.random.seed(seed)\n",
    "    random.seed(seed)\n",
    "    # Add smth here if you need..."
   ]
  },
  {
   "cell_type": "code",
   "execution_count": null,
   "metadata": {
    "id": "GKVVatBw8cH7"
   },
   "outputs": [],
   "source": [
    "set_random_seed(42)\n",
    "\n",
    "X_train_std= scaler.fit_transform(X_train)\n",
    "X_test_std = scaler.transform(X_test)"
   ]
  },
  {
   "cell_type": "code",
   "execution_count": null,
   "metadata": {
    "colab": {
     "base_uri": "https://localhost:8080/"
    },
    "id": "uv7qthu935C4",
    "outputId": "25f8d7cb-6ba9-4fb7-c482-67c8de439c30"
   },
   "outputs": [
    {
     "data": {
      "text/plain": [
       "9.510160820470436"
      ]
     },
     "execution_count": 8,
     "metadata": {},
     "output_type": "execute_result"
    }
   ],
   "source": [
    "from sklearn.linear_model import Ridge\n",
    "from sklearn.metrics import mean_squared_error as mse\n",
    "\n",
    "set_random_seed(42)\n",
    "\n",
    "model = Ridge(alpha=1.0)\n",
    "model.fit(X_train_std, y_train)\n",
    "\n",
    "rmse_for_model = np.sqrt(mse(y_test.reshape(-1, 1), model.predict(X_test_std)))\n",
    "rmse_for_model"
   ]
  },
  {
   "cell_type": "markdown",
   "metadata": {
    "id": "HJKGuhFi35C4"
   },
   "source": [
    "Лучшая константа для RMSE это среднее, посчитаем значение метрики при нем"
   ]
  },
  {
   "cell_type": "code",
   "execution_count": null,
   "metadata": {
    "colab": {
     "base_uri": "https://localhost:8080/"
    },
    "id": "kOcFuy1P35C4",
    "outputId": "77740c3f-7221-4fc3-c239-05f1e9052892"
   },
   "outputs": [
    {
     "data": {
      "text/plain": [
       "10.85246390513634"
      ]
     },
     "execution_count": 9,
     "metadata": {},
     "output_type": "execute_result"
    }
   ],
   "source": [
    "set_random_seed(42)\n",
    "\n",
    "best_rmse_metric = np.sqrt((np.sum((y_test - np.mean(y_train))**2))/len(y_test))\n",
    "best_rmse_metric"
   ]
  },
  {
   "cell_type": "markdown",
   "metadata": {
    "id": "BDHAnIkS8vNY"
   },
   "source": [
    "## Задание 1. (максимум 10 баллов)\n",
    "\n",
    "Закрепите свои знания о том, как pytorch работает с обратным распространением ошибки, проделав следующие шаги:\n",
    "\n",
    "1. Создайте модель линейной регрессии, которая будет состоять только из одного Linear слоя.\n",
    "2. Напишите цикл обучения вашей линейной регрессии. В нем реализуйте подсчет функции потерь, сделайте шаг градиентного спуска. Запрещено использовать готовые оптимизаторы и loss-функции из библиотеки pytorch. Для подсчета градиента воспользуйтесь методом backward.\n",
    "3. Запустите обучение на 10 эпохах, после каждой проверяйте значение целевой метрики на тестовой выборке.\n",
    "4. Выведите на экран графики метрики и значения функции потерь на тестовой и обучающей выборке.\n",
    "\n",
    "В данном задании нет цели побить какой-то порог по метрике. Ваша задача - убедиться в том, что ваш рукописный цикл обучения работает. Для ускорения вычислений и обучения модели можете брать только срез данных, а не весь датасет."
   ]
  },
  {
   "cell_type": "code",
   "execution_count": null,
   "metadata": {
    "id": "LxnT6G1J-apf"
   },
   "outputs": [],
   "source": [
    "# ⸂⸂⸜(രᴗര๑)⸝⸃⸃ Good luck!"
   ]
  },
  {
   "cell_type": "code",
   "execution_count": null,
   "metadata": {
    "id": "dAQ6ICdOZVzH"
   },
   "outputs": [],
   "source": [
    "if torch.cuda.is_available():\n",
    "    device = torch.device('cuda')\n",
    "else:\n",
    "    device = torch.device('cpu')"
   ]
  },
  {
   "cell_type": "code",
   "execution_count": null,
   "metadata": {
    "id": "6SMzq8pT8diO"
   },
   "outputs": [],
   "source": [
    "#возьмём только часть данных\n",
    "\n",
    "X_train_new = X_train_std[:10000, :]\n",
    "y_train_new = y_train[:10000]\n",
    "\n",
    "X_train_new = torch.from_numpy(X_train_new)\n",
    "y_train_new = torch.from_numpy(y_train_new)\n",
    "\n",
    "X_train_new = X_train_new.to(torch.float32)\n",
    "\n",
    "X_test_new = X_test_std[:2000, :]\n",
    "y_test_new = y_test[:2000]\n",
    "\n",
    "X_test_new = torch.from_numpy(X_test_new)\n",
    "y_test_new = torch.from_numpy(y_test_new)\n",
    "\n",
    "X_test_new = X_test_new.to(torch.float32)"
   ]
  },
  {
   "cell_type": "code",
   "execution_count": null,
   "metadata": {
    "colab": {
     "base_uri": "https://localhost:8080/",
     "height": 1000
    },
    "id": "dl5V-k8sfnJ5",
    "outputId": "745a2921-3d50-483a-c5e3-b35c6daba72a"
   },
   "outputs": [
    {
     "name": "stdout",
     "output_type": "stream",
     "text": [
      "Epoch: 0 RMSE on train: tensor(1998.9448, grad_fn=<PowBackward0>)\n",
      "Epoch: 0 RMSE on test: tensor(1493.2283, grad_fn=<PowBackward0>)\n",
      "Epoch: 1 RMSE on train: tensor(1490.8733, grad_fn=<PowBackward0>)\n",
      "Epoch: 1 RMSE on test: tensor(1244.7323, grad_fn=<PowBackward0>)\n",
      "Epoch: 2 RMSE on train: tensor(1241.0822, grad_fn=<PowBackward0>)\n",
      "Epoch: 2 RMSE on test: tensor(1081.8849, grad_fn=<PowBackward0>)\n",
      "Epoch: 3 RMSE on train: tensor(1075.3837, grad_fn=<PowBackward0>)\n",
      "Epoch: 3 RMSE on test: tensor(957.8701, grad_fn=<PowBackward0>)\n",
      "Epoch: 4 RMSE on train: tensor(951.8128, grad_fn=<PowBackward0>)\n",
      "Epoch: 4 RMSE on test: tensor(859.8219, grad_fn=<PowBackward0>)\n",
      "Epoch: 5 RMSE on train: tensor(853.3721, grad_fn=<PowBackward0>)\n",
      "Epoch: 5 RMSE on test: tensor(778.0634, grad_fn=<PowBackward0>)\n",
      "Epoch: 6 RMSE on train: tensor(771.5755, grad_fn=<PowBackward0>)\n",
      "Epoch: 6 RMSE on test: tensor(708.1179, grad_fn=<PowBackward0>)\n",
      "Epoch: 7 RMSE on train: tensor(701.6422, grad_fn=<PowBackward0>)\n",
      "Epoch: 7 RMSE on test: tensor(647.0049, grad_fn=<PowBackward0>)\n",
      "Epoch: 8 RMSE on train: tensor(640.5976, grad_fn=<PowBackward0>)\n",
      "Epoch: 8 RMSE on test: tensor(592.7620, grad_fn=<PowBackward0>)\n",
      "Epoch: 9 RMSE on train: tensor(586.4624, grad_fn=<PowBackward0>)\n",
      "Epoch: 9 RMSE on test: tensor(544.0157, grad_fn=<PowBackward0>)\n"
     ]
    },
    {
     "data": {
      "image/png": "[encoded data removed]",
      "text/plain": [
       "<Figure size 1000x800 with 1 Axes>"
      ]
     },
     "metadata": {},
     "output_type": "display_data"
    }
   ],
   "source": [
    "set_random_seed(42)\n",
    "\n",
    "linear_regression = nn.Linear(90, 1)\n",
    "model = nn.Sequential(linear_regression )\n",
    "a = []\n",
    "b = []\n",
    "for epoch in range(10):\n",
    "\n",
    "    y_pred = model(X_train_new)\n",
    "    loss = (torch.mean((y_train_new - y_pred)**2))**0.5\n",
    "    loss.backward()\n",
    "\n",
    "    linear_regression .weight.data -= 500/((epoch+1)) * linear_regression .weight.grad\n",
    "    linear_regression .bias.data -= 500/((epoch+1)) * linear_regression .bias.grad\n",
    "\n",
    "    linear_regression .weight.grad.data.zero_()\n",
    "    linear_regression .bias.grad.data.zero_()\n",
    "\n",
    "    print('Epoch:', epoch, 'RMSE on train:', loss)\n",
    "\n",
    "    y_pred_test = model(X_test_new)\n",
    "    loss_test = (torch.mean((y_test_new - y_pred_test)**2))**0.5\n",
    "    print('Epoch:', epoch, 'RMSE on test:', loss_test)\n",
    "\n",
    "    #значения функции потерь\n",
    "    a.append(loss.detach().numpy())\n",
    "    b.append(loss_test.detach().numpy())\n",
    "\n",
    "plt.figure(figsize=(10, 8))\n",
    "plt.plot([0, 1, 2, 3, 4, 5, 6, 7, 8, 9], a, label=\"train\", color=\"green\")\n",
    "plt.plot([0, 1, 2, 3, 4, 5, 6, 7, 8, 9], b, color=\"blue\", label=\"test\")\n",
    "plt.title(\"RMSE\", fontsize=18)\n",
    "plt.legend(fontsize=14)\n",
    "plt.show()"
   ]
  },
  {
   "cell_type": "markdown",
   "metadata": {
    "id": "_6ilBKYt6OdD"
   },
   "source": [
    "## Задание 2. (максимум 10 баллов)\n",
    "\n",
    "Реализуйте обучение и тестирование нейронной сети для предоставленного вам набора данных. Соотношение между полученным значением метрики на тестовой выборке и баллами за задание следующее:\n",
    "\n",
    "- $\\text{RMSE} \\le 9.00 $ &mdash; 4 балла\n",
    "- $\\text{RMSE} \\le 8.90 $ &mdash; 6 баллов\n",
    "- $\\text{RMSE} \\le 8.80 $ &mdash; 8 баллов\n",
    "- $\\text{RMSE} \\le 8.75 $ &mdash; 10 баллов\n",
    "\n",
    "Есть несколько правил, которых вам нужно придерживаться:\n",
    "\n",
    "- Весь пайплайн обучения должен быть написан на PyTorch. При этом вы можете пользоваться другими библиотеками (`numpy`, `sklearn` и пр.), но только для обработки данных. То есть как угодно трансформировать данные и считать метрики с помощью этих библиотек можно, а импортировать модели из `sklearn` и выбивать с их помощью требуемое качество &mdash; нельзя. Также нельзя пользоваться библиотеками, для которых сам PyTorch является зависимостью.\n",
    "\n",
    "- Мы никак не ограничиваем ваш выбор архитектуры модели, но скорее всего вам будет достаточно полносвязной нейронной сети.\n",
    "\n",
    "- Для обучения запрещается использовать какие-либо иные данные, кроме обучающей выборки.\n",
    "\n",
    "- Ансамблирование моделей запрещено.\n",
    "\n",
    "### Полезные советы:\n",
    "\n",
    "- Очень вряд ли, что у вас с первого раза получится выбить качество на 10 баллов, поэтому пробуйте разные архитектуры, оптимизаторы и значения гиперпараметров. В идеале при запуске каждого нового эксперимента вы должны менять что-то одно, чтобы точно знать, как этот фактор влияет на качество.\n",
    "\n",
    "- Не забудьте, что для улучшения качества модели вам поможет **нормировка таргета**.\n",
    "\n",
    "- Тот факт, что мы занимаемся глубинным обучением, не означает, что стоит забывать про приемы, использующиеся в классическом машинном обучении. Так что обязательно проводите исследовательский анализ данных, отрисовывайте нужные графики и не забывайте про масштабирование и подбор гиперпараметров.\n",
    "\n",
    "- Вы наверняка столкнетесь с тем, что ваша нейронная сеть будет сильно переобучаться. Для нейросетей существуют специальные методы регуляризации, например, dropout ([статья](https://jmlr.org/papers/volume15/srivastava14a/srivastava14a.pdf)) и weight decay ([блогпост](https://towardsdatascience.com/weight-decay-l2-regularization-90a9e17713cd)). Они, разумеется, реализованы в PyTorch. Попробуйте поэкспериментировать с ними.\n",
    "\n",
    "- Если вы чего-то не знаете, не гнушайтесь гуглить. В интернете очень много полезной информации, туториалов и советов по глубинному обучению в целом и по PyTorch в частности. Но не забывайте, что за скатанный код без ссылки на источник придется ответить по всей строгости!\n",
    "\n",
    "- Если вы сразу реализуете обучение на GPU, то у вас будет больше времени на эксперименты, так как любые вычисления будут работать быстрее. Google Colab предоставляет несколько GPU-часов (обычно около 8-10) в сутки бесплатно.\n",
    "\n",
    "- Чтобы отладить код, можете обучаться на небольшой части данных или даже на одном батче. Если лосс на обучающей выборке не падает, то что-то точно идет не так!\n",
    "\n",
    "- Пользуйтесь утилитами, которые вам предоставляет PyTorch (например, Dataset и Dataloader). Их специально разработали для упрощения разработки пайплайна обучения.\n",
    "\n",
    "- Скорее всего вы захотите отслеживать прогресс обучения. Для создания прогресс-баров есть удобная библиотека `tqdm`.\n",
    "\n",
    "- Быть может, вы захотите, чтобы графики рисовались прямо во время обучения. Можете воспользоваться функцией [clear_output](http://ipython.org/ipython-doc/dev/api/generated/IPython.display.html#IPython.display.clear_output), чтобы удалять старый график и рисовать новый на его месте.\n",
    "\n",
    "**ОБЯЗАТЕЛЬНО** рисуйте графики зависимости лосса/метрики на обучающей и тестовой выборках в зависимости от времени обучения. Если обучение занимает относительно небольшое число эпох, то лучше рисовать зависимость от номера шага обучения, если же эпох больше, то рисуйте зависимость по эпохам. Если проверяющий не увидит такого графика для вашей лучшей модели, то он в праве снизить баллы за задание.\n",
    "\n",
    "**ВАЖНО!** Ваше решение должно быть воспроизводимым. Если это не так, то проверяющий имеет право снизить баллы за задание. Чтобы зафиксировать random seed, воспользуйтесь функцией из предыдущего задания.\n",
    "\n"
   ]
  },
  {
   "cell_type": "markdown",
   "metadata": {
    "id": "TZW0gMe3vT8u"
   },
   "source": [
    "Вы можете придерживаться любой адекватной струкуры кода, но мы советуем воспользоваться сигнатурами функций, которые приведены ниже. Лучше всего, если вы проверите ваши предсказания ассертом: так вы убережете себя от разных косяков, например, что вектор предсказаний состоит из всего одного числа. В любом случае, внимательно следите за тем, для каких тензоров вы считаете метрику RMSE. При случайном или намеренном введении в заблуждение проверяющие очень сильно разозлятся."
   ]
  },
  {
   "cell_type": "code",
   "execution_count": null,
   "metadata": {
    "id": "PbvQSBEn2ajx"
   },
   "outputs": [],
   "source": [
    "class RandomDataset(torch.utils.data.Dataset):\n",
    "    \"\"\"\n",
    "    Our random dataset\n",
    "    \"\"\"\n",
    "\n",
    "    def __init__(self, x, y):\n",
    "        self.x = x\n",
    "        self.y = y\n",
    "\n",
    "    def __len__(self):\n",
    "        return len(self.x)\n",
    "\n",
    "    def __getitem__(self, idx = 1):\n",
    "        # X = torch.tensor(self.x[idx, :], dtype=torch.float)\n",
    "        X = self.x[idx, :]\n",
    "        y = self.y[idx]\n",
    "        return X, y"
   ]
  },
  {
   "cell_type": "code",
   "execution_count": null,
   "metadata": {
    "id": "i5DoFaeFA3Mh"
   },
   "outputs": [],
   "source": [
    "set_random_seed(42)\n",
    "\n",
    "y_train_std= scaler.fit_transform(y_train.reshape(-1, 1))\n",
    "y_test_std = scaler.transform(y_test.reshape(-1, 1))\n",
    "\n",
    "X_train_2 = torch.tensor(X_train_std, dtype=torch.float32)\n",
    "y_train_2 = torch.tensor(y_train_std, dtype=torch.float32)\n",
    "X_test_2 = torch.tensor(X_test_std, dtype=torch.float32)\n",
    "y_test_2 = torch.tensor(y_test_std, dtype=torch.float32)"
   ]
  },
  {
   "cell_type": "code",
   "execution_count": null,
   "metadata": {
    "id": "_xxwDIWx-1Bk"
   },
   "outputs": [],
   "source": [
    "set_random_seed(42)\n",
    "\n",
    "train_set = RandomDataset(X_train_tensor, y_train_tensor)\n",
    "train_loader = torch.utils.data.DataLoader(train_set, batch_size = 8192, shuffle = True, num_workers = 0)\n",
    "\n",
    "test_set = RandomDataset(X_test_tensor, y_test_tensor)\n",
    "test_loader = torch.utils.data.DataLoader(test_set, batch_size = len(y_test), shuffle = True, num_workers = 0)\n",
    "\n",
    "model = nn.Sequential(nn.Linear(90, 90), nn.Dropout(0.2), nn.ReLU(), nn.Linear(90, 75), nn.ReLU(), nn.Linear(75, 75), nn.ReLU(), nn.Linear(75, 50), nn.ReLU(), nn.Linear(50, 1))\n",
    "optimizer = torch.optim.AdamW(model.parameters(), lr = 0.001, weight_decay = 2)\n",
    "criterion = nn.MSELoss()\n",
    "\n",
    "epochs = 21"
   ]
  },
  {
   "cell_type": "code",
   "execution_count": null,
   "metadata": {
    "id": "MAXVIEJQSCeh"
   },
   "outputs": [],
   "source": [
    "def train(model, optimizer, criterion, train_loader, test_loader, epochs, scheduler):\n",
    "    \"\"\"\n",
    "    params:\n",
    "        model - torch.nn.Module to be fitted\n",
    "        optimizer - model optimizer\n",
    "        criterion - loss function from torch.nn\n",
    "        train_loader - torch.utils.data.Dataloader with train set\n",
    "        test_loader - torch.utils.data.Dataloader with test set\n",
    "                      (if you wish to validate during training)\n",
    "    \"\"\"\n",
    "    losses_t = []\n",
    "    losses_s = []\n",
    "\n",
    "    for epoch in range(epochs):\n",
    "        losses_train = 0\n",
    "        losses_test = 0\n",
    "\n",
    "        model.train()\n",
    "        for x_train, y_train_ in tqdm(train_loader):  # берем батч из трейн лоадера\n",
    "            optimizer.zero_grad()\n",
    "\n",
    "            y_pred = model(x_train)\n",
    "\n",
    "            loss = torch.sqrt(criterion(y_train_, y_pred))\n",
    "\n",
    "            loss.backward()  # считаем градиенты обратным проходом\n",
    "            optimizer.step()  # обновляем параметры сети\n",
    "            scheduler.step()\n",
    "\n",
    "            y_pred = torch.tensor(scaler.inverse_transform(y_pred.detach()))\n",
    "            y_train_ = torch.tensor(scaler.inverse_transform(y_train_.detach()))\n",
    "\n",
    "            loss_for_unscaled = torch.sqrt(criterion(y_train_, y_pred))\n",
    "\n",
    "            losses_train = losses_train + loss_for_unscaled.item() * x_train.shape[0]\n",
    "\n",
    "        losses_train = losses_train / len(train_loader.dataset)\n",
    "        losses_t.append(losses_train)\n",
    "\n",
    "        print('Epoch:', epoch, 'RMSE on train:', losses_train)\n",
    "\n",
    "\n",
    "        for x_test, y_test_ in tqdm(test_loader):\n",
    "            with torch.no_grad():\n",
    "                y_pred = model(x_test)  # делаем предсказания\n",
    "                y_pred = torch.tensor(scaler.inverse_transform(y_pred))\n",
    "\n",
    "                y_test_ = torch.tensor(scaler.inverse_transform(y_test_))\n",
    "\n",
    "                loss_for_unscaled = torch.sqrt(criterion(y_pred, y_test_))\n",
    "\n",
    "                losses_test = losses_test + loss_for_unscaled.item() * x_test.shape[0]\n",
    "\n",
    "        losses_test = losses_test/ len(test_loader.dataset)\n",
    "        losses_s.append(losses_test)\n",
    "\n",
    "        print('Epoch:', epoch, 'RMSE on test:', np.mean(losses_test))\n",
    "    return losses_t, losses_s\n",
    "\n",
    "\n",
    "#функцию теста немного поменял, чтобы делать предикт сразу по всему тесту, а не ставить в даталоадер batch_size=len(y_test)\n",
    "def test(model, criterion, test_loader, X_test):\n",
    "    \"\"\"\n",
    "    params:\n",
    "        model - torch.nn.Module to be evaluated on test set\n",
    "        criterion - loss function from torch.nn\n",
    "        test_loader - torch.utils.data.Dataloader with test set\n",
    "    ----------\n",
    "    returns:\n",
    "        predicts - torch.tensor with shape (len(test_loader.dataset), ),\n",
    "                   which contains predictions for test objects\n",
    "    \"\"\"\n",
    "    predicts = torch.ones(len(test_loader.dataset))\n",
    "    # model.eval()\n",
    "    with torch.no_grad():\n",
    "        predicts = model(X_test)\n",
    "        predicts = torch.tensor(scaler.inverse_transform(predicts))\n",
    "\n",
    "    return predicts"
   ]
  },
  {
   "cell_type": "code",
   "execution_count": null,
   "metadata": {
    "id": "NRUYwTNeSCei"
   },
   "outputs": [],
   "source": [
    "assert test(model, criterion, test_loader, X_test_2).shape[0] == y_test.shape[0]"
   ]
  },
  {
   "cell_type": "markdown",
   "metadata": {
    "id": "NzZjEd_JKBDG"
   },
   "source": [
    "На последней эпохе выбил ниже 8.8 на тесте"
   ]
  },
  {
   "cell_type": "code",
   "execution_count": null,
   "metadata": {
    "colab": {
     "base_uri": "https://localhost:8080/",
     "height": 1000,
     "referenced_widgets": [
      "b5c0b63be3464e16b7047a9c8d0d8f32",
      "8b7985bb4a5d4daa83d6a17332cbd11e",
      "dbb08f23b7ad4eec94eca6240ab20005",
      "80c4b1a5867d435aab281b0cd8e62811",
      "9a2454515446469ca740d77c27e1f58d",
      "8aafa79b49e14440825c2dd7d3eb1e58",
      "a3e355fafbe042a09204746fd1beb65e",
      "8480d86fda0344bd857396c4ad1e90a3",
      "a8017b4b52474c18835f62db09435bfe",
      "adf9bfc43a354b79951e99ec83ae9562",
      "288e40b3ef0043ff81d06a98b9590320",
      "852df293654d491ea6c9cfefb90219cb",
      "9641c791c4ac4cfcaf743609a612bfad",
      "43bb259b603d4e85970b9eb823daeae4",
      "6843631116d142238590c6661996e52b",
      "4f92eb3b965e48c28ddbf3e36c4dddb9",
      "207692697f304872890f2dfc45a9fd43",
      "1ec830c90a0a41e1ac1e57e9284cb07b",
      "f0ad827259f74128b8f28274dbe013cc",
      "326a5555a6a14f17af0837718e150413",
      "df6c38552734454aabef4463d6a12ab0",
      "1ec4dc14ac524ee6a359a6fcbe55355e",
      "f8bd5803e36f425498562cda439994b2",
      "5450a4a838c949c19ebf7bc1382d387d",
      "01692aeca9b646acbb88b1e8b404bcdd",
      "451b1bbc21be4355913159a9f1575156",
      "6602d9b61a2f448c82a3db7e991534d5",
      "5bd8b09b44e8490e923a2a23d74137bd",
      "201a7854991d4e7cb74785d84f341b1e",
      "124467d993834fd9b3737f9ae142a76f",
      "8dc6fd8da6ce43c3b7d0b04a548b00cc",
      "34ee26c9fd01422b831ee0baec42368f",
      "fe50f143ac6741c79ea45e27af0e05f5",
      "788f6e91156143e4a5c44cb869b3bd06",
      "24002f564b184f9e8d91cbfa3b816b45",
      "df1dcd6857094aa99a4330f6c0b7f8de",
      "37e85e6ed84948f69c13184c5e491da0",
      "20eaebe1e26645ed9f4810dd9c38d4b9",
      "57ca1a77d42d49ca8cb01cb68edf2453",
      "66a339ad64d8451bb1777c478a9c7f64",
      "ed61dbc3f4eb483c8d5a7c33a9012059",
      "e47b177c90b74763b0bcdf46d9a67dd1",
      "dc11c7440d8243f69bbe9eec218c9c71",
      "57f023e57473420f83ba371d04194b86",
      "e45d32ab38a24910a26f77c3d859fd23",
      "cd75b027f1dd437fae1d6ba60b1b2145",
      "caac880a76d34fef8e0baf623ba378c5",
      "68e428138f4044bd80d637fddc49df44",
      "44a86b9f82594e04805f37fc7c3520eb",
      "a839f49fcbc7428293942432f14bc230",
      "e5f100b0c0a2426489a6f15dd2853c6a",
      "28dab564a2f849fa840b4531b293f1b6",
      "96466a1d46484b709c186000bf2f9f78",
      "f08071c9542e4b1e98b3f6a72cfd08ae",
      "7505bbcad75c4516a2b532cfe9605b41",
      "11923be9d9294e16aaf8650156b666f2",
      "810accb3cadb4f28a81b7e84919a36a3",
      "05ea4b21fc5248ca84bdb9ab4d6a902d",
      "55fcd248a50845bf83a5a74596a38c10",
      "d7d9061ea6034e318f0a2f2479e9d8eb",
      "3410a554a0ff49768cc1464040ebc9af",
      "0b293088505d4721a09975303e5aea7e",
      "016df15b6c41462794248f1d4753d2ad",
      "d7697eddfabf4df8b8e00761bea99f5f",
      "5fe386e8744a4a1296cfa0da91996c60",
      "d38b1b3bc2c248629261706f78cdcbe6",
      "e53b377050c3486ea302ddf6eb1f677e",
      "9f34d908c92b4dea9569f54a51a61127",
      "3ba765dfa88e4f1495aee8c4fc3f3a19",
      "4b59df66ab0541a79d28937a42d5cd8b",
      "c75e8c2ddd904354819449f51d6029ae",
      "df5a52da8a794862ae27a25dc0930a0e",
      "c7f2fb1896194766b50186f681bcf37e",
      "f30a5fb4c3f24bddb82421101ab9a83f",
      "166845f62e4f47c2a4f4af17f9f691af",
      "17fb61c08cce4791a83f79afb80e967a",
      "d22e600a6e6d4ff8a63905f6bfee9c39",
      "806aceb85cb74345a261000be3b0af92",
      "c390f6c80f32470caf49a4edc409b727",
      "fc1453b1f13f43c08d5cff93990e7268",
      "d8c5ede8095c4916991a596d4b55f210",
      "3066da320cab4845936ae9ef6caede90",
      "68496e513e6a49f29f09fcb33082fa05",
      "5bcdb1eeb4434ebbb7393318f5a603a5",
      "ad27b83c61aa4f1b99ad89a40b28bdff",
      "7702f22bfd3e48f6b934ecec8262b0ab",
      "8503417bbec6428fa990230b446895f4",
      "7e9e7a69054140cdb7c7b81dfd918740",
      "cb0ca358c3c246459a9a5a5e16d38f83",
      "090b21e62a3a4b6db6db58c817fd1ead",
      "6c1ddded734a40ab962e16303dd40a82",
      "04ea029d561249dd9e4f22225d5b4c36",
      "82da2fda03d247acac4f705c02328a61",
      "f59e6ca1370940b692bba751c323b033",
      "40a834f07de24fcea8520364c84fb741",
      "e270e3cd8c9e4b288dfc6098c8cb9d51",
      "b8378bfa9753441db9cb3a000b8caeaa",
      "56b40b2a1d5f43bf89683c7a0c85df78",
      "c7f1bda5e58f42578987febf48e5e019",
      "eae06f88f7f24ebc910ab3d50d04aacc",
      "003dab7ad4664c17aa8b354c3bdbc1be",
      "f1f5933113a2482cba8433d9faf60aa6",
      "b0a54207b334445fb04c02407712cf6a",
      "06e8a788e622490f9e6401af456d959f",
      "fbf74647cd014bfab53a6660a5ea02a5",
      "4f99b7d583c44e02a15aa1a74ec7130f",
      "b1ef2497ea704a45aa0e1ba5c7d0b69f",
      "2e08d0ada3ff43edabaaea8c11fcaad2",
      "8830ab705d9f4d10bf22e9160f9c63a9",
      "e461ecabc74148f0a3f22fb4e957e3b3",
      "4a0cd07bc0cd40249d038c80dbd1f29e",
      "0cc427c53b2d46458953ba12310c3e9d",
      "3ab01f6810f74407815f29a688542a61",
      "271ba1a60a3546fd9ce3870276a5473d",
      "756026ee37f14610a4d9d56dd2e93a7f",
      "689bd8239f8c4405b40953fdcdadb63f",
      "5919f86982a648078ce8a6a7ccddfa3a",
      "67b1b38aa19d44bf9207d49d21777dfd",
      "77050024e17548fbaea571df3d3bd041",
      "76cf6842a98546159378148ce093962d",
      "29fede4d69d04ee8bf1749c856a7dd9e",
      "5ad91b230ae74f7598a9b83b021f5f39",
      "59be9bad13174dadbed2ec689a9787b2",
      "a1f352462db94d128bdb929858888a1b",
      "d86a8b363cd24c83ac98840593da480e",
      "17c51fe9a908461986cd020b2702a774",
      "0e896884f57f4f038b474dc2f1cfa42f",
      "e9594247a6c64b168a8ea24fbdc3d333",
      "55c23187f7fd490a9354bd4ed9364ea5",
      "3f752d4ca4234e4b8c4e8783d7fd5a15",
      "c30aff56fabc469296882258909eda1e",
      "4aa6c76049744f9f92f5b6a209ea4e85",
      "67c3fa85c97a47878e187f4aa4da04bb",
      "7eb82aabbebc4f67a2e06ef906fa5d7d",
      "614301d12a0841fe812a47e15fc00434",
      "9d29d72a940540989c93919920a536d1",
      "d4c3613f8dc741bcb9a132b461aa9c34",
      "82d6c2da9f654db883518614f7441059",
      "52784eabbfca4053b2887aeddb582f6b",
      "1157078ecb8644fa882c97c34a81c869",
      "7b7afe08bf774c29904540faa5841d94",
      "2d87da826b13469f93cf52aba2f0f73b",
      "a1992550789b4fb8bb4bbcd3823f79f0",
      "e5372c7fbbd642ec8e7bd71c81c68810",
      "4e61e3df9a0f4de1908fe4e96bd0384e",
      "6abff61f2f7f4808ae1e58b12f87df8d",
      "12e6f80c8bdf4465bc686c6c20f52810",
      "d0f49ef2d5f14642bd59d813b5afb517",
      "40382a761129484e8d9bae117ad6e80d",
      "46c9dad4573845eabd168593465cecc0",
      "e498d20090d3473799f05e66ab03aaa6",
      "2f9d3ca0938a4f4292a5af32e1b8ee7e",
      "b55383a71c7744e8bc111bd14e0e4d14",
      "6c7788eb9c76447cbbea3e7abe83d28e",
      "a0a26a4d7da74bf9a4570263b0e54387",
      "af86a1eac34b4650aa8537ecc95c5490",
      "68cbf92897154d1786a9a07ac44d35a0",
      "631ad6ef6b7046e081e5a98345150a3f",
      "82417d95b23442558c278ae59e62a477",
      "5d8e6a7669d34eaabf6d38e45a5d2a55",
      "8408eee9717d42bf9df84c4411dcf453",
      "00f495c0bc8e44a28e85eafc99533d13",
      "1db5ca9944bb4963a0fdd4eda797f17c",
      "ba0e2f5bdf7f44fd95bf87eb84daa7b0",
      "d26a5c7a5aac404ab6195f54b72ab483",
      "0167b12c529143118808f89723572e63",
      "7636af9ab47340289ffc9d9444fd0de3",
      "8db5e3b09ac24783b4a939b118c10835",
      "1cbb04af14184d08a904bfd797238760",
      "935a6c290a6142c1bb70344bb82ffa20",
      "5cebdf2085e9459dab69b91ef0dd1a26",
      "39e8e394f7134a5c83a37165d85ffb62",
      "9ca41b19c723463e878d6a4279401971",
      "0a9fac3a110640db959b6da44966f2f8",
      "e870e489620343728c2e84f0895cb305",
      "9e3d9902818240d1bab2afa100d3e1f2",
      "35d561ca217e49969b3b3fc6e50b24e8",
      "2411624598114727a2e2cbb6adc6afe2",
      "705aca738f6645a0a11575f8801d3568",
      "1d7db02e284e409b9ec0737085d4566b",
      "7f5c6b8a4aec4cd397b6369a2bdd3e06",
      "92c2d41f910b4e76b01a1e8aa883bf7a",
      "86a3ad2b927442a8ae95070fd8503374",
      "18b124ae0b3249638973f58dcc6f9f1b",
      "d721e4ab1909489fab4f643e5a8fa6f8",
      "d4c6b5eb06d8438299afaf546fd55ce0",
      "856ce5d6f96b4b84bfff711c99abd9a3",
      "a24192adccfb4baa9f36dd31d13b6c4e",
      "6e53145cab824bf4a6466d165b37e3fe",
      "f000df637fd446949695af5a9757ce90",
      "382fc5e1034a42dda2d705d77321c18b",
      "5850a46c17f04cd892cea20c666ccb1a",
      "172f6d3f47ca40dfad65897e1e592fc8",
      "1503f45b19264526b3a95285d1964115",
      "8e94b816556a4dada37f39c6eaac9bb1",
      "db53b56e051c4040b0bcee5f40d4fcd4",
      "a187c783e1894bdfb7cb6284684cffc0",
      "b108ed02ee454e208a27a9014a2aace1",
      "f00e961086e14b4fa3afca3f8c28f7e9",
      "fc32b54a611541dd98f81ff2421c71a5",
      "38bd10a037964a46adb73d3eb9777b45",
      "334242fe99c54a43a6a7791b6236bdad",
      "06dc9092ab824bfb8c99f97996585570",
      "9447bb85c2d549fd81069a44155c843f",
      "38d0058f74fc482a8b1f16642e57ff52",
      "ed715d359ebb443b9e91909b6511f86f",
      "45601ea42f9e476c8906fe2e84a59509",
      "ce89d40aeb8f44a6a254fe17a9e918f6",
      "e3845096dcf4438fa198aa09d0e576d4",
      "149841431ef74726af2610e1a762004f",
      "59be397c201c42b7a9ba7397a1872d7c",
      "4062e9642d864cd7915a5d663c53a11b",
      "4b2f96a079b54f0f8bdd9c505eb8dc89",
      "544f2e1120c14d9ea467c2633ae85877",
      "3d3bfd5bd47c4db886d9f7bec3e3ff45",
      "8badf88b0c634310991248c293e094a0",
      "96b45088620f4482bb3ba9b66eec862c",
      "03ac04efb44d441f9d80e9f6cca3edc4",
      "2a9d0057271f4fbabacbc0e65667846c",
      "9173f84474f34ce2aedd241c5662db04",
      "aa4cd47e6b5c4990826da3a1ab967184",
      "84a53f9dafb34a6da8af4734cd9cebbc",
      "09996b47bf2f4891b54722201273e3da",
      "df3e3030901648e29cc4be48ca074751",
      "725d69b9cb114be08454b0dec4f6252d",
      "9475c3f23df346e4972a13fae2ecd201",
      "c4fdf7639cc44e9ebb58c9fb82ed8f5b",
      "1da0d69500cd4cca914a3779b280b49a",
      "40fe60013a06447babdd6e23b9a2ac86",
      "5dc2c84b97154d31b1abca13bc34ec52",
      "029a94ee7f7e4133954efa10b07d1e31",
      "bd793a5bf42743c4a4bd4c8807327975",
      "3eda5285e1d84ed491498cdc2cf36de1",
      "7c89c38bde1049c8afc6d1651f73f7a7",
      "1cda0e4406234eb5a2612b6607c9f303",
      "0feb6fd3e674470399407dd890835006",
      "6c6f6f286f2b49a79004a1ec852ccdfc",
      "83aba1c9c0c34941af07327167b414c7",
      "c7e72ddc6ee1440286d3cd45912ecccd",
      "25b4735ce3ca401aac73b9173e0e28d2",
      "793bc519ce264ebf821d4be560c1b5a6",
      "1655db3d30d4475491b6350aacf69ac2",
      "feec9172fb384819966e6bef0da14afa",
      "df7776838ebc4ae89cd20b9e4a1c28f7",
      "3a632b5af8bc43a7a2c59899c2cd80d0",
      "38586acd85b24c95b28dcd13cff05089",
      "42d1f24babf848939d5dcc3b4a05dc06",
      "79f36d5d48e9423d9cdf9f671f310af0",
      "9d9b1530184d4c94b9c9ede7b1d06bf7",
      "73c8d4f7573746d8a64be734ad310836",
      "9c4e32d600fd4610b21f365346ec454e",
      "09c4042dc690401b8addb7595374b018",
      "cfaaa139d52143efaf26510cc8173cca",
      "b222f841141f48789359965e37622a6e",
      "6c39d1cdab35430299af05c5d8cfc628",
      "db29257a9ffa443db49ed0f7b6949371",
      "9f56a102284044adab9c34e2c199abe4",
      "5d75487871ce40349085fefd7e89838b",
      "d210d60e0166461babdfe4ac3442a776",
      "75d1ab8fae224da8a492cd5ed61d3149",
      "f719b4e0f71c45e0b1b21c1529cc0437",
      "6aab92b7b36e41db83e983ca92508eea",
      "15cd407fa8c94983b2cb7642afde053c",
      "525ee5cc4e2e44489ae7441c980b1a2e",
      "0db569372f8444dcb3e0307e6e791305",
      "d1fa0e197d0b47959b77b5fd24e7387a",
      "a8afba6aa7474017a414a4f2a0fe95c2",
      "3c71e8f2619249bc84330cc7d8566ac6",
      "cc173335105f4cb0a0902a4967c6cf36",
      "fe225011940840419c34ec99e1cc4800",
      "5215357a361749c992ad7951cec5c0eb",
      "bb59b56df0424ec3a137705385d4a4f9",
      "bb2922074b6a4f1c8d6183bbc6a34aa6",
      "bc5e25feb63345349a7517de53d0eeb4",
      "c55d2a4cda6d48b7b81ddc79cbf20743",
      "4f4c32cdff1948edbf8f6ab52281722f",
      "07f0266ff7ff49719b9951cbbe322630",
      "9a155db126e44224a70f3f36c6252712",
      "2cb746ca5154414db5b42a9b96a97fdc",
      "ae8b0b60cf784267ad8748f940d5d075",
      "7fae42fbd64140a1804aa11712379be5",
      "c0f6180906b3495f88777649b22cfb7d",
      "647781b1c89048088265d6f81d2975c2",
      "e2077a3e14b5434ea33d22c086aea33b",
      "e2a075354de84521bc0e7e49483ca7f3",
      "18cf8a7ebada4a7dad141dadb52df49d",
      "5057b49d8cc34347bb63fa95f7013b79",
      "6a5f6468646c4838991ad56f118ffa82",
      "8ec37b88b87b430081eda7b040b87047",
      "fe9098d5a8e54d56bcb9ab95fe427984",
      "9eee197b89fb4979b1cd4d9fe9276e0d",
      "4e3a9c5978ce4176807e976248e9114a",
      "0083e0298790473a98294584d1b95152",
      "13f0362528fe4898bd76df6a735372e8",
      "d8cfee6df1a14299a3b5a426261de298",
      "98f84a8a27cf4b00a5cb274386c8c437",
      "ac1a337abe4140c0b57421c15f2b686f",
      "d3217778f2cc496794f3a16f81149b9f",
      "2123a36303834dd084cf4b5399701919",
      "08a17bd344c5439483070cbca84c9ee0",
      "0a382759f0d645c88b12727de5875ee4",
      "c73aa1e089924ce4af8435dc6b040fbb",
      "5bc3fae1d7984bc3a450bd5a6b91f5d4",
      "17b0384941c14495be3c5a69b5b4887b",
      "e9bb6f7e42244e3884fab6d7e38eb777",
      "715897a1172549a7a9c988dfecd39a8c",
      "3113e6b4b5d548c89081250c1ecfbf8d",
      "e5ae8a2864334dbf8115ccb5fe21dbbf",
      "d05a54ecd6794465ad01e85011e0ea28",
      "9cc7ea6d711944eaa29b4e400bb54476",
      "11592ca030a74093a6719eea863867e4",
      "207d7947a0ab47aa9536580586e71216",
      "6380f6de90d74bbf82c8d633545610cb",
      "9549639481f546178401421b43f73c59",
      "53a481af42e44395b568921d065266b8",
      "8f62d107e7d24112a573c3137259ee2e",
      "2b4a33718e27488baeeda641e46d3f75",
      "1efcdefbb3b941859ddaab0b8dc3d499",
      "9fcb78f663a34a7dac23044f14a40634",
      "63eaf386e071456f8fa55a35128ca84d",
      "fa675b7327c7470284482a8924642164",
      "d367d236c25b43089e5baa13fa423c5a",
      "89a19a2283cd479c96667804f7ce9f72",
      "f03dfe45c5114ce5868f627ef48e2c98",
      "96f8c4075d50462da5db5d66b7b6d1d5",
      "dc66df55a7484f7faba4426cec220b0f",
      "2ccec4e7d30840859f7281bbc08ecb10",
      "4d099f9bea104f0f83ee17596eca1be7",
      "9b697272f8384d449807edda580bbced",
      "b0db740e6b6e4426b32fc820917befa4",
      "0f5ca924a4fe43d9b6807b661afae09d",
      "f253424b28274db3bde0e20416015761",
      "7eb490595d7648f9a9b63fd448e79128",
      "6a75d8c090434e07b200d6935c9eea7a",
      "080d2db8580a41979e8e235da8fa05f2",
      "f08fa5abe6f84b9eab3b1d31b6ceb76e",
      "f55085044f1644f997aa26f94ca494ea",
      "eb9042c4fc214907a2e56331348a5d74",
      "c46ca30ffc484b7fb93288beadb44fcc",
      "d9d3b09dc6474b6db854999d4b5449b4",
      "d8f4996b05d349b295177cba8cddb95b",
      "0f6bbcf881ff4b79a9f9a42c79fde153",
      "234a8db9a77b4c5bb7b883b543abc4cd",
      "d198564ada6947e9a389f2a0bff2abc6",
      "732f276b1ae24510845e0b716c349bed",
      "4d762528add148d782ab18e598010930",
      "52ca880283c747599d9f0643c2a4ecbd",
      "fbc6be3a81cd429e9dceda940ab54a7e",
      "92097845edc143898d69dff9a7dba234",
      "043f29ad03db43d08580008d08f4e0b9",
      "1bb3ee2c52b147688cb8d722df04e0b6",
      "22557fa1c09941eeb21957f9cdfaad05",
      "4e4edd82ac0e47fb8ac7742b4e375c1f",
      "d837383c9b284ca5876c8c84f9d3acba",
      "edcff21d269045a6ba1051df4184e7a5",
      "a0d7d0b41aa943108c6e87bfcbf3f52a",
      "c11e7ecff1d447d985c00689ac21d322",
      "d311368843fa44d99c82ac039bcc6848",
      "640da3103b6c40af9f5617ec450a633b",
      "8c339898b7344553845de1092af65098",
      "de1513cb4b8643178ecc13846fd626fb",
      "70f7352813e743229bee5d86f22b1594",
      "43a3de8e93214d6ebc8b8b7b4e41bd16",
      "2f46079d15ce4025b2a46d80de2edfe0",
      "f252083200344dedaae19ec186435539",
      "a2ceb7e6b16f484fbb349959659168fd",
      "cb3265b0ad3e4962af18a5fcc9857dfe",
      "0decc2855e1b4017bcf72334e54223e3",
      "4a49c02cdfab4f71ad8032c68a19988a",
      "e84177e4385842509f3b1355a4e650d5",
      "51c91f670243462d988d9d8eee96a643",
      "8e5f976f44e9426683a091953f4ea07f",
      "9a4cff73698e44cbb0b88784cb179b03",
      "31ad635d915646aabf28740356dd651b",
      "47119ce92f1b4778b0eb859f26141ca0",
      "13720d396f8444ce93260080987b3978",
      "76284fc4adcd4fbb9d01721af8a0bc69",
      "bc22584b0e2e4a3dba78655b05815346",
      "f1ce93a5184346849babb82a9f1abd27",
      "c0be4b6f0d1d447dad8eeccb147a3ec2",
      "5c968218fc764e4bb6988afbc83c0674",
      "557b8d047ae24f218cea4fede19dd4ff",
      "cdcf499f66ba4253a7974d7b5968adef",
      "a9643d4909a44ca0a0eaa53c7c0fa8ad",
      "c987d684b66f4da7a32ab89548b8685d",
      "57461841793f40d8af409af7f4333d43",
      "73093e61a3f742ab86d6626c26c271d4",
      "f714744ee26f4cb294de3377352cacac",
      "3a92a7a501d24b779637d2b669d0d7ef",
      "2f3c2cebb75a4f61a4730799f26befc5",
      "4da893dbbaba43c4bd330848c1a3d981",
      "ba63b31d60dd4551abbee7ab1eed21a4",
      "88ff0ad17b1f4f0185c5a39c316b7097",
      "e98d493b469042be88837804f80d4354",
      "d91497417b0647ee99a9962a080db0d1",
      "0769f31392c64c4cb5f39a969edb0b55",
      "8417b99cfa384f0a8158ee301501c4b5",
      "9380cc3bddae410a90596c7c8a9b614f",
      "2f804b86799d4affbf991cc74d6de2a2",
      "04892645e5df411aa493f5a635023a39",
      "354d5f47433048eb8e23117daa41919a",
      "2360400070534755bebc7ca6b929d7e3",
      "06ebcfc13479450da6861d9d7132e2e1",
      "37f50f95d01a4f8aa244060127d139f7",
      "47bbceca44804519bf771a8e93a82ce9",
      "2618110b18fc4b02b0c7e56b1615a74b",
      "c89d942508634ca790587876136d89d5",
      "8a34e5749d4e454ba75c816cfb9044b7",
      "1519f7bfd6ba4bd4a204d32793fd43f7",
      "8a765a86e9f7429394cd017c154a80f3",
      "cd662ed9918b45b7b56be9d8602909ee",
      "ee678374d46a483584d2fd29ea632967",
      "cc903e4d5742408bb676c3d41dd990da",
      "3f25bcabc87a4bc2adfa12a40aee2de5",
      "7f5a7504d9c242e78844de1b85342559",
      "3e7f24ee5a3f46d4b20a6c493066cba5",
      "97d3d8b8e3d14bca892b50b82646cfb5",
      "e5f0067520834eef8f66083932b1e477",
      "4c11ce6ba2414389b0f95674edb93e24",
      "782da28a805b4583b7e088dc34778b2b",
      "372f726a9df04cc5bde5527373f18284",
      "a0f57777103140ec9808751ab9fb6df2",
      "048c8a1adb8e4cd8b48449d208b097bc",
      "f450adb7a65b4f79936b8bbe004b017b",
      "94f0b060c858492baeded07fe4559e3a",
      "26f5afe552ea4331a593032192fe73f2",
      "9e8c5fa26891436f928f3ab57d16b6a7",
      "9102d6668bb14fbe813676053d383933",
      "bc241b2e26e948f88954b199c03f66af",
      "4c27cdca9baa4e6f8677cc8c004eecf3",
      "b0676ffeebdb4cfc9d55f48a08173326",
      "7837fce596a54780989787b3f915514e",
      "c2cc2325ab2f4bcfa4024a0344bb75a3",
      "2743cbdfb1f34bea8d99e37dae7fd12c",
      "a09e586cb95045fb8b2e51f25643c1e7",
      "4f250dbbccb74f1494dfa5ac01faba9e",
      "160845d3fab04b4e88bc170976537137",
      "81194c99bb4045e79b70cbcfd72eab0c",
      "25aa346ad4e64187a882b3985da33016",
      "d9e8ed62a4f6412881b4e4c9d8b305c8",
      "407a3a59f11c4f55bd370b6405ce5b79",
      "623a53713f7d446b942001668491c0e4",
      "d62bf6b189e04a1396b487b457d3c501",
      "36401920853144f3ae9b0680af83b707",
      "170210b13b8d46b1b7b0624dd036d018",
      "e786aa1de4d94551a3848317921cf475",
      "bf5b561172cb4e3996e90cb9df79f0e6",
      "5a3d972d89e7496cbf3b72c6ebe85dc6",
      "1e5f34f2f867490fb3ba834d48f34b43",
      "4feeac5dbcfb40c0be35f5f8bfafc626",
      "86b8c88492ab456289e9f6545f0e18d8",
      "64c5dfc91c3544019f4ee2a6877b5965",
      "6aac08bed5f44b749886f0b6806451dc",
      "de64b162996f462a9482690061031cb1",
      "0755fbb8225c4741a820e0458c5cfd5f",
      "d906c945576a4118b135704c39b05eac",
      "203dcfa109da4293952575ba4a7427b1",
      "5825adb4e71f484182a611834e0eb560",
      "08af87a51a194cb492ccd82ad654f3c7",
      "a7a6384ca52f4b92879b35d0477619a4",
      "52544d04e77f4431a0fccd5ba5bbec1b",
      "444fdb67126c45e1820941ea6952c46d"
     ]
    },
    "id": "q4gZS-CnYUHx",
    "outputId": "ae693e45-7dbd-492e-806b-85fe5a8fdecc"
   },
   "outputs": [
    {
     "data": {
      "application/vnd.jupyter.widget-view+json": {
       "model_id": "b5c0b63be3464e16b7047a9c8d0d8f32",
       "version_major": 2,
       "version_minor": 0
      },
      "text/plain": [
       "  0%|          | 0/57 [00:00<?, ?it/s]"
      ]
     },
     "metadata": {},
     "output_type": "display_data"
    },
    {
     "name": "stdout",
     "output_type": "stream",
     "text": [
      "Epoch: 0 RMSE on train: 9.95302403150929\n"
     ]
    },
    {
     "data": {
      "application/vnd.jupyter.widget-view+json": {
       "model_id": "852df293654d491ea6c9cfefb90219cb",
       "version_major": 2,
       "version_minor": 0
      },
      "text/plain": [
       "  0%|          | 0/1 [00:00<?, ?it/s]"
      ]
     },
     "metadata": {},
     "output_type": "display_data"
    },
    {
     "name": "stdout",
     "output_type": "stream",
     "text": [
      "Epoch: 0 RMSE on test: 9.293497830805977\n"
     ]
    },
    {
     "data": {
      "application/vnd.jupyter.widget-view+json": {
       "model_id": "f8bd5803e36f425498562cda439994b2",
       "version_major": 2,
       "version_minor": 0
      },
      "text/plain": [
       "  0%|          | 0/57 [00:00<?, ?it/s]"
      ]
     },
     "metadata": {},
     "output_type": "display_data"
    },
    {
     "name": "stdout",
     "output_type": "stream",
     "text": [
      "Epoch: 1 RMSE on train: 9.109516207317112\n"
     ]
    },
    {
     "data": {
      "application/vnd.jupyter.widget-view+json": {
       "model_id": "788f6e91156143e4a5c44cb869b3bd06",
       "version_major": 2,
       "version_minor": 0
      },
      "text/plain": [
       "  0%|          | 0/1 [00:00<?, ?it/s]"
      ]
     },
     "metadata": {},
     "output_type": "display_data"
    },
    {
     "name": "stdout",
     "output_type": "stream",
     "text": [
      "Epoch: 1 RMSE on test: 9.06616033856918\n"
     ]
    },
    {
     "data": {
      "application/vnd.jupyter.widget-view+json": {
       "model_id": "e45d32ab38a24910a26f77c3d859fd23",
       "version_major": 2,
       "version_minor": 0
      },
      "text/plain": [
       "  0%|          | 0/57 [00:00<?, ?it/s]"
      ]
     },
     "metadata": {},
     "output_type": "display_data"
    },
    {
     "name": "stdout",
     "output_type": "stream",
     "text": [
      "Epoch: 2 RMSE on train: 8.919343898322689\n"
     ]
    },
    {
     "data": {
      "application/vnd.jupyter.widget-view+json": {
       "model_id": "11923be9d9294e16aaf8650156b666f2",
       "version_major": 2,
       "version_minor": 0
      },
      "text/plain": [
       "  0%|          | 0/1 [00:00<?, ?it/s]"
      ]
     },
     "metadata": {},
     "output_type": "display_data"
    },
    {
     "name": "stdout",
     "output_type": "stream",
     "text": [
      "Epoch: 2 RMSE on test: 8.978728260355572\n"
     ]
    },
    {
     "data": {
      "application/vnd.jupyter.widget-view+json": {
       "model_id": "e53b377050c3486ea302ddf6eb1f677e",
       "version_major": 2,
       "version_minor": 0
      },
      "text/plain": [
       "  0%|          | 0/57 [00:00<?, ?it/s]"
      ]
     },
     "metadata": {},
     "output_type": "display_data"
    },
    {
     "name": "stdout",
     "output_type": "stream",
     "text": [
      "Epoch: 3 RMSE on train: 8.83007229413569\n"
     ]
    },
    {
     "data": {
      "application/vnd.jupyter.widget-view+json": {
       "model_id": "806aceb85cb74345a261000be3b0af92",
       "version_major": 2,
       "version_minor": 0
      },
      "text/plain": [
       "  0%|          | 0/1 [00:00<?, ?it/s]"
      ]
     },
     "metadata": {},
     "output_type": "display_data"
    },
    {
     "name": "stdout",
     "output_type": "stream",
     "text": [
      "Epoch: 3 RMSE on test: 8.937919013768512\n"
     ]
    },
    {
     "data": {
      "application/vnd.jupyter.widget-view+json": {
       "model_id": "cb0ca358c3c246459a9a5a5e16d38f83",
       "version_major": 2,
       "version_minor": 0
      },
      "text/plain": [
       "  0%|          | 0/57 [00:00<?, ?it/s]"
      ]
     },
     "metadata": {},
     "output_type": "display_data"
    },
    {
     "name": "stdout",
     "output_type": "stream",
     "text": [
      "Epoch: 4 RMSE on train: 8.773232536200828\n"
     ]
    },
    {
     "data": {
      "application/vnd.jupyter.widget-view+json": {
       "model_id": "eae06f88f7f24ebc910ab3d50d04aacc",
       "version_major": 2,
       "version_minor": 0
      },
      "text/plain": [
       "  0%|          | 0/1 [00:00<?, ?it/s]"
      ]
     },
     "metadata": {},
     "output_type": "display_data"
    },
    {
     "name": "stdout",
     "output_type": "stream",
     "text": [
      "Epoch: 4 RMSE on test: 8.893161565677605\n"
     ]
    },
    {
     "data": {
      "application/vnd.jupyter.widget-view+json": {
       "model_id": "4a0cd07bc0cd40249d038c80dbd1f29e",
       "version_major": 2,
       "version_minor": 0
      },
      "text/plain": [
       "  0%|          | 0/57 [00:00<?, ?it/s]"
      ]
     },
     "metadata": {},
     "output_type": "display_data"
    },
    {
     "name": "stdout",
     "output_type": "stream",
     "text": [
      "Epoch: 5 RMSE on train: 8.740818224058103\n"
     ]
    },
    {
     "data": {
      "application/vnd.jupyter.widget-view+json": {
       "model_id": "5ad91b230ae74f7598a9b83b021f5f39",
       "version_major": 2,
       "version_minor": 0
      },
      "text/plain": [
       "  0%|          | 0/1 [00:00<?, ?it/s]"
      ]
     },
     "metadata": {},
     "output_type": "display_data"
    },
    {
     "name": "stdout",
     "output_type": "stream",
     "text": [
      "Epoch: 5 RMSE on test: 8.876026378248763\n"
     ]
    },
    {
     "data": {
      "application/vnd.jupyter.widget-view+json": {
       "model_id": "67c3fa85c97a47878e187f4aa4da04bb",
       "version_major": 2,
       "version_minor": 0
      },
      "text/plain": [
       "  0%|          | 0/57 [00:00<?, ?it/s]"
      ]
     },
     "metadata": {},
     "output_type": "display_data"
    },
    {
     "name": "stdout",
     "output_type": "stream",
     "text": [
      "Epoch: 6 RMSE on train: 8.716389576155384\n"
     ]
    },
    {
     "data": {
      "application/vnd.jupyter.widget-view+json": {
       "model_id": "e5372c7fbbd642ec8e7bd71c81c68810",
       "version_major": 2,
       "version_minor": 0
      },
      "text/plain": [
       "  0%|          | 0/1 [00:00<?, ?it/s]"
      ]
     },
     "metadata": {},
     "output_type": "display_data"
    },
    {
     "name": "stdout",
     "output_type": "stream",
     "text": [
      "Epoch: 6 RMSE on test: 8.86155550195663\n"
     ]
    },
    {
     "data": {
      "application/vnd.jupyter.widget-view+json": {
       "model_id": "a0a26a4d7da74bf9a4570263b0e54387",
       "version_major": 2,
       "version_minor": 0
      },
      "text/plain": [
       "  0%|          | 0/57 [00:00<?, ?it/s]"
      ]
     },
     "metadata": {},
     "output_type": "display_data"
    },
    {
     "name": "stdout",
     "output_type": "stream",
     "text": [
      "Epoch: 7 RMSE on train: 8.697127249245534\n"
     ]
    },
    {
     "data": {
      "application/vnd.jupyter.widget-view+json": {
       "model_id": "0167b12c529143118808f89723572e63",
       "version_major": 2,
       "version_minor": 0
      },
      "text/plain": [
       "  0%|          | 0/1 [00:00<?, ?it/s]"
      ]
     },
     "metadata": {},
     "output_type": "display_data"
    },
    {
     "name": "stdout",
     "output_type": "stream",
     "text": [
      "Epoch: 7 RMSE on test: 8.859972629017763\n"
     ]
    },
    {
     "data": {
      "application/vnd.jupyter.widget-view+json": {
       "model_id": "35d561ca217e49969b3b3fc6e50b24e8",
       "version_major": 2,
       "version_minor": 0
      },
      "text/plain": [
       "  0%|          | 0/57 [00:00<?, ?it/s]"
      ]
     },
     "metadata": {},
     "output_type": "display_data"
    },
    {
     "name": "stdout",
     "output_type": "stream",
     "text": [
      "Epoch: 8 RMSE on train: 8.676577273104693\n"
     ]
    },
    {
     "data": {
      "application/vnd.jupyter.widget-view+json": {
       "model_id": "a24192adccfb4baa9f36dd31d13b6c4e",
       "version_major": 2,
       "version_minor": 0
      },
      "text/plain": [
       "  0%|          | 0/1 [00:00<?, ?it/s]"
      ]
     },
     "metadata": {},
     "output_type": "display_data"
    },
    {
     "name": "stdout",
     "output_type": "stream",
     "text": [
      "Epoch: 8 RMSE on test: 8.836447447006623\n"
     ]
    },
    {
     "data": {
      "application/vnd.jupyter.widget-view+json": {
       "model_id": "f00e961086e14b4fa3afca3f8c28f7e9",
       "version_major": 2,
       "version_minor": 0
      },
      "text/plain": [
       "  0%|          | 0/57 [00:00<?, ?it/s]"
      ]
     },
     "metadata": {},
     "output_type": "display_data"
    },
    {
     "name": "stdout",
     "output_type": "stream",
     "text": [
      "Epoch: 9 RMSE on train: 8.666175317554911\n"
     ]
    },
    {
     "data": {
      "application/vnd.jupyter.widget-view+json": {
       "model_id": "149841431ef74726af2610e1a762004f",
       "version_major": 2,
       "version_minor": 0
      },
      "text/plain": [
       "  0%|          | 0/1 [00:00<?, ?it/s]"
      ]
     },
     "metadata": {},
     "output_type": "display_data"
    },
    {
     "name": "stdout",
     "output_type": "stream",
     "text": [
      "Epoch: 9 RMSE on test: 8.844268096497137\n"
     ]
    },
    {
     "data": {
      "application/vnd.jupyter.widget-view+json": {
       "model_id": "aa4cd47e6b5c4990826da3a1ab967184",
       "version_major": 2,
       "version_minor": 0
      },
      "text/plain": [
       "  0%|          | 0/57 [00:00<?, ?it/s]"
      ]
     },
     "metadata": {},
     "output_type": "display_data"
    },
    {
     "name": "stdout",
     "output_type": "stream",
     "text": [
      "Epoch: 10 RMSE on train: 8.648382870026516\n"
     ]
    },
    {
     "data": {
      "application/vnd.jupyter.widget-view+json": {
       "model_id": "bd793a5bf42743c4a4bd4c8807327975",
       "version_major": 2,
       "version_minor": 0
      },
      "text/plain": [
       "  0%|          | 0/1 [00:00<?, ?it/s]"
      ]
     },
     "metadata": {},
     "output_type": "display_data"
    },
    {
     "name": "stdout",
     "output_type": "stream",
     "text": [
      "Epoch: 10 RMSE on test: 8.839385775269962\n"
     ]
    },
    {
     "data": {
      "application/vnd.jupyter.widget-view+json": {
       "model_id": "feec9172fb384819966e6bef0da14afa",
       "version_major": 2,
       "version_minor": 0
      },
      "text/plain": [
       "  0%|          | 0/57 [00:00<?, ?it/s]"
      ]
     },
     "metadata": {},
     "output_type": "display_data"
    },
    {
     "name": "stdout",
     "output_type": "stream",
     "text": [
      "Epoch: 11 RMSE on train: 8.643360015212352\n"
     ]
    },
    {
     "data": {
      "application/vnd.jupyter.widget-view+json": {
       "model_id": "b222f841141f48789359965e37622a6e",
       "version_major": 2,
       "version_minor": 0
      },
      "text/plain": [
       "  0%|          | 0/1 [00:00<?, ?it/s]"
      ]
     },
     "metadata": {},
     "output_type": "display_data"
    },
    {
     "name": "stdout",
     "output_type": "stream",
     "text": [
      "Epoch: 11 RMSE on test: 8.842584960718268\n"
     ]
    },
    {
     "data": {
      "application/vnd.jupyter.widget-view+json": {
       "model_id": "0db569372f8444dcb3e0307e6e791305",
       "version_major": 2,
       "version_minor": 0
      },
      "text/plain": [
       "  0%|          | 0/57 [00:00<?, ?it/s]"
      ]
     },
     "metadata": {},
     "output_type": "display_data"
    },
    {
     "name": "stdout",
     "output_type": "stream",
     "text": [
      "Epoch: 12 RMSE on train: 8.636084256452564\n"
     ]
    },
    {
     "data": {
      "application/vnd.jupyter.widget-view+json": {
       "model_id": "4f4c32cdff1948edbf8f6ab52281722f",
       "version_major": 2,
       "version_minor": 0
      },
      "text/plain": [
       "  0%|          | 0/1 [00:00<?, ?it/s]"
      ]
     },
     "metadata": {},
     "output_type": "display_data"
    },
    {
     "name": "stdout",
     "output_type": "stream",
     "text": [
      "Epoch: 12 RMSE on test: 8.82656027752842\n"
     ]
    },
    {
     "data": {
      "application/vnd.jupyter.widget-view+json": {
       "model_id": "5057b49d8cc34347bb63fa95f7013b79",
       "version_major": 2,
       "version_minor": 0
      },
      "text/plain": [
       "  0%|          | 0/57 [00:00<?, ?it/s]"
      ]
     },
     "metadata": {},
     "output_type": "display_data"
    },
    {
     "name": "stdout",
     "output_type": "stream",
     "text": [
      "Epoch: 13 RMSE on train: 8.629959149994475\n"
     ]
    },
    {
     "data": {
      "application/vnd.jupyter.widget-view+json": {
       "model_id": "d3217778f2cc496794f3a16f81149b9f",
       "version_major": 2,
       "version_minor": 0
      },
      "text/plain": [
       "  0%|          | 0/1 [00:00<?, ?it/s]"
      ]
     },
     "metadata": {},
     "output_type": "display_data"
    },
    {
     "name": "stdout",
     "output_type": "stream",
     "text": [
      "Epoch: 13 RMSE on test: 8.84326771851448\n"
     ]
    },
    {
     "data": {
      "application/vnd.jupyter.widget-view+json": {
       "model_id": "d05a54ecd6794465ad01e85011e0ea28",
       "version_major": 2,
       "version_minor": 0
      },
      "text/plain": [
       "  0%|          | 0/57 [00:00<?, ?it/s]"
      ]
     },
     "metadata": {},
     "output_type": "display_data"
    },
    {
     "name": "stdout",
     "output_type": "stream",
     "text": [
      "Epoch: 14 RMSE on train: 8.622222239166074\n"
     ]
    },
    {
     "data": {
      "application/vnd.jupyter.widget-view+json": {
       "model_id": "63eaf386e071456f8fa55a35128ca84d",
       "version_major": 2,
       "version_minor": 0
      },
      "text/plain": [
       "  0%|          | 0/1 [00:00<?, ?it/s]"
      ]
     },
     "metadata": {},
     "output_type": "display_data"
    },
    {
     "name": "stdout",
     "output_type": "stream",
     "text": [
      "Epoch: 14 RMSE on test: 8.822716853974173\n"
     ]
    },
    {
     "data": {
      "application/vnd.jupyter.widget-view+json": {
       "model_id": "0f5ca924a4fe43d9b6807b661afae09d",
       "version_major": 2,
       "version_minor": 0
      },
      "text/plain": [
       "  0%|          | 0/57 [00:00<?, ?it/s]"
      ]
     },
     "metadata": {},
     "output_type": "display_data"
    },
    {
     "name": "stdout",
     "output_type": "stream",
     "text": [
      "Epoch: 15 RMSE on train: 8.613271481224968\n"
     ]
    },
    {
     "data": {
      "application/vnd.jupyter.widget-view+json": {
       "model_id": "0f6bbcf881ff4b79a9f9a42c79fde153",
       "version_major": 2,
       "version_minor": 0
      },
      "text/plain": [
       "  0%|          | 0/1 [00:00<?, ?it/s]"
      ]
     },
     "metadata": {},
     "output_type": "display_data"
    },
    {
     "name": "stdout",
     "output_type": "stream",
     "text": [
      "Epoch: 15 RMSE on test: 8.841105104620546\n"
     ]
    },
    {
     "data": {
      "application/vnd.jupyter.widget-view+json": {
       "model_id": "4e4edd82ac0e47fb8ac7742b4e375c1f",
       "version_major": 2,
       "version_minor": 0
      },
      "text/plain": [
       "  0%|          | 0/57 [00:00<?, ?it/s]"
      ]
     },
     "metadata": {},
     "output_type": "display_data"
    },
    {
     "name": "stdout",
     "output_type": "stream",
     "text": [
      "Epoch: 16 RMSE on train: 8.604251748765842\n"
     ]
    },
    {
     "data": {
      "application/vnd.jupyter.widget-view+json": {
       "model_id": "2f46079d15ce4025b2a46d80de2edfe0",
       "version_major": 2,
       "version_minor": 0
      },
      "text/plain": [
       "  0%|          | 0/1 [00:00<?, ?it/s]"
      ]
     },
     "metadata": {},
     "output_type": "display_data"
    },
    {
     "name": "stdout",
     "output_type": "stream",
     "text": [
      "Epoch: 16 RMSE on test: 8.820226424312002\n"
     ]
    },
    {
     "data": {
      "application/vnd.jupyter.widget-view+json": {
       "model_id": "47119ce92f1b4778b0eb859f26141ca0",
       "version_major": 2,
       "version_minor": 0
      },
      "text/plain": [
       "  0%|          | 0/57 [00:00<?, ?it/s]"
      ]
     },
     "metadata": {},
     "output_type": "display_data"
    },
    {
     "name": "stdout",
     "output_type": "stream",
     "text": [
      "Epoch: 17 RMSE on train: 8.606482932231481\n"
     ]
    },
    {
     "data": {
      "application/vnd.jupyter.widget-view+json": {
       "model_id": "57461841793f40d8af409af7f4333d43",
       "version_major": 2,
       "version_minor": 0
      },
      "text/plain": [
       "  0%|          | 0/1 [00:00<?, ?it/s]"
      ]
     },
     "metadata": {},
     "output_type": "display_data"
    },
    {
     "name": "stdout",
     "output_type": "stream",
     "text": [
      "Epoch: 17 RMSE on test: 8.829669541707588\n"
     ]
    },
    {
     "data": {
      "application/vnd.jupyter.widget-view+json": {
       "model_id": "8417b99cfa384f0a8158ee301501c4b5",
       "version_major": 2,
       "version_minor": 0
      },
      "text/plain": [
       "  0%|          | 0/57 [00:00<?, ?it/s]"
      ]
     },
     "metadata": {},
     "output_type": "display_data"
    },
    {
     "name": "stdout",
     "output_type": "stream",
     "text": [
      "Epoch: 18 RMSE on train: 8.603730079964931\n"
     ]
    },
    {
     "data": {
      "application/vnd.jupyter.widget-view+json": {
       "model_id": "8a34e5749d4e454ba75c816cfb9044b7",
       "version_major": 2,
       "version_minor": 0
      },
      "text/plain": [
       "  0%|          | 0/1 [00:00<?, ?it/s]"
      ]
     },
     "metadata": {},
     "output_type": "display_data"
    },
    {
     "name": "stdout",
     "output_type": "stream",
     "text": [
      "Epoch: 18 RMSE on test: 8.809404956477774\n"
     ]
    },
    {
     "data": {
      "application/vnd.jupyter.widget-view+json": {
       "model_id": "4c11ce6ba2414389b0f95674edb93e24",
       "version_major": 2,
       "version_minor": 0
      },
      "text/plain": [
       "  0%|          | 0/57 [00:00<?, ?it/s]"
      ]
     },
     "metadata": {},
     "output_type": "display_data"
    },
    {
     "name": "stdout",
     "output_type": "stream",
     "text": [
      "Epoch: 19 RMSE on train: 8.602126726977879\n"
     ]
    },
    {
     "data": {
      "application/vnd.jupyter.widget-view+json": {
       "model_id": "4c27cdca9baa4e6f8677cc8c004eecf3",
       "version_major": 2,
       "version_minor": 0
      },
      "text/plain": [
       "  0%|          | 0/1 [00:00<?, ?it/s]"
      ]
     },
     "metadata": {},
     "output_type": "display_data"
    },
    {
     "name": "stdout",
     "output_type": "stream",
     "text": [
      "Epoch: 19 RMSE on test: 8.808094666899478\n"
     ]
    },
    {
     "data": {
      "application/vnd.jupyter.widget-view+json": {
       "model_id": "407a3a59f11c4f55bd370b6405ce5b79",
       "version_major": 2,
       "version_minor": 0
      },
      "text/plain": [
       "  0%|          | 0/57 [00:00<?, ?it/s]"
      ]
     },
     "metadata": {},
     "output_type": "display_data"
    },
    {
     "name": "stdout",
     "output_type": "stream",
     "text": [
      "Epoch: 20 RMSE on train: 8.593483030854417\n"
     ]
    },
    {
     "data": {
      "application/vnd.jupyter.widget-view+json": {
       "model_id": "64c5dfc91c3544019f4ee2a6877b5965",
       "version_major": 2,
       "version_minor": 0
      },
      "text/plain": [
       "  0%|          | 0/1 [00:00<?, ?it/s]"
      ]
     },
     "metadata": {},
     "output_type": "display_data"
    },
    {
     "name": "stdout",
     "output_type": "stream",
     "text": [
      "Epoch: 20 RMSE on test: 8.794400799012521\n"
     ]
    },
    {
     "data": {
      "image/png": "[encoded data removed]",
      "text/plain": [
       "<Figure size 1000x800 with 1 Axes>"
      ]
     },
     "metadata": {},
     "output_type": "display_data"
    }
   ],
   "source": [
    "set_random_seed(42)\n",
    "\n",
    "train_rmse, test_rmse = train(model, optimizer, criterion, train_loader, test_loader, epochs, scheduler)\n",
    "\n",
    "plt.figure(figsize=(10, 8))\n",
    "plt.axhline(y=8.8, color='red', linestyle='-.')\n",
    "plt.plot([i for i in range(epochs)], train_rmse, color=\"blue\", label=\"train\")\n",
    "plt.plot([i for i in range(epochs)], test_rmse, label=\"test\", color=\"green\")\n",
    "plt.title(\"RMSE\", fontsize=18)\n",
    "plt.legend(fontsize=14)\n",
    "plt.show()"
   ]
  },
  {
   "cell_type": "markdown",
   "metadata": {
    "id": "bine9EES6TIn"
   },
   "source": [
    "## Задание 3. (0 баллов, но при невыполнении максимум за все задание &mdash; 0 баллов)\n",
    "\n",
    "Напишите небольшой отчет о том, как вы добились полученного качества: какие средства использовали и какие эксперименты проводили. Подробно расскажите об архитектурах и значениях гиперпараметров, а также какие метрики на тесте они показывали. Чтобы отчет был зачтен, необходимо привести хотя бы 3 эксперимента."
   ]
  },
  {
   "cell_type": "markdown",
   "metadata": {
    "id": "aHj34zeAVjcH"
   },
   "source": [
    "С самого начала использовался оптимайзер SGD, для которого я нормализовывал признаки. Первая модель содержала две линейные сети и ReLU. Такая модель показала плохое качество в районе 9.5. Потом я попробовал поменять шаг (lr) и увеличить количество эпох, а также отскалировать значения целевой переменной на трейне и тесте (если что, фиттился только трейн). Это помогло улучшить показатели, но ошибка убывала очень медленно. Тогда было принято решение поискать другие оптимизаторы. Сначала я попробовал Adam (на лекции сказали, что он самый топовый), в который я добвил линейные слои и дропауты. Качество модели улучшилось, но не опускалось ниже 8.85, потому что начинала переобучаться. В документации Torch был найден оптимизатор AdamW, в котором был уменьшен lr и увеличен weight_decay (этот параметр отвечает за значимость регуляризации). Качество стало значительно лучше, и модель на 80 эпохах выдала качество 8.81.\n",
    "\n",
    "Первый эксперемент: оптимизатор SGD, lr = 0.01, 2 линейных слоя, кол-во эпох 20, RMSE = 9.5\n",
    "\n",
    "Второй эксперемент: оптимизатор SGD, lr = 0.001, 2 линейных слоя, кол-во эпох 40, RMSE = 9\n",
    "\n",
    "Третий эксперемент: оптимизатор Adam, lr = 0.001, 7 линейных слоёв, 1 дропаут с р = 0.1, кол-во эпох 40, RMSE = 8.85\n",
    "\n",
    "Четвёртый эксперемент: оптимизатор AdamW, lr = 0.0005, 7 линейных слоёв, 1 дропаут с р = 0.1, weight_decay = 0.25, кол-во эпох 80, RMSE = 8.81\n",
    "\n",
    "Пятый эксперемент: оптимизатор AdamW, lr = 0.001, 5 линейных слоёв, 1 дропаут с р = 0.2, weight_decay = 2,  кол-во эпох 21, RMSE = 8.7944"
   ]
  },
  {
   "cell_type": "markdown",
   "metadata": {
    "id": "_858sHdQTL9j"
   },
   "source": [
    "\n",
    "## Задание 4. (10 баллов)\n",
    "\n",
    "А теперь давайте попробуем решить задачу классификации на тех же данных!\n",
    "\n",
    "Протестируйте два варианта:\n",
    "\n",
    "1. Cчитайте каждый год, представленный в таблице, за отдельный класс\n",
    "\n",
    "2. Разбейте года на 10 бинов и решайте задачу классификации для 10 классов\n",
    "\n",
    "Добавьте в test подсчет метрик: accuracy, precision, recall (можете выбрать micro или macro усреднение, как посчитаете нужным).\n",
    "\n",
    "Что можно сказать о полученных моделях? Почему результаты вышли такими? Напишите небольшой анализ того, что было проделано, чем модели классификации отличаются от задачи регрессии и друг друга?"
   ]
  },
  {
   "cell_type": "markdown",
   "metadata": {
    "id": "8E6QaRRlFUbZ"
   },
   "source": [
    "1. Cчитайте каждый год, представленный в таблице, за отдельный класс"
   ]
  },
  {
   "cell_type": "code",
   "execution_count": null,
   "metadata": {
    "colab": {
     "base_uri": "https://localhost:8080/"
    },
    "id": "FOn0mwLaq7Mi",
    "outputId": "67a8a749-58d9-45fa-f676-d85658071235"
   },
   "outputs": [
    {
     "data": {
      "text/plain": [
       "89"
      ]
     },
     "execution_count": 282,
     "metadata": {},
     "output_type": "execute_result"
    }
   ],
   "source": [
    "number_of_classes = len(df.iloc[:, 0].unique())\n",
    "number_of_classes"
   ]
  },
  {
   "cell_type": "code",
   "execution_count": null,
   "metadata": {
    "id": "WGWLvzvuFW4G"
   },
   "outputs": [],
   "source": [
    "years = list(set(y))\n",
    "classes = {year: i for i, year in enumerate(years)}\n",
    "train_classified = [classes[year] for year in y_train]\n",
    "test_classified = [classes[year] for year in y_test]\n",
    "\n",
    "y_train_classified = torch.tensor(train_classified, dtype = torch.long)\n",
    "y_test_classified = torch.tensor(test_classified, dtype = torch.long)"
   ]
  },
  {
   "cell_type": "code",
   "execution_count": null,
   "metadata": {
    "id": "vO6hziAoF6dD"
   },
   "outputs": [],
   "source": [
    "# я очень старался над этой моделью, но она плохо себя показывает в регрессии, поэтому я оставил её для классификации\n",
    "\n",
    "set_random_seed(42)\n",
    "\n",
    "train_set = RandomDataset(X_train_2, y_train_classified)\n",
    "train_loader = torch.utils.data.DataLoader(train_set, batch_size=8192*2, num_workers=0)\n",
    "\n",
    "test_set =  RandomDataset(X_test_2, y_test_classified)\n",
    "#валидации не будет, поэтому будем считать метрику сразу на всём тесте\n",
    "test_loader = torch.utils.data.DataLoader(test_set, batch_size=len(y_test), num_workers=0)\n",
    "\n",
    "model = nn.Sequential(nn.Linear(90, 55), nn.Dropout(0.2), nn.ReLU(), nn.BatchNorm1d(55), nn.Linear(55, 32), nn.ReLU(), nn.BatchNorm1d(32), nn.Linear(32, 10), nn.ReLU(), nn.BatchNorm1d(10), nn.Linear(10, number_of_classes))\n",
    "optimizer = torch.optim.AdamW(model.parameters(), lr=0.02, weight_decay = 1, eps = 0.000000005)\n",
    "criterion = nn.CrossEntropyLoss()\n",
    "\n",
    "scheduler = torch.optim.lr_scheduler.CosineAnnealingLR(optimizer, T_max=20, eta_min=0)\n",
    "\n",
    "epochs = 10"
   ]
  },
  {
   "cell_type": "code",
   "execution_count": null,
   "metadata": {
    "id": "Mo8LOihuIhC2"
   },
   "outputs": [],
   "source": [
    "def train(model, optimizer, criterion, train_loader, test_loader, epochs, scheduler):\n",
    "    train_metric = []\n",
    "    test_metric = []\n",
    "\n",
    "    for epoch in range(epochs):\n",
    "        train_accuracy = []\n",
    "        test_accuracy = []\n",
    "\n",
    "        model.train()\n",
    "        for x_train, y_train_ in tqdm(train_loader):\n",
    "            optimizer.zero_grad()\n",
    "\n",
    "            y_pred = model(x_train)\n",
    "            entropy = criterion(y_pred, y_train_)\n",
    "\n",
    "            entropy.backward()\n",
    "            optimizer.step()\n",
    "            scheduler.step()\n",
    "\n",
    "            train_accuracy.append((y_pred.argmax(dim=1) == y_train_).sum().item())\n",
    "\n",
    "        train_metric.append(np.sum(train_accuracy)/len(train_loader.dataset))\n",
    "\n",
    "        model.eval()\n",
    "        for x_test, y_test_ in tqdm(test_loader):\n",
    "            with torch.no_grad():\n",
    "                predicts = model(x_test)\n",
    "\n",
    "                test_accuracy.append((predicts.argmax(dim=1) == y_test_).sum().item())\n",
    "\n",
    "        test_metric.append(np.sum(test_accuracy)/len(test_loader.dataset))\n",
    "    return train_metric, test_metric"
   ]
  },
  {
   "cell_type": "code",
   "execution_count": null,
   "metadata": {
    "colab": {
     "base_uri": "https://localhost:8080/",
     "height": 1000,
     "referenced_widgets": [
      "32a2115126fc489b9e46cf08b795d37e",
      "f9b46245759f44b1b5f410ff50fcbf30",
      "9e97224af9814f86b954f00b4bd59b52",
      "1e2113353408454eb8de77570a510199",
      "b8a5cfa64f0443bb99a366eb3442e2c4",
      "89ad0e23535646538b2944f8491d5b7f",
      "8f97d652a3554e03aa06d4e66500571d",
      "fd447c481d194a8ab56d75d3503b2ae4",
      "ef3300cc227d42a2a98f1b24739ec697",
      "7db0b44219c74a2ea402539efa824346",
      "35a574f695c647dd84c85f12f609e67b",
      "c7ec8578abeb48efaa8c2b74fa7ceecb",
      "84efee22140a4a658ef0d0a5d8f43408",
      "f14c1225079f4e6f919491fe2d3409da",
      "773773d3661d4e7bb5e2dea262fc2528",
      "aa749648b4a24a3a8729929e2bfcb15b",
      "9b08446b143d4918b80a428af721a3b0",
      "905f16db540d4a779172609b123de5da",
      "240088b68053426fabe5941448580b7f",
      "56289cf5491c4d0cb427a53d2e2a9282",
      "0c034e52bf8547dd951342c73fd9a211",
      "cdd31f60c0774b24ba9a03f732bbebd4",
      "9fbf4c7db4144c44b10f1ed805e2fe9d",
      "6d5de3f92e7140c09fd084a4d5dd40bb",
      "ffcfe9fd656d4c9e92c746c2d3770a60",
      "bae033184f6147a4b4b5c4239379b53d",
      "a86aed1a9d95463eb1b6b9508ee8c0e7",
      "6c72cd57f8fd4c7a953476076cf41ab8",
      "6ee15fc993984de8af1435862eb5af28",
      "752a3a2ecf5643c6961c20644c88b6f2",
      "c51eaf2a9d8443ff82619c2a96511913",
      "b9cfc70555794d4982a5d3095abc4fd0",
      "e6ecc547b37b4391ae0d2667b3c1f9b4",
      "1d803b62d6b54d4f8490c1050fa16847",
      "db2fd1d6a4264cd187bddb5f9f4a1fa1",
      "cefb43046b394a00ab4815c96b52a05b",
      "4f6dcf726eb64214b1556443795e3a7b",
      "d6065a64e4d440ee825dcfc772f9924d",
      "31eb4639131f4d41942cc158dc43dbc8",
      "2fb4e22ee0f94f8c8d3e1ca683b684d6",
      "65a932922755415b82f12634b973ee8c",
      "0e0c7dcd328d451697ea1b0ee5d6b621",
      "7395027c4cbf47288e79c571a7e8e124",
      "f87e34c18d5b40cfa27a9af4b4e6bcb9",
      "1e650a2668ec463f9a67181af29436e3",
      "5ed3ec33bd084dbd993586f74a6ca28d",
      "ee72680fd01b43dd8e98bfe7e975782c",
      "0b9a336fc1644a41a12f217b379c893a",
      "9bf1cef7db7049b19c52c59063d2f000",
      "4285fbea92e84f89bbc59b183b4a2f90",
      "d86effefda224d89bee54473d6e3f2c1",
      "6fce5476964b4b2cb3fc35184d4a6ff0",
      "86b679e1b27544bca94cbba8cec8ed9a",
      "81ee754732df429e960082ce91505e7a",
      "88c8435b86e340429137c1a9e6a5862a",
      "e6ac510f69e14860960f5afab9f2bbaa",
      "a67cea306ebe43f4a5ac089067c4c658",
      "7d00a2fd1154432aa5c491f1194f075f",
      "52a58d58957f418f840baac926af9221",
      "f19bc0d1a79a429b9c719a09ca1a3659",
      "6f4435fba1f643ffaee283e1a2d539c6",
      "7a5d1d7cc4dd4957b2469e7773db96cc",
      "9523baf9374348ccbca74b2902cea66a",
      "dd81382125ef4f8ba7fd6c1e02362047",
      "96f7c7585d5b429abfc4427b379ccad2",
      "26b97ee8bfc448d9a0355ce8ded4d76d",
      "ea74437f7c34463288cd470346050635",
      "fbb841e0cc104d68aa49d19675ec5f7e",
      "3fbf7f6af36e4eaf8bd35b2791ececb8",
      "a7bcb6aa826946aba76712c97c84e5e6",
      "059175ca92d543688780826565982762",
      "95607f7e9aa94cc580162d0d930b82d2",
      "3b3b1dcccc5e42fdbdba61ed0c636d53",
      "e9c539fd763c4b75973b3754a9f484ef",
      "2a7474a02097473b8a534b5ddb0ee2d5",
      "5b78549c79da47a6946681a55d08b389",
      "d8fa375faf854eef918821c05437911b",
      "23de61f6c050467b903b9dcfd6cc9ced",
      "475c1097bb2541d5a83ac63f9b253f57",
      "b30cb28f2c264559b30a58f543e81e45",
      "0182ecdbc9bb4efd83ebc734673b92d2",
      "5b17af815f134f718d439d8c26195075",
      "3bce77763aa04fe8ad05e4421f02e694",
      "ca14d5c433d44347bdfc1c14412082ae",
      "22ba2676147f4d339a4796924fe6ceca",
      "14f9d286fd734ecaae44773f9e7eeea7",
      "5687ef267a57419aa2e674b8d68bf0fc",
      "2579afad1ea9402ab1d0e75d196835d6",
      "ce192e32e21f49f3af6faf26e1f5fdb1",
      "4187d73e4a89488684ccd1c214f84ad2",
      "e05eda38787744dd8b82512457693d10",
      "96b1bc124ef94e1bbc00df1e4e5937ba",
      "e1d1bd62f61e497396a323f71253b99b",
      "3200100efb684273bdc59f7a3357706d",
      "491acdc7854540eaa585a6082c95eb19",
      "82d756b4ac0849c5a5f37a6d0d6a07a9",
      "fcc16523d5874cd5aa53ec37652978f5",
      "b733a8268d234e45bb913bf694fee634",
      "ce8c873d56b84914b1a3f68125c701a0",
      "da0884ae2afa42d8a0d28ce9b67ed8c8",
      "8053e047f89448b694757521da8ae044",
      "babf16cebfd049a4b76230fdb39082ff",
      "a6fcfb38364d46659177e27bf0a940a8",
      "fea30f3888854bc8ab09932a1c040212",
      "ca40194c9d7b45058f67028217f24c07",
      "a9724697e8354563ad20d9fc8d993aae",
      "227346000ab042b49f095919e55e41c8",
      "a71c4a4f4fac4a67b579f581bdb789d2",
      "acf7ab965cad4e5a8dba03df0c247d9e",
      "f71bfd3ac1c441148fcde95f69fbbc96",
      "6ea962c408c54bf6b99d5b418162ec0c",
      "891e4a51f35c4e6db9e11427bfb69de0",
      "404ef7c26b634da493a0dc64b8391d90",
      "fd42d77086af4bbd8834a7ae05c3b0ba",
      "a3063b1518dd47adb62daa4f2582c087",
      "d7b04fd64cb946b28d46232bc07a2e3f",
      "f7649bae42824df99886b4d65faa5d95",
      "e0b678c2410946008559aaacfd4b89f9",
      "2cb4d701ec5c45a698e48411fa8f4d96",
      "e6fa838475744d25a329c9e002e4e94d",
      "f4d0dc26ffcf471fb015ec3a82969de2",
      "eefc91990a1d4e6ea10216f7c140a64c",
      "e8f9887782a742bd84802abd1ff4ecb6",
      "be6a9463b66c458ca765ea225a7846db",
      "484131c1b8a742b691ad29cc78ce6bc9",
      "bbb07c747106443b9807668c994e9a9a",
      "4538b71870dc4126893cb9b0a2d85cc1",
      "454c010dad45489a831be88dc33ca77a",
      "45091ccaf1d34761980b91c3d2d93c95",
      "bf9fc0d459834014938570d287855463",
      "787a0f7cef754ea2a85f844c08c2a57c",
      "2602b8a883e14bdea9205d928dbfb24d",
      "122f5810583f4202a06d8fbb4d1fe1ce",
      "0f6d3badc82543daaeef4a93a1630a52",
      "42d09e8211364d69807041a6dbdbc5ac",
      "d4549bf458da43279314229a95f179fc",
      "208301652b164c71bc771e4e264404fd",
      "012f2d2a829b44b29930b2d2fcacaee6",
      "2d6a223cd90c400db76aee4f6890fa88",
      "f327b54bd23a48df9aeb15a964e1d361",
      "1b45a03a62654071a0b6ff231f0fbb07",
      "8f5f55a08c754fe99935ac2bb92ae86c",
      "1925864236c449aeb64f4ec074362642",
      "c6db8c661ba84c41b066b296ccb38e18",
      "e0009477fd90449e8d9e745f46e30373",
      "8785b852a75548f9a9d8c3e77cf617f4",
      "a97801dfa4c3496cae3e0357eb3a2d53",
      "95aefb0bb6ec4fd29fe1c07e74318bfe",
      "bbbf1a5863014687ace86a9856d60597",
      "c145c3d4da56402185974df055a86856",
      "b5fe923fb02741e0b3c3643b0aa3e1e9",
      "4c03a258ee404d86a5324b7843dde9d9",
      "70a38da70f18485288cd339704f0ce98",
      "931eff781e334678aa26ca0bb9184e44",
      "4985f796a470414baed68576938f1fc7",
      "5909a556789841c2826c6c1564823658",
      "890c3d5c3a194f9bada1bf80b423ef0d",
      "3ed369634ade41e386975706973944bf",
      "fd448273235143f2aa4b85e84c2c4124",
      "eede1d1c73534097b9f6042a55263494",
      "f8799f5ff9774c77b6fd322d24dabcc1",
      "42fda99810934acea00f3f9329aa9133",
      "2eb9a2b424b94f19b1365606b00a343e",
      "15c72aa9b85240148f61bbb451826c45",
      "456f9583057140cc9678552501b05798",
      "007e6e49665a4906aea8e600c3d7e6d2",
      "67f2deec8df84161b875d0be307f1db2",
      "fc9dd41b22b94241bdecad06af21f9b8",
      "c3545aa461fd4df0b6ddbd7c6a3213ab",
      "1d6e21413cb94528ad175a55e7ca7882",
      "619192eb712b4dae977cb8b2921177b2",
      "fb4ebcd47ece4c27aa0720d05bfda6d7",
      "0aa5976c7ba242df84ef80105d62d62d",
      "4a06e08f255d453fb1cfdbc52a67ab44",
      "fa349cbdb15d45e2a7a3238f648afda5",
      "07844dd613cd4e0db832d8fe9c1ee808",
      "7134fd4f395a47e682f4947ae34acc98",
      "f2144988f2904ca1ba1c69e5754f5a28",
      "7f2af226d49843b8b43225731c6f4b24",
      "49c8dbe5bc0d44d9aa6fc03cc0928f0e",
      "85f88d35f5ff4f78a3f82f45b4e211ec",
      "3b9182951b5944ad81191d8af17f4425",
      "0ab2d6fc191b4aaea8183f2bab700b62",
      "f916b58b1f114249b6b0ee4aa311b90d",
      "5e46f4293fd844899abd5c12b127bede",
      "aafd53c2e4754e599b54c0e493295a7c",
      "77ed84926e0b4586acdfba3c1b084f33",
      "883d30dbd93b4a49879fd36b17dddb00",
      "18affc5e5a63430faf7deb93faae275e",
      "3b52f7eb20e74743b1507cded1eedd66",
      "0ea3ede536f944f59ce861e212579cd9",
      "222c772e776c4a72b39d5d98a9b63c89",
      "69818a7b2dff4ea7b5f6d0d660923004",
      "05de04733b39458cade937ec2d01570b",
      "da4eebf2d97e40d88f9f06957ca6bece",
      "2528b0f9b3274e709cea411ec1b72d42",
      "45590a31272a42148d3123352f826e0a",
      "2b61ef7806024851ad3955e530df37d9",
      "dd7f45aee37f4c428902e43157b16b78",
      "095ccb2750f04c07a104bd2432f13256",
      "07b20eeb9fe743cba5faaa73fda1c840",
      "9b353550f34a410ea5f1323c8794008f",
      "2858011fa2c34d78b865a33a9263a826",
      "ce813a9704f24fd4a994a20769af4d82",
      "68b3579c668f455ab87424446bf24a86",
      "85b8fc1e195b4abc82a707380d4a0461",
      "14ca6b055044406f9d65e6424f93137e",
      "ec6e5ca643a7430a968a07f9c683109d",
      "36cb68b179ba4a9fbda51b26554d3faa",
      "9a9485d2be474333b468f79ca3d10ef5",
      "fd86b8d60ff0455f93a988841a82a2fe",
      "53c9ae066e8140dbb2f4af710ab3c24b",
      "aff71075316d49799df8528c38ebb147",
      "a1f0f90727094f6e92426d2a41e22944",
      "a20bea9d250947fa97ca4d0fc5e9f081",
      "cf46839739e74a47913c9a5bec96abb1",
      "b64ed81c8fff49ada3cdcde8852bd649",
      "afee18e8a3774d7f833aca29ca87c2c4",
      "08b504607bd44f9e80f42e7948a7a4eb",
      "12a3869a6b6e496f874baee69f724be6"
     ]
    },
    "id": "POFHeNdcF8Og",
    "outputId": "8dfe2126-1bb2-439a-b1e5-53e1273d1a0b"
   },
   "outputs": [
    {
     "data": {
      "application/vnd.jupyter.widget-view+json": {
       "model_id": "32a2115126fc489b9e46cf08b795d37e",
       "version_major": 2,
       "version_minor": 0
      },
      "text/plain": [
       "  0%|          | 0/29 [00:00<?, ?it/s]"
      ]
     },
     "metadata": {},
     "output_type": "display_data"
    },
    {
     "data": {
      "application/vnd.jupyter.widget-view+json": {
       "model_id": "c7ec8578abeb48efaa8c2b74fa7ceecb",
       "version_major": 2,
       "version_minor": 0
      },
      "text/plain": [
       "  0%|          | 0/1 [00:00<?, ?it/s]"
      ]
     },
     "metadata": {},
     "output_type": "display_data"
    },
    {
     "data": {
      "application/vnd.jupyter.widget-view+json": {
       "model_id": "9fbf4c7db4144c44b10f1ed805e2fe9d",
       "version_major": 2,
       "version_minor": 0
      },
      "text/plain": [
       "  0%|          | 0/29 [00:00<?, ?it/s]"
      ]
     },
     "metadata": {},
     "output_type": "display_data"
    },
    {
     "data": {
      "application/vnd.jupyter.widget-view+json": {
       "model_id": "1d803b62d6b54d4f8490c1050fa16847",
       "version_major": 2,
       "version_minor": 0
      },
      "text/plain": [
       "  0%|          | 0/1 [00:00<?, ?it/s]"
      ]
     },
     "metadata": {},
     "output_type": "display_data"
    },
    {
     "data": {
      "application/vnd.jupyter.widget-view+json": {
       "model_id": "1e650a2668ec463f9a67181af29436e3",
       "version_major": 2,
       "version_minor": 0
      },
      "text/plain": [
       "  0%|          | 0/29 [00:00<?, ?it/s]"
      ]
     },
     "metadata": {},
     "output_type": "display_data"
    },
    {
     "data": {
      "application/vnd.jupyter.widget-view+json": {
       "model_id": "e6ac510f69e14860960f5afab9f2bbaa",
       "version_major": 2,
       "version_minor": 0
      },
      "text/plain": [
       "  0%|          | 0/1 [00:00<?, ?it/s]"
      ]
     },
     "metadata": {},
     "output_type": "display_data"
    },
    {
     "data": {
      "application/vnd.jupyter.widget-view+json": {
       "model_id": "ea74437f7c34463288cd470346050635",
       "version_major": 2,
       "version_minor": 0
      },
      "text/plain": [
       "  0%|          | 0/29 [00:00<?, ?it/s]"
      ]
     },
     "metadata": {},
     "output_type": "display_data"
    },
    {
     "data": {
      "application/vnd.jupyter.widget-view+json": {
       "model_id": "23de61f6c050467b903b9dcfd6cc9ced",
       "version_major": 2,
       "version_minor": 0
      },
      "text/plain": [
       "  0%|          | 0/1 [00:00<?, ?it/s]"
      ]
     },
     "metadata": {},
     "output_type": "display_data"
    },
    {
     "data": {
      "application/vnd.jupyter.widget-view+json": {
       "model_id": "ce192e32e21f49f3af6faf26e1f5fdb1",
       "version_major": 2,
       "version_minor": 0
      },
      "text/plain": [
       "  0%|          | 0/29 [00:00<?, ?it/s]"
      ]
     },
     "metadata": {},
     "output_type": "display_data"
    },
    {
     "data": {
      "application/vnd.jupyter.widget-view+json": {
       "model_id": "da0884ae2afa42d8a0d28ce9b67ed8c8",
       "version_major": 2,
       "version_minor": 0
      },
      "text/plain": [
       "  0%|          | 0/1 [00:00<?, ?it/s]"
      ]
     },
     "metadata": {},
     "output_type": "display_data"
    },
    {
     "data": {
      "application/vnd.jupyter.widget-view+json": {
       "model_id": "6ea962c408c54bf6b99d5b418162ec0c",
       "version_major": 2,
       "version_minor": 0
      },
      "text/plain": [
       "  0%|          | 0/29 [00:00<?, ?it/s]"
      ]
     },
     "metadata": {},
     "output_type": "display_data"
    },
    {
     "data": {
      "application/vnd.jupyter.widget-view+json": {
       "model_id": "eefc91990a1d4e6ea10216f7c140a64c",
       "version_major": 2,
       "version_minor": 0
      },
      "text/plain": [
       "  0%|          | 0/1 [00:00<?, ?it/s]"
      ]
     },
     "metadata": {},
     "output_type": "display_data"
    },
    {
     "data": {
      "application/vnd.jupyter.widget-view+json": {
       "model_id": "122f5810583f4202a06d8fbb4d1fe1ce",
       "version_major": 2,
       "version_minor": 0
      },
      "text/plain": [
       "  0%|          | 0/29 [00:00<?, ?it/s]"
      ]
     },
     "metadata": {},
     "output_type": "display_data"
    },
    {
     "data": {
      "application/vnd.jupyter.widget-view+json": {
       "model_id": "c6db8c661ba84c41b066b296ccb38e18",
       "version_major": 2,
       "version_minor": 0
      },
      "text/plain": [
       "  0%|          | 0/1 [00:00<?, ?it/s]"
      ]
     },
     "metadata": {},
     "output_type": "display_data"
    },
    {
     "data": {
      "application/vnd.jupyter.widget-view+json": {
       "model_id": "4985f796a470414baed68576938f1fc7",
       "version_major": 2,
       "version_minor": 0
      },
      "text/plain": [
       "  0%|          | 0/29 [00:00<?, ?it/s]"
      ]
     },
     "metadata": {},
     "output_type": "display_data"
    },
    {
     "data": {
      "application/vnd.jupyter.widget-view+json": {
       "model_id": "007e6e49665a4906aea8e600c3d7e6d2",
       "version_major": 2,
       "version_minor": 0
      },
      "text/plain": [
       "  0%|          | 0/1 [00:00<?, ?it/s]"
      ]
     },
     "metadata": {},
     "output_type": "display_data"
    },
    {
     "data": {
      "application/vnd.jupyter.widget-view+json": {
       "model_id": "7134fd4f395a47e682f4947ae34acc98",
       "version_major": 2,
       "version_minor": 0
      },
      "text/plain": [
       "  0%|          | 0/29 [00:00<?, ?it/s]"
      ]
     },
     "metadata": {},
     "output_type": "display_data"
    },
    {
     "data": {
      "application/vnd.jupyter.widget-view+json": {
       "model_id": "883d30dbd93b4a49879fd36b17dddb00",
       "version_major": 2,
       "version_minor": 0
      },
      "text/plain": [
       "  0%|          | 0/1 [00:00<?, ?it/s]"
      ]
     },
     "metadata": {},
     "output_type": "display_data"
    },
    {
     "data": {
      "application/vnd.jupyter.widget-view+json": {
       "model_id": "dd7f45aee37f4c428902e43157b16b78",
       "version_major": 2,
       "version_minor": 0
      },
      "text/plain": [
       "  0%|          | 0/29 [00:00<?, ?it/s]"
      ]
     },
     "metadata": {},
     "output_type": "display_data"
    },
    {
     "data": {
      "application/vnd.jupyter.widget-view+json": {
       "model_id": "9a9485d2be474333b468f79ca3d10ef5",
       "version_major": 2,
       "version_minor": 0
      },
      "text/plain": [
       "  0%|          | 0/1 [00:00<?, ?it/s]"
      ]
     },
     "metadata": {},
     "output_type": "display_data"
    },
    {
     "data": {
      "image/png": "[encoded data removed]",
      "text/plain": [
       "<Figure size 1000x800 with 1 Axes>"
      ]
     },
     "metadata": {},
     "output_type": "display_data"
    }
   ],
   "source": [
    "set_random_seed(42)\n",
    "\n",
    "t_1, t_2 = train(model, optimizer, criterion, train_loader, test_loader, epochs, scheduler)\n",
    "\n",
    "plt.figure(figsize=(10, 8))\n",
    "plt.plot([i for i in range(epochs)], t_1, color=\"blue\", label=\"train\")\n",
    "plt.plot([i for i in range(epochs)], t_2, label=\"test\", color=\"green\")\n",
    "plt.title(\"Accuracy score for all years\", fontsize=18)\n",
    "plt.legend(fontsize=14)\n",
    "plt.show()"
   ]
  },
  {
   "cell_type": "code",
   "execution_count": null,
   "metadata": {
    "id": "fdlmjNI1IoWb"
   },
   "outputs": [],
   "source": [
    "def test_classification(model, criterion, test_loader):\n",
    "    \"\"\"\n",
    "    params:\n",
    "        model - torch.nn.Module to be evaluated on test set\n",
    "        criterion - loss function from torch.nn\n",
    "        test_loader - torch.utils.data.Dataloader with test set\n",
    "    ----------\n",
    "    returns:\n",
    "        predicts - torch.tensor with shape (len(test_loader.dataset), ),\n",
    "                   which contains predictions for test objects\n",
    "    \"\"\"\n",
    "    predicts = torch.ones(len(test_loader.dataset))\n",
    "    for x_test, y_test_ in test_loader:\n",
    "        with torch.no_grad():\n",
    "            y_pred = model(x_test)\n",
    "            predicts = y_pred.argmax(dim=1)\n",
    "\n",
    "            accuracy = accuracy_score(predicts, y_test_)\n",
    "            recall= recall_score(predicts, y_test_, average = 'macro')\n",
    "            precision = precision_score(predicts, y_test_, average = 'macro')\n",
    "    return accuracy, recall, precision"
   ]
  },
  {
   "cell_type": "code",
   "execution_count": null,
   "metadata": {
    "colab": {
     "base_uri": "https://localhost:8080/"
    },
    "id": "TFtAPhKRIsoH",
    "outputId": "48b8b408-0916-49d5-a6ec-c28997bacca3"
   },
   "outputs": [
    {
     "name": "stdout",
     "output_type": "stream",
     "text": [
      "Accuracy on test: 0.08675188843695526\n",
      "Precision on test: 0.02747298395176365\n",
      "Recall on test: 0.02405376845732012\n"
     ]
    }
   ],
   "source": [
    "from sklearn.metrics import accuracy_score, precision_score, recall_score\n",
    "\n",
    "a, c, p = test_classification(model, criterion, test_loader)\n",
    "\n",
    "print('Accuracy on test:', a)\n",
    "print('Precision on test:', p)\n",
    "print('Recall on test:', c)"
   ]
  },
  {
   "cell_type": "markdown",
   "metadata": {
    "id": "1iA7VSn6I_aB"
   },
   "source": [
    "2. Разбейте года на 10 бинов и решайте задачу классификации для 10 классов"
   ]
  },
  {
   "cell_type": "code",
   "execution_count": null,
   "metadata": {
    "id": "9BE_vWvGKYP3"
   },
   "outputs": [],
   "source": [
    "classes = {year: i//9 for i, year in enumerate(years)}\n",
    "train_classified = [classes[year] for year in y_train]\n",
    "test_classified = [classes[year] for year in y_test]\n",
    "\n",
    "y_train_classified = torch.tensor(train_classified, dtype = torch.long)\n",
    "y_test_classified = torch.tensor(test_classified, dtype = torch.long)"
   ]
  },
  {
   "cell_type": "code",
   "execution_count": null,
   "metadata": {
    "id": "NcTpueR5yet3"
   },
   "outputs": [],
   "source": []
  },
  {
   "cell_type": "code",
   "execution_count": null,
   "metadata": {
    "id": "3JzVk_gpVwy3"
   },
   "outputs": [],
   "source": [
    "set_random_seed(42)\n",
    "\n",
    "train_set = RandomDataset(X_train_2, y_train_classified)\n",
    "train_loader = torch.utils.data.DataLoader(train_set, batch_size=8192*2, num_workers=0)\n",
    "\n",
    "test_set =  RandomDataset(X_test_2, y_test_classified)\n",
    "#валидации не будет, поэтому будем считать метрику сразу на всём тесте\n",
    "test_loader = torch.utils.data.DataLoader(test_set, batch_size=len(y_test), num_workers=0)\n",
    "\n",
    "model = nn.Sequential(nn.Linear(90, 55), nn.Dropout(0.2), nn.ReLU(), nn.BatchNorm1d(55), nn.Linear(55, 32), nn.ReLU(), nn.BatchNorm1d(32), nn.Linear(32, 10), nn.ReLU(), nn.BatchNorm1d(10), nn.Linear(10, number_of_classes))\n",
    "optimizer = torch.optim.AdamW(model.parameters(), lr=0.02, weight_decay = 1, eps = 0.000000005)\n",
    "criterion = nn.CrossEntropyLoss()\n",
    "\n",
    "scheduler = torch.optim.lr_scheduler.CosineAnnealingLR(optimizer, T_max=20, eta_min=0)\n",
    "\n",
    "epochs = 10"
   ]
  },
  {
   "cell_type": "code",
   "execution_count": null,
   "metadata": {
    "colab": {
     "base_uri": "https://localhost:8080/",
     "height": 1000,
     "referenced_widgets": [
      "6e399433f5824173807138374d6a3b1d",
      "f3eef53176a24725abca02ebca648244",
      "c666318f3079441a9922571284363224",
      "9c6e3d67e85944968bdf025217452f9b",
      "3c27970ffa574a048d88a2625cf44761",
      "9bb701c8b07242b2a58f5b031c5cb116",
      "df6081fd8acf46ef999c756d8bf08a72",
      "b914d09979154d1a91e8d87193b65356",
      "ba05b70ef73546198bcba847eb7a1cef",
      "983f4e14ace1415cb3f6bbee68469bc9",
      "177df0a9ab854a0e8c4122322bbe59de",
      "65a5f339b685476898b75579aa285175",
      "232f04f2b52b4f7fafe941c5cef0d823",
      "d3402278031948dd99a1c70506a435c2",
      "93a6e167537f4b5e9282dcd0e2b424a8",
      "ea452f8adb7f459a8224484aa920eb94",
      "0d86f149eecc486ba6f517d8b39788dc",
      "a065dcf7faa34137a005a96ba2483a02",
      "6662b86ba6b04bb19e9ed1080ba6d763",
      "040d55e4b74e4632b38d99a16db87cb7",
      "50c0358f46c947d8a914d5042344b0d5",
      "8a08cec77b7c471ebcefb83dffa1735f",
      "38056233f15b40f39990c0f4ab34d645",
      "bb4ebdb983cb45f6b8beab978a6d51d7",
      "7b238e0067e5435788816776f92184cc",
      "df88b96665994a5c89e219f3390b37af",
      "41058d38c87e4998bc66df59c9df3d73",
      "e0acf3eaaabf455694895e531550aa9a",
      "cca275a1ae834d338a4988bfe711764a",
      "77f05298fe094ba194c761013fe8cc89",
      "405b1df550a64c71baf1d923a9ef49b5",
      "8bf9ee3b5e9b4eaab1c2c248f0d01d8e",
      "c34e97e8ac354e7294aede24f0ab4abc",
      "dfc0ab3d65d84133a03d0294023a551e",
      "5b1486f07b734d249195813a3f372f3f",
      "e455fda0aab14611aebee7cc88e91bfa",
      "d4d795e01cf243acbf21c4cc3ab90819",
      "b8453df42a5c4190adfc794e19a134ed",
      "4c20393efcdf47e393dc080058786c48",
      "8e23427bd1624bc799e7bf21c77e518a",
      "60d0e0dc4b0043f39e28e33c113b0cbb",
      "f5de6ce530d04f1b84b6cb7ad56e4f65",
      "2abe25bbc71b46c59df701bc2f052763",
      "6095936f824f4991b250fa24672eeed7",
      "a1f30f92b393485cb1bf58ce82c3afa6",
      "b63c5e9b37bc44579f58abf654a54aab",
      "d6ff3915a1b147a58c0b5e5cfe9d1587",
      "0b6f5c271f684ef4aeed98e0a1b1dc04",
      "307c6a79f044487c867ffc459407a739",
      "be5d19f26ab54ae4820d476ec2d0d525",
      "2949a7b6586246b4b5eb7f73fd389b5d",
      "0c3e09930f1349fe83394e7c1a926b42",
      "46ff64af96ca4222b949cf06d077a370",
      "f789f981279449a5893fef0ea3b0d747",
      "56a1bf5960d44afeb73e7c0ce5e1426d",
      "19e6d2634e6a4a07bcaf302d79d4c17a",
      "40696ed4eed44c198aa7d7b4a3b601e5",
      "3a4accaeacb444239c66295e0494dd98",
      "c31341ace4344f7884f53e49afed84cd",
      "8251480fdcbc425e9951c78b3f842ed9",
      "e5638690762544c99e92a703b412b986",
      "3823d95bf5714da5a10052b93769c273",
      "5ae67ff459ce428db7390c818904b9ee",
      "a1e4123ae84343469055d314698b3e43",
      "cd72efed796e424eaa1b887b5c9ae3ec",
      "eadd80964d354f9ab0d0ee9a9fb52787",
      "c2db74731ea2487cb4783a1d332f76e9",
      "b303f1be2f8b478eb6abf35413063d68",
      "c8203276ca5d4b7ea1951762d72aec71",
      "89df154e242443beb8c9fcf5a1361d47",
      "0dc0208b4f55489281b5a5b9643bb890",
      "16ab9054ed1d40dda8317c2499507365",
      "a7df84bacd88431985c5d8b6191e1469",
      "c962ff1498104b9c808d92c59e2eac94",
      "22d03f371050470eb97b632adf8407c3",
      "efacacb002c7445088d18678248f66d9",
      "fda099aac3ec4385bafac9db2532a174",
      "9e084d64143b46cc818cb0ab7aa02fa9",
      "dbb545cb16cf4550a3e2ab4efb2b35f3",
      "a61a2563bac7471fb8cf2829282f21a3",
      "20e97fbd9fa645efa1ae445b4fd9734a",
      "04dc13579b984cc482f9236eb3dd49e4",
      "d49284a2a0e3483495bd45fdee6a3d8e",
      "c992fd018244464290e6e70d7180bdb0",
      "4437062ccf714219a053584995f7e5ff",
      "5ab9f00940c14a65a57cfc579fca8f9a",
      "3bf795dc279f44b6a3ad359ff89d9970",
      "6a69f5cf9f384708a2812f1a4dc7a753",
      "2438ab36cf1d4f009953b9efb24e808d",
      "3124012b994745beaac9715f5f834e06",
      "4128018ff334422f91e0801ad4c1fc1b",
      "3bb3254d0d7648cd8b7e780d5dcba8a0",
      "48e3f93df9e6472e889cf534341e9ef4",
      "2dcc07e12d2d43a0b4dbf8c74292386e",
      "78b2c605c80c493f9ec4400b7a657524",
      "357258ab1ff440f2add5244d305b6af0",
      "a1b0d71ce37a4e2385cbe54ab1620d2e",
      "092f0c0b543c424e844953862d154d37",
      "413dc305c32142a3b4acd21c59da530d",
      "032ef6dcdbd244c385355329fa0b374d",
      "ad9e81a3006142be8e0cbdf2653c9d42",
      "fb061c707b5b4e8ba2a39d27697e1bcd",
      "3567a68ae013420b80f376f230e54c05",
      "aa160e0847874663a30a61e2dc68933c",
      "4d4dd038c845430591db3b7daa973680",
      "4de5bafc25284fe4b48da9c586a9b834",
      "95cfc8879aa542e591b775e847cc6688",
      "5326ed0f01c74b28ad2ee44120219113",
      "19a439ed90134203bd7c8d97ffcb649f",
      "5c07b9820b534703a33c69ac93edd896",
      "3c83036af0314b2793fe9a8c8bdb18ca",
      "ede55f97011c484ba3ab76013cc45a34",
      "d504b33cf72c4013ae5001a5d5ea3be5",
      "cd772b52a575467cbe37d43b301315cd",
      "455991cae38a406197ef2ea88d03cee6",
      "c6220ed2e3c941b0903acdeb4adb6522",
      "24e5c9e96ae0481ab9b56fbaf4ddec3c",
      "6040e50f4b90408fbc008e988866bb09",
      "9c8bd51a58e54d0abe2c910d30ee8125",
      "120f7fc8da85409abe193ead2a6c5911",
      "ee392bad1c2e4d6d9e4f89deb300cbd4",
      "14c9e9b678ef4e7c85d429ce1713b087",
      "7cc17c01953e48d6b64147bc8d6fee23",
      "63d105485267467ba144ae971f3db23d",
      "c6f244ecf1ff4ec9a0d05a75b411543a",
      "3253cb7e19234ece9ae29fcdfff44cd2",
      "dd726ceeccbc46648f87888afa65d205",
      "c15873b4267047d3a7ea8e4cfcc05430",
      "12b3ecdbfea848a1a02af5a54b69e9b2",
      "75a260e8cde844e08e64554c042e95db",
      "5a390b6984c3435d8cf204b37f881af5",
      "ccd1845aa8e94d8987c0a4038f89c899",
      "1ec7f42d3f5040cd96536d73c07f5796",
      "8014a82cbc084611800a6a1c1537e8f6",
      "6c34170292164c8c989b90c7eb1549bd",
      "60a131d7c07c4e0f97ca060f922727b8",
      "2c0843ab3420496a8fd718323a2e68dd",
      "8a713a6a07a74c16a3282fd7a8136767",
      "70b1decfeb7e4744b6d5837e7abced7d",
      "763581e9afb6450cae0feaed11fbd801",
      "344a664a8f374ea198e0f3369609a950",
      "f44dd0a71e83478bb393223fc69b1149",
      "f7e8cd4a63fc4094a109e63acaa6b299",
      "ccd0d053facf451592ed60a5c9ee0481",
      "8e1c319b32e1409280942b189b7af330",
      "ee2e427f7cb94d7e830322b3495649b4",
      "d6d6e05c12e6448882957336e93b7950",
      "76df1baacb4744ff8a862a5349ed925f",
      "c7f745ae058148079e1d81a4826e365f",
      "ab1a3c3a35674ef4adb1f86ebcc6ac3a",
      "bc8b00e7c37b4dd0ac1198e9a2636938",
      "c9b3dc1c185542beb5ed279ead725308",
      "a3d0af904bf9452f8e5c21a2ad274fa2",
      "84e5cddc3c474cc287fe3d72927cd9f4",
      "3a288436623e46958eb8bb896ddf6a86",
      "7bae8bfa2e22438e94ae209a07ed2ee2",
      "c6fdd15b29e94a378d70d333f0675432",
      "9ac446e1055d45f9b13f9a1b29e01be9",
      "de44fd4e16e842cdb43684c3dad684c9",
      "83d1b03405be4e01bb5c4a360e7aab87",
      "c0fc82a57dd1462999d2fbbdab60c11d",
      "919ed40fa6c54bc8b530a6a992f0f4ed",
      "50559d5abd884aff98603df6d6c35c68",
      "dd667ad5d5534f7b96fffaeb72dac0a6",
      "b73db65bfe70404298bb7f62a332d050",
      "1151d1c5b36d43089bede116d2f5ef56",
      "5346f204b9b24b86abc68a9023c69799",
      "0aa37e4c7dd340d89ba6d1c0accf0f44",
      "36e169ff22e8421898dd39bc5d153325",
      "ef389269700644cba88ac50b70048995",
      "8a86498594b343f1a1d56a5998fc908e",
      "708ec722f86548faaf336ac3578afb9b",
      "4243c6b7eb614170903f99a5c3dbf38d",
      "70972b593286498283385ed230656a3a",
      "665b5d13073b4ce8bc15a6c7bfb7aa82",
      "413fe1b509114b7180c13eea3bb69f54",
      "f3d57b02fab74c7f97a042cc0b9ad74e",
      "4032d464ebde41d99b3a8f59cc67411a",
      "1bfbb43d5f4c41dd8c0b7f8248df6e3a",
      "3ea55a81236a4b3c9ab083f3e770374f",
      "72707635723647748d5a7c0e2287f4eb",
      "30768eda6fe04a959256f198fd4929d7",
      "a2b29e5b35ab4e6eb82b862086a2b234",
      "983bda4bf1a448e4997db108c8b7de37",
      "11f05b3098f740b9813a0764ef16db50",
      "a216297e45994cec93666e9935703e43",
      "b555eab2be5f40dd9b532dfd70a13854",
      "099bce314e8843b7b98e98b952a003a3",
      "9f922010ff3e41d5ba71443e53d2b367",
      "554622c5e3224eb7ab0065926aa01ec8",
      "00a51e6cfd9040d89bcaf85f196e21b4",
      "ef346d87fc07443993436e37a186c678",
      "d8bc57f5796440fb9bc1cd3bf6216dcb",
      "ed63bb0ed45e4c7995d0491aec91f191",
      "0fc447d33d9b4848b6cf67058699cfe8",
      "60a5d243072e400aa2944d8b61ef6804",
      "76a7f608cb804873824da5c4c8c78e7b",
      "2b1cc45913b240779142084c5ce46bfd",
      "81b88613762b40a3bf6174460ec9e0a3",
      "b6ed78f3c26048c189b6ab4f961eb300",
      "0285159eb0034712bc77166e255fb9fc",
      "5b78f206e4694225994c3b0c065e6597",
      "1ae364a51ef8494ca93e82cc94c5ffc9",
      "aeffb3ddce6a4f1da1123f79f8db2894",
      "7e20910be7184d5eaf335f4f358a1e7e",
      "0298eb49c57348289b568707ab16baec",
      "ca2105aca9a2439998250b34f2785125",
      "c56d731a732149fa8bd076a152906ccc",
      "7d9031c946944682ae63eb21aeb18ca3",
      "9d1720e4b6fa45959dad978a354eb2d6",
      "708b7c36ff79483caa172652e8d1ff48",
      "a770201a435c48719776a08fa1a8b7af",
      "8f7981248ae84df59f40e81d0b25d4b1",
      "744735b4a15e4b3fa5f58cd3ed71983a",
      "fd29903318844401b054539301ff7392",
      "078d271b3f474f25a3a18d1e7f2c92b1",
      "d609d5085f244b7c939f79bc2b55511d",
      "2e1abecee4374786bd2069321091d46a",
      "a4c3e700f5d74c5a9a524077341afe6b",
      "4603dac2bfd246b58883586e241f10fe"
     ]
    },
    "id": "XgUvwzuUKi4k",
    "outputId": "7a64c0e8-87a4-4406-8094-5c071547e5d0"
   },
   "outputs": [
    {
     "data": {
      "application/vnd.jupyter.widget-view+json": {
       "model_id": "6e399433f5824173807138374d6a3b1d",
       "version_major": 2,
       "version_minor": 0
      },
      "text/plain": [
       "  0%|          | 0/29 [00:00<?, ?it/s]"
      ]
     },
     "metadata": {},
     "output_type": "display_data"
    },
    {
     "data": {
      "application/vnd.jupyter.widget-view+json": {
       "model_id": "65a5f339b685476898b75579aa285175",
       "version_major": 2,
       "version_minor": 0
      },
      "text/plain": [
       "  0%|          | 0/1 [00:00<?, ?it/s]"
      ]
     },
     "metadata": {},
     "output_type": "display_data"
    },
    {
     "data": {
      "application/vnd.jupyter.widget-view+json": {
       "model_id": "38056233f15b40f39990c0f4ab34d645",
       "version_major": 2,
       "version_minor": 0
      },
      "text/plain": [
       "  0%|          | 0/29 [00:00<?, ?it/s]"
      ]
     },
     "metadata": {},
     "output_type": "display_data"
    },
    {
     "data": {
      "application/vnd.jupyter.widget-view+json": {
       "model_id": "dfc0ab3d65d84133a03d0294023a551e",
       "version_major": 2,
       "version_minor": 0
      },
      "text/plain": [
       "  0%|          | 0/1 [00:00<?, ?it/s]"
      ]
     },
     "metadata": {},
     "output_type": "display_data"
    },
    {
     "data": {
      "application/vnd.jupyter.widget-view+json": {
       "model_id": "a1f30f92b393485cb1bf58ce82c3afa6",
       "version_major": 2,
       "version_minor": 0
      },
      "text/plain": [
       "  0%|          | 0/29 [00:00<?, ?it/s]"
      ]
     },
     "metadata": {},
     "output_type": "display_data"
    },
    {
     "data": {
      "application/vnd.jupyter.widget-view+json": {
       "model_id": "19e6d2634e6a4a07bcaf302d79d4c17a",
       "version_major": 2,
       "version_minor": 0
      },
      "text/plain": [
       "  0%|          | 0/1 [00:00<?, ?it/s]"
      ]
     },
     "metadata": {},
     "output_type": "display_data"
    },
    {
     "data": {
      "application/vnd.jupyter.widget-view+json": {
       "model_id": "c2db74731ea2487cb4783a1d332f76e9",
       "version_major": 2,
       "version_minor": 0
      },
      "text/plain": [
       "  0%|          | 0/29 [00:00<?, ?it/s]"
      ]
     },
     "metadata": {},
     "output_type": "display_data"
    },
    {
     "data": {
      "application/vnd.jupyter.widget-view+json": {
       "model_id": "9e084d64143b46cc818cb0ab7aa02fa9",
       "version_major": 2,
       "version_minor": 0
      },
      "text/plain": [
       "  0%|          | 0/1 [00:00<?, ?it/s]"
      ]
     },
     "metadata": {},
     "output_type": "display_data"
    },
    {
     "data": {
      "application/vnd.jupyter.widget-view+json": {
       "model_id": "2438ab36cf1d4f009953b9efb24e808d",
       "version_major": 2,
       "version_minor": 0
      },
      "text/plain": [
       "  0%|          | 0/29 [00:00<?, ?it/s]"
      ]
     },
     "metadata": {},
     "output_type": "display_data"
    },
    {
     "data": {
      "application/vnd.jupyter.widget-view+json": {
       "model_id": "032ef6dcdbd244c385355329fa0b374d",
       "version_major": 2,
       "version_minor": 0
      },
      "text/plain": [
       "  0%|          | 0/1 [00:00<?, ?it/s]"
      ]
     },
     "metadata": {},
     "output_type": "display_data"
    },
    {
     "data": {
      "application/vnd.jupyter.widget-view+json": {
       "model_id": "3c83036af0314b2793fe9a8c8bdb18ca",
       "version_major": 2,
       "version_minor": 0
      },
      "text/plain": [
       "  0%|          | 0/29 [00:00<?, ?it/s]"
      ]
     },
     "metadata": {},
     "output_type": "display_data"
    },
    {
     "data": {
      "application/vnd.jupyter.widget-view+json": {
       "model_id": "14c9e9b678ef4e7c85d429ce1713b087",
       "version_major": 2,
       "version_minor": 0
      },
      "text/plain": [
       "  0%|          | 0/1 [00:00<?, ?it/s]"
      ]
     },
     "metadata": {},
     "output_type": "display_data"
    },
    {
     "data": {
      "application/vnd.jupyter.widget-view+json": {
       "model_id": "1ec7f42d3f5040cd96536d73c07f5796",
       "version_major": 2,
       "version_minor": 0
      },
      "text/plain": [
       "  0%|          | 0/29 [00:00<?, ?it/s]"
      ]
     },
     "metadata": {},
     "output_type": "display_data"
    },
    {
     "data": {
      "application/vnd.jupyter.widget-view+json": {
       "model_id": "ccd0d053facf451592ed60a5c9ee0481",
       "version_major": 2,
       "version_minor": 0
      },
      "text/plain": [
       "  0%|          | 0/1 [00:00<?, ?it/s]"
      ]
     },
     "metadata": {},
     "output_type": "display_data"
    },
    {
     "data": {
      "application/vnd.jupyter.widget-view+json": {
       "model_id": "3a288436623e46958eb8bb896ddf6a86",
       "version_major": 2,
       "version_minor": 0
      },
      "text/plain": [
       "  0%|          | 0/29 [00:00<?, ?it/s]"
      ]
     },
     "metadata": {},
     "output_type": "display_data"
    },
    {
     "data": {
      "application/vnd.jupyter.widget-view+json": {
       "model_id": "1151d1c5b36d43089bede116d2f5ef56",
       "version_major": 2,
       "version_minor": 0
      },
      "text/plain": [
       "  0%|          | 0/1 [00:00<?, ?it/s]"
      ]
     },
     "metadata": {},
     "output_type": "display_data"
    },
    {
     "data": {
      "application/vnd.jupyter.widget-view+json": {
       "model_id": "f3d57b02fab74c7f97a042cc0b9ad74e",
       "version_major": 2,
       "version_minor": 0
      },
      "text/plain": [
       "  0%|          | 0/29 [00:00<?, ?it/s]"
      ]
     },
     "metadata": {},
     "output_type": "display_data"
    },
    {
     "data": {
      "application/vnd.jupyter.widget-view+json": {
       "model_id": "099bce314e8843b7b98e98b952a003a3",
       "version_major": 2,
       "version_minor": 0
      },
      "text/plain": [
       "  0%|          | 0/1 [00:00<?, ?it/s]"
      ]
     },
     "metadata": {},
     "output_type": "display_data"
    },
    {
     "data": {
      "application/vnd.jupyter.widget-view+json": {
       "model_id": "81b88613762b40a3bf6174460ec9e0a3",
       "version_major": 2,
       "version_minor": 0
      },
      "text/plain": [
       "  0%|          | 0/29 [00:00<?, ?it/s]"
      ]
     },
     "metadata": {},
     "output_type": "display_data"
    },
    {
     "data": {
      "application/vnd.jupyter.widget-view+json": {
       "model_id": "9d1720e4b6fa45959dad978a354eb2d6",
       "version_major": 2,
       "version_minor": 0
      },
      "text/plain": [
       "  0%|          | 0/1 [00:00<?, ?it/s]"
      ]
     },
     "metadata": {},
     "output_type": "display_data"
    },
    {
     "data": {
      "image/png": "[encoded data removed]",
      "text/plain": [
       "<Figure size 1000x800 with 1 Axes>"
      ]
     },
     "metadata": {},
     "output_type": "display_data"
    }
   ],
   "source": [
    "set_random_seed(42)\n",
    "\n",
    "t_1, t_2 = train(model, optimizer, criterion, train_loader, test_loader, epochs, scheduler)\n",
    "\n",
    "plt.figure(figsize=(10, 8))\n",
    "plt.plot([i for i in range(epochs)], t_1, color=\"blue\", label=\"train\")\n",
    "plt.plot([i for i in range(epochs)], t_2, label=\"test\", color=\"green\")\n",
    "plt.title(\"Accuracy score for grouped years\", fontsize=18)\n",
    "plt.legend(fontsize=14)\n",
    "plt.show()"
   ]
  },
  {
   "cell_type": "code",
   "execution_count": null,
   "metadata": {
    "colab": {
     "base_uri": "https://localhost:8080/"
    },
    "id": "cNAAGzncKou_",
    "outputId": "d5da8089-7737-4437-ad8b-c4bfd9b322e9"
   },
   "outputs": [
    {
     "name": "stdout",
     "output_type": "stream",
     "text": [
      "Accuracy on test: 0.5193685841564981\n",
      "Precision on test: 0.18705962504926016\n",
      "Recall on test: 0.21772757501774417\n"
     ]
    }
   ],
   "source": [
    "a, c, p = test_classification(model, criterion, test_loader)\n",
    "\n",
    "print('Accuracy on test:', a)\n",
    "print('Precision on test:', p)\n",
    "print('Recall on test:', c)"
   ]
  },
  {
   "cell_type": "markdown",
   "metadata": {
    "id": "wDrs40-zKrxX"
   },
   "source": [
    "Были получены плохие показатели метрик в обоих случаях классификации.\n",
    "\n",
    "В случае с классификацией каждого года, хорошие метрики в таком случае получить практически невозможно, так как у нас 89 классов. Возможно, также присутствует сильный дисбаланс классов, который тоже негативно влияет на метрики качества.\n",
    "\n",
    "Когда же алгоритм классифицирует года на 10 классов, то мы получаем тоже плохие метрики, но они гораздо лучше метрик из первого пункта. Это связано уменьшением количества классов и, соответственно, с уменьшением дисбаланса в них.\n",
    "\n",
    "Также для обоих случаев возможно данная модель является просто плохой и какой-нибудь SVM или бустинг справились с этой задачей лучше. Также вероятно, что модель, которая использовалась для задачи регрессии, нужно регуляризовывать для задачи классификации (этот факт не был проверен, т.к. метрики хорошие не просили).\n",
    "\n",
    "По сути, для данной задачи я использовал почти ту же модель, что и в задаче 2, только с немного изменённым последним линейным слоем, а также другой метрикой качества, которую мы минимизировали (nn.CrossEntropyLoss()). Также был немного изменён алгоритм для функции трейн, так как в нём мы ещё считали и accuracy. Ну и в конце по через уже обученную модель нашли предикты для тестовой выборки и посчитали accuracy, recall, precision."
   ]
  }
 ],
 "metadata": {
  "accelerator": "TPU",
  "colab": {
   "gpuType": "V28",
   "provenance": []
  },
  "kernelspec": {
   "display_name": "Python 3",
   "name": "python3"
  },
  "language_info": {
   "codemirror_mode": {
    "name": "ipython",
    "version": 3
   },
   "file_extension": ".py",
   "mimetype": "text/x-python",
   "name": "python",
   "nbconvert_exporter": "python",
   "pygments_lexer": "ipython3",
   "version": "3.9.7"
  }
 },
 "nbformat": 4,
 "nbformat_minor": 0
}
