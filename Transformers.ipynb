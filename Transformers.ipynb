{
 "cells": [
  {
   "cell_type": "markdown",
   "metadata": {
    "id": "N0MMALtdLU6F"
   },
   "source": [
    "<center>\n",
    "\n",
    "# Основы глубинного обучения: домашнее задание 4\n",
    "</center>"
   ]
  },
  {
   "cell_type": "markdown",
   "metadata": {
    "id": "Lp2Uf8PGM_zP"
   },
   "source": [
    "**ФИО:**\n",
    "\n",
    "**Забавный факт о себе:**"
   ]
  },
  {
   "cell_type": "markdown",
   "metadata": {
    "id": "W2LjTioKM_zP"
   },
   "source": [
    "## Общая информация\n",
    "\n",
    "__Дата выдачи:__ 26.11.2024\n",
    "\n",
    "__Мягкий дедлайн:__ 23:59MSK 10.12.2024\n",
    "\n",
    "__Жесткий дедлайн:__ 23:59MSK 13.12.2024"
   ]
  },
  {
   "cell_type": "markdown",
   "metadata": {
    "id": "pGGDD519LWaa"
   },
   "source": [
    "## Оценивание и штрафы\n",
    "\n",
    "Каждая из задач имеет определенную «стоимость» (указана в скобках около задачи). Максимально допустимая оценка за работу — 10 баллов + 2 бонусных балла.\n",
    "\n",
    "**Дисклеймер:** Задание выполняется самостоятельно. «Похожие» решения считаются плагиатом и все задействованные студенты (в том числе те, у кого списали) не могут получить за него больше 0 баллов. Если вы нашли решение какого-то из заданий (или его часть) в открытом источнике, необходимо указать ссылку на этот источник (скорее всего вы будете не единственным, кто это нашел, поэтому чтобы исключить подозрение в плагиате, необходима ссылка на источник). Также помните, что простое копирование чужого кода не является самостоятельной работой."
   ]
  },
  {
   "cell_type": "code",
   "execution_count": null,
   "metadata": {
    "execution": {
     "iopub.execute_input": "2024-12-11T16:34:53.112341Z",
     "iopub.status.busy": "2024-12-11T16:34:53.111967Z",
     "iopub.status.idle": "2024-12-11T16:34:54.198099Z",
     "shell.execute_reply": "2024-12-11T16:34:54.197156Z",
     "shell.execute_reply.started": "2024-12-11T16:34:53.112311Z"
    },
    "id": "e88B7C_7M_zQ"
   },
   "outputs": [],
   "source": [
    "import pandas as pd\n",
    "import numpy as np\n",
    "\n",
    "import matplotlib.pyplot as plt\n",
    "import seaborn as sns\n",
    "\n",
    "from tqdm.notebook import tqdm"
   ]
  },
  {
   "cell_type": "code",
   "execution_count": null,
   "metadata": {
    "colab": {
     "base_uri": "https://localhost:8080/"
    },
    "execution": {
     "iopub.execute_input": "2024-12-11T16:34:56.114143Z",
     "iopub.status.busy": "2024-12-11T16:34:56.113641Z",
     "iopub.status.idle": "2024-12-11T16:34:57.695612Z",
     "shell.execute_reply": "2024-12-11T16:34:57.694731Z",
     "shell.execute_reply.started": "2024-12-11T16:34:56.114108Z"
    },
    "id": "nqB7HlFIM_zR",
    "outputId": "915c01dd-7f54-4bdb-b4d5-4e855f75456f"
   },
   "outputs": [
    {
     "data": {
      "text/plain": [
       "device(type='cuda', index=0)"
      ]
     },
     "execution_count": 2,
     "metadata": {},
     "output_type": "execute_result"
    }
   ],
   "source": [
    "import torch\n",
    "device = torch.device('cuda:0' if torch.cuda.is_available() else 'cpu')\n",
    "device"
   ]
  },
  {
   "cell_type": "markdown",
   "metadata": {
    "id": "GkjGmtWoM_zR"
   },
   "source": [
    "# Описание данных\n",
    "\n",
    "Данные можно [скачать с гугл-диска.](https://drive.google.com/drive/folders/11oCcLplWtp_qm-WuEbfCFP_Mz5K_z3ps?usp=sharing) Если вы делаете задание в колабе, то строчки ниже сами скачают вам данные.\n",
    "\n"
   ]
  },
  {
   "cell_type": "code",
   "execution_count": null,
   "metadata": {
    "id": "e78uct9mO6ik"
   },
   "outputs": [],
   "source": [
    "# import gdown\n",
    "\n",
    "# url = \"https://drive.google.com/drive/folders/11oCcLplWtp_qm-WuEbfCFP_Mz5K_z3ps?usp=sharing\"\n",
    "# gdown.download_folder(url, quiet=True, use_cookies=False)"
   ]
  },
  {
   "cell_type": "markdown",
   "metadata": {
    "id": "fNAzGcglM_zS"
   },
   "source": [
    "В таблице `ria_news.tsv`  лежат данные о новостях, вышедших на сайте РИА-НОВОСТИ с 15 марта 2018 года по 31 декабря 2018 года.\n",
    "\n",
    "- `href` - уникальный идентификатор новости (ссылка на неё)\n",
    "- `date` - дата публикации новости\n",
    "- `time` - время публикации новости\n",
    "- `title` - заголовок новости\n",
    "- `snippet` - краткое описание новости\n",
    "- `text` - текст новости\n",
    "- `category` - категория новости\n",
    "- `keywords` - ключевые слова (подкатегории новости)\n",
    "- `shows` - счётчик с числом просмотров новости на сайте (на момент парсинга)"
   ]
  },
  {
   "cell_type": "code",
   "execution_count": null,
   "metadata": {
    "colab": {
     "base_uri": "https://localhost:8080/",
     "height": 224
    },
    "execution": {
     "iopub.execute_input": "2024-12-11T16:34:59.399789Z",
     "iopub.status.busy": "2024-12-11T16:34:59.398714Z",
     "iopub.status.idle": "2024-12-11T16:35:22.403487Z",
     "shell.execute_reply": "2024-12-11T16:35:22.402471Z",
     "shell.execute_reply.started": "2024-12-11T16:34:59.399747Z"
    },
    "id": "U0-iSeRLM_zS",
    "outputId": "529b1ae4-150d-41d5-a7de-79b3de21c62d"
   },
   "outputs": [
    {
     "name": "stdout",
     "output_type": "stream",
     "text": [
      "(201708, 9)\n"
     ]
    },
    {
     "data": {
      "text/html": [
       "<div>\n",
       "<style scoped>\n",
       "    .dataframe tbody tr th:only-of-type {\n",
       "        vertical-align: middle;\n",
       "    }\n",
       "\n",
       "    .dataframe tbody tr th {\n",
       "        vertical-align: top;\n",
       "    }\n",
       "\n",
       "    .dataframe thead th {\n",
       "        text-align: right;\n",
       "    }\n",
       "</style>\n",
       "<table border=\"1\" class=\"dataframe\">\n",
       "  <thead>\n",
       "    <tr style=\"text-align: right;\">\n",
       "      <th></th>\n",
       "      <th>href</th>\n",
       "      <th>date</th>\n",
       "      <th>time</th>\n",
       "      <th>title</th>\n",
       "      <th>snippet</th>\n",
       "      <th>text</th>\n",
       "      <th>category</th>\n",
       "      <th>tags</th>\n",
       "      <th>shows</th>\n",
       "    </tr>\n",
       "  </thead>\n",
       "  <tbody>\n",
       "    <tr>\n",
       "      <th>0</th>\n",
       "      <td>/20181231/1548961410.html</td>\n",
       "      <td>2018-12-31</td>\n",
       "      <td>31 декабря 2018, 23:52</td>\n",
       "      <td>Нетаньяху не собирается в отставку в случае пр...</td>\n",
       "      <td>Премьер-министр Израиля Биньямин Нетаньяху не ...</td>\n",
       "      <td>МОСКВА, 31 дек - РИА Новости. Премьер-министр ...</td>\n",
       "      <td>В мире</td>\n",
       "      <td>Биньямин Нетаньяху, Израиль, В мире</td>\n",
       "      <td>728.0</td>\n",
       "    </tr>\n",
       "    <tr>\n",
       "      <th>1</th>\n",
       "      <td>/20181231/1548961364.html</td>\n",
       "      <td>2018-12-31</td>\n",
       "      <td>31 декабря 2018, 23:19</td>\n",
       "      <td>Макрон в новогоднем обращении затронул тему ре...</td>\n",
       "      <td>Результат реформ не может быть мгновенным, зая...</td>\n",
       "      <td>ПАРИЖ, 31 дек – РИА Новости. Результат реформ ...</td>\n",
       "      <td>В мире</td>\n",
       "      <td>Эммануэль Макрон, Франция, В мире</td>\n",
       "      <td>3086.0</td>\n",
       "    </tr>\n",
       "    <tr>\n",
       "      <th>2</th>\n",
       "      <td>/20181231/1548961337.html</td>\n",
       "      <td>2018-12-31</td>\n",
       "      <td>31 декабря 2018, 23:12</td>\n",
       "      <td>Аарон Рэмзи проведет переговоры с пятью топ-кл...</td>\n",
       "      <td>Полузащитник лондонского \"Арсенала\" Аарон Рэмз...</td>\n",
       "      <td>МОСКВА, 31 дек - РИА Новости. Полузащитник лон...</td>\n",
       "      <td>NaN</td>\n",
       "      <td>ФК Арсенал (Лондон)</td>\n",
       "      <td>183.0</td>\n",
       "    </tr>\n",
       "    <tr>\n",
       "      <th>3</th>\n",
       "      <td>/20181231/1548961304.html</td>\n",
       "      <td>2018-12-31</td>\n",
       "      <td>31 декабря 2018, 23:09</td>\n",
       "      <td>Гол Азмуна принес сборной Ирана победу над кат...</td>\n",
       "      <td>Футболисты сборной Ирана одержали победу над к...</td>\n",
       "      <td>МОСКВА, 31 дек - РИА Новости. Футболисты сборн...</td>\n",
       "      <td>NaN</td>\n",
       "      <td>Сердар Азмун, Сборная Ирана по футболу</td>\n",
       "      <td>78.0</td>\n",
       "    </tr>\n",
       "    <tr>\n",
       "      <th>4</th>\n",
       "      <td>/20181231/1548961265.html</td>\n",
       "      <td>2018-12-31</td>\n",
       "      <td>31 декабря 2018, 23:07</td>\n",
       "      <td>Пятая ракетка мира дель Потро пропустит Открыт...</td>\n",
       "      <td>Аргентинский теннисист Хуан Мартин дель Потро ...</td>\n",
       "      <td>МОСКВА, 31 дек - РИА Новости. Аргентинский тен...</td>\n",
       "      <td>NaN</td>\n",
       "      <td>Теннис</td>\n",
       "      <td>79.0</td>\n",
       "    </tr>\n",
       "  </tbody>\n",
       "</table>\n",
       "</div>"
      ],
      "text/plain": [
       "                        href        date                    time  \\\n",
       "0  /20181231/1548961410.html  2018-12-31  31 декабря 2018, 23:52   \n",
       "1  /20181231/1548961364.html  2018-12-31  31 декабря 2018, 23:19   \n",
       "2  /20181231/1548961337.html  2018-12-31  31 декабря 2018, 23:12   \n",
       "3  /20181231/1548961304.html  2018-12-31  31 декабря 2018, 23:09   \n",
       "4  /20181231/1548961265.html  2018-12-31  31 декабря 2018, 23:07   \n",
       "\n",
       "                                               title  \\\n",
       "0  Нетаньяху не собирается в отставку в случае пр...   \n",
       "1  Макрон в новогоднем обращении затронул тему ре...   \n",
       "2  Аарон Рэмзи проведет переговоры с пятью топ-кл...   \n",
       "3  Гол Азмуна принес сборной Ирана победу над кат...   \n",
       "4  Пятая ракетка мира дель Потро пропустит Открыт...   \n",
       "\n",
       "                                             snippet  \\\n",
       "0  Премьер-министр Израиля Биньямин Нетаньяху не ...   \n",
       "1  Результат реформ не может быть мгновенным, зая...   \n",
       "2  Полузащитник лондонского \"Арсенала\" Аарон Рэмз...   \n",
       "3  Футболисты сборной Ирана одержали победу над к...   \n",
       "4  Аргентинский теннисист Хуан Мартин дель Потро ...   \n",
       "\n",
       "                                                text category  \\\n",
       "0  МОСКВА, 31 дек - РИА Новости. Премьер-министр ...   В мире   \n",
       "1  ПАРИЖ, 31 дек – РИА Новости. Результат реформ ...   В мире   \n",
       "2  МОСКВА, 31 дек - РИА Новости. Полузащитник лон...      NaN   \n",
       "3  МОСКВА, 31 дек - РИА Новости. Футболисты сборн...      NaN   \n",
       "4  МОСКВА, 31 дек - РИА Новости. Аргентинский тен...      NaN   \n",
       "\n",
       "                                     tags   shows  \n",
       "0     Биньямин Нетаньяху, Израиль, В мире   728.0  \n",
       "1       Эммануэль Макрон, Франция, В мире  3086.0  \n",
       "2                     ФК Арсенал (Лондон)   183.0  \n",
       "3  Сердар Азмун, Сборная Ирана по футболу    78.0  \n",
       "4                                  Теннис    79.0  "
      ]
     },
     "execution_count": 3,
     "metadata": {},
     "output_type": "execute_result"
    }
   ],
   "source": [
    "df_ria = pd.read_csv('/kaggle/input/ogo-hw-4/news_data/ria_news.tsv', sep='\\t')\n",
    "df_ria = df_ria[~df_ria.tags.isnull()]\n",
    "print(df_ria.shape)\n",
    "df_ria.head()"
   ]
  },
  {
   "cell_type": "markdown",
   "metadata": {
    "id": "smOrAVujM_zS"
   },
   "source": [
    "Многие новостные агенства поддерживают странички в социальных сетях. Они постят туда самые сочные сюжеты. В таблице `vk_news.tsv` лежат данные о новостях, которые РИА запостили ВКонтакте в период времени с  `2017-09-29 01:28:55` по `2019-02-01 23:13:17`.\n",
    "\n",
    "- `id` - уникальный идентификатор поста\n",
    "- `href` - ссылка на сайт (если она была указана в посте)\n",
    "- `datetime` - дата и время публикации новости\n",
    "- `title` - заголовок новости\n",
    "- `text` - текст новости в социальной сети\n",
    "- `likes` - число лайков под постом\n",
    "- `comments` - число комментариев под постом"
   ]
  },
  {
   "cell_type": "code",
   "execution_count": null,
   "metadata": {
    "colab": {
     "base_uri": "https://localhost:8080/",
     "height": 224
    },
    "execution": {
     "iopub.execute_input": "2024-12-11T16:35:25.321486Z",
     "iopub.status.busy": "2024-12-11T16:35:25.320744Z",
     "iopub.status.idle": "2024-12-11T16:35:25.535067Z",
     "shell.execute_reply": "2024-12-11T16:35:25.534031Z",
     "shell.execute_reply.started": "2024-12-11T16:35:25.321449Z"
    },
    "id": "FFZHXKukM_zS",
    "outputId": "5dc6c5ee-f45c-4ef9-c4cc-9a381a21444a"
   },
   "outputs": [
    {
     "name": "stdout",
     "output_type": "stream",
     "text": [
      "(19928, 7)\n"
     ]
    },
    {
     "data": {
      "text/html": [
       "<div>\n",
       "<style scoped>\n",
       "    .dataframe tbody tr th:only-of-type {\n",
       "        vertical-align: middle;\n",
       "    }\n",
       "\n",
       "    .dataframe tbody tr th {\n",
       "        vertical-align: top;\n",
       "    }\n",
       "\n",
       "    .dataframe thead th {\n",
       "        text-align: right;\n",
       "    }\n",
       "</style>\n",
       "<table border=\"1\" class=\"dataframe\">\n",
       "  <thead>\n",
       "    <tr style=\"text-align: right;\">\n",
       "      <th></th>\n",
       "      <th>id</th>\n",
       "      <th>href</th>\n",
       "      <th>datetime</th>\n",
       "      <th>title</th>\n",
       "      <th>likes</th>\n",
       "      <th>comments</th>\n",
       "      <th>snippet</th>\n",
       "    </tr>\n",
       "  </thead>\n",
       "  <tbody>\n",
       "    <tr>\n",
       "      <th>0</th>\n",
       "      <td>24006362</td>\n",
       "      <td>/20190201/1550280358.html</td>\n",
       "      <td>2019-02-01 23:13:17</td>\n",
       "      <td>В ДНР заявили о задержании диверсантов, причас...</td>\n",
       "      <td>15</td>\n",
       "      <td>28</td>\n",
       "      <td>NaN</td>\n",
       "    </tr>\n",
       "    <tr>\n",
       "      <th>1</th>\n",
       "      <td>24006240</td>\n",
       "      <td>/20190201/1550268781.html</td>\n",
       "      <td>2019-02-01 22:38:41</td>\n",
       "      <td>Житель Урала \"заминировал\" ТЦ из-за снятия  со...</td>\n",
       "      <td>32</td>\n",
       "      <td>42</td>\n",
       "      <td>NaN</td>\n",
       "    </tr>\n",
       "    <tr>\n",
       "      <th>2</th>\n",
       "      <td>24006100</td>\n",
       "      <td>/20190201/1550282212.html</td>\n",
       "      <td>2019-02-01 21:58:52</td>\n",
       "      <td>В Черном море нашли \"потерянный флот Гитлера\"</td>\n",
       "      <td>84</td>\n",
       "      <td>23</td>\n",
       "      <td>NaN</td>\n",
       "    </tr>\n",
       "    <tr>\n",
       "      <th>3</th>\n",
       "      <td>24005972</td>\n",
       "      <td>/20190202/1550283179.html</td>\n",
       "      <td>2019-02-01 21:27:06</td>\n",
       "      <td>В США освободили задержанную российскую актрис...</td>\n",
       "      <td>58</td>\n",
       "      <td>35</td>\n",
       "      <td>NaN</td>\n",
       "    </tr>\n",
       "    <tr>\n",
       "      <th>4</th>\n",
       "      <td>24005764</td>\n",
       "      <td>/20190201/1550262848.html</td>\n",
       "      <td>2019-02-01 20:55:54</td>\n",
       "      <td>Толкнувший Скабееву депутат Рады заявил о гроз...</td>\n",
       "      <td>45</td>\n",
       "      <td>145</td>\n",
       "      <td>NaN</td>\n",
       "    </tr>\n",
       "  </tbody>\n",
       "</table>\n",
       "</div>"
      ],
      "text/plain": [
       "         id                       href             datetime  \\\n",
       "0  24006362  /20190201/1550280358.html  2019-02-01 23:13:17   \n",
       "1  24006240  /20190201/1550268781.html  2019-02-01 22:38:41   \n",
       "2  24006100  /20190201/1550282212.html  2019-02-01 21:58:52   \n",
       "3  24005972  /20190202/1550283179.html  2019-02-01 21:27:06   \n",
       "4  24005764  /20190201/1550262848.html  2019-02-01 20:55:54   \n",
       "\n",
       "                                               title  likes  comments snippet  \n",
       "0  В ДНР заявили о задержании диверсантов, причас...     15        28     NaN  \n",
       "1  Житель Урала \"заминировал\" ТЦ из-за снятия  со...     32        42     NaN  \n",
       "2      В Черном море нашли \"потерянный флот Гитлера\"     84        23     NaN  \n",
       "3  В США освободили задержанную российскую актрис...     58        35     NaN  \n",
       "4  Толкнувший Скабееву депутат Рады заявил о гроз...     45       145     NaN  "
      ]
     },
     "execution_count": 4,
     "metadata": {},
     "output_type": "execute_result"
    }
   ],
   "source": [
    "df_vk = pd.read_csv('/kaggle/input/ogo-hw-4/news_data/vk_news.tsv', sep='\\t')\n",
    "df_vk['snippet'] = df_vk['text']\n",
    "df_vk.drop('text', axis=1, inplace=True)\n",
    "print(df_vk.shape)\n",
    "df_vk.head()"
   ]
  },
  {
   "cell_type": "markdown",
   "metadata": {
    "id": "HFaQtcOVM_zT"
   },
   "source": [
    "В таблице `vk_comments.tsv` лежат комментарии к новостям.\n",
    "\n",
    "- `id` - уникальный идентификатор комментария\n",
    "- `post_id` - идентификатор новости, под которой был оставлен комментарий\n",
    "- `datetime` - дата и время, когда был оставлен комментарий\n",
    "- `text` - текст комментария\n",
    "- `likes` - число лайков под комментарием"
   ]
  },
  {
   "cell_type": "code",
   "execution_count": null,
   "metadata": {
    "colab": {
     "base_uri": "https://localhost:8080/",
     "height": 258
    },
    "execution": {
     "iopub.execute_input": "2024-12-11T16:35:27.668712Z",
     "iopub.status.busy": "2024-12-11T16:35:27.668361Z",
     "iopub.status.idle": "2024-12-11T16:35:47.420878Z",
     "shell.execute_reply": "2024-12-11T16:35:47.420024Z",
     "shell.execute_reply.started": "2024-12-11T16:35:27.668684Z"
    },
    "id": "HBJvrG6wM_zT",
    "outputId": "82bbad69-32ef-47ef-873c-e09b1f08aae8"
   },
   "outputs": [
    {
     "name": "stderr",
     "output_type": "stream",
     "text": [
      "/tmp/ipykernel_124/2795629421.py:1: DtypeWarning: Columns (0) have mixed types. Specify dtype option on import or set low_memory=False.\n",
      "  df_comments = pd.read_csv('/kaggle/input/ogo-hw-4/news_data/vk_comments.tsv', sep='\\t')\n"
     ]
    },
    {
     "name": "stdout",
     "output_type": "stream",
     "text": [
      "(2612629, 5)\n"
     ]
    },
    {
     "data": {
      "text/html": [
       "<div>\n",
       "<style scoped>\n",
       "    .dataframe tbody tr th:only-of-type {\n",
       "        vertical-align: middle;\n",
       "    }\n",
       "\n",
       "    .dataframe tbody tr th {\n",
       "        vertical-align: top;\n",
       "    }\n",
       "\n",
       "    .dataframe thead th {\n",
       "        text-align: right;\n",
       "    }\n",
       "</style>\n",
       "<table border=\"1\" class=\"dataframe\">\n",
       "  <thead>\n",
       "    <tr style=\"text-align: right;\">\n",
       "      <th></th>\n",
       "      <th>id</th>\n",
       "      <th>post_id</th>\n",
       "      <th>datetime</th>\n",
       "      <th>text</th>\n",
       "      <th>likes</th>\n",
       "    </tr>\n",
       "  </thead>\n",
       "  <tbody>\n",
       "    <tr>\n",
       "      <th>0</th>\n",
       "      <td>24006366.0</td>\n",
       "      <td>24006362.0</td>\n",
       "      <td>2019-02-01 23:14:14</td>\n",
       "      <td>ЧВК Вагнера?</td>\n",
       "      <td>5.0</td>\n",
       "    </tr>\n",
       "    <tr>\n",
       "      <th>1</th>\n",
       "      <td>24006370.0</td>\n",
       "      <td>24006362.0</td>\n",
       "      <td>2019-02-01 23:15:23</td>\n",
       "      <td>[id4710641|Евгений], выздоравливай.</td>\n",
       "      <td>3.0</td>\n",
       "    </tr>\n",
       "    <tr>\n",
       "      <th>2</th>\n",
       "      <td>24006371.0</td>\n",
       "      <td>24006362.0</td>\n",
       "      <td>2019-02-01 23:16:21</td>\n",
       "      <td>[id442655034|Андрей], искренне желаю этого все...</td>\n",
       "      <td>4.0</td>\n",
       "    </tr>\n",
       "    <tr>\n",
       "      <th>3</th>\n",
       "      <td>24006374.0</td>\n",
       "      <td>24006362.0</td>\n",
       "      <td>2019-02-01 23:16:38</td>\n",
       "      <td>Опять про Украину новости?</td>\n",
       "      <td>1.0</td>\n",
       "    </tr>\n",
       "    <tr>\n",
       "      <th>4</th>\n",
       "      <td>24006375.0</td>\n",
       "      <td>24006362.0</td>\n",
       "      <td>2019-02-01 23:16:40</td>\n",
       "      <td>Че такое ДНР?</td>\n",
       "      <td>2.0</td>\n",
       "    </tr>\n",
       "  </tbody>\n",
       "</table>\n",
       "</div>"
      ],
      "text/plain": [
       "           id     post_id             datetime  \\\n",
       "0  24006366.0  24006362.0  2019-02-01 23:14:14   \n",
       "1  24006370.0  24006362.0  2019-02-01 23:15:23   \n",
       "2  24006371.0  24006362.0  2019-02-01 23:16:21   \n",
       "3  24006374.0  24006362.0  2019-02-01 23:16:38   \n",
       "4  24006375.0  24006362.0  2019-02-01 23:16:40   \n",
       "\n",
       "                                                text  likes  \n",
       "0                                       ЧВК Вагнера?    5.0  \n",
       "1                [id4710641|Евгений], выздоравливай.    3.0  \n",
       "2  [id442655034|Андрей], искренне желаю этого все...    4.0  \n",
       "3                         Опять про Украину новости?    1.0  \n",
       "4                                      Че такое ДНР?    2.0  "
      ]
     },
     "execution_count": 5,
     "metadata": {},
     "output_type": "execute_result"
    }
   ],
   "source": [
    "df_comments = pd.read_csv('/kaggle/input/ogo-hw-4/news_data/vk_comments.tsv', sep='\\t')\n",
    "df_comments = df_comments[~df_comments.text.isnull()]\n",
    "print(df_comments.shape)\n",
    "df_comments.head()"
   ]
  },
  {
   "cell_type": "markdown",
   "metadata": {
    "id": "58hpgVLvM_zT"
   },
   "source": [
    "# А что надо сделать то?\n",
    "\n",
    "В тетрадке вам предстоит сделать следующие шаги:\n",
    "\n",
    "1. Обучить нейросеть предсказывать категорию новости\n",
    "2. Построить предсказания для тех новостей, где мы ничего не знаем о категории\n",
    "3. Использовать уже обученный для сентимент-анализа классификатор из библиотеки `hugging face` чтобы предсказать эмоциональную окраску каждого комментария\n",
    "4. Провести аналитику по новостям, а именно построите топы из самых позитивных и негативных категорий и новостей\n",
    "\n",
    "Для первого шага вам будет дан бэйзлайн. Если вы его прогоните, у вас получится базовая модель, которая даст некоторое качество решения задачи. Вам надо будет выяснить, насколько это качество оказалось хорошим, а затем внести в код некоторые улучшения.\n",
    "\n"
   ]
  },
  {
   "cell_type": "markdown",
   "metadata": {
    "id": "hdb5XYa_M_zT"
   },
   "source": [
    "## Часть 1: категоризация новостей (5 баллов + 1.8 бонусных)\n",
    "\n",
    "Каждой новости в соотвествие поставлены ключевые слова. Будем считать, что эти ключевые слова — тематики новости. Нужно научиться предсказывать тематики по тексту новости. Готовые тематики у нас есть только по новостям с сайта. Они за 2018 год. По новостям из ВКонтакте у нас тематик нет. Мы собираемся их предсказать.\n",
    "\n",
    "Новости, опубликованные ВКонтакте, отличаются от новостей с сайта тем, что у них есть только титул и короткое описание. Странно будет обучать нейросеть на длинных текстах, а потом использовать её на коротких описаниях. Мы не будем так делать. Мы попробуем обучить базовый вариант нейронной сети только на заголовках новостей. Все, кто захочет получить бонусные баллы, смогут попробовать добавить в нейросеть сниппеты (так назыают короткие описания новостей)."
   ]
  },
  {
   "cell_type": "markdown",
   "metadata": {
    "id": "NmGxSLP-M_zT"
   },
   "source": [
    "## 1.1 Подготовка таргета\n",
    "\n",
    "Поработаем с таргетом. Мы будем предсказывать переменную `tags`. Давайте выясним скоько уникальных тегов существует."
   ]
  },
  {
   "cell_type": "code",
   "execution_count": null,
   "metadata": {
    "colab": {
     "base_uri": "https://localhost:8080/"
    },
    "execution": {
     "iopub.execute_input": "2024-12-11T16:36:04.225907Z",
     "iopub.status.busy": "2024-12-11T16:36:04.225181Z",
     "iopub.status.idle": "2024-12-11T16:36:04.954151Z",
     "shell.execute_reply": "2024-12-11T16:36:04.953350Z",
     "shell.execute_reply.started": "2024-12-11T16:36:04.225872Z"
    },
    "id": "NZDxrSvkM_zT",
    "outputId": "dcb6ecfc-c28a-4d48-faea-7517fe6af98c"
   },
   "outputs": [
    {
     "name": "stdout",
     "output_type": "stream",
     "text": [
      "13344\n"
     ]
    },
    {
     "data": {
      "text/plain": [
       "[('блог анны завершинской об автоспорте - блоги', 1),\n",
       " ('министерство транспорта рб', 1),\n",
       " ('министерство здравоохранения грузии', 1),\n",
       " ('палех', 1),\n",
       " ('юрий посохов (хореограф)', 1),\n",
       " ('мария александрова', 1),\n",
       " ('том бенсон', 1),\n",
       " ('абдул каюм кочай', 1),\n",
       " ('нуман куртулмуш', 1),\n",
       " ('mipim', 1),\n",
       " ('владимир попов', 1),\n",
       " ('брюно женезио', 1),\n",
       " ('роберт фицо', 1),\n",
       " ('сергей пашинский', 1),\n",
       " ('валерия гонтарева', 1),\n",
       " ('нововоронеж', 1),\n",
       " ('императорское православное палестинское общество', 1),\n",
       " ('event_poslanie_prezidenta_rf_federalnomu_sobraniju', 1),\n",
       " ('фхтр', 1),\n",
       " ('игорь честин', 1)]"
      ]
     },
     "execution_count": 6,
     "metadata": {},
     "output_type": "execute_result"
    }
   ],
   "source": [
    "from collections import Counter\n",
    "\n",
    "# удалим все лишние пробелы и сделаем lowercase\n",
    "df_ria['tags'] = (\n",
    "    df_ria.tags.\n",
    "    apply(lambda w: ','.join([item.strip() for item in  w.lower().split(',')]))\n",
    ")\n",
    "\n",
    "tags = ','.join(list(df_ria.tags.values))\n",
    "tags_cnt = Counter(tags.split(','))\n",
    "\n",
    "print(len(tags_cnt))\n",
    "tags_cnt.most_common()[-20:]"
   ]
  },
  {
   "cell_type": "markdown",
   "metadata": {
    "id": "5Wv68z36M_zT"
   },
   "source": [
    "Всего в выборке есть порядка 13 000 тэгов. Многие встречаются всего по разу. Давайте оставим в выборке только те тэги, которые встречаются более 30 раз."
   ]
  },
  {
   "cell_type": "code",
   "execution_count": null,
   "metadata": {
    "colab": {
     "base_uri": "https://localhost:8080/"
    },
    "execution": {
     "iopub.execute_input": "2024-12-11T16:36:11.070349Z",
     "iopub.status.busy": "2024-12-11T16:36:11.069993Z",
     "iopub.status.idle": "2024-12-11T16:36:11.083026Z",
     "shell.execute_reply": "2024-12-11T16:36:11.082024Z",
     "shell.execute_reply.started": "2024-12-11T16:36:11.070320Z"
    },
    "id": "eA6H34iKM_zU",
    "outputId": "b56acbc0-5e02-4bbb-b969-79d02185a0a7"
   },
   "outputs": [
    {
     "data": {
      "text/plain": [
       "1583"
      ]
     },
     "execution_count": 7,
     "metadata": {},
     "output_type": "execute_result"
    }
   ],
   "source": [
    "target_tags = {tag for tag,cnt in tags_cnt.most_common() if cnt > 30}\n",
    "len(target_tags)"
   ]
  },
  {
   "cell_type": "markdown",
   "metadata": {
    "id": "RLrQSyCDM_zU"
   },
   "source": [
    "Закодируем теги для OHE."
   ]
  },
  {
   "cell_type": "code",
   "execution_count": null,
   "metadata": {
    "execution": {
     "iopub.execute_input": "2024-12-11T16:36:13.669056Z",
     "iopub.status.busy": "2024-12-11T16:36:13.668500Z",
     "iopub.status.idle": "2024-12-11T16:36:13.674037Z",
     "shell.execute_reply": "2024-12-11T16:36:13.673166Z",
     "shell.execute_reply.started": "2024-12-11T16:36:13.669020Z"
    },
    "id": "J2fKnLmTM_zU"
   },
   "outputs": [],
   "source": [
    "tag2idx = dict(zip(target_tags, range(len(target_tags))))\n",
    "idx2tag = {jtem: item for item,jtem in tag2idx.items()}"
   ]
  },
  {
   "cell_type": "markdown",
   "metadata": {
    "id": "8QDNftQqM_zU"
   },
   "source": [
    "Почистим таргет от лишних тэгов."
   ]
  },
  {
   "cell_type": "code",
   "execution_count": null,
   "metadata": {
    "colab": {
     "base_uri": "https://localhost:8080/"
    },
    "execution": {
     "iopub.execute_input": "2024-12-11T16:36:17.325598Z",
     "iopub.status.busy": "2024-12-11T16:36:17.324892Z",
     "iopub.status.idle": "2024-12-11T16:36:17.974505Z",
     "shell.execute_reply": "2024-12-11T16:36:17.973451Z",
     "shell.execute_reply.started": "2024-12-11T16:36:17.325566Z"
    },
    "id": "9pqA60YiM_zU",
    "outputId": "a17100c5-931a-4026-d29f-450cb7c078af"
   },
   "outputs": [
    {
     "data": {
      "text/plain": [
       "(201437, 10)"
      ]
     },
     "execution_count": 9,
     "metadata": {},
     "output_type": "execute_result"
    }
   ],
   "source": [
    "df_ria['target_tags'] = (\n",
    "    df_ria.tags.\n",
    "    apply(lambda w: [tag2idx.get(item) for item in  w.split(',') if item in target_tags])\n",
    ")\n",
    "\n",
    "df_ria = df_ria[df_ria.target_tags.apply(len) > 0]\n",
    "df_ria.shape"
   ]
  },
  {
   "cell_type": "code",
   "execution_count": null,
   "metadata": {
    "colab": {
     "base_uri": "https://localhost:8080/"
    },
    "execution": {
     "iopub.execute_input": "2024-12-11T16:36:19.896296Z",
     "iopub.status.busy": "2024-12-11T16:36:19.895458Z",
     "iopub.status.idle": "2024-12-11T16:36:19.902138Z",
     "shell.execute_reply": "2024-12-11T16:36:19.901186Z",
     "shell.execute_reply.started": "2024-12-11T16:36:19.896263Z"
    },
    "id": "y0KaYfuQM_zU",
    "outputId": "99433d81-5a67-4cda-869f-113f4772eef0"
   },
   "outputs": [
    {
     "data": {
      "text/plain": [
       "array([list([816, 707, 1349]), list([590, 654, 1349]), list([987])],\n",
       "      dtype=object)"
      ]
     },
     "execution_count": 10,
     "metadata": {},
     "output_type": "execute_result"
    }
   ],
   "source": [
    "df_ria.target_tags.values[:3]"
   ]
  },
  {
   "cell_type": "markdown",
   "metadata": {
    "id": "Y-hjLFKRM_zU"
   },
   "source": [
    "## 1.2 Подготовка текстов\n",
    "\n",
    "Теперь займёмся предобработкой текстов. Приведём все слова к нижнему регистру и выбросим мусорные символы. В качестве токенов будем рассматривать отдельные слова.\n",
    "\n",
    "Напомню, что мы пока что решили работать только с названиями статей. Поэтому вся предобработка применяется исключительно к ним. **Спойлер:** предобработку для сниппетов вы сделаете сами в первом же задании."
   ]
  },
  {
   "cell_type": "code",
   "execution_count": null,
   "metadata": {
    "colab": {
     "base_uri": "https://localhost:8080/"
    },
    "execution": {
     "iopub.execute_input": "2024-12-11T16:36:26.362667Z",
     "iopub.status.busy": "2024-12-11T16:36:26.361960Z",
     "iopub.status.idle": "2024-12-11T16:36:27.915062Z",
     "shell.execute_reply": "2024-12-11T16:36:27.914068Z",
     "shell.execute_reply.started": "2024-12-11T16:36:26.362632Z"
    },
    "id": "DUEWRZWTQsHy",
    "outputId": "742aedd2-921c-4eab-a6b8-e72e396348ea"
   },
   "outputs": [
    {
     "name": "stdout",
     "output_type": "stream",
     "text": [
      "[nltk_data] Downloading package punkt to /usr/share/nltk_data...\n",
      "[nltk_data]   Package punkt is already up-to-date!\n",
      "[nltk_data] Downloading package punkt_tab to /usr/share/nltk_data...\n",
      "[nltk_data]   Unzipping tokenizers/punkt_tab.zip.\n",
      "[nltk_data] Downloading package stopwords to /usr/share/nltk_data...\n",
      "[nltk_data]   Package stopwords is already up-to-date!\n"
     ]
    },
    {
     "data": {
      "text/plain": [
       "True"
      ]
     },
     "execution_count": 11,
     "metadata": {},
     "output_type": "execute_result"
    }
   ],
   "source": [
    "import nltk\n",
    "nltk.download('punkt')\n",
    "nltk.download('punkt_tab')\n",
    "nltk.download('stopwords')"
   ]
  },
  {
   "cell_type": "code",
   "execution_count": null,
   "metadata": {
    "colab": {
     "base_uri": "https://localhost:8080/"
    },
    "execution": {
     "iopub.execute_input": "2024-12-11T16:36:46.517120Z",
     "iopub.status.busy": "2024-12-11T16:36:46.516801Z",
     "iopub.status.idle": "2024-12-11T16:36:54.522680Z",
     "shell.execute_reply": "2024-12-11T16:36:54.521539Z",
     "shell.execute_reply.started": "2024-12-11T16:36:46.517093Z"
    },
    "id": "bLHWjtkoM_zU",
    "outputId": "ab04176f-4ba9-45b5-8624-ef2598cb5af0"
   },
   "outputs": [
    {
     "data": {
      "text/plain": [
       "112178"
      ]
     },
     "execution_count": 14,
     "metadata": {},
     "output_type": "execute_result"
    }
   ],
   "source": [
    "import re\n",
    "from nltk.tokenize import word_tokenize\n",
    "\n",
    "def normalise_text(text):\n",
    "    text = text.lower()\n",
    "\n",
    "    # сурово регулярками выкидываем мусорные символы\n",
    "    text = re.sub('[^а-яa-z0-9 ]', '', text)\n",
    "    return text.strip()\n",
    "\n",
    "df_ria['title_clean'] = df_ria.title.apply(normalise_text)\n",
    "\n",
    "word_cnt = Counter(word_tokenize(' '.join(df_ria.title_clean.values)))\n",
    "len(word_cnt)"
   ]
  },
  {
   "cell_type": "code",
   "execution_count": null,
   "metadata": {
    "colab": {
     "base_uri": "https://localhost:8080/"
    },
    "execution": {
     "iopub.execute_input": "2024-12-11T16:36:58.026422Z",
     "iopub.status.busy": "2024-12-11T16:36:58.026071Z",
     "iopub.status.idle": "2024-12-11T16:36:58.071890Z",
     "shell.execute_reply": "2024-12-11T16:36:58.070905Z",
     "shell.execute_reply.started": "2024-12-11T16:36:58.026393Z"
    },
    "id": "-OGzgIx-M_zV",
    "outputId": "75047b71-1773-4322-d851-2c5a3e44a772"
   },
   "outputs": [
    {
     "data": {
      "text/plain": [
       "[('в', 127323),\n",
       " ('на', 44386),\n",
       " ('с', 26150),\n",
       " ('и', 21771),\n",
       " ('о', 19948),\n",
       " ('по', 17014),\n",
       " ('россии', 13494),\n",
       " ('не', 13483),\n",
       " ('сша', 9942),\n",
       " ('за', 9881)]"
      ]
     },
     "execution_count": 15,
     "metadata": {},
     "output_type": "execute_result"
    }
   ],
   "source": [
    "word_cnt.most_common()[:10]"
   ]
  },
  {
   "cell_type": "markdown",
   "metadata": {
    "id": "ydRq2i-fM_zV"
   },
   "source": [
    "Давайте почистим словарь от стоп-слов и подготовим его к использованию внутри датасета. Мы будем с помощью словаря заменять слова на индексы. Добавим в словарь несколько специальных токенов для неизвестных слов и паддингов."
   ]
  },
  {
   "cell_type": "code",
   "execution_count": null,
   "metadata": {
    "colab": {
     "base_uri": "https://localhost:8080/"
    },
    "execution": {
     "iopub.execute_input": "2024-12-11T16:37:00.718883Z",
     "iopub.status.busy": "2024-12-11T16:37:00.718417Z",
     "iopub.status.idle": "2024-12-11T16:37:00.728005Z",
     "shell.execute_reply": "2024-12-11T16:37:00.727008Z",
     "shell.execute_reply.started": "2024-12-11T16:37:00.718819Z"
    },
    "id": "7W5X3hM2M_zV",
    "outputId": "5e1eefd3-74bd-45b7-f3e6-32aff209f866"
   },
   "outputs": [
    {
     "data": {
      "text/plain": [
       "151"
      ]
     },
     "execution_count": 16,
     "metadata": {},
     "output_type": "execute_result"
    }
   ],
   "source": [
    "from nltk.corpus import stopwords\n",
    "\n",
    "stops_ru = set(stopwords.words('russian'))\n",
    "len(stops_ru)"
   ]
  },
  {
   "cell_type": "code",
   "execution_count": null,
   "metadata": {
    "execution": {
     "iopub.execute_input": "2024-12-11T16:37:03.219331Z",
     "iopub.status.busy": "2024-12-11T16:37:03.218680Z",
     "iopub.status.idle": "2024-12-11T16:37:03.319977Z",
     "shell.execute_reply": "2024-12-11T16:37:03.319260Z",
     "shell.execute_reply.started": "2024-12-11T16:37:03.219295Z"
    },
    "id": "0h0Eq-fkM_zV"
   },
   "outputs": [],
   "source": [
    "vocabulary = {\n",
    "    \"#PAD#\": 0, \"#UNK#\": 1\n",
    "}\n",
    "\n",
    "k = 2\n",
    "for word, _ in word_cnt.most_common():\n",
    "    if word not in stops_ru:\n",
    "        vocabulary[word] = k\n",
    "        k += 1"
   ]
  },
  {
   "cell_type": "code",
   "execution_count": null,
   "metadata": {
    "colab": {
     "base_uri": "https://localhost:8080/"
    },
    "execution": {
     "iopub.execute_input": "2024-12-11T16:37:05.570185Z",
     "iopub.status.busy": "2024-12-11T16:37:05.569787Z",
     "iopub.status.idle": "2024-12-11T16:37:05.576273Z",
     "shell.execute_reply": "2024-12-11T16:37:05.575249Z",
     "shell.execute_reply.started": "2024-12-11T16:37:05.570154Z"
    },
    "id": "xL0VgZT6M_zV",
    "outputId": "4cc524ed-34d8-4889-b80e-cf27b45f0657"
   },
   "outputs": [
    {
     "data": {
      "text/plain": [
       "112030"
      ]
     },
     "execution_count": 18,
     "metadata": {},
     "output_type": "execute_result"
    }
   ],
   "source": [
    "len(vocabulary)"
   ]
  },
  {
   "cell_type": "markdown",
   "metadata": {
    "id": "U9NQcllLM_zV"
   },
   "source": [
    "Завернём код для создания словаря в функцию."
   ]
  },
  {
   "cell_type": "code",
   "execution_count": null,
   "metadata": {
    "execution": {
     "iopub.execute_input": "2024-12-11T16:37:11.378332Z",
     "iopub.status.busy": "2024-12-11T16:37:11.377645Z",
     "iopub.status.idle": "2024-12-11T16:37:11.383363Z",
     "shell.execute_reply": "2024-12-11T16:37:11.382330Z",
     "shell.execute_reply.started": "2024-12-11T16:37:11.378295Z"
    },
    "id": "VAMLLbXxM_zV"
   },
   "outputs": [],
   "source": [
    "def create_vocab(text, stops_ru=stops_ru):\n",
    "\n",
    "    word_cnt = Counter(word_tokenize(text))\n",
    "    vocabulary = {\n",
    "        \"#PAD#\": 0, \"#UNK#\": 1\n",
    "    }\n",
    "\n",
    "    k = 2\n",
    "    for word, _ in word_cnt.most_common():\n",
    "        if word not in stops_ru:\n",
    "            vocabulary[word] = k\n",
    "            k += 1\n",
    "    return vocabulary"
   ]
  },
  {
   "cell_type": "markdown",
   "metadata": {
    "id": "lnYJT9BXM_zV"
   },
   "source": [
    "__[0.5 балла] Задание 1:__\n",
    "\n",
    "- Cделайте аналогичную предобработку титулов из таблички `df_vk`. Запишите получившийся результат в столбец `title_clean` по аналогии с таблицей `df_ria`.\n",
    "- Сделайте для обеих таблиц предобработку колонок со сниппетами `snippet` и запишите получившийся результат в столбец `snippet_clean`. Все пропуски заполните токеном `\"#UNKN\"`."
   ]
  },
  {
   "cell_type": "code",
   "execution_count": null,
   "metadata": {
    "execution": {
     "iopub.execute_input": "2024-12-11T16:37:15.671026Z",
     "iopub.status.busy": "2024-12-11T16:37:15.670111Z",
     "iopub.status.idle": "2024-12-11T16:37:16.425295Z",
     "shell.execute_reply": "2024-12-11T16:37:16.424580Z",
     "shell.execute_reply.started": "2024-12-11T16:37:15.670989Z"
    },
    "id": "FTlZA9amM_zV"
   },
   "outputs": [],
   "source": [
    "df_vk['title_clean'] = df_vk.title.apply(normalise_text)\n",
    "txt = ' '.join(df_vk.title_clean.values)\n",
    "\n",
    "vocab_vk = create_vocab(txt)"
   ]
  },
  {
   "cell_type": "code",
   "execution_count": null,
   "metadata": {
    "execution": {
     "iopub.execute_input": "2024-12-11T16:37:19.463529Z",
     "iopub.status.busy": "2024-12-11T16:37:19.462809Z",
     "iopub.status.idle": "2024-12-11T16:37:28.102203Z",
     "shell.execute_reply": "2024-12-11T16:37:28.101281Z",
     "shell.execute_reply.started": "2024-12-11T16:37:19.463497Z"
    },
    "id": "qPqJLMtFCK1X"
   },
   "outputs": [],
   "source": [
    "def normalise_snippnet(text):\n",
    "    if type(text) == float:\n",
    "        return \"#UNKN\"\n",
    "    else:\n",
    "        text = text.lower()\n",
    "\n",
    "        # сурово регулярками выкидываем мусорные символы\n",
    "        text = re.sub('[^а-яa-z0-9 ]', '', text)\n",
    "        return text.strip()\n",
    "\n",
    "df_ria['snippet_clean'] = df_ria.snippet.apply(normalise_snippnet)\n",
    "df_vk['snippet_clean'] = df_vk.snippet.apply(normalise_snippnet)"
   ]
  },
  {
   "cell_type": "markdown",
   "metadata": {
    "id": "WrRKg_QHM_zV"
   },
   "source": [
    "## 1.3 Поставка данных"
   ]
  },
  {
   "cell_type": "markdown",
   "metadata": {
    "id": "S2vPPWsEM_zV"
   },
   "source": [
    "Пересечение сайта и ВК по опубликованным новостям довольно маленькое. Мы обучаем модель на данных с сайта. Предсказания мы будем строить на данных из ВК. У этих данных разная природа. В ВК описание статей и заголовки короче. Модель может хорошо показать себя на данных с новостного сайта, но сильно просесть в качестве на данных из ВК.\n",
    "\n",
    "Давайте сохраним пересечение в отдельную табличку, чтобы на нём можно было понять, насколько сильно деградирует модель."
   ]
  },
  {
   "cell_type": "code",
   "execution_count": null,
   "metadata": {
    "colab": {
     "base_uri": "https://localhost:8080/"
    },
    "execution": {
     "iopub.execute_input": "2024-12-11T16:37:30.426222Z",
     "iopub.status.busy": "2024-12-11T16:37:30.425830Z",
     "iopub.status.idle": "2024-12-11T16:37:30.550767Z",
     "shell.execute_reply": "2024-12-11T16:37:30.549640Z",
     "shell.execute_reply.started": "2024-12-11T16:37:30.426190Z"
    },
    "id": "8KjCNaTLM_zW",
    "outputId": "ffdc913a-61da-4eeb-ab20-0bf940783c20"
   },
   "outputs": [
    {
     "name": "stdout",
     "output_type": "stream",
     "text": [
      "Размер отложенной выборки: 1128\n"
     ]
    }
   ],
   "source": [
    "ria_hrefs = set(df_ria.href.values)\n",
    "vk_hrefs = set(df_vk.href.values)\n",
    "test_hrefs = (vk_hrefs & ria_hrefs)\n",
    "\n",
    "print('Размер отложенной выборки:', len(test_hrefs))\n",
    "\n",
    "df = df_ria[~df_ria.href.isin(test_hrefs)]"
   ]
  },
  {
   "cell_type": "markdown",
   "metadata": {
    "id": "FVutzHbPM_zg"
   },
   "source": [
    "По странному совпадению (я правда не знаю почему) пересечение лежит в декабре. Мы будем его использовать как тестовую выборку."
   ]
  },
  {
   "cell_type": "code",
   "execution_count": null,
   "metadata": {
    "colab": {
     "base_uri": "https://localhost:8080/"
    },
    "execution": {
     "iopub.execute_input": "2024-12-11T16:37:35.188648Z",
     "iopub.status.busy": "2024-12-11T16:37:35.187717Z",
     "iopub.status.idle": "2024-12-11T16:37:35.234534Z",
     "shell.execute_reply": "2024-12-11T16:37:35.233500Z",
     "shell.execute_reply.started": "2024-12-11T16:37:35.188595Z"
    },
    "id": "1fGs6y6PM_zg",
    "outputId": "224f8aa3-21be-44e9-ec25-9f3829b70b7b"
   },
   "outputs": [
    {
     "data": {
      "text/plain": [
       "('2018-12-06', '2018-12-31')"
      ]
     },
     "execution_count": 24,
     "metadata": {},
     "output_type": "execute_result"
    }
   ],
   "source": [
    "df_ria[df_ria.href.isin(test_hrefs)].date.min(), df_ria[df_ria.href.isin(test_hrefs)].date.max()"
   ]
  },
  {
   "cell_type": "markdown",
   "metadata": {
    "id": "VJ_7VGvnM_zg"
   },
   "source": [
    "Предположим, что мы делим выборку на обучающую и тестовую случайно. За один и тот же промежуток времени может выйти довольно большое число новостей с одинаковым заголовком. Давайте представим себе, что в тесте и трэйне есть много статей про одно и то же событие. Модель научилась на обучающей выборке хорошо его тегировать. Остальные события модель тегирует намного хуже. Метрики на тестовой выборке высокие. В следующем месяце СМИ перестают освещать это событие, в потоке новостей совершенно другие новости. Качество модели резко проседает.\n",
    "\n",
    "Чтобы не напороться на завышенные метрики, обычно выборку дробят на обучающую и тестовую по времени. Тогда статьи из теста будут имитировать поток новых новостей, освещающих новые события."
   ]
  },
  {
   "cell_type": "code",
   "execution_count": null,
   "metadata": {
    "colab": {
     "base_uri": "https://localhost:8080/"
    },
    "execution": {
     "iopub.execute_input": "2024-12-11T16:37:38.099486Z",
     "iopub.status.busy": "2024-12-11T16:37:38.098814Z",
     "iopub.status.idle": "2024-12-11T16:37:38.133935Z",
     "shell.execute_reply": "2024-12-11T16:37:38.132906Z",
     "shell.execute_reply.started": "2024-12-11T16:37:38.099450Z"
    },
    "id": "WscwQXAuM_zg",
    "outputId": "7bb88211-895c-41a8-853c-429ab8534dd9"
   },
   "outputs": [
    {
     "data": {
      "text/plain": [
       "('2018-03-15', '2018-12-31')"
      ]
     },
     "execution_count": 25,
     "metadata": {},
     "output_type": "execute_result"
    }
   ],
   "source": [
    "df.date.min(), df.date.max()"
   ]
  },
  {
   "cell_type": "markdown",
   "metadata": {
    "id": "bzM_6-ntM_zg"
   },
   "source": [
    "__[0.5 балла] Задание 2:__ Разбейте выборку на обучающую, валидационную и тестовую. В тест возьмите весь декабрь. В валидацию октябрь и ноябрь."
   ]
  },
  {
   "cell_type": "code",
   "execution_count": null,
   "metadata": {
    "execution": {
     "iopub.execute_input": "2024-12-11T16:37:40.439210Z",
     "iopub.status.busy": "2024-12-11T16:37:40.438169Z",
     "iopub.status.idle": "2024-12-11T16:37:40.589888Z",
     "shell.execute_reply": "2024-12-11T16:37:40.588906Z",
     "shell.execute_reply.started": "2024-12-11T16:37:40.439176Z"
    },
    "id": "Yzr5nNIvM_zg"
   },
   "outputs": [],
   "source": [
    "# your code here\n",
    "# ♡ (´｡• ω •｡`)\n",
    "\n",
    "df_test = df[(df.date >= '2018-12-01') & (df.date <= '2018-12-31')]\n",
    "df_val = df[(df.date >= '2018-10-01') & (df.date <= '2018-11-31')]\n",
    "df_train = df[(df.date >= '2018-03-15') & (df.date < '2018-10-01')]"
   ]
  },
  {
   "cell_type": "markdown",
   "metadata": {
    "id": "AlG-87v8M_zh"
   },
   "source": [
    "Сформируем отложенную выборку (пересечение ВКонтакте и РИА)."
   ]
  },
  {
   "cell_type": "code",
   "execution_count": null,
   "metadata": {
    "colab": {
     "base_uri": "https://localhost:8080/",
     "height": 206
    },
    "execution": {
     "iopub.execute_input": "2024-12-11T16:37:44.337551Z",
     "iopub.status.busy": "2024-12-11T16:37:44.336593Z",
     "iopub.status.idle": "2024-12-11T16:37:44.406404Z",
     "shell.execute_reply": "2024-12-11T16:37:44.405285Z",
     "shell.execute_reply.started": "2024-12-11T16:37:44.337494Z"
    },
    "id": "KmBZjIx4M_zh",
    "outputId": "d8910007-7f90-45bd-ee07-7d05c97f0a0d"
   },
   "outputs": [
    {
     "data": {
      "text/html": [
       "<div>\n",
       "<style scoped>\n",
       "    .dataframe tbody tr th:only-of-type {\n",
       "        vertical-align: middle;\n",
       "    }\n",
       "\n",
       "    .dataframe tbody tr th {\n",
       "        vertical-align: top;\n",
       "    }\n",
       "\n",
       "    .dataframe thead th {\n",
       "        text-align: right;\n",
       "    }\n",
       "</style>\n",
       "<table border=\"1\" class=\"dataframe\">\n",
       "  <thead>\n",
       "    <tr style=\"text-align: right;\">\n",
       "      <th></th>\n",
       "      <th>href</th>\n",
       "      <th>title_clean</th>\n",
       "      <th>target_tags</th>\n",
       "    </tr>\n",
       "  </thead>\n",
       "  <tbody>\n",
       "    <tr>\n",
       "      <th>0</th>\n",
       "      <td>/20181231/1548960744.html</td>\n",
       "      <td>митрополит рязанский раскритиковал иронию судьбы</td>\n",
       "      <td>[638]</td>\n",
       "    </tr>\n",
       "    <tr>\n",
       "      <th>1</th>\n",
       "      <td>/20181231/1548958617.html</td>\n",
       "      <td>на украине позавидовали стене на границе с крымом</td>\n",
       "      <td>[938, 1349]</td>\n",
       "    </tr>\n",
       "    <tr>\n",
       "      <th>2</th>\n",
       "      <td>/20181231/1548957394.html</td>\n",
       "      <td>в госдуме предложили отказаться от газа в жилы...</td>\n",
       "      <td>[1403, 1403, 725, 1176, 1515]</td>\n",
       "    </tr>\n",
       "    <tr>\n",
       "      <th>3</th>\n",
       "      <td>/20181231/1548954909.html</td>\n",
       "      <td>названы лучшие средства от похмелья</td>\n",
       "      <td>[638]</td>\n",
       "    </tr>\n",
       "    <tr>\n",
       "      <th>4</th>\n",
       "      <td>/20181231/1548957120.html</td>\n",
       "      <td>новогоднее поздравление порошенко разозлило по...</td>\n",
       "      <td>[938, 1349]</td>\n",
       "    </tr>\n",
       "  </tbody>\n",
       "</table>\n",
       "</div>"
      ],
      "text/plain": [
       "                        href  \\\n",
       "0  /20181231/1548960744.html   \n",
       "1  /20181231/1548958617.html   \n",
       "2  /20181231/1548957394.html   \n",
       "3  /20181231/1548954909.html   \n",
       "4  /20181231/1548957120.html   \n",
       "\n",
       "                                         title_clean  \\\n",
       "0   митрополит рязанский раскритиковал иронию судьбы   \n",
       "1  на украине позавидовали стене на границе с крымом   \n",
       "2  в госдуме предложили отказаться от газа в жилы...   \n",
       "3                названы лучшие средства от похмелья   \n",
       "4  новогоднее поздравление порошенко разозлило по...   \n",
       "\n",
       "                     target_tags  \n",
       "0                          [638]  \n",
       "1                    [938, 1349]  \n",
       "2  [1403, 1403, 725, 1176, 1515]  \n",
       "3                          [638]  \n",
       "4                    [938, 1349]  "
      ]
     },
     "execution_count": 27,
     "metadata": {},
     "output_type": "execute_result"
    }
   ],
   "source": [
    "df_oob = df_vk[df_vk.href.isin(test_hrefs)][['href', 'title_clean']]\n",
    "\n",
    "df_ria_oob = df_ria[df_ria.href.isin(test_hrefs)][['href', 'target_tags']]\n",
    "df_oob = df_oob.set_index('href').join(df_ria_oob.set_index('href')).reset_index()\n",
    "df_oob.head()"
   ]
  },
  {
   "cell_type": "markdown",
   "metadata": {
    "id": "laZ8tkFjM_zh"
   },
   "source": [
    "Напишем датасет для поставки данных в нейросеть.\n"
   ]
  },
  {
   "cell_type": "code",
   "execution_count": null,
   "metadata": {
    "execution": {
     "iopub.execute_input": "2024-12-11T16:37:47.276538Z",
     "iopub.status.busy": "2024-12-11T16:37:47.276210Z",
     "iopub.status.idle": "2024-12-11T16:37:47.286701Z",
     "shell.execute_reply": "2024-12-11T16:37:47.285744Z",
     "shell.execute_reply.started": "2024-12-11T16:37:47.276513Z"
    },
    "id": "0if_RkA_M_zh"
   },
   "outputs": [],
   "source": [
    "from torch.utils.data import Dataset\n",
    "from torch.utils.data import DataLoader\n",
    "\n",
    "class NewsDataset(Dataset):\n",
    "\n",
    "    def __init__(self, target, title, vocab, vocab_size, max_title_len, max_classes, snippet=None, max_snippet_len=None):\n",
    "\n",
    "       self.vocab = {word: idx  for word,idx in vocab.items() if idx < vocab_size}\n",
    "       self.max_classes = max_classes\n",
    "       self.y=self.target_ohe(target)\n",
    "       self.X_title = self.create_text(title, max_title_len)\n",
    "       self.X_snippet = self.create_text(snippet, max_snippet_len) if snippet is not None else None\n",
    "\n",
    "    def target_ohe(self, target):\n",
    "        y = torch.zeros((len(target), self.max_classes))\n",
    "        for i, t in enumerate(target):\n",
    "            y[[i]*len(t), t] = 1.0\n",
    "        return y\n",
    "\n",
    "    def create_text(self, texts, max_len):\n",
    "        result = [ ]\n",
    "\n",
    "        if texts is None:  # Если текстов нет, возвращаем пустой список\n",
    "            return None\n",
    "\n",
    "        for sent in texts:\n",
    "            # {#PAD: 0, #UNKN: 1}\n",
    "            sent_tokenize = [self.vocab.get(item, 1) for item in word_tokenize(sent)]\n",
    "\n",
    "            # приводим все тексты к max_len\n",
    "            if len(sent_tokenize) >= max_len:\n",
    "                sent_tokenize = sent_tokenize[:max_len]\n",
    "            else:\n",
    "                sent_tokenize += [0] * (max_len - len(sent_tokenize))\n",
    "            result.append(sent_tokenize)\n",
    "        return torch.tensor(result, dtype=torch.int)\n",
    "\n",
    "    def __len__(self):\n",
    "        return len(self.X_title)\n",
    "\n",
    "    def __getitem__(self, idx):\n",
    "        if self.X_snippet is not None:\n",
    "            return (self.X_title[idx, :], self.X_snippet[idx, :], self.y[idx])\n",
    "        else:\n",
    "            return (self.X_title[idx, :], self.y[idx])"
   ]
  },
  {
   "cell_type": "markdown",
   "metadata": {
    "id": "xQMfQ1ZkM_zh"
   },
   "source": [
    "__[0.5 балла] Задание 3:__ Сейчас датасет умеет работать только с полем `title_clean`. Давайте сделаем этот датасет более многофукнциональным и добавим в него возможность добавить в обработку данных сниппет.\n",
    "\n",
    "1. Внутри датасета `snippet` надо обработать точно также как и `title`.\n",
    "2. Если `snippet=None`, датасет должен вернуть два объекта: `X_title, y`. В обратном случае датасет должен вернуть три объекта.\n",
    "\n",
    "**Важно:** Весь код ниже работает сейчас без сниппета. Он не должен развалиться от того, что сниппет в нём нигде не указан."
   ]
  },
  {
   "cell_type": "code",
   "execution_count": null,
   "metadata": {
    "id": "1ekPnlTlM_zh"
   },
   "outputs": [],
   "source": [
    "### ╰( ͡° ͜ʖ ͡° )つ▬▬ι═══════  bzzzzzzzzzz\n",
    "# will the code be with you\n",
    "\n",
    "# Внесите в код датасета выше свои правки"
   ]
  },
  {
   "cell_type": "markdown",
   "metadata": {
    "id": "1v_Rgi_DM_zh"
   },
   "source": [
    "Объявим датасеты, оставим в словаре 30 000 самых частотных слов. Будем смотреть на титулы максимальной длины 20."
   ]
  },
  {
   "cell_type": "code",
   "execution_count": null,
   "metadata": {
    "execution": {
     "iopub.execute_input": "2024-12-11T16:37:55.887848Z",
     "iopub.status.busy": "2024-12-11T16:37:55.887121Z",
     "iopub.status.idle": "2024-12-11T16:38:26.079159Z",
     "shell.execute_reply": "2024-12-11T16:38:26.078259Z",
     "shell.execute_reply.started": "2024-12-11T16:37:55.887797Z"
    },
    "id": "2zjgEiWWM_zh"
   },
   "outputs": [],
   "source": [
    "CLASSES_NUM = len(idx2tag)\n",
    "VOCAB_SIZE = 10000\n",
    "MAX_TITLE_LEN = 20\n",
    "\n",
    "# словарь создаем по всей выборке\n",
    "vocabulary = create_vocab(' '.join(df_ria.title_clean.values))\n",
    "\n",
    "# объявляем датасеты\n",
    "train_dataset = NewsDataset(df_train.target_tags.values, df_train.title_clean.values, vocabulary, VOCAB_SIZE, MAX_TITLE_LEN, CLASSES_NUM )\n",
    "val_dataset = NewsDataset(df_val.target_tags.values, df_val.title_clean.values, vocabulary, VOCAB_SIZE, MAX_TITLE_LEN, CLASSES_NUM )\n",
    "test_dataset = NewsDataset(df_test.target_tags.values, df_test.title_clean.values, vocabulary, VOCAB_SIZE, MAX_TITLE_LEN, CLASSES_NUM )"
   ]
  },
  {
   "cell_type": "code",
   "execution_count": null,
   "metadata": {
    "execution": {
     "iopub.execute_input": "2024-12-11T16:38:36.065172Z",
     "iopub.status.busy": "2024-12-11T16:38:36.064536Z",
     "iopub.status.idle": "2024-12-11T16:38:36.071105Z",
     "shell.execute_reply": "2024-12-11T16:38:36.070245Z",
     "shell.execute_reply.started": "2024-12-11T16:38:36.065137Z"
    },
    "id": "kNdo56v0M_zh"
   },
   "outputs": [],
   "source": [
    "train_dataloader = DataLoader(train_dataset, shuffle=True, batch_size=64, num_workers=4)\n",
    "val_dataloader = DataLoader(val_dataset, shuffle=False, batch_size=4096, num_workers=4)"
   ]
  },
  {
   "cell_type": "markdown",
   "metadata": {
    "id": "WvQXMtISM_zh"
   },
   "source": [
    "## 1.4 Архитектуры\n",
    "\n",
    "Соберём базовую архитектуру для обучения."
   ]
  },
  {
   "cell_type": "code",
   "execution_count": null,
   "metadata": {
    "colab": {
     "base_uri": "https://localhost:8080/"
    },
    "execution": {
     "iopub.execute_input": "2024-12-11T16:38:38.750408Z",
     "iopub.status.busy": "2024-12-11T16:38:38.749640Z",
     "iopub.status.idle": "2024-12-11T16:38:57.432370Z",
     "shell.execute_reply": "2024-12-11T16:38:57.431438Z",
     "shell.execute_reply.started": "2024-12-11T16:38:38.750374Z"
    },
    "id": "R-6zJ4fhWFu2",
    "outputId": "3c459ca8-b334-4054-dfba-d31d71674f3e"
   },
   "outputs": [
    {
     "name": "stdout",
     "output_type": "stream",
     "text": [
      "Requirement already satisfied: pytorch_lightning in /opt/conda/lib/python3.10/site-packages (2.4.0)\n",
      "Requirement already satisfied: torch>=2.1.0 in /opt/conda/lib/python3.10/site-packages (from pytorch_lightning) (2.4.0)\n",
      "Requirement already satisfied: tqdm>=4.57.0 in /opt/conda/lib/python3.10/site-packages (from pytorch_lightning) (4.66.4)\n",
      "Requirement already satisfied: PyYAML>=5.4 in /opt/conda/lib/python3.10/site-packages (from pytorch_lightning) (6.0.2)\n",
      "Requirement already satisfied: fsspec>=2022.5.0 in /opt/conda/lib/python3.10/site-packages (from fsspec[http]>=2022.5.0->pytorch_lightning) (2024.6.0)\n",
      "Requirement already satisfied: torchmetrics>=0.7.0 in /opt/conda/lib/python3.10/site-packages (from pytorch_lightning) (1.6.0)\n",
      "Requirement already satisfied: packaging>=20.0 in /opt/conda/lib/python3.10/site-packages (from pytorch_lightning) (21.3)\n",
      "Requirement already satisfied: typing-extensions>=4.4.0 in /opt/conda/lib/python3.10/site-packages (from pytorch_lightning) (4.12.2)\n",
      "Requirement already satisfied: lightning-utilities>=0.10.0 in /opt/conda/lib/python3.10/site-packages (from pytorch_lightning) (0.11.9)\n",
      "Requirement already satisfied: aiohttp!=4.0.0a0,!=4.0.0a1 in /opt/conda/lib/python3.10/site-packages (from fsspec[http]>=2022.5.0->pytorch_lightning) (3.9.5)\n",
      "Requirement already satisfied: setuptools in /opt/conda/lib/python3.10/site-packages (from lightning-utilities>=0.10.0->pytorch_lightning) (70.0.0)\n",
      "Requirement already satisfied: pyparsing!=3.0.5,>=2.0.2 in /opt/conda/lib/python3.10/site-packages (from packaging>=20.0->pytorch_lightning) (3.1.2)\n",
      "Requirement already satisfied: filelock in /opt/conda/lib/python3.10/site-packages (from torch>=2.1.0->pytorch_lightning) (3.15.1)\n",
      "Requirement already satisfied: sympy in /opt/conda/lib/python3.10/site-packages (from torch>=2.1.0->pytorch_lightning) (1.13.3)\n",
      "Requirement already satisfied: networkx in /opt/conda/lib/python3.10/site-packages (from torch>=2.1.0->pytorch_lightning) (3.3)\n",
      "Requirement already satisfied: jinja2 in /opt/conda/lib/python3.10/site-packages (from torch>=2.1.0->pytorch_lightning) (3.1.4)\n",
      "Requirement already satisfied: numpy>1.20.0 in /opt/conda/lib/python3.10/site-packages (from torchmetrics>=0.7.0->pytorch_lightning) (1.26.4)\n",
      "Requirement already satisfied: aiosignal>=1.1.2 in /opt/conda/lib/python3.10/site-packages (from aiohttp!=4.0.0a0,!=4.0.0a1->fsspec[http]>=2022.5.0->pytorch_lightning) (1.3.1)\n",
      "Requirement already satisfied: attrs>=17.3.0 in /opt/conda/lib/python3.10/site-packages (from aiohttp!=4.0.0a0,!=4.0.0a1->fsspec[http]>=2022.5.0->pytorch_lightning) (23.2.0)\n",
      "Requirement already satisfied: frozenlist>=1.1.1 in /opt/conda/lib/python3.10/site-packages (from aiohttp!=4.0.0a0,!=4.0.0a1->fsspec[http]>=2022.5.0->pytorch_lightning) (1.4.1)\n",
      "Requirement already satisfied: multidict<7.0,>=4.5 in /opt/conda/lib/python3.10/site-packages (from aiohttp!=4.0.0a0,!=4.0.0a1->fsspec[http]>=2022.5.0->pytorch_lightning) (6.0.5)\n",
      "Requirement already satisfied: yarl<2.0,>=1.0 in /opt/conda/lib/python3.10/site-packages (from aiohttp!=4.0.0a0,!=4.0.0a1->fsspec[http]>=2022.5.0->pytorch_lightning) (1.9.4)\n",
      "Requirement already satisfied: async-timeout<5.0,>=4.0 in /opt/conda/lib/python3.10/site-packages (from aiohttp!=4.0.0a0,!=4.0.0a1->fsspec[http]>=2022.5.0->pytorch_lightning) (4.0.3)\n",
      "Requirement already satisfied: MarkupSafe>=2.0 in /opt/conda/lib/python3.10/site-packages (from jinja2->torch>=2.1.0->pytorch_lightning) (2.1.5)\n",
      "Requirement already satisfied: mpmath<1.4,>=1.1.0 in /opt/conda/lib/python3.10/site-packages (from sympy->torch>=2.1.0->pytorch_lightning) (1.3.0)\n",
      "Requirement already satisfied: idna>=2.0 in /opt/conda/lib/python3.10/site-packages (from yarl<2.0,>=1.0->aiohttp!=4.0.0a0,!=4.0.0a1->fsspec[http]>=2022.5.0->pytorch_lightning) (3.7)\n",
      "Requirement already satisfied: wandb in /opt/conda/lib/python3.10/site-packages (0.18.7)\n",
      "Requirement already satisfied: click!=8.0.0,>=7.1 in /opt/conda/lib/python3.10/site-packages (from wandb) (8.1.7)\n",
      "Requirement already satisfied: docker-pycreds>=0.4.0 in /opt/conda/lib/python3.10/site-packages (from wandb) (0.4.0)\n",
      "Requirement already satisfied: gitpython!=3.1.29,>=1.0.0 in /opt/conda/lib/python3.10/site-packages (from wandb) (3.1.43)\n",
      "Requirement already satisfied: platformdirs in /opt/conda/lib/python3.10/site-packages (from wandb) (3.11.0)\n",
      "Requirement already satisfied: protobuf!=4.21.0,!=5.28.0,<6,>=3.19.0 in /opt/conda/lib/python3.10/site-packages (from wandb) (3.20.3)\n",
      "Requirement already satisfied: psutil>=5.0.0 in /opt/conda/lib/python3.10/site-packages (from wandb) (5.9.3)\n",
      "Requirement already satisfied: pyyaml in /opt/conda/lib/python3.10/site-packages (from wandb) (6.0.2)\n",
      "Requirement already satisfied: requests<3,>=2.0.0 in /opt/conda/lib/python3.10/site-packages (from wandb) (2.32.3)\n",
      "Requirement already satisfied: sentry-sdk>=2.0.0 in /opt/conda/lib/python3.10/site-packages (from wandb) (2.19.0)\n",
      "Requirement already satisfied: setproctitle in /opt/conda/lib/python3.10/site-packages (from wandb) (1.3.4)\n",
      "Requirement already satisfied: setuptools in /opt/conda/lib/python3.10/site-packages (from wandb) (70.0.0)\n",
      "Requirement already satisfied: typing-extensions<5,>=4.4 in /opt/conda/lib/python3.10/site-packages (from wandb) (4.12.2)\n",
      "Requirement already satisfied: six>=1.4.0 in /opt/conda/lib/python3.10/site-packages (from docker-pycreds>=0.4.0->wandb) (1.16.0)\n",
      "Requirement already satisfied: gitdb<5,>=4.0.1 in /opt/conda/lib/python3.10/site-packages (from gitpython!=3.1.29,>=1.0.0->wandb) (4.0.11)\n",
      "Requirement already satisfied: charset-normalizer<4,>=2 in /opt/conda/lib/python3.10/site-packages (from requests<3,>=2.0.0->wandb) (3.3.2)\n",
      "Requirement already satisfied: idna<4,>=2.5 in /opt/conda/lib/python3.10/site-packages (from requests<3,>=2.0.0->wandb) (3.7)\n",
      "Requirement already satisfied: urllib3<3,>=1.21.1 in /opt/conda/lib/python3.10/site-packages (from requests<3,>=2.0.0->wandb) (1.26.18)\n",
      "Requirement already satisfied: certifi>=2017.4.17 in /opt/conda/lib/python3.10/site-packages (from requests<3,>=2.0.0->wandb) (2024.6.2)\n",
      "Requirement already satisfied: smmap<6,>=3.0.1 in /opt/conda/lib/python3.10/site-packages (from gitdb<5,>=4.0.1->gitpython!=3.1.29,>=1.0.0->wandb) (5.0.1)\n"
     ]
    }
   ],
   "source": [
    "!pip3 install pytorch_lightning\n",
    "!pip install wandb"
   ]
  },
  {
   "cell_type": "code",
   "execution_count": null,
   "metadata": {
    "colab": {
     "base_uri": "https://localhost:8080/"
    },
    "execution": {
     "iopub.execute_input": "2024-12-11T16:39:00.165841Z",
     "iopub.status.busy": "2024-12-11T16:39:00.164998Z",
     "iopub.status.idle": "2024-12-11T16:39:10.938663Z",
     "shell.execute_reply": "2024-12-11T16:39:10.937885Z",
     "shell.execute_reply.started": "2024-12-11T16:39:00.165802Z"
    },
    "id": "L_5oUBZhWE-I",
    "outputId": "d231a490-e5e9-4a2e-cbed-fccce6e1217a"
   },
   "outputs": [
    {
     "name": "stderr",
     "output_type": "stream",
     "text": [
      "\u001b[34m\u001b[1mwandb\u001b[0m: Using wandb-core as the SDK backend.  Please refer to https://wandb.me/wandb-core for more information.\n",
      "\u001b[34m\u001b[1mwandb\u001b[0m: Logging into wandb.ai. (Learn how to deploy a W&B server locally: https://wandb.me/wandb-server)\n",
      "\u001b[34m\u001b[1mwandb\u001b[0m: You can find your API key in your browser here: https://wandb.ai/authorize\n",
      "\u001b[34m\u001b[1mwandb\u001b[0m: Paste an API key from your profile and hit enter, or press ctrl+c to quit:"
     ]
    },
    {
     "name": "stdin",
     "output_type": "stream",
     "text": [
      "  ········\n"
     ]
    },
    {
     "name": "stderr",
     "output_type": "stream",
     "text": [
      "\u001b[34m\u001b[1mwandb\u001b[0m: Appending key for api.wandb.ai to your netrc file: /root/.netrc\n"
     ]
    }
   ],
   "source": [
    "import wandb\n",
    "from pytorch_lightning.loggers import WandbLogger\n",
    "\n",
    "wandb.login()\n",
    "wandb_logger = WandbLogger(log_model='all', project=\"title_snippet_classifier\")"
   ]
  },
  {
   "cell_type": "code",
   "execution_count": null,
   "metadata": {
    "execution": {
     "iopub.execute_input": "2024-12-11T16:39:19.620193Z",
     "iopub.status.busy": "2024-12-11T16:39:19.619622Z",
     "iopub.status.idle": "2024-12-11T16:39:19.626198Z",
     "shell.execute_reply": "2024-12-11T16:39:19.625223Z",
     "shell.execute_reply.started": "2024-12-11T16:39:19.620159Z"
    },
    "id": "dN8DAIIkM_zh"
   },
   "outputs": [],
   "source": [
    "from torch import nn\n",
    "import torch.nn.functional as F\n",
    "\n",
    "class SimpleClassifier(nn.Module):\n",
    "\n",
    "    def __init__(self, vocab_size, embedding_dim, output_dim):\n",
    "        super().__init__()\n",
    "        self.embedding = nn.Embedding(vocab_size, embedding_dim)\n",
    "        self.fc = nn.Linear(embedding_dim, output_dim)\n",
    "\n",
    "    def forward(self, title):\n",
    "        embedded = self.embedding(title)\n",
    "        embedded = embedded.mean(dim=1)\n",
    "        return self.fc(embedded)"
   ]
  },
  {
   "cell_type": "markdown",
   "metadata": {
    "id": "slQEltBQM_zh"
   },
   "source": [
    "Соберём в `pytorch_lightning` модуль для обучения нейронки."
   ]
  },
  {
   "cell_type": "code",
   "execution_count": null,
   "metadata": {
    "execution": {
     "iopub.execute_input": "2024-12-11T16:39:24.123097Z",
     "iopub.status.busy": "2024-12-11T16:39:24.122484Z",
     "iopub.status.idle": "2024-12-11T16:39:24.129888Z",
     "shell.execute_reply": "2024-12-11T16:39:24.128803Z",
     "shell.execute_reply.started": "2024-12-11T16:39:24.123061Z"
    },
    "id": "5E6J3of9M_zi"
   },
   "outputs": [],
   "source": [
    "import pytorch_lightning as pl\n",
    "\n",
    "class TrainLightningModule(pl.LightningModule):\n",
    "    def __init__(self, model, learning_rate, criterion):\n",
    "        super().__init__()\n",
    "        self.model = model\n",
    "        self.criterion = criterion\n",
    "        self.learning_rate = learning_rate\n",
    "\n",
    "    def forward(self, title):\n",
    "        result = self.model(title)\n",
    "        return result\n",
    "\n",
    "    def configure_optimizers(self):\n",
    "        optimizer = torch.optim.Adam(self.parameters(), lr=self.learning_rate)\n",
    "        return optimizer\n",
    "\n",
    "    def training_step(self, train_batch, batch_idx):\n",
    "        title, target = train_batch\n",
    "        logits = self.model(title)\n",
    "        loss = self.criterion(logits, target)\n",
    "        self.log(\n",
    "            \"train_loss\", loss, prog_bar=True\n",
    "        )\n",
    "        return loss\n",
    "\n",
    "    def validation_step(self, val_batch, batch_idx):\n",
    "        title, target = val_batch\n",
    "        logits = self.model(title)\n",
    "        loss = self.criterion(logits, target)\n",
    "        self.log(\n",
    "            \"val_loss\", loss, prog_bar=True\n",
    "        )\n",
    "        return loss"
   ]
  },
  {
   "cell_type": "markdown",
   "metadata": {
    "id": "6BirneLfM_zi"
   },
   "source": [
    "Обучим модель."
   ]
  },
  {
   "cell_type": "code",
   "execution_count": null,
   "metadata": {
    "execution": {
     "iopub.execute_input": "2024-12-11T16:39:27.337267Z",
     "iopub.status.busy": "2024-12-11T16:39:27.336918Z",
     "iopub.status.idle": "2024-12-11T16:39:27.387295Z",
     "shell.execute_reply": "2024-12-11T16:39:27.386534Z",
     "shell.execute_reply.started": "2024-12-11T16:39:27.337240Z"
    },
    "id": "Sb1S-1HokXFX"
   },
   "outputs": [],
   "source": [
    "EMBEDDING_DIM = 300\n",
    "EPOCHS = 5\n",
    "LR = 1e-3\n",
    "\n",
    "model_baseline = SimpleClassifier(VOCAB_SIZE, EMBEDDING_DIM, CLASSES_NUM)\n",
    "criterion = torch.nn.CrossEntropyLoss()\n",
    "\n",
    "train_module =TrainLightningModule(model_baseline, LR, criterion)"
   ]
  },
  {
   "cell_type": "code",
   "execution_count": null,
   "metadata": {
    "colab": {
     "base_uri": "https://localhost:8080/",
     "height": 344,
     "referenced_widgets": [
      "7b3149151f6b47a286c8b46b8dbe7603",
      "b8b79615bad044e08fb54ea18a6a5136",
      "715b020be0f74795b2d5702618c09a2f",
      "29b019b1d2164196a92741b10dfcf296",
      "ddf82cb4fa0843f68821c3baf25b6ba7",
      "b9141c51d2d74ce489fbe4b8c7edcc47",
      "7779f6a7e17b49c68851b826b2bb8dec",
      "d03e291c44d64ef292f88380878e4d39",
      "ca8e51f8cf0a4859a4836f84f4a497e6",
      "c29ab0d46b5c44ab94d985a2627ac409",
      "4a45e464961041659cf02e8361d72bab",
      "",
      "6659a390e6ff42ab89ce2b2a4d0d82fe"
     ]
    },
    "execution": {
     "iopub.execute_input": "2024-12-11T16:39:29.624341Z",
     "iopub.status.busy": "2024-12-11T16:39:29.623447Z",
     "iopub.status.idle": "2024-12-11T16:41:06.801588Z",
     "shell.execute_reply": "2024-12-11T16:41:06.800663Z",
     "shell.execute_reply.started": "2024-12-11T16:39:29.624306Z"
    },
    "id": "5ShTLAStM_zi",
    "outputId": "1d711388-528d-410f-8bd2-31fb28258338"
   },
   "outputs": [
    {
     "name": "stderr",
     "output_type": "stream",
     "text": [
      "\u001b[34m\u001b[1mwandb\u001b[0m: Currently logged in as: \u001b[33mpriborakirill276\u001b[0m (\u001b[33mpriborakirill276-hse-university\u001b[0m). Use \u001b[1m`wandb login --relogin`\u001b[0m to force relogin\n"
     ]
    },
    {
     "data": {
      "text/html": [
       "Tracking run with wandb version 0.18.7"
      ],
      "text/plain": [
       "<IPython.core.display.HTML object>"
      ]
     },
     "metadata": {},
     "output_type": "display_data"
    },
    {
     "data": {
      "text/html": [
       "Run data is saved locally in <code>./wandb/run-20241211_163929-4eqozkew</code>"
      ],
      "text/plain": [
       "<IPython.core.display.HTML object>"
      ]
     },
     "metadata": {},
     "output_type": "display_data"
    },
    {
     "data": {
      "text/html": [
       "Syncing run <strong><a href='https://wandb.ai/priborakirill276-hse-university/title_snippet_classifier/runs/4eqozkew' target=\"_blank\">rosy-lion-22</a></strong> to <a href='https://wandb.ai/priborakirill276-hse-university/title_snippet_classifier' target=\"_blank\">Weights & Biases</a> (<a href='https://wandb.me/developer-guide' target=\"_blank\">docs</a>)<br/>"
      ],
      "text/plain": [
       "<IPython.core.display.HTML object>"
      ]
     },
     "metadata": {},
     "output_type": "display_data"
    },
    {
     "data": {
      "text/html": [
       " View project at <a href='https://wandb.ai/priborakirill276-hse-university/title_snippet_classifier' target=\"_blank\">https://wandb.ai/priborakirill276-hse-university/title_snippet_classifier</a>"
      ],
      "text/plain": [
       "<IPython.core.display.HTML object>"
      ]
     },
     "metadata": {},
     "output_type": "display_data"
    },
    {
     "data": {
      "text/html": [
       " View run at <a href='https://wandb.ai/priborakirill276-hse-university/title_snippet_classifier/runs/4eqozkew' target=\"_blank\">https://wandb.ai/priborakirill276-hse-university/title_snippet_classifier/runs/4eqozkew</a>"
      ],
      "text/plain": [
       "<IPython.core.display.HTML object>"
      ]
     },
     "metadata": {},
     "output_type": "display_data"
    },
    {
     "data": {
      "application/vnd.jupyter.widget-view+json": {
       "model_id": "",
       "version_major": 2,
       "version_minor": 0
      },
      "text/plain": [
       "Sanity Checking: |          | 0/? [00:00<?, ?it/s]"
      ]
     },
     "metadata": {},
     "output_type": "display_data"
    },
    {
     "data": {
      "application/vnd.jupyter.widget-view+json": {
       "model_id": "6659a390e6ff42ab89ce2b2a4d0d82fe",
       "version_major": 2,
       "version_minor": 0
      },
      "text/plain": [
       "Training: |          | 0/? [00:00<?, ?it/s]"
      ]
     },
     "metadata": {},
     "output_type": "display_data"
    },
    {
     "data": {
      "application/vnd.jupyter.widget-view+json": {
       "model_id": "",
       "version_major": 2,
       "version_minor": 0
      },
      "text/plain": [
       "Validation: |          | 0/? [00:00<?, ?it/s]"
      ]
     },
     "metadata": {},
     "output_type": "display_data"
    },
    {
     "data": {
      "application/vnd.jupyter.widget-view+json": {
       "model_id": "",
       "version_major": 2,
       "version_minor": 0
      },
      "text/plain": [
       "Validation: |          | 0/? [00:00<?, ?it/s]"
      ]
     },
     "metadata": {},
     "output_type": "display_data"
    },
    {
     "data": {
      "application/vnd.jupyter.widget-view+json": {
       "model_id": "",
       "version_major": 2,
       "version_minor": 0
      },
      "text/plain": [
       "Validation: |          | 0/? [00:00<?, ?it/s]"
      ]
     },
     "metadata": {},
     "output_type": "display_data"
    },
    {
     "data": {
      "application/vnd.jupyter.widget-view+json": {
       "model_id": "",
       "version_major": 2,
       "version_minor": 0
      },
      "text/plain": [
       "Validation: |          | 0/? [00:00<?, ?it/s]"
      ]
     },
     "metadata": {},
     "output_type": "display_data"
    },
    {
     "data": {
      "application/vnd.jupyter.widget-view+json": {
       "model_id": "",
       "version_major": 2,
       "version_minor": 0
      },
      "text/plain": [
       "Validation: |          | 0/? [00:00<?, ?it/s]"
      ]
     },
     "metadata": {},
     "output_type": "display_data"
    }
   ],
   "source": [
    "trainer = pl.Trainer(accelerator=\"gpu\", max_epochs=EPOCHS, logger=wandb_logger)\n",
    "trainer.fit(train_module, train_dataloader, val_dataloader)"
   ]
  },
  {
   "cell_type": "markdown",
   "metadata": {
    "id": "Qj9QJ-xEM_zi"
   },
   "source": [
    "__[1 балл] Задание 4:__  Модель выше работает только с титулом.\n",
    "\n",
    "- Залоггируйте её обучение на [WandB](https://wandb.ai/).\n",
    "- Соберите архитектуру, которая будет принимать на вход не только титул, но ещё и сниппет. В этой архитектуре должно происходить следующее:\n",
    "\n",
    "1. Общий слой `nn.Embedding` применяется к сниппету и титулу параллельно.\n",
    "2. Происходит усреднее по текстам.\n",
    "3. Вектора конкатятся в один длины 600\n",
    "4. Линейный слой делает классификацию\n",
    "\n",
    "Обучите эту модель. Сравните траектории обучения на WandB. Прикрепите ссылку на дашборд либо скришот к тетрадке.\n",
    "\n",
    "Даталоадеры придётся объявить заново с учётом сниппетов. Правда ли, что она бьёт на валидационной выборке модель, обученную только на титулах статей?"
   ]
  },
  {
   "cell_type": "code",
   "execution_count": null,
   "metadata": {
    "execution": {
     "iopub.execute_input": "2024-12-11T16:41:26.018084Z",
     "iopub.status.busy": "2024-12-11T16:41:26.017163Z",
     "iopub.status.idle": "2024-12-11T16:41:26.029638Z",
     "shell.execute_reply": "2024-12-11T16:41:26.028743Z",
     "shell.execute_reply.started": "2024-12-11T16:41:26.018047Z"
    },
    "id": "pOJSMhYMM_zi"
   },
   "outputs": [],
   "source": [
    "class SimpleClassifier_Snippet(nn.Module):\n",
    "    def __init__(self, vocab_size, embedding_dim, output_dim):\n",
    "        super().__init__()\n",
    "        self.embedding = nn.Embedding(vocab_size, embedding_dim)\n",
    "        self.fc = nn.Linear(embedding_dim * 2, output_dim)  # Длина вектора после конкатенации\n",
    "\n",
    "    def forward(self, title, snippet):\n",
    "        # Общий слой эмбеддинга\n",
    "        embedded_title = self.embedding(title).mean(dim=1)  # Усреднение по длине текста\n",
    "        embedded_snippet = self.embedding(snippet).mean(dim=1)\n",
    "\n",
    "        # Конкатенация векторов\n",
    "        combined = torch.cat((embedded_title, embedded_snippet), dim=1)\n",
    "\n",
    "        # Классификация\n",
    "        return self.fc(combined)\n",
    "\n",
    "\n",
    "class TrainLightningModule_Snippet(pl.LightningModule):\n",
    "    def __init__(self, model, learning_rate, criterion):\n",
    "        super().__init__()\n",
    "        self.model = model\n",
    "        self.criterion = criterion\n",
    "        self.learning_rate = learning_rate\n",
    "\n",
    "    def forward(self, title, snippet):\n",
    "        return self.model(title, snippet)\n",
    "\n",
    "    def configure_optimizers(self):\n",
    "        optimizer = torch.optim.Adam(self.parameters(), lr=self.learning_rate)\n",
    "        return optimizer\n",
    "\n",
    "    def training_step(self, train_batch, batch_idx):\n",
    "        title, snippet, target = train_batch\n",
    "        logits = self.model(title, snippet)\n",
    "        loss = self.criterion(logits, target)\n",
    "        self.log(\"train_loss\", loss, prog_bar=True)\n",
    "        return loss\n",
    "\n",
    "    def validation_step(self, val_batch, batch_idx):\n",
    "        title, snippet, target = val_batch\n",
    "        logits = self.model(title, snippet)\n",
    "        loss = self.criterion(logits, target)\n",
    "        self.log(\"val_loss\", loss, prog_bar=True)\n",
    "        return loss"
   ]
  },
  {
   "cell_type": "code",
   "execution_count": null,
   "metadata": {
    "execution": {
     "iopub.execute_input": "2024-12-11T16:41:30.026728Z",
     "iopub.status.busy": "2024-12-11T16:41:30.026138Z",
     "iopub.status.idle": "2024-12-11T16:44:12.611611Z",
     "shell.execute_reply": "2024-12-11T16:44:12.610893Z",
     "shell.execute_reply.started": "2024-12-11T16:41:30.026691Z"
    },
    "id": "rlPXF43XWfJm"
   },
   "outputs": [],
   "source": [
    "CLASSES_NUM = len(idx2tag)\n",
    "VOCAB_SIZE = 10000\n",
    "MAX_TITLE_LEN = 20\n",
    "MAX_SNIPPNET_LEN = 30\n",
    "\n",
    "# словарь создаем по всей выборке\n",
    "vocabulary = create_vocab(' '.join(df_ria.title_clean.values))\n",
    "\n",
    "# объявляем датасеты\n",
    "train_dataset_s = NewsDataset(df_train.target_tags.values, df_train.title_clean.values, vocabulary, VOCAB_SIZE, MAX_TITLE_LEN, CLASSES_NUM, df_train.snippet_clean.values, MAX_SNIPPNET_LEN)\n",
    "val_dataset_s = NewsDataset(df_val.target_tags.values, df_val.title_clean.values, vocabulary, VOCAB_SIZE, MAX_TITLE_LEN, CLASSES_NUM, df_val.snippet_clean.values, MAX_SNIPPNET_LEN)\n",
    "test_dataset_s = NewsDataset(df_test.target_tags.values, df_test.title_clean.values, vocabulary, VOCAB_SIZE, MAX_TITLE_LEN, CLASSES_NUM, df_test.snippet_clean.values, MAX_SNIPPNET_LEN)"
   ]
  },
  {
   "cell_type": "code",
   "execution_count": null,
   "metadata": {
    "execution": {
     "iopub.execute_input": "2024-12-11T16:44:17.789573Z",
     "iopub.status.busy": "2024-12-11T16:44:17.789220Z",
     "iopub.status.idle": "2024-12-11T16:44:17.795968Z",
     "shell.execute_reply": "2024-12-11T16:44:17.794994Z",
     "shell.execute_reply.started": "2024-12-11T16:44:17.789545Z"
    },
    "id": "wv3xK47WSIRr"
   },
   "outputs": [],
   "source": [
    "train_dataloader_s = DataLoader(train_dataset_s, shuffle=True, batch_size=64, num_workers=4)\n",
    "val_dataloader_s = DataLoader(val_dataset_s, shuffle=False, batch_size=4096, num_workers=4)"
   ]
  },
  {
   "cell_type": "code",
   "execution_count": null,
   "metadata": {
    "execution": {
     "iopub.execute_input": "2024-12-11T16:44:19.501922Z",
     "iopub.status.busy": "2024-12-11T16:44:19.501497Z",
     "iopub.status.idle": "2024-12-11T16:44:22.211492Z",
     "shell.execute_reply": "2024-12-11T16:44:22.210672Z",
     "shell.execute_reply.started": "2024-12-11T16:44:19.501865Z"
    },
    "id": "hUns9Ca0a8Gm",
    "outputId": "b81ad1d7-160a-4ecb-f39b-c2b39f8dc64d"
   },
   "outputs": [
    {
     "data": {
      "text/html": [
       "\n",
       "    <style>\n",
       "        .wandb-row {\n",
       "            display: flex;\n",
       "            flex-direction: row;\n",
       "            flex-wrap: wrap;\n",
       "            justify-content: flex-start;\n",
       "            width: 100%;\n",
       "        }\n",
       "        .wandb-col {\n",
       "            display: flex;\n",
       "            flex-direction: column;\n",
       "            flex-basis: 100%;\n",
       "            flex: 1;\n",
       "            padding: 10px;\n",
       "        }\n",
       "    </style>\n",
       "<div class=\"wandb-row\"><div class=\"wandb-col\"><h3>Run history:</h3><br/><table class=\"wandb\"><tr><td>epoch</td><td>▁▁▁▁▁▁▁▃▃▃▃▃▃▃▅▅▅▅▅▅▅▅▅▆▆▆▆▆▆▆▆▆████████</td></tr><tr><td>train_loss</td><td>▇█▇▇▆▅▅▄▄▄▃▃▃▃▃▂▂▃▂▃▃▂▂▃▃▂▃▃▂▂▂▂▂▂▂▂▁▃▁▂</td></tr><tr><td>trainer/global_step</td><td>▁▁▁▁▁▂▂▂▂▃▃▃▄▄▄▄▄▄▄▄▅▅▅▅▅▆▆▆▆▆▇▇▇▇▇▇▇▇██</td></tr><tr><td>val_loss</td><td>█▄▂▁▁</td></tr></table><br/></div><div class=\"wandb-col\"><h3>Run summary:</h3><br/><table class=\"wandb\"><tr><td>epoch</td><td>4</td></tr><tr><td>train_loss</td><td>7.72138</td></tr><tr><td>trainer/global_step</td><td>10694</td></tr><tr><td>val_loss</td><td>10.72469</td></tr></table><br/></div></div>"
      ],
      "text/plain": [
       "<IPython.core.display.HTML object>"
      ]
     },
     "metadata": {},
     "output_type": "display_data"
    },
    {
     "data": {
      "text/html": [
       " View run <strong style=\"color:#cdcd00\">rosy-lion-22</strong> at: <a href='https://wandb.ai/priborakirill276-hse-university/title_snippet_classifier/runs/4eqozkew' target=\"_blank\">https://wandb.ai/priborakirill276-hse-university/title_snippet_classifier/runs/4eqozkew</a><br/> View project at: <a href='https://wandb.ai/priborakirill276-hse-university/title_snippet_classifier' target=\"_blank\">https://wandb.ai/priborakirill276-hse-university/title_snippet_classifier</a><br/>Synced 5 W&B file(s), 0 media file(s), 10 artifact file(s) and 0 other file(s)"
      ],
      "text/plain": [
       "<IPython.core.display.HTML object>"
      ]
     },
     "metadata": {},
     "output_type": "display_data"
    },
    {
     "data": {
      "text/html": [
       "Find logs at: <code>./wandb/run-20241211_163929-4eqozkew/logs</code>"
      ],
      "text/plain": [
       "<IPython.core.display.HTML object>"
      ]
     },
     "metadata": {},
     "output_type": "display_data"
    }
   ],
   "source": [
    "wandb.finish()"
   ]
  },
  {
   "cell_type": "code",
   "execution_count": null,
   "metadata": {
    "colab": {
     "referenced_widgets": [
      "",
      "f0b743553fd44e018bf27f75e96d1e51"
     ]
    },
    "execution": {
     "iopub.execute_input": "2024-12-11T16:44:25.640619Z",
     "iopub.status.busy": "2024-12-11T16:44:25.640272Z",
     "iopub.status.idle": "2024-12-11T16:46:16.132784Z",
     "shell.execute_reply": "2024-12-11T16:46:16.131996Z",
     "shell.execute_reply.started": "2024-12-11T16:44:25.640587Z"
    },
    "id": "ArW0sYYDSpjW",
    "outputId": "306edf20-d4a8-4019-ff98-2a2cb8103294"
   },
   "outputs": [
    {
     "data": {
      "text/html": [
       "Tracking run with wandb version 0.18.7"
      ],
      "text/plain": [
       "<IPython.core.display.HTML object>"
      ]
     },
     "metadata": {},
     "output_type": "display_data"
    },
    {
     "data": {
      "text/html": [
       "Run data is saved locally in <code>./wandb/run-20241211_164425-jf52o2ua</code>"
      ],
      "text/plain": [
       "<IPython.core.display.HTML object>"
      ]
     },
     "metadata": {},
     "output_type": "display_data"
    },
    {
     "data": {
      "text/html": [
       "Syncing run <strong><a href='https://wandb.ai/priborakirill276-hse-university/title_snippet_classifier/runs/jf52o2ua' target=\"_blank\">azure-wind-23</a></strong> to <a href='https://wandb.ai/priborakirill276-hse-university/title_snippet_classifier' target=\"_blank\">Weights & Biases</a> (<a href='https://wandb.me/developer-guide' target=\"_blank\">docs</a>)<br/>"
      ],
      "text/plain": [
       "<IPython.core.display.HTML object>"
      ]
     },
     "metadata": {},
     "output_type": "display_data"
    },
    {
     "data": {
      "text/html": [
       " View project at <a href='https://wandb.ai/priborakirill276-hse-university/title_snippet_classifier' target=\"_blank\">https://wandb.ai/priborakirill276-hse-university/title_snippet_classifier</a>"
      ],
      "text/plain": [
       "<IPython.core.display.HTML object>"
      ]
     },
     "metadata": {},
     "output_type": "display_data"
    },
    {
     "data": {
      "text/html": [
       " View run at <a href='https://wandb.ai/priborakirill276-hse-university/title_snippet_classifier/runs/jf52o2ua' target=\"_blank\">https://wandb.ai/priborakirill276-hse-university/title_snippet_classifier/runs/jf52o2ua</a>"
      ],
      "text/plain": [
       "<IPython.core.display.HTML object>"
      ]
     },
     "metadata": {},
     "output_type": "display_data"
    },
    {
     "data": {
      "application/vnd.jupyter.widget-view+json": {
       "model_id": "",
       "version_major": 2,
       "version_minor": 0
      },
      "text/plain": [
       "Sanity Checking: |          | 0/? [00:00<?, ?it/s]"
      ]
     },
     "metadata": {},
     "output_type": "display_data"
    },
    {
     "data": {
      "application/vnd.jupyter.widget-view+json": {
       "model_id": "f0b743553fd44e018bf27f75e96d1e51",
       "version_major": 2,
       "version_minor": 0
      },
      "text/plain": [
       "Training: |          | 0/? [00:00<?, ?it/s]"
      ]
     },
     "metadata": {},
     "output_type": "display_data"
    },
    {
     "data": {
      "application/vnd.jupyter.widget-view+json": {
       "model_id": "",
       "version_major": 2,
       "version_minor": 0
      },
      "text/plain": [
       "Validation: |          | 0/? [00:00<?, ?it/s]"
      ]
     },
     "metadata": {},
     "output_type": "display_data"
    },
    {
     "data": {
      "application/vnd.jupyter.widget-view+json": {
       "model_id": "",
       "version_major": 2,
       "version_minor": 0
      },
      "text/plain": [
       "Validation: |          | 0/? [00:00<?, ?it/s]"
      ]
     },
     "metadata": {},
     "output_type": "display_data"
    },
    {
     "data": {
      "application/vnd.jupyter.widget-view+json": {
       "model_id": "",
       "version_major": 2,
       "version_minor": 0
      },
      "text/plain": [
       "Validation: |          | 0/? [00:00<?, ?it/s]"
      ]
     },
     "metadata": {},
     "output_type": "display_data"
    },
    {
     "data": {
      "application/vnd.jupyter.widget-view+json": {
       "model_id": "",
       "version_major": 2,
       "version_minor": 0
      },
      "text/plain": [
       "Validation: |          | 0/? [00:00<?, ?it/s]"
      ]
     },
     "metadata": {},
     "output_type": "display_data"
    },
    {
     "data": {
      "application/vnd.jupyter.widget-view+json": {
       "model_id": "",
       "version_major": 2,
       "version_minor": 0
      },
      "text/plain": [
       "Validation: |          | 0/? [00:00<?, ?it/s]"
      ]
     },
     "metadata": {},
     "output_type": "display_data"
    }
   ],
   "source": [
    "wandb.login()\n",
    "wandb_logger = WandbLogger(log_model='all', project=\"title_snippet_classifier\")\n",
    "\n",
    "EMBEDDING_DIM = 300\n",
    "EPOCHS = 5\n",
    "LR = 1e-3\n",
    "\n",
    "model_baseline_s = SimpleClassifier_Snippet(VOCAB_SIZE, EMBEDDING_DIM, CLASSES_NUM)\n",
    "criterion = torch.nn.CrossEntropyLoss()\n",
    "\n",
    "train_module_s =TrainLightningModule_Snippet(model_baseline_s, LR, criterion)\n",
    "\n",
    "trainer = pl.Trainer(accelerator=\"gpu\", max_epochs=EPOCHS, logger=wandb_logger)\n",
    "trainer.fit(train_module_s, train_dataloader_s, val_dataloader_s)"
   ]
  },
  {
   "cell_type": "markdown",
   "metadata": {
    "id": "urD0dkd1jN-H"
   },
   "source": [
    "Модель со сниппетами лучше!!!"
   ]
  },
  {
   "cell_type": "code",
   "execution_count": null,
   "metadata": {
    "execution": {
     "iopub.execute_input": "2024-12-11T16:46:30.839981Z",
     "iopub.status.busy": "2024-12-11T16:46:30.839558Z",
     "iopub.status.idle": "2024-12-11T16:46:33.773983Z",
     "shell.execute_reply": "2024-12-11T16:46:33.772612Z",
     "shell.execute_reply.started": "2024-12-11T16:46:30.839931Z"
    },
    "id": "3S4NhZsDa8Gn",
    "outputId": "b8c49041-26cf-4292-ca82-88f16318dd90"
   },
   "outputs": [
    {
     "data": {
      "text/html": [
       "\n",
       "    <style>\n",
       "        .wandb-row {\n",
       "            display: flex;\n",
       "            flex-direction: row;\n",
       "            flex-wrap: wrap;\n",
       "            justify-content: flex-start;\n",
       "            width: 100%;\n",
       "        }\n",
       "        .wandb-col {\n",
       "            display: flex;\n",
       "            flex-direction: column;\n",
       "            flex-basis: 100%;\n",
       "            flex: 1;\n",
       "            padding: 10px;\n",
       "        }\n",
       "    </style>\n",
       "<div class=\"wandb-row\"><div class=\"wandb-col\"><h3>Run history:</h3><br/><table class=\"wandb\"><tr><td>epoch</td><td>▁▁▁▁▁▁▁▁▃▃▃▃▃▃▃▅▅▅▅▅▅▅▅▅▅▆▆▆▆▆▆█████████</td></tr><tr><td>train_loss</td><td>█▇██▆▅▅▅▄▄▅▅▄▅▃▄▃▄▄▃▂▃▂▂▂▂▂▂▂▃▂▂▂▃▃▂▁▂▂▂</td></tr><tr><td>trainer/global_step</td><td>▁▁▁▁▂▂▂▂▃▃▃▃▃▃▄▄▄▅▅▅▅▅▅▅▅▆▆▆▆▆▆▆▇▇▇▇▇███</td></tr><tr><td>val_loss</td><td>█▄▂▁▁</td></tr></table><br/></div><div class=\"wandb-col\"><h3>Run summary:</h3><br/><table class=\"wandb\"><tr><td>epoch</td><td>4</td></tr><tr><td>train_loss</td><td>6.72631</td></tr><tr><td>trainer/global_step</td><td>10694</td></tr><tr><td>val_loss</td><td>10.47862</td></tr></table><br/></div></div>"
      ],
      "text/plain": [
       "<IPython.core.display.HTML object>"
      ]
     },
     "metadata": {},
     "output_type": "display_data"
    },
    {
     "data": {
      "text/html": [
       " View run <strong style=\"color:#cdcd00\">azure-wind-23</strong> at: <a href='https://wandb.ai/priborakirill276-hse-university/title_snippet_classifier/runs/jf52o2ua' target=\"_blank\">https://wandb.ai/priborakirill276-hse-university/title_snippet_classifier/runs/jf52o2ua</a><br/> View project at: <a href='https://wandb.ai/priborakirill276-hse-university/title_snippet_classifier' target=\"_blank\">https://wandb.ai/priborakirill276-hse-university/title_snippet_classifier</a><br/>Synced 5 W&B file(s), 0 media file(s), 10 artifact file(s) and 0 other file(s)"
      ],
      "text/plain": [
       "<IPython.core.display.HTML object>"
      ]
     },
     "metadata": {},
     "output_type": "display_data"
    },
    {
     "data": {
      "text/html": [
       "Find logs at: <code>./wandb/run-20241211_164425-jf52o2ua/logs</code>"
      ],
      "text/plain": [
       "<IPython.core.display.HTML object>"
      ]
     },
     "metadata": {},
     "output_type": "display_data"
    }
   ],
   "source": [
    "wandb.finish()"
   ]
  },
  {
   "cell_type": "markdown",
   "metadata": {
    "id": "qKdBptFbM_zi"
   },
   "source": [
    "## 1.5 Инференс и оценка качества моделей\n",
    "\n",
    "Для каждой новости нам надо предсказывать несколько тэгов. То есть в нашем случае настоящее значение таргета это множество из тэгов $y_i = [tag1, tag2, tag3]$. Прогноз модели также множество из тэгов $\\hat y_i = [tag1, tag4]$.\n",
    "\n",
    "Будем считать метрики качества следующим образом (под $|A|$ имеется в виду мощность множества, то есть число элементов в нём):\n",
    "\n",
    "$$\n",
    "Precision = \\frac{1}{n} \\sum_{i = 1}^n \\frac{|y_i \\cap \\hat{y}_i|}{|\\hat{y}_i|}\n",
    "$$\n",
    "\n",
    "$$\n",
    "Recall = \\frac{1}{n} \\sum_{i = 1}^n \\frac{|y_i \\cap \\hat{y}_i|}{|y_i|}\n",
    "$$\n",
    "\n",
    "Также можно считать аналог Accuracy, но это не самая удачная идея, так как у нас в выборке огромное число нулей и эта метрика при любом разумном пороге для принятия решения будет очень высокой.\n",
    "\n",
    "$$\n",
    "Exact Match = \\frac{1}{n} \\cdot \\frac{1}{k} \\sum_{i = 1}^n \\sum_{k=1}^K [y_{ij} = \\hat{y}_{ij}]\n",
    "$$"
   ]
  },
  {
   "cell_type": "code",
   "execution_count": null,
   "metadata": {
    "execution": {
     "iopub.execute_input": "2024-12-11T16:46:37.375946Z",
     "iopub.status.busy": "2024-12-11T16:46:37.375581Z",
     "iopub.status.idle": "2024-12-11T16:46:37.382493Z",
     "shell.execute_reply": "2024-12-11T16:46:37.381298Z",
     "shell.execute_reply.started": "2024-12-11T16:46:37.375915Z"
    },
    "id": "tgBsB48FM_zi"
   },
   "outputs": [],
   "source": [
    "def precision(target, y_pred):\n",
    "    num = ((y_pred == 1) & (target == 1)).sum(dim=1)\n",
    "    denum = (y_pred == 1).sum(dim=1)\n",
    "    return (num/(denum + 1e-5)).mean().item()\n",
    "\n",
    "def recall(target, y_pred):\n",
    "    num = ((y_pred == 1) & (target == 1)).sum(dim=1)\n",
    "    denum = (target == 1).sum(dim=1)\n",
    "    return (num/(denum + 1e-5)).mean().item()\n",
    "\n",
    "def exact_match(target, y_pred):\n",
    "    return (1.*(y_pred == target)).mean().item()"
   ]
  },
  {
   "cell_type": "markdown",
   "metadata": {
    "id": "eD9UeFECM_zi"
   },
   "source": [
    "Построим прогноз на тестовой выборке."
   ]
  },
  {
   "cell_type": "code",
   "execution_count": null,
   "metadata": {
    "execution": {
     "iopub.execute_input": "2024-12-11T16:46:40.111332Z",
     "iopub.status.busy": "2024-12-11T16:46:40.110955Z",
     "iopub.status.idle": "2024-12-11T16:46:41.152237Z",
     "shell.execute_reply": "2024-12-11T16:46:41.151300Z",
     "shell.execute_reply.started": "2024-12-11T16:46:40.111301Z"
    },
    "id": "JHHDcGUDM_zi"
   },
   "outputs": [],
   "source": [
    "test_dataloader = DataLoader(test_dataset, shuffle=False, batch_size=test_dataset.__len__())\n",
    "\n",
    "for title, target in test_dataloader:\n",
    "    logit = model_baseline(title)\n",
    "    pred_prob = F.softmax(logit, dim=1)\n",
    "\n",
    "assert pred_prob.shape[0] == test_dataset.__len__()"
   ]
  },
  {
   "cell_type": "markdown",
   "metadata": {
    "id": "mzbiK9llM_zi"
   },
   "source": [
    "Теперь выбирая различное значение порога, мы можем получать разные предсказания. Если взять очень большое значение порога, то метрики сильно просядут, так как во многих документах никакого прогноза не будет построено вообще."
   ]
  },
  {
   "cell_type": "code",
   "execution_count": null,
   "metadata": {
    "execution": {
     "iopub.execute_input": "2024-12-11T16:46:44.555562Z",
     "iopub.status.busy": "2024-12-11T16:46:44.555171Z",
     "iopub.status.idle": "2024-12-11T16:46:45.887545Z",
     "shell.execute_reply": "2024-12-11T16:46:45.886578Z",
     "shell.execute_reply.started": "2024-12-11T16:46:44.555533Z"
    },
    "id": "v2UI7GKqM_zj",
    "outputId": "b3321c4a-8048-435a-8160-7ade0bc71d33"
   },
   "outputs": [
    {
     "name": "stdout",
     "output_type": "stream",
     "text": [
      "Exact Match: 0.9956044554710388\n",
      "Precision: 0.2919193208217621\n",
      "Recall: 0.7619668841362\n"
     ]
    }
   ],
   "source": [
    "TRESHOLD = 0.01\n",
    "y_pred = 1*(pred_prob > TRESHOLD)\n",
    "\n",
    "print('Exact Match:', exact_match(target, y_pred))\n",
    "print('Precision:', precision(target, y_pred))\n",
    "print('Recall:', recall(target, y_pred))"
   ]
  },
  {
   "cell_type": "code",
   "execution_count": null,
   "metadata": {
    "execution": {
     "iopub.execute_input": "2024-12-11T16:46:47.797656Z",
     "iopub.status.busy": "2024-12-11T16:46:47.797313Z",
     "iopub.status.idle": "2024-12-11T16:46:49.120593Z",
     "shell.execute_reply": "2024-12-11T16:46:49.119665Z",
     "shell.execute_reply.started": "2024-12-11T16:46:47.797626Z"
    },
    "id": "6v3CTYheM_zj",
    "outputId": "e33c1a61-c0c6-4af9-b405-4cd54d88e71a"
   },
   "outputs": [
    {
     "name": "stdout",
     "output_type": "stream",
     "text": [
      "Exact Match: 0.9983139038085938\n",
      "Precision: 0.5163130164146423\n",
      "Recall: 0.6182975769042969\n"
     ]
    }
   ],
   "source": [
    "TRESHOLD = 0.05\n",
    "y_pred = 1*(pred_prob > TRESHOLD)\n",
    "print('Exact Match:', exact_match(target, y_pred))\n",
    "print('Precision:', precision(target, y_pred))\n",
    "print('Recall:', recall(target, y_pred))"
   ]
  },
  {
   "cell_type": "code",
   "execution_count": null,
   "metadata": {
    "execution": {
     "iopub.execute_input": "2024-12-11T16:46:50.875207Z",
     "iopub.status.busy": "2024-12-11T16:46:50.874821Z",
     "iopub.status.idle": "2024-12-11T16:46:52.196694Z",
     "shell.execute_reply": "2024-12-11T16:46:52.195695Z",
     "shell.execute_reply.started": "2024-12-11T16:46:50.875177Z"
    },
    "id": "7mokX9IVM_zj",
    "outputId": "f13ab793-a0ce-4169-e7d0-9619ccf2ae95"
   },
   "outputs": [
    {
     "name": "stdout",
     "output_type": "stream",
     "text": [
      "Exact Match: 0.9983180165290833\n",
      "Precision: 0.005451967939734459\n",
      "Recall: 0.0048819915391504765\n"
     ]
    }
   ],
   "source": [
    "TRESHOLD = 0.9\n",
    "y_pred = 1*(pred_prob > TRESHOLD)\n",
    "\n",
    "print('Exact Match:', exact_match(target, y_pred))\n",
    "print('Precision:', precision(target, y_pred))\n",
    "print('Recall:', recall(target, y_pred))"
   ]
  },
  {
   "cell_type": "markdown",
   "metadata": {
    "id": "IUWFt7jjM_zj"
   },
   "source": [
    "Дальше мы будем строить довольно много прогнозов. Давайте напишем код для их строительства в виде функции. Обратите внимание, что на модели со снипетом она упадёт. Когда вы доберётесь до строительства прогнозов, функцию придётся немного модернизировать."
   ]
  },
  {
   "cell_type": "code",
   "execution_count": null,
   "metadata": {
    "execution": {
     "iopub.execute_input": "2024-12-11T16:46:54.416743Z",
     "iopub.status.busy": "2024-12-11T16:46:54.416414Z",
     "iopub.status.idle": "2024-12-11T16:46:54.421735Z",
     "shell.execute_reply": "2024-12-11T16:46:54.420613Z",
     "shell.execute_reply.started": "2024-12-11T16:46:54.416719Z"
    },
    "id": "B3YFX4d2M_zk"
   },
   "outputs": [],
   "source": [
    "def get_predict(model, dataset):\n",
    "    dataloader = DataLoader(dataset, shuffle=False, batch_size=dataset.__len__())\n",
    "\n",
    "    for title, target in dataloader:\n",
    "        logit = model(title)\n",
    "        pred_prob = F.softmax(logit, dim=1)\n",
    "\n",
    "    assert pred_prob.shape[0] == dataset.__len__()\n",
    "    return pred_prob, target"
   ]
  },
  {
   "cell_type": "markdown",
   "metadata": {
    "id": "g0n493n_M_zk"
   },
   "source": [
    "__[0.5 балла] Задание 5:__ Какая метрика для нас в этой задаче важнее? Точность или полнота? Почему?\n",
    "\n",
    "__ваш ответ:__Думаю, что recall для нас важнее, так как показывает долю объектов класса, которую смогла найти модель среди всех объектов этого класса. То есть пусть лучше модель определит какие-то неверные теги для для наших объектов, но при этом найдёт максимальное количество истинных тегов. Модель со сниппетами лучше."
   ]
  },
  {
   "cell_type": "markdown",
   "metadata": {
    "id": "6TFEvxI6M_zk"
   },
   "source": [
    "- Напишите функцию, которая будет подбирать оптимальное значение порога, оптимизирующее выбранную вами метрику.\n",
    "- Подберите значение порога на валидационной выборке.\n",
    "- Сравните модель со сниппетами и без сниппетов, используя выбранную вами метрику при оптимальном значении порога на тестовой выборке.\n",
    "- Какая из них оказалась лучше?"
   ]
  },
  {
   "cell_type": "code",
   "execution_count": null,
   "metadata": {
    "execution": {
     "iopub.execute_input": "2024-12-11T16:46:56.454237Z",
     "iopub.status.busy": "2024-12-11T16:46:56.453887Z",
     "iopub.status.idle": "2024-12-11T16:46:56.459502Z",
     "shell.execute_reply": "2024-12-11T16:46:56.458478Z",
     "shell.execute_reply.started": "2024-12-11T16:46:56.454208Z"
    },
    "id": "H6RZB8oeqbig"
   },
   "outputs": [],
   "source": [
    "def get_predict_snippet(model, dataset):\n",
    "    dataloader = DataLoader(dataset, shuffle=False, batch_size=dataset.__len__())\n",
    "\n",
    "    for title, snippet, target in dataloader:\n",
    "        logit = model(title, snippet)\n",
    "        pred_prob = F.softmax(logit, dim=1)\n",
    "\n",
    "    assert pred_prob.shape[0] == dataset.__len__()\n",
    "    return pred_prob, target"
   ]
  },
  {
   "cell_type": "code",
   "execution_count": null,
   "metadata": {
    "execution": {
     "iopub.execute_input": "2024-12-11T16:46:58.628554Z",
     "iopub.status.busy": "2024-12-11T16:46:58.628236Z",
     "iopub.status.idle": "2024-12-11T16:46:58.634135Z",
     "shell.execute_reply": "2024-12-11T16:46:58.632994Z",
     "shell.execute_reply.started": "2024-12-11T16:46:58.628529Z"
    },
    "id": "BCq67JmUM_zl"
   },
   "outputs": [],
   "source": [
    "def optim_threshold(pred_prob, target):\n",
    "    max_recall = 0\n",
    "    best_treshold = 0\n",
    "    for i in [0.01, 0.05, 0.1, 0.15, 0.2, 0.25, 0.3, 0.35, 0.4, 0.5]:\n",
    "        TRESHOLD = i\n",
    "        y_pred = 1*(pred_prob > TRESHOLD)\n",
    "        if recall(target, y_pred) > max_recall:\n",
    "            max_recall = recall(target, y_pred)\n",
    "            best_treshold = i\n",
    "    return best_treshold"
   ]
  },
  {
   "cell_type": "code",
   "execution_count": null,
   "metadata": {
    "execution": {
     "iopub.execute_input": "2024-12-11T16:47:02.065047Z",
     "iopub.status.busy": "2024-12-11T16:47:02.064371Z",
     "iopub.status.idle": "2024-12-11T16:47:30.106868Z",
     "shell.execute_reply": "2024-12-11T16:47:30.105820Z",
     "shell.execute_reply.started": "2024-12-11T16:47:02.065014Z"
    },
    "id": "Ss7zftzmrKLX",
    "outputId": "b8d379b5-a992-45a0-f3fb-286a757899ef"
   },
   "outputs": [
    {
     "name": "stdout",
     "output_type": "stream",
     "text": [
      "Exact Match: 0.9959132671356201\n",
      "Precision: 0.3621847629547119\n",
      "Recall: 0.7991592884063721\n",
      "Exact Match with snippet: 0.995674729347229\n",
      "Precision with snippet: 0.37247514724731445\n",
      "Recall with snippet: 0.813733696937561\n"
     ]
    }
   ],
   "source": [
    "a, b = get_predict(model_baseline, val_dataset)\n",
    "c, d = get_predict_snippet(model_baseline_s, val_dataset_s)\n",
    "threshold = optim_threshold(a, b)\n",
    "\n",
    "y_pred = 1*(a > threshold)\n",
    "y_pred_s = 1*(c > threshold)\n",
    "\n",
    "print('Exact Match:', exact_match(b, y_pred))\n",
    "print('Precision:', precision(b, y_pred))\n",
    "print('Recall:', recall(b, y_pred))\n",
    "\n",
    "print('Exact Match with snippet:', exact_match(d, y_pred_s))\n",
    "print('Precision with snippet:', precision(d, y_pred_s))\n",
    "print('Recall with snippet:', recall(d, y_pred_s))"
   ]
  },
  {
   "cell_type": "markdown",
   "metadata": {
    "id": "o-QRc-UXM_zl"
   },
   "source": [
    "__[0.5 балла] Задание 6:__  Постройте прогнозы для отложенной выборки, которая представляет из себя пересечение сайта РИА-новостей и ВКонтакте. Проседает ли на ней качество модели? Насколько сильно?"
   ]
  },
  {
   "cell_type": "code",
   "execution_count": null,
   "metadata": {
    "execution": {
     "iopub.execute_input": "2024-12-11T16:47:55.818469Z",
     "iopub.status.busy": "2024-12-11T16:47:55.817196Z",
     "iopub.status.idle": "2024-12-11T16:47:55.830216Z",
     "shell.execute_reply": "2024-12-11T16:47:55.829186Z",
     "shell.execute_reply.started": "2024-12-11T16:47:55.818415Z"
    },
    "id": "3Tc02SgLM_zl",
    "outputId": "5d263319-50da-489e-dd3d-e9ecdf84686d"
   },
   "outputs": [
    {
     "data": {
      "text/html": [
       "<div>\n",
       "<style scoped>\n",
       "    .dataframe tbody tr th:only-of-type {\n",
       "        vertical-align: middle;\n",
       "    }\n",
       "\n",
       "    .dataframe tbody tr th {\n",
       "        vertical-align: top;\n",
       "    }\n",
       "\n",
       "    .dataframe thead th {\n",
       "        text-align: right;\n",
       "    }\n",
       "</style>\n",
       "<table border=\"1\" class=\"dataframe\">\n",
       "  <thead>\n",
       "    <tr style=\"text-align: right;\">\n",
       "      <th></th>\n",
       "      <th>href</th>\n",
       "      <th>title_clean</th>\n",
       "      <th>target_tags</th>\n",
       "    </tr>\n",
       "  </thead>\n",
       "  <tbody>\n",
       "    <tr>\n",
       "      <th>0</th>\n",
       "      <td>/20181231/1548960744.html</td>\n",
       "      <td>митрополит рязанский раскритиковал иронию судьбы</td>\n",
       "      <td>[638]</td>\n",
       "    </tr>\n",
       "    <tr>\n",
       "      <th>1</th>\n",
       "      <td>/20181231/1548958617.html</td>\n",
       "      <td>на украине позавидовали стене на границе с крымом</td>\n",
       "      <td>[938, 1349]</td>\n",
       "    </tr>\n",
       "    <tr>\n",
       "      <th>2</th>\n",
       "      <td>/20181231/1548957394.html</td>\n",
       "      <td>в госдуме предложили отказаться от газа в жилы...</td>\n",
       "      <td>[1403, 1403, 725, 1176, 1515]</td>\n",
       "    </tr>\n",
       "    <tr>\n",
       "      <th>3</th>\n",
       "      <td>/20181231/1548954909.html</td>\n",
       "      <td>названы лучшие средства от похмелья</td>\n",
       "      <td>[638]</td>\n",
       "    </tr>\n",
       "    <tr>\n",
       "      <th>4</th>\n",
       "      <td>/20181231/1548957120.html</td>\n",
       "      <td>новогоднее поздравление порошенко разозлило по...</td>\n",
       "      <td>[938, 1349]</td>\n",
       "    </tr>\n",
       "  </tbody>\n",
       "</table>\n",
       "</div>"
      ],
      "text/plain": [
       "                        href  \\\n",
       "0  /20181231/1548960744.html   \n",
       "1  /20181231/1548958617.html   \n",
       "2  /20181231/1548957394.html   \n",
       "3  /20181231/1548954909.html   \n",
       "4  /20181231/1548957120.html   \n",
       "\n",
       "                                         title_clean  \\\n",
       "0   митрополит рязанский раскритиковал иронию судьбы   \n",
       "1  на украине позавидовали стене на границе с крымом   \n",
       "2  в госдуме предложили отказаться от газа в жилы...   \n",
       "3                названы лучшие средства от похмелья   \n",
       "4  новогоднее поздравление порошенко разозлило по...   \n",
       "\n",
       "                     target_tags  \n",
       "0                          [638]  \n",
       "1                    [938, 1349]  \n",
       "2  [1403, 1403, 725, 1176, 1515]  \n",
       "3                          [638]  \n",
       "4                    [938, 1349]  "
      ]
     },
     "execution_count": 53,
     "metadata": {},
     "output_type": "execute_result"
    }
   ],
   "source": [
    "df_oob.head()"
   ]
  },
  {
   "cell_type": "code",
   "execution_count": null,
   "metadata": {
    "execution": {
     "iopub.execute_input": "2024-12-11T16:47:57.605750Z",
     "iopub.status.busy": "2024-12-11T16:47:57.605162Z",
     "iopub.status.idle": "2024-12-11T16:47:57.890010Z",
     "shell.execute_reply": "2024-12-11T16:47:57.889031Z",
     "shell.execute_reply.started": "2024-12-11T16:47:57.605719Z"
    },
    "id": "1Z5AvLtcM_zl",
    "outputId": "08b88244-c915-4be0-b654-85b60db3585c"
   },
   "outputs": [
    {
     "name": "stdout",
     "output_type": "stream",
     "text": [
      "Exact Match: 0.9951949715614319\n",
      "Precision: 0.2525028586387634\n",
      "Recall: 0.7775243520736694\n"
     ]
    }
   ],
   "source": [
    "oob_dataset = NewsDataset(df_oob.target_tags.values, df_oob.title_clean.values, vocabulary, VOCAB_SIZE, MAX_TITLE_LEN, CLASSES_NUM )\n",
    "\n",
    "e, f = get_predict(model_baseline, oob_dataset)\n",
    "\n",
    "y_pred_oob = 1*(e > threshold)\n",
    "\n",
    "print('Exact Match:', exact_match(f, y_pred_oob))\n",
    "print('Precision:', precision(f, y_pred_oob))\n",
    "print('Recall:', recall(f, y_pred_oob))"
   ]
  },
  {
   "cell_type": "markdown",
   "metadata": {
    "id": "zl_q6DOtvF_h"
   },
   "source": [
    "Качество модели значительно упало. Наша целевая метрика снизилась всего на 0.03, но при этом precision упал на 0.12 в сравнении с моделью без сниппетов."
   ]
  },
  {
   "cell_type": "markdown",
   "metadata": {
    "id": "EmFzWAHtM_zl"
   },
   "source": [
    "Давайте модернизируем наши архитектуры настолько, насколько это возможно.\n",
    "\n",
    "__[0.9 балла] Бонусное задание 1:__ Попробуйте собрать более большую архитектуру. Например, сразу после слоя эмбеддингов вы можете попробовать добавить свёрточные слои (`Conv1D` свёртки). Поиграйте с оптимизатором и тп.\n",
    "\n",
    "Опишите результаты своих экспериментов ниже. Расскажите, что конкретно вы делали и удалось ли вам улучшить качество модели. Все траектории обучения залоггируйте на WandB.   "
   ]
  },
  {
   "cell_type": "markdown",
   "metadata": {
    "id": "obvk588CM_zl"
   },
   "source": [
    "__Ваш лог экспериментов:__\n",
    "\n",
    "-\n",
    "-\n",
    "-"
   ]
  },
  {
   "cell_type": "code",
   "execution_count": null,
   "metadata": {
    "id": "mII3wWHOM_zl",
    "jupyter": {
     "source_hidden": true
    }
   },
   "outputs": [],
   "source": [
    "# your code here\n",
    "# (⊙_⊙)"
   ]
  },
  {
   "cell_type": "markdown",
   "metadata": {
    "id": "7kMKmn72M_zl"
   },
   "source": [
    "__[0.9 балла] Бонусное задание 2:__ Скачайте с сайта [Rusvectores](https://rusvectores.org/ru/models/) любые новостные word2vec эмбединги. Возьмите из модели эмбеддинги для всех слов, которые встречаются вв вашем словаре и добавьте их в модель первым слоем. Заморозьте этот слой и не обновляйте в нём веса. Если у вас в словаре есть слово, но его нет среди предобученных эмбеддингов, замените его на токен `#UNKN`."
   ]
  },
  {
   "cell_type": "markdown",
   "metadata": {
    "id": "k9ldlZ5gM_zl"
   },
   "source": [
    "__Ваш лог экспериментов:__\n",
    "\n",
    "-\n",
    "-\n",
    "-"
   ]
  },
  {
   "cell_type": "code",
   "execution_count": null,
   "metadata": {
    "id": "XoIlDPe0M_zl",
    "jupyter": {
     "source_hidden": true
    }
   },
   "outputs": [],
   "source": [
    "# your code here\n",
    "# =^･ｪ･^="
   ]
  },
  {
   "cell_type": "markdown",
   "metadata": {
    "id": "w8ziz2ATM_zl"
   },
   "source": [
    "__[1.5 балла] Задание 7:__ Зафайнтьюньте трансформер для решения задачи с помощью библиотеки `hugging face`. Выбор предобученной модели кратко обоснуйте."
   ]
  },
  {
   "cell_type": "markdown",
   "metadata": {
    "id": "GoVv-AS4M_zl"
   },
   "source": [
    "__Ваш лог экспериментов:__ результат использования трансформера. В целом модель выбиралась методом \"первая, что попалась на глаза\", так что такой результат был ожидаемым.\n",
    "\n",
    "![image.png](attachment:13a99a55-a7e4-4135-bc79-7abbe69ecdf7.png)"
   ]
  },
  {
   "cell_type": "markdown",
   "metadata": {
    "id": "vt8mcUllUmM8"
   },
   "source": [
    "Сравните все обученные модели между собой на тестовой выборке."
   ]
  },
  {
   "cell_type": "code",
   "execution_count": null,
   "metadata": {
    "execution": {
     "iopub.execute_input": "2024-12-11T16:50:01.594884Z",
     "iopub.status.busy": "2024-12-11T16:50:01.594251Z",
     "iopub.status.idle": "2024-12-11T16:50:12.602942Z",
     "shell.execute_reply": "2024-12-11T16:50:12.602170Z",
     "shell.execute_reply.started": "2024-12-11T16:50:01.594833Z"
    },
    "id": "Kq-sVD7HUkz3"
   },
   "outputs": [],
   "source": [
    "from transformers import AutoTokenizer, AutoModel\n",
    "from transformers import DistilBertTokenizer, DistilBertModel\n",
    "\n",
    "# Немного изменённые классы для предобученной модели\n",
    "class PretrainedClassifier(nn.Module):\n",
    "    def __init__(self, pretrained_model_name, output_dim):\n",
    "        super().__init__()\n",
    "        self.model = DistilBertModel.from_pretrained(pretrained_model_name)\n",
    "        self.fc = nn.Linear(self.model.config.hidden_size * 2, output_dim)\n",
    "\n",
    "    def forward(self, input_ids_title, attention_mask_title, input_ids_snippet, attention_mask_snippet):\n",
    "        # Получение эмбеддингов для заголовков\n",
    "        title_output = self.model(input_ids=input_ids_title, attention_mask=attention_mask_title)\n",
    "        snippet_output = self.model(input_ids=input_ids_snippet, attention_mask=attention_mask_snippet)\n",
    "\n",
    "        # Используем [CLS]-токен для представления\n",
    "        title_cls = title_output.last_hidden_state[:, 0, :]\n",
    "        snippet_cls = snippet_output.last_hidden_state[:, 0, :]\n",
    "\n",
    "        combined = torch.cat((title_cls, snippet_cls), dim=1)\n",
    "\n",
    "        # Линейный классификатор\n",
    "        logits = self.fc(combined)\n",
    "        return logits\n",
    "\n",
    "class TrainLightningModule_Pretrained(pl.LightningModule):\n",
    "    def __init__(self, model, learning_rate, criterion):\n",
    "        super().__init__()\n",
    "        self.model = model\n",
    "        self.criterion = criterion\n",
    "        self.learning_rate = learning_rate\n",
    "\n",
    "    def forward(self, encoded_titles, encoded_snippets):\n",
    "        return self.model(\n",
    "            input_ids_title=encoded_titles[\"input_ids\"],\n",
    "            attention_mask_title=encoded_titles[\"attention_mask\"],\n",
    "            input_ids_snippet=encoded_snippets[\"input_ids\"],\n",
    "            attention_mask_snippet=encoded_snippets[\"attention_mask\"],\n",
    "        )\n",
    "\n",
    "    def training_step(self, train_batch, batch_idx):\n",
    "        encoded_titles, encoded_snippets, targets = train_batch\n",
    "        logits = self.forward(encoded_titles, encoded_snippets)\n",
    "        loss = self.criterion(logits, targets)\n",
    "        self.log(\"train_loss\", loss, prog_bar=True)\n",
    "        return loss\n",
    "\n",
    "    def validation_step(self, val_batch, batch_idx):\n",
    "        title, snippet, target = val_batch\n",
    "        logits = self.forward(title, snippet)\n",
    "        loss = self.criterion(logits, target)\n",
    "        self.log(\"val_loss\", loss, prog_bar=True)\n",
    "        return loss\n",
    "\n",
    "    def configure_optimizers(self):\n",
    "        optimizer = torch.optim.AdamW(self.parameters(), lr=self.learning_rate)\n",
    "        return optimizer\n",
    "\n",
    "class NewsDataset_Pretrained(Dataset):\n",
    "    def __init__(self, titles, snippets, targets):\n",
    "        self.titles = titles\n",
    "        self.snippets = snippets\n",
    "        self.targets = targets\n",
    "\n",
    "    def __len__(self):\n",
    "        return len(self.titles)\n",
    "\n",
    "    def __getitem__(self, idx):\n",
    "        title = self.titles[idx]\n",
    "        snippet = self.snippets[idx]\n",
    "        target = self.targets[idx]\n",
    "\n",
    "        return title, snippet, target"
   ]
  },
  {
   "cell_type": "code",
   "execution_count": null,
   "metadata": {
    "execution": {
     "iopub.execute_input": "2024-12-11T16:50:19.868500Z",
     "iopub.status.busy": "2024-12-11T16:50:19.867107Z",
     "iopub.status.idle": "2024-12-11T16:50:19.875084Z",
     "shell.execute_reply": "2024-12-11T16:50:19.874109Z",
     "shell.execute_reply.started": "2024-12-11T16:50:19.868461Z"
    },
    "id": "HJaxQhG6a8Gp"
   },
   "outputs": [],
   "source": [
    "# Функция для обработки данных + на ошибку тест есть, но вроде всё ок\n",
    "def collate_fn(batch):\n",
    "    try:\n",
    "        titles, snippets, targets = zip(*batch)\n",
    "\n",
    "        # Токенизация с паддингом\n",
    "        tokenizer = DistilBertTokenizer.from_pretrained(\"distilbert-base-uncased\")\n",
    "        encoded_titles = tokenizer(\n",
    "            list(titles), padding=True, truncation=True, max_length=20, return_tensors=\"pt\"\n",
    "        )\n",
    "        encoded_snippets = tokenizer(\n",
    "            list(snippets), padding=True, truncation=True, max_length=30, return_tensors=\"pt\"\n",
    "        )\n",
    "\n",
    "        # one-hot encoding\n",
    "        targets_tensor = torch.zeros(len(targets), CLASSES_NUM, dtype=torch.float)\n",
    "        for i, target in enumerate(targets):\n",
    "            for t in target:\n",
    "                targets_tensor[i, t] = 1.0\n",
    "\n",
    "        return encoded_titles, encoded_snippets, targets_tensor\n",
    "    except Exception as e:\n",
    "        # print(f\"Error in collate_fn with batch: {batch}\")\n",
    "        raise e"
   ]
  },
  {
   "cell_type": "code",
   "execution_count": null,
   "metadata": {
    "colab": {
     "referenced_widgets": [
      "2a82aaa6b3f947a5a81458876ad4df27",
      "6a4fd07172a24f30a008d41178f065ba",
      "",
      "e3a0eb3242bd40be92dbaaa8ee323c21"
     ]
    },
    "execution": {
     "iopub.execute_input": "2024-12-11T16:50:28.842391Z",
     "iopub.status.busy": "2024-12-11T16:50:28.842010Z",
     "iopub.status.idle": "2024-12-11T17:57:52.727488Z",
     "shell.execute_reply": "2024-12-11T17:57:52.726296Z",
     "shell.execute_reply.started": "2024-12-11T16:50:28.842362Z"
    },
    "id": "CY_cnxNxa8Gp",
    "outputId": "90923e7a-579d-45c9-bcfc-dbef36026f71"
   },
   "outputs": [
    {
     "name": "stderr",
     "output_type": "stream",
     "text": [
      "/opt/conda/lib/python3.10/multiprocessing/popen_fork.py:66: RuntimeWarning: os.fork() was called. os.fork() is incompatible with multithreaded code, and JAX is multithreaded, so this will likely lead to a deadlock.\n",
      "  self.pid = os.fork()\n",
      "/opt/conda/lib/python3.10/multiprocessing/popen_fork.py:66: RuntimeWarning: os.fork() was called. os.fork() is incompatible with multithreaded code, and JAX is multithreaded, so this will likely lead to a deadlock.\n",
      "  self.pid = os.fork()\n"
     ]
    },
    {
     "data": {
      "application/vnd.jupyter.widget-view+json": {
       "model_id": "2a82aaa6b3f947a5a81458876ad4df27",
       "version_major": 2,
       "version_minor": 0
      },
      "text/plain": [
       "config.json:   0%|          | 0.00/483 [00:00<?, ?B/s]"
      ]
     },
     "metadata": {},
     "output_type": "display_data"
    },
    {
     "data": {
      "application/vnd.jupyter.widget-view+json": {
       "model_id": "6a4fd07172a24f30a008d41178f065ba",
       "version_major": 2,
       "version_minor": 0
      },
      "text/plain": [
       "model.safetensors:   0%|          | 0.00/268M [00:00<?, ?B/s]"
      ]
     },
     "metadata": {},
     "output_type": "display_data"
    },
    {
     "data": {
      "text/html": [
       "Tracking run with wandb version 0.18.7"
      ],
      "text/plain": [
       "<IPython.core.display.HTML object>"
      ]
     },
     "metadata": {},
     "output_type": "display_data"
    },
    {
     "data": {
      "text/html": [
       "Run data is saved locally in <code>./wandb/run-20241211_165037-mzs8p6z6</code>"
      ],
      "text/plain": [
       "<IPython.core.display.HTML object>"
      ]
     },
     "metadata": {},
     "output_type": "display_data"
    },
    {
     "data": {
      "text/html": [
       "Syncing run <strong><a href='https://wandb.ai/priborakirill276-hse-university/title_snippet_classifier/runs/mzs8p6z6' target=\"_blank\">winter-frost-24</a></strong> to <a href='https://wandb.ai/priborakirill276-hse-university/title_snippet_classifier' target=\"_blank\">Weights & Biases</a> (<a href='https://wandb.me/developer-guide' target=\"_blank\">docs</a>)<br/>"
      ],
      "text/plain": [
       "<IPython.core.display.HTML object>"
      ]
     },
     "metadata": {},
     "output_type": "display_data"
    },
    {
     "data": {
      "text/html": [
       " View project at <a href='https://wandb.ai/priborakirill276-hse-university/title_snippet_classifier' target=\"_blank\">https://wandb.ai/priborakirill276-hse-university/title_snippet_classifier</a>"
      ],
      "text/plain": [
       "<IPython.core.display.HTML object>"
      ]
     },
     "metadata": {},
     "output_type": "display_data"
    },
    {
     "data": {
      "text/html": [
       " View run at <a href='https://wandb.ai/priborakirill276-hse-university/title_snippet_classifier/runs/mzs8p6z6' target=\"_blank\">https://wandb.ai/priborakirill276-hse-university/title_snippet_classifier/runs/mzs8p6z6</a>"
      ],
      "text/plain": [
       "<IPython.core.display.HTML object>"
      ]
     },
     "metadata": {},
     "output_type": "display_data"
    },
    {
     "data": {
      "application/vnd.jupyter.widget-view+json": {
       "model_id": "",
       "version_major": 2,
       "version_minor": 0
      },
      "text/plain": [
       "Sanity Checking: |          | 0/? [00:00<?, ?it/s]"
      ]
     },
     "metadata": {},
     "output_type": "display_data"
    },
    {
     "data": {
      "application/vnd.jupyter.widget-view+json": {
       "model_id": "e3a0eb3242bd40be92dbaaa8ee323c21",
       "version_major": 2,
       "version_minor": 0
      },
      "text/plain": [
       "Training: |          | 0/? [00:00<?, ?it/s]"
      ]
     },
     "metadata": {},
     "output_type": "display_data"
    },
    {
     "data": {
      "application/vnd.jupyter.widget-view+json": {
       "model_id": "",
       "version_major": 2,
       "version_minor": 0
      },
      "text/plain": [
       "Validation: |          | 0/? [00:00<?, ?it/s]"
      ]
     },
     "metadata": {},
     "output_type": "display_data"
    },
    {
     "data": {
      "application/vnd.jupyter.widget-view+json": {
       "model_id": "",
       "version_major": 2,
       "version_minor": 0
      },
      "text/plain": [
       "Validation: |          | 0/? [00:00<?, ?it/s]"
      ]
     },
     "metadata": {},
     "output_type": "display_data"
    },
    {
     "data": {
      "application/vnd.jupyter.widget-view+json": {
       "model_id": "",
       "version_major": 2,
       "version_minor": 0
      },
      "text/plain": [
       "Validation: |          | 0/? [00:00<?, ?it/s]"
      ]
     },
     "metadata": {},
     "output_type": "display_data"
    },
    {
     "data": {
      "application/vnd.jupyter.widget-view+json": {
       "model_id": "",
       "version_major": 2,
       "version_minor": 0
      },
      "text/plain": [
       "Validation: |          | 0/? [00:00<?, ?it/s]"
      ]
     },
     "metadata": {},
     "output_type": "display_data"
    }
   ],
   "source": [
    "wandb.login()\n",
    "wandb_logger = WandbLogger(log_model='all', project=\"title_snippet_classifier\")\n",
    "\n",
    "train_dataset_m = NewsDataset_Pretrained(df_train.title_clean.values, df_train.snippet_clean.values, df_train.target_tags.values)\n",
    "val_dataset_m = NewsDataset_Pretrained(df_val.title_clean.values, df_val.snippet_clean.values, df_val.target_tags.values)\n",
    "\n",
    "train_dataloader_m = DataLoader(train_dataset_m, shuffle=True, batch_size=32, num_workers=4, collate_fn=collate_fn)\n",
    "val_dataloader_m = DataLoader(val_dataset_m, shuffle=False, batch_size=1028, num_workers=4, collate_fn=collate_fn)\n",
    "\n",
    "for batch in train_dataloader_s:\n",
    "    try:\n",
    "        titles, snippets, targets = batch\n",
    "    except Exception as e:\n",
    "        print(f\"Error in batch: {batch}\")\n",
    "        raise e\n",
    "\n",
    "# Параметры\n",
    "# На графике изображен один из логов предобученной модели\n",
    "# Поменяем количество эпох на 4, т.к. так лосс меньше\n",
    "EPOCHS = 4\n",
    "PRETRAINED_MODEL_NAME = \"distilbert-base-uncased\"\n",
    "CLASSES_NUM = len(idx2tag)\n",
    "LR = 2e-5\n",
    "\n",
    "# Инициализация модели и модуля тренировки\n",
    "model_pretrained = PretrainedClassifier(PRETRAINED_MODEL_NAME, CLASSES_NUM)\n",
    "criterion = torch.nn.CrossEntropyLoss()\n",
    "\n",
    "train_module_pretrained = TrainLightningModule_Pretrained(model_pretrained, LR, criterion)\n",
    "\n",
    "# Запуск тренировки\n",
    "trainer = pl.Trainer(accelerator=\"gpu\", max_epochs=EPOCHS, logger=wandb_logger)\n",
    "trainer.fit(train_module_pretrained, train_dataloader_m, val_dataloader_m)"
   ]
  },
  {
   "cell_type": "code",
   "execution_count": null,
   "metadata": {
    "id": "Xpebn4JOa8Gp"
   },
   "outputs": [],
   "source": [
    "wandb.finish()"
   ]
  },
  {
   "cell_type": "code",
   "execution_count": null,
   "metadata": {
    "execution": {
     "iopub.execute_input": "2024-12-11T17:58:03.694170Z",
     "iopub.status.busy": "2024-12-11T17:58:03.693765Z",
     "iopub.status.idle": "2024-12-11T17:58:03.702126Z",
     "shell.execute_reply": "2024-12-11T17:58:03.701099Z",
     "shell.execute_reply.started": "2024-12-11T17:58:03.694140Z"
    },
    "id": "bvKyvriFa8Gp"
   },
   "outputs": [],
   "source": [
    "test_dataset_m = NewsDataset_Pretrained(df_test.title_clean.values, df_test.snippet_clean.values, df_test.target_tags.values)\n",
    "test_dataloader_m = DataLoader(\n",
    "    test_dataset_m,\n",
    "    shuffle=False,\n",
    "    batch_size=1024,\n",
    "    num_workers=4,\n",
    "    collate_fn=collate_fn\n",
    ")"
   ]
  },
  {
   "cell_type": "code",
   "execution_count": null,
   "metadata": {
    "execution": {
     "iopub.execute_input": "2024-12-11T17:58:06.553171Z",
     "iopub.status.busy": "2024-12-11T17:58:06.552725Z",
     "iopub.status.idle": "2024-12-11T18:08:13.665447Z",
     "shell.execute_reply": "2024-12-11T18:08:13.663739Z",
     "shell.execute_reply.started": "2024-12-11T17:58:06.553137Z"
    },
    "id": "oBU5EYHka8Gp",
    "outputId": "2da946d0-b7d6-4ce4-a5c5-94813250a95d"
   },
   "outputs": [
    {
     "name": "stderr",
     "output_type": "stream",
     "text": [
      "100%|██████████| 20/20 [10:07<00:00, 30.35s/it]\n"
     ]
    }
   ],
   "source": [
    "from tqdm import tqdm\n",
    "\n",
    "all_preds = []\n",
    "all_targets = []\n",
    "\n",
    "with torch.no_grad():\n",
    "    for batch in tqdm(test_dataloader_m):\n",
    "        encoded_titles, encoded_snippets, targets = batch\n",
    "        targets = targets.to(device)\n",
    "\n",
    "        # Предсказания\n",
    "        logits = model_pretrained(encoded_titles[\"input_ids\"], encoded_titles[\"attention_mask\"],\n",
    "                                 encoded_snippets[\"input_ids\"], encoded_snippets[\"attention_mask\"])\n",
    "        preds = F.softmax(logits, dim=1)\n",
    "\n",
    "        # Сохранение\n",
    "        all_preds.append(preds)\n",
    "        all_targets.append(targets)"
   ]
  },
  {
   "cell_type": "code",
   "execution_count": null,
   "metadata": {
    "execution": {
     "iopub.execute_input": "2024-12-11T18:10:00.557194Z",
     "iopub.status.busy": "2024-12-11T18:10:00.556242Z",
     "iopub.status.idle": "2024-12-11T18:10:00.976521Z",
     "shell.execute_reply": "2024-12-11T18:10:00.975533Z",
     "shell.execute_reply.started": "2024-12-11T18:10:00.557152Z"
    },
    "id": "qzHS1knpa8Gp"
   },
   "outputs": [],
   "source": [
    "# Т.к. даже кеггл не может вместить предсказания для теста на полной выборке, пришлось делать такие костыли для подсчёта по батчам, но вроде разрешили так делать\n",
    "recalls_model = []\n",
    "precision_model = []\n",
    "exact_match_model = []\n",
    "for i in range(len(all_preds)):\n",
    "    y_pred_m = 1*(all_preds[i] > threshold)\n",
    "    t = all_targets[i].to('cpu')\n",
    "\n",
    "    recalls_model.append(recall(t, y_pred_m))\n",
    "    precision_model.append(precision(t, y_pred_m))\n",
    "    exact_match_model.append(exact_match(t, y_pred_m))"
   ]
  },
  {
   "cell_type": "code",
   "execution_count": null,
   "metadata": {
    "execution": {
     "iopub.execute_input": "2024-12-11T18:10:05.801116Z",
     "iopub.status.busy": "2024-12-11T18:10:05.800718Z",
     "iopub.status.idle": "2024-12-11T18:10:11.889824Z",
     "shell.execute_reply": "2024-12-11T18:10:11.888891Z",
     "shell.execute_reply.started": "2024-12-11T18:10:05.801083Z"
    },
    "id": "6OIYhfANa8Gp",
    "outputId": "64a38023-685c-4a26-9b41-3ae023ac958c"
   },
   "outputs": [
    {
     "name": "stdout",
     "output_type": "stream",
     "text": [
      "Exact Match: 0.9956044554710388\n",
      "Precision: 0.2919193208217621\n",
      "Recall: 0.7619668841362\n",
      "Exact Match with snippet: 0.9955131411552429\n",
      "Precision with snippet: 0.29365915060043335\n",
      "Recall with snippet: 0.7748806476593018\n",
      "Exact Match with pretrained model: 0.9935952454805375\n",
      "Precision with pretrained model: 0.17836811691522597\n",
      "Recall with pretrained model: 0.6031169950962066\n"
     ]
    }
   ],
   "source": [
    "a, b = get_predict(model_baseline, test_dataset)\n",
    "c, d = get_predict_snippet(model_baseline_s, test_dataset_s)\n",
    "# e, f = get_predict_snippet(model_pretrained, test_dataset_m)\n",
    "\n",
    "y_pred = 1*(a > threshold)\n",
    "y_pred_s = 1*(c > threshold)\n",
    "# y_pred_m = 1*(all_preds > threshold)\n",
    "\n",
    "print('Exact Match:', exact_match(b, y_pred))\n",
    "print('Precision:', precision(b, y_pred))\n",
    "print('Recall:', recall(b, y_pred))\n",
    "\n",
    "print('Exact Match with snippet:', exact_match(d, y_pred_s))\n",
    "print('Precision with snippet:', precision(d, y_pred_s))\n",
    "print('Recall with snippet:', recall(d, y_pred_s))\n",
    "\n",
    "print('Exact Match with pretrained model:', np.mean(exact_match_model))\n",
    "print('Precision with pretrained model:', np.mean(precision_model))\n",
    "print('Recall with pretrained model:', np.mean(recalls_model))"
   ]
  },
  {
   "cell_type": "markdown",
   "metadata": {
    "id": "SoCALHfJM_zm"
   },
   "source": [
    "## Часть 2: предсказание категорий (0.5 балла)\n",
    "\n",
    "**[0.5 балла] Задание 8:** Возьмите датасет `df_vk` и для всех новостей из него предскажите категории с помощью лучшей, получившейся у вас модели."
   ]
  },
  {
   "cell_type": "code",
   "execution_count": null,
   "metadata": {
    "execution": {
     "iopub.execute_input": "2024-12-11T18:10:28.201222Z",
     "iopub.status.busy": "2024-12-11T18:10:28.200412Z",
     "iopub.status.idle": "2024-12-11T18:10:41.836255Z",
     "shell.execute_reply": "2024-12-11T18:10:41.835423Z",
     "shell.execute_reply.started": "2024-12-11T18:10:28.201185Z"
    },
    "id": "99fmOzZUM_zm",
    "outputId": "9444736b-8fe6-479e-eb9c-34848adc273e"
   },
   "outputs": [
    {
     "name": "stdout",
     "output_type": "stream",
     "text": [
      "['карикатуры', 'футбол', 'хоккей', 'новости - чемпионат мира по футболу 2018', 'биатлон', 'теннис', 'россия', 'чемпионат мира по футболу 2018', 'сша', 'спорт']\n"
     ]
    }
   ],
   "source": [
    "df_vk['target_tags'] = [[0]]*df_vk.shape[0]\n",
    "\n",
    "CLASSES_NUM = len(idx2tag)\n",
    "VOCAB_SIZE = 10000\n",
    "MAX_TITLE_LEN = 20\n",
    "pred_tags = []\n",
    "\n",
    "# Словарь названий для датасета вк\n",
    "vocabulary = create_vocab(' '.join(df_vk.title_clean.values))\n",
    "\n",
    "train_dataset_vk = NewsDataset(df_vk.target_tags.values, df_vk.title_clean.values, vocabulary, VOCAB_SIZE, MAX_TITLE_LEN, CLASSES_NUM, df_vk.snippet_clean.values, MAX_SNIPPNET_LEN)\n",
    "\n",
    "pred_probs_vk, target_vk = get_predict_snippet(model_baseline_s, train_dataset_vk)\n",
    "\n",
    "y_pred_vk = 1*(pred_probs_vk > threshold)\n",
    "\n",
    "for pred in y_pred_vk:\n",
    "    pred_indices = np.where(pred == 1)[0]\n",
    "    pred_tags.append([list(target_tags)[i] for i in pred_indices])\n",
    "\n",
    "print(pred_tags[0])"
   ]
  },
  {
   "cell_type": "markdown",
   "metadata": {
    "id": "qpw07S0UM_zm"
   },
   "source": [
    "На всякий случай сохраните табличку с получившимися у вас предсказаниями. Мало ли, вы не доделаете последнее задание, а потом захотите вернуться к нему. Не прогонять же обучение нейросети и инференс по второму кругу..."
   ]
  },
  {
   "cell_type": "code",
   "execution_count": null,
   "metadata": {
    "execution": {
     "iopub.execute_input": "2024-12-11T18:11:04.588546Z",
     "iopub.status.busy": "2024-12-11T18:11:04.588222Z",
     "iopub.status.idle": "2024-12-11T18:11:04.620791Z",
     "shell.execute_reply": "2024-12-11T18:11:04.619894Z",
     "shell.execute_reply.started": "2024-12-11T18:11:04.588521Z"
    },
    "id": "alIF9U2tM_zm",
    "outputId": "501faf17-7ccb-4045-ed84-0e8e7f40c92e"
   },
   "outputs": [
    {
     "data": {
      "text/html": [
       "<div>\n",
       "<style scoped>\n",
       "    .dataframe tbody tr th:only-of-type {\n",
       "        vertical-align: middle;\n",
       "    }\n",
       "\n",
       "    .dataframe tbody tr th {\n",
       "        vertical-align: top;\n",
       "    }\n",
       "\n",
       "    .dataframe thead th {\n",
       "        text-align: right;\n",
       "    }\n",
       "</style>\n",
       "<table border=\"1\" class=\"dataframe\">\n",
       "  <thead>\n",
       "    <tr style=\"text-align: right;\">\n",
       "      <th></th>\n",
       "      <th>0</th>\n",
       "      <th>1</th>\n",
       "      <th>2</th>\n",
       "      <th>3</th>\n",
       "      <th>4</th>\n",
       "      <th>5</th>\n",
       "      <th>6</th>\n",
       "      <th>7</th>\n",
       "      <th>8</th>\n",
       "      <th>9</th>\n",
       "      <th>...</th>\n",
       "      <th>16</th>\n",
       "      <th>17</th>\n",
       "      <th>18</th>\n",
       "      <th>19</th>\n",
       "      <th>20</th>\n",
       "      <th>21</th>\n",
       "      <th>22</th>\n",
       "      <th>23</th>\n",
       "      <th>24</th>\n",
       "      <th>25</th>\n",
       "    </tr>\n",
       "  </thead>\n",
       "  <tbody>\n",
       "    <tr>\n",
       "      <th>0</th>\n",
       "      <td>карикатуры</td>\n",
       "      <td>футбол</td>\n",
       "      <td>хоккей</td>\n",
       "      <td>новости - чемпионат мира по футболу 2018</td>\n",
       "      <td>биатлон</td>\n",
       "      <td>теннис</td>\n",
       "      <td>россия</td>\n",
       "      <td>чемпионат мира по футболу 2018</td>\n",
       "      <td>сша</td>\n",
       "      <td>спорт</td>\n",
       "      <td>...</td>\n",
       "      <td>None</td>\n",
       "      <td>None</td>\n",
       "      <td>None</td>\n",
       "      <td>None</td>\n",
       "      <td>None</td>\n",
       "      <td>None</td>\n",
       "      <td>None</td>\n",
       "      <td>None</td>\n",
       "      <td>None</td>\n",
       "      <td>None</td>\n",
       "    </tr>\n",
       "    <tr>\n",
       "      <th>1</th>\n",
       "      <td>экономика</td>\n",
       "      <td>карикатуры</td>\n",
       "      <td>футбол</td>\n",
       "      <td>авто</td>\n",
       "      <td>вокруг спорта</td>\n",
       "      <td>новости - недвижимость</td>\n",
       "      <td>новости - чемпионат мира по футболу 2018</td>\n",
       "      <td>риа новости. итоги дня</td>\n",
       "      <td>россия</td>\n",
       "      <td>в мире</td>\n",
       "      <td>...</td>\n",
       "      <td>None</td>\n",
       "      <td>None</td>\n",
       "      <td>None</td>\n",
       "      <td>None</td>\n",
       "      <td>None</td>\n",
       "      <td>None</td>\n",
       "      <td>None</td>\n",
       "      <td>None</td>\n",
       "      <td>None</td>\n",
       "      <td>None</td>\n",
       "    </tr>\n",
       "    <tr>\n",
       "      <th>2</th>\n",
       "      <td>карикатуры</td>\n",
       "      <td>футбол</td>\n",
       "      <td>в мире - риа новости. итоги дня</td>\n",
       "      <td>ситуация на украине</td>\n",
       "      <td>украина</td>\n",
       "      <td>риа новости. итоги дня</td>\n",
       "      <td>теннис</td>\n",
       "      <td>россия</td>\n",
       "      <td>в мире</td>\n",
       "      <td>сша</td>\n",
       "      <td>...</td>\n",
       "      <td>None</td>\n",
       "      <td>None</td>\n",
       "      <td>None</td>\n",
       "      <td>None</td>\n",
       "      <td>None</td>\n",
       "      <td>None</td>\n",
       "      <td>None</td>\n",
       "      <td>None</td>\n",
       "      <td>None</td>\n",
       "      <td>None</td>\n",
       "    </tr>\n",
       "    <tr>\n",
       "      <th>3</th>\n",
       "      <td>экономика</td>\n",
       "      <td>нато</td>\n",
       "      <td>карикатуры</td>\n",
       "      <td>украина</td>\n",
       "      <td>риа новости. итоги дня</td>\n",
       "      <td>конгресс сша</td>\n",
       "      <td>россия</td>\n",
       "      <td>дональд трамп</td>\n",
       "      <td>в мире</td>\n",
       "      <td>сша</td>\n",
       "      <td>...</td>\n",
       "      <td>None</td>\n",
       "      <td>None</td>\n",
       "      <td>None</td>\n",
       "      <td>None</td>\n",
       "      <td>None</td>\n",
       "      <td>None</td>\n",
       "      <td>None</td>\n",
       "      <td>None</td>\n",
       "      <td>None</td>\n",
       "      <td>None</td>\n",
       "    </tr>\n",
       "    <tr>\n",
       "      <th>4</th>\n",
       "      <td>новое оружие россии</td>\n",
       "      <td>карикатуры</td>\n",
       "      <td>футбол</td>\n",
       "      <td>хоккей</td>\n",
       "      <td>вокруг спорта</td>\n",
       "      <td>новости - чемпионат мира по футболу 2018</td>\n",
       "      <td>украина</td>\n",
       "      <td>риа новости. итоги дня</td>\n",
       "      <td>тесты</td>\n",
       "      <td>россия</td>\n",
       "      <td>...</td>\n",
       "      <td>None</td>\n",
       "      <td>None</td>\n",
       "      <td>None</td>\n",
       "      <td>None</td>\n",
       "      <td>None</td>\n",
       "      <td>None</td>\n",
       "      <td>None</td>\n",
       "      <td>None</td>\n",
       "      <td>None</td>\n",
       "      <td>None</td>\n",
       "    </tr>\n",
       "  </tbody>\n",
       "</table>\n",
       "<p>5 rows × 26 columns</p>\n",
       "</div>"
      ],
      "text/plain": [
       "                    0           1                                2   \\\n",
       "0           карикатуры      футбол                           хоккей   \n",
       "1            экономика  карикатуры                           футбол   \n",
       "2           карикатуры      футбол  в мире - риа новости. итоги дня   \n",
       "3            экономика        нато                       карикатуры   \n",
       "4  новое оружие россии  карикатуры                           футбол   \n",
       "\n",
       "                                         3                       4   \\\n",
       "0  новости - чемпионат мира по футболу 2018                 биатлон   \n",
       "1                                      авто           вокруг спорта   \n",
       "2                       ситуация на украине                 украина   \n",
       "3                                   украина  риа новости. итоги дня   \n",
       "4                                    хоккей           вокруг спорта   \n",
       "\n",
       "                                         5   \\\n",
       "0                                    теннис   \n",
       "1                    новости - недвижимость   \n",
       "2                    риа новости. итоги дня   \n",
       "3                              конгресс сша   \n",
       "4  новости - чемпионат мира по футболу 2018   \n",
       "\n",
       "                                         6                               7   \\\n",
       "0                                    россия  чемпионат мира по футболу 2018   \n",
       "1  новости - чемпионат мира по футболу 2018          риа новости. итоги дня   \n",
       "2                                    теннис                          россия   \n",
       "3                                    россия                   дональд трамп   \n",
       "4                                   украина          риа новости. итоги дня   \n",
       "\n",
       "       8       9   ...    16    17    18    19    20    21    22    23    24  \\\n",
       "0     сша   спорт  ...  None  None  None  None  None  None  None  None  None   \n",
       "1  россия  в мире  ...  None  None  None  None  None  None  None  None  None   \n",
       "2  в мире     сша  ...  None  None  None  None  None  None  None  None  None   \n",
       "3  в мире     сша  ...  None  None  None  None  None  None  None  None  None   \n",
       "4   тесты  россия  ...  None  None  None  None  None  None  None  None  None   \n",
       "\n",
       "     25  \n",
       "0  None  \n",
       "1  None  \n",
       "2  None  \n",
       "3  None  \n",
       "4  None  \n",
       "\n",
       "[5 rows x 26 columns]"
      ]
     },
     "execution_count": 65,
     "metadata": {},
     "output_type": "execute_result"
    }
   ],
   "source": [
    "df_vk_tags = pd.DataFrame(pred_tags)\n",
    "df_vk_tags.head()"
   ]
  },
  {
   "cell_type": "markdown",
   "metadata": {
    "id": "H_jo72yzM_zm"
   },
   "source": [
    "## Часть 3: сентимент-классификатор (1.5 балла)"
   ]
  },
  {
   "cell_type": "markdown",
   "metadata": {
    "id": "uI33vB5bM_zm"
   },
   "source": [
    "В этой части тетрадки нам предстоит прогнать все комментарии из ВК через сентимент-классификатор. Мы будем делать это с помощью библиотеки HuggingFace. В ней есть удобная [функциональность pipline,](https://huggingface.co/docs/transformers/pipeline_tutorial) чтобы прогонять на своих данных уже обученные модели. 🤗🤗🤗"
   ]
  },
  {
   "cell_type": "code",
   "execution_count": null,
   "metadata": {
    "execution": {
     "iopub.execute_input": "2024-12-11T18:11:32.787387Z",
     "iopub.status.busy": "2024-12-11T18:11:32.787022Z",
     "iopub.status.idle": "2024-12-11T18:11:32.800398Z",
     "shell.execute_reply": "2024-12-11T18:11:32.799385Z",
     "shell.execute_reply.started": "2024-12-11T18:11:32.787356Z"
    },
    "id": "4VEwMUYxM_zm",
    "outputId": "32b02c98-9d41-474c-824b-828f839eee1f"
   },
   "outputs": [
    {
     "data": {
      "text/html": [
       "<div>\n",
       "<style scoped>\n",
       "    .dataframe tbody tr th:only-of-type {\n",
       "        vertical-align: middle;\n",
       "    }\n",
       "\n",
       "    .dataframe tbody tr th {\n",
       "        vertical-align: top;\n",
       "    }\n",
       "\n",
       "    .dataframe thead th {\n",
       "        text-align: right;\n",
       "    }\n",
       "</style>\n",
       "<table border=\"1\" class=\"dataframe\">\n",
       "  <thead>\n",
       "    <tr style=\"text-align: right;\">\n",
       "      <th></th>\n",
       "      <th>id</th>\n",
       "      <th>post_id</th>\n",
       "      <th>datetime</th>\n",
       "      <th>text</th>\n",
       "      <th>likes</th>\n",
       "    </tr>\n",
       "  </thead>\n",
       "  <tbody>\n",
       "    <tr>\n",
       "      <th>0</th>\n",
       "      <td>24006366.0</td>\n",
       "      <td>24006362.0</td>\n",
       "      <td>2019-02-01 23:14:14</td>\n",
       "      <td>ЧВК Вагнера?</td>\n",
       "      <td>5.0</td>\n",
       "    </tr>\n",
       "    <tr>\n",
       "      <th>1</th>\n",
       "      <td>24006370.0</td>\n",
       "      <td>24006362.0</td>\n",
       "      <td>2019-02-01 23:15:23</td>\n",
       "      <td>[id4710641|Евгений], выздоравливай.</td>\n",
       "      <td>3.0</td>\n",
       "    </tr>\n",
       "    <tr>\n",
       "      <th>2</th>\n",
       "      <td>24006371.0</td>\n",
       "      <td>24006362.0</td>\n",
       "      <td>2019-02-01 23:16:21</td>\n",
       "      <td>[id442655034|Андрей], искренне желаю этого все...</td>\n",
       "      <td>4.0</td>\n",
       "    </tr>\n",
       "    <tr>\n",
       "      <th>3</th>\n",
       "      <td>24006374.0</td>\n",
       "      <td>24006362.0</td>\n",
       "      <td>2019-02-01 23:16:38</td>\n",
       "      <td>Опять про Украину новости?</td>\n",
       "      <td>1.0</td>\n",
       "    </tr>\n",
       "    <tr>\n",
       "      <th>4</th>\n",
       "      <td>24006375.0</td>\n",
       "      <td>24006362.0</td>\n",
       "      <td>2019-02-01 23:16:40</td>\n",
       "      <td>Че такое ДНР?</td>\n",
       "      <td>2.0</td>\n",
       "    </tr>\n",
       "  </tbody>\n",
       "</table>\n",
       "</div>"
      ],
      "text/plain": [
       "           id     post_id             datetime  \\\n",
       "0  24006366.0  24006362.0  2019-02-01 23:14:14   \n",
       "1  24006370.0  24006362.0  2019-02-01 23:15:23   \n",
       "2  24006371.0  24006362.0  2019-02-01 23:16:21   \n",
       "3  24006374.0  24006362.0  2019-02-01 23:16:38   \n",
       "4  24006375.0  24006362.0  2019-02-01 23:16:40   \n",
       "\n",
       "                                                text  likes  \n",
       "0                                       ЧВК Вагнера?    5.0  \n",
       "1                [id4710641|Евгений], выздоравливай.    3.0  \n",
       "2  [id442655034|Андрей], искренне желаю этого все...    4.0  \n",
       "3                         Опять про Украину новости?    1.0  \n",
       "4                                      Че такое ДНР?    2.0  "
      ]
     },
     "execution_count": 66,
     "metadata": {},
     "output_type": "execute_result"
    }
   ],
   "source": [
    "df_comments.head()"
   ]
  },
  {
   "cell_type": "markdown",
   "metadata": {
    "id": "3gVL29D3M_zm"
   },
   "source": [
    "**[1.5 балла] Задание 9:** Для классификации комментариев на позитивные, негативные и нейтральные будем использовать [модель, о которой можно почитать по ссылке](https://huggingface.co/seara/rubert-tiny2-russian-sentiment)\n",
    "\n",
    "Ответьте на следующие вопросы:\n",
    "\n",
    "1. Как зовут автора модели?\n",
    "2. Как выглядит архитектура модели? Насколько модель большая?\n",
    "3. На каких данных обучена модель? Адекватно ли использовать её для классификации комментариев ВК?"
   ]
  },
  {
   "cell_type": "markdown",
   "metadata": {
    "id": "hedd3_EAM_zm"
   },
   "source": [
    "Установим библиотеку. 🤗🤗🤗"
   ]
  },
  {
   "cell_type": "code",
   "execution_count": null,
   "metadata": {
    "id": "-ZCfZ0ZfM_zm"
   },
   "outputs": [],
   "source": [
    "#Зачем, если до этого было задание с трансформером??????? я в шоках\n",
    "\n",
    "!pip3 install transformers"
   ]
  },
  {
   "cell_type": "markdown",
   "metadata": {
    "id": "99ev56K57vRu"
   },
   "source": [
    "**Варнинг:** в этом задании не обязательно ждать, пока код проскорит весь датасет - это долго. Напишите код, проверьте, что он корректно работает - проскорьте пару десятков строк датасета и принтаните их. Дальше вы можете взять уже проскоренный датасет. Возможно, кто-то проскорит все раньше остальных и захочет поделиться результатом. Вот его разрешается взять, как готовый результат выполнения задания. Главное - покажите, что ваш код тоже работает."
   ]
  },
  {
   "cell_type": "markdown",
   "metadata": {
    "id": "4cDtjMFaM_zm"
   },
   "source": [
    "Разберитесь как можно прогнать модель на корпусе комментариев и сделайте это. Да, с помощью pipeline можно запустить довольно сложные модели, обученные другими людьми в пару строчек. При объявлении модели не забудьте положить её на нужный `device` 🤗🤗🤗"
   ]
  },
  {
   "cell_type": "code",
   "execution_count": null,
   "metadata": {
    "colab": {
     "referenced_widgets": [
      "9f2a5614943d42b6b5e03efa4186ddc6",
      "ca68f8511e3740218f67f1afa4884510",
      "aaa196fb65b9460d82308858f9c97ca2",
      "92e5a444be704148b82040512224b904",
      "09f934e8fbb24c27b433933ade85426a",
      "11e71feefc264587b198cf077373a2e8"
     ]
    },
    "execution": {
     "iopub.execute_input": "2024-12-11T18:11:43.027455Z",
     "iopub.status.busy": "2024-12-11T18:11:43.026730Z",
     "iopub.status.idle": "2024-12-11T18:11:50.588766Z",
     "shell.execute_reply": "2024-12-11T18:11:50.587913Z",
     "shell.execute_reply.started": "2024-12-11T18:11:43.027417Z"
    },
    "id": "sEfhf12pM_zm",
    "outputId": "b36c54db-883b-4bc5-af64-23d9f932945e"
   },
   "outputs": [
    {
     "data": {
      "application/vnd.jupyter.widget-view+json": {
       "model_id": "9f2a5614943d42b6b5e03efa4186ddc6",
       "version_major": 2,
       "version_minor": 0
      },
      "text/plain": [
       "config.json:   0%|          | 0.00/911 [00:00<?, ?B/s]"
      ]
     },
     "metadata": {},
     "output_type": "display_data"
    },
    {
     "data": {
      "application/vnd.jupyter.widget-view+json": {
       "model_id": "ca68f8511e3740218f67f1afa4884510",
       "version_major": 2,
       "version_minor": 0
      },
      "text/plain": [
       "model.safetensors:   0%|          | 0.00/117M [00:00<?, ?B/s]"
      ]
     },
     "metadata": {},
     "output_type": "display_data"
    },
    {
     "data": {
      "application/vnd.jupyter.widget-view+json": {
       "model_id": "aaa196fb65b9460d82308858f9c97ca2",
       "version_major": 2,
       "version_minor": 0
      },
      "text/plain": [
       "tokenizer_config.json:   0%|          | 0.00/368 [00:00<?, ?B/s]"
      ]
     },
     "metadata": {},
     "output_type": "display_data"
    },
    {
     "data": {
      "application/vnd.jupyter.widget-view+json": {
       "model_id": "92e5a444be704148b82040512224b904",
       "version_major": 2,
       "version_minor": 0
      },
      "text/plain": [
       "vocab.txt:   0%|          | 0.00/1.08M [00:00<?, ?B/s]"
      ]
     },
     "metadata": {},
     "output_type": "display_data"
    },
    {
     "data": {
      "application/vnd.jupyter.widget-view+json": {
       "model_id": "09f934e8fbb24c27b433933ade85426a",
       "version_major": 2,
       "version_minor": 0
      },
      "text/plain": [
       "tokenizer.json:   0%|          | 0.00/2.41M [00:00<?, ?B/s]"
      ]
     },
     "metadata": {},
     "output_type": "display_data"
    },
    {
     "data": {
      "application/vnd.jupyter.widget-view+json": {
       "model_id": "11e71feefc264587b198cf077373a2e8",
       "version_major": 2,
       "version_minor": 0
      },
      "text/plain": [
       "special_tokens_map.json:   0%|          | 0.00/125 [00:00<?, ?B/s]"
      ]
     },
     "metadata": {},
     "output_type": "display_data"
    },
    {
     "name": "stdout",
     "output_type": "stream",
     "text": [
      "BertForSequenceClassification(\n",
      "  (bert): BertModel(\n",
      "    (embeddings): BertEmbeddings(\n",
      "      (word_embeddings): Embedding(83828, 312, padding_idx=0)\n",
      "      (position_embeddings): Embedding(2048, 312)\n",
      "      (token_type_embeddings): Embedding(2, 312)\n",
      "      (LayerNorm): LayerNorm((312,), eps=1e-12, elementwise_affine=True)\n",
      "      (dropout): Dropout(p=0.1, inplace=False)\n",
      "    )\n",
      "    (encoder): BertEncoder(\n",
      "      (layer): ModuleList(\n",
      "        (0-2): 3 x BertLayer(\n",
      "          (attention): BertAttention(\n",
      "            (self): BertSdpaSelfAttention(\n",
      "              (query): Linear(in_features=312, out_features=312, bias=True)\n",
      "              (key): Linear(in_features=312, out_features=312, bias=True)\n",
      "              (value): Linear(in_features=312, out_features=312, bias=True)\n",
      "              (dropout): Dropout(p=0.1, inplace=False)\n",
      "            )\n",
      "            (output): BertSelfOutput(\n",
      "              (dense): Linear(in_features=312, out_features=312, bias=True)\n",
      "              (LayerNorm): LayerNorm((312,), eps=1e-12, elementwise_affine=True)\n",
      "              (dropout): Dropout(p=0.1, inplace=False)\n",
      "            )\n",
      "          )\n",
      "          (intermediate): BertIntermediate(\n",
      "            (dense): Linear(in_features=312, out_features=600, bias=True)\n",
      "            (intermediate_act_fn): GELUActivation()\n",
      "          )\n",
      "          (output): BertOutput(\n",
      "            (dense): Linear(in_features=600, out_features=312, bias=True)\n",
      "            (LayerNorm): LayerNorm((312,), eps=1e-12, elementwise_affine=True)\n",
      "            (dropout): Dropout(p=0.1, inplace=False)\n",
      "          )\n",
      "        )\n",
      "      )\n",
      "    )\n",
      "    (pooler): BertPooler(\n",
      "      (dense): Linear(in_features=312, out_features=312, bias=True)\n",
      "      (activation): Tanh()\n",
      "    )\n",
      "  )\n",
      "  (dropout): Dropout(p=0.1, inplace=False)\n",
      "  (classifier): Linear(in_features=312, out_features=3, bias=True)\n",
      ")\n"
     ]
    }
   ],
   "source": [
    "from transformers import pipeline\n",
    "model = pipeline(model=\"seara/rubert-tiny2-russian-sentiment\", device=device, truncation=True)\n",
    "\n",
    "print(model.model)"
   ]
  },
  {
   "cell_type": "markdown",
   "metadata": {
    "id": "0U68Bbdma8Gq"
   },
   "source": [
    "1. Как я понял, финальная версия модели принадлежит seara, но по сути это зафайнтьюненная модель от cointegrated\n",
    "2. Модель кажется достаточно большой, хотя она явно меньше какого-нибудь ResNet (странно их сравнивать, но тем не менее). При этом в модели есть только encoder, что соответствует нашей задаче. Сама архитектура содержит линейные слои, дропауты и нормализацию.\n",
    "3. Некоторые датасеты, на которых обучали модель: Kaggle-Russian-News, Linis-Crowd-2015, Linis-Crowd-2016, RuReviews. Думаю, использовать эту модель для классификации комментариев в ВК можно и нужно, так как все эти данные на русском языке, но возможно большее количество классов не повредило бы.\n"
   ]
  },
  {
   "cell_type": "markdown",
   "metadata": {
    "id": "5XmrUVvhM_zm"
   },
   "source": [
    "Цикл для сентимент-анализа комментариев может работать довольно долго. Я крайне рекомендую вам переодически сохранять к себе на компьютер промежуточные результаты. Итоговый результат я рекомендую записать отдельным столбиком в таблицу с комментариями, а затем сохранить полученные результаты. 🤗🤗🤗"
   ]
  },
  {
   "cell_type": "code",
   "execution_count": null,
   "metadata": {
    "execution": {
     "iopub.execute_input": "2024-12-11T18:11:56.099948Z",
     "iopub.status.busy": "2024-12-11T18:11:56.098922Z",
     "iopub.status.idle": "2024-12-11T18:11:56.195734Z",
     "shell.execute_reply": "2024-12-11T18:11:56.194669Z",
     "shell.execute_reply.started": "2024-12-11T18:11:56.099895Z"
    },
    "id": "4IXrDD_2a8Gq",
    "outputId": "0dbd0320-be10-4712-ef34-3ca7e38194a0"
   },
   "outputs": [
    {
     "name": "stdout",
     "output_type": "stream",
     "text": [
      "ЧВК Вагнера? {'label': 'neutral', 'score': 0.9122462868690491}\n",
      "[id4710641|Евгений], выздоравливай. {'label': 'neutral', 'score': 0.8793703317642212}\n",
      "[id442655034|Андрей], искренне желаю этого всей фабрике. {'label': 'positive', 'score': 0.6762611865997314}\n",
      "Опять про Украину новости? {'label': 'neutral', 'score': 0.9259392023086548}\n",
      "Че такое ДНР? {'label': 'neutral', 'score': 0.866222620010376}\n",
      "[id109937745|Илья], Донецкая Народная Республика !!!! {'label': 'neutral', 'score': 0.8428510427474976}\n",
      "[id89551382|Юрий], это где? {'label': 'neutral', 'score': 0.924575924873352}\n",
      "[id109937745|Илья], Донецкая Народная Республика. {'label': 'neutral', 'score': 0.9119594693183899}\n",
      "[id483059794|Марк], Донецк российский отделился что ли в Ростовской области? {'label': 'neutral', 'score': 0.7873876094818115}\n",
      "[id109937745|Илья], на планете Земля. {'label': 'neutral', 'score': 0.88370281457901}\n"
     ]
    }
   ],
   "source": [
    "comms = df_comments['text'][:10].tolist()\n",
    "result = model(comms)\n",
    "\n",
    "for i in range(10):\n",
    "    print(comms[i], result[i])"
   ]
  },
  {
   "cell_type": "code",
   "execution_count": null,
   "metadata": {
    "execution": {
     "iopub.execute_input": "2024-12-11T18:12:22.168472Z",
     "iopub.status.busy": "2024-12-11T18:12:22.167622Z",
     "iopub.status.idle": "2024-12-11T18:12:43.560737Z",
     "shell.execute_reply": "2024-12-11T18:12:43.559896Z",
     "shell.execute_reply.started": "2024-12-11T18:12:22.168435Z"
    },
    "id": "jYpqlGahM_zm",
    "outputId": "eb0b91dc-0bef-40a6-ee4e-f7c730cc9a94"
   },
   "outputs": [
    {
     "name": "stderr",
     "output_type": "stream",
     "text": [
      "/tmp/ipykernel_124/157982122.py:1: DtypeWarning: Columns (6) have mixed types. Specify dtype option on import or set low_memory=False.\n",
      "  df_comments = pd.read_csv('/kaggle/input/df-comments-cooked/df_comments_cooked.csv')\n"
     ]
    },
    {
     "data": {
      "text/html": [
       "<div>\n",
       "<style scoped>\n",
       "    .dataframe tbody tr th:only-of-type {\n",
       "        vertical-align: middle;\n",
       "    }\n",
       "\n",
       "    .dataframe tbody tr th {\n",
       "        vertical-align: top;\n",
       "    }\n",
       "\n",
       "    .dataframe thead th {\n",
       "        text-align: right;\n",
       "    }\n",
       "</style>\n",
       "<table border=\"1\" class=\"dataframe\">\n",
       "  <thead>\n",
       "    <tr style=\"text-align: right;\">\n",
       "      <th></th>\n",
       "      <th>Unnamed: 0</th>\n",
       "      <th>id</th>\n",
       "      <th>post_id</th>\n",
       "      <th>datetime</th>\n",
       "      <th>text</th>\n",
       "      <th>likes</th>\n",
       "      <th>sentiment_verdict</th>\n",
       "      <th>sentiment_score</th>\n",
       "    </tr>\n",
       "  </thead>\n",
       "  <tbody>\n",
       "    <tr>\n",
       "      <th>0</th>\n",
       "      <td>0</td>\n",
       "      <td>24006366.0</td>\n",
       "      <td>24006362.0</td>\n",
       "      <td>2019-02-01 23:14:14</td>\n",
       "      <td>ЧВК Вагнера?</td>\n",
       "      <td>5.0</td>\n",
       "      <td>neutral</td>\n",
       "      <td>0.912246</td>\n",
       "    </tr>\n",
       "    <tr>\n",
       "      <th>1</th>\n",
       "      <td>1</td>\n",
       "      <td>24006370.0</td>\n",
       "      <td>24006362.0</td>\n",
       "      <td>2019-02-01 23:15:23</td>\n",
       "      <td>[id4710641|Евгений], выздоравливай.</td>\n",
       "      <td>3.0</td>\n",
       "      <td>neutral</td>\n",
       "      <td>0.879370</td>\n",
       "    </tr>\n",
       "    <tr>\n",
       "      <th>2</th>\n",
       "      <td>2</td>\n",
       "      <td>24006371.0</td>\n",
       "      <td>24006362.0</td>\n",
       "      <td>2019-02-01 23:16:21</td>\n",
       "      <td>[id442655034|Андрей], искренне желаю этого все...</td>\n",
       "      <td>4.0</td>\n",
       "      <td>positive</td>\n",
       "      <td>0.676261</td>\n",
       "    </tr>\n",
       "    <tr>\n",
       "      <th>3</th>\n",
       "      <td>3</td>\n",
       "      <td>24006374.0</td>\n",
       "      <td>24006362.0</td>\n",
       "      <td>2019-02-01 23:16:38</td>\n",
       "      <td>Опять про Украину новости?</td>\n",
       "      <td>1.0</td>\n",
       "      <td>neutral</td>\n",
       "      <td>0.925939</td>\n",
       "    </tr>\n",
       "    <tr>\n",
       "      <th>4</th>\n",
       "      <td>4</td>\n",
       "      <td>24006375.0</td>\n",
       "      <td>24006362.0</td>\n",
       "      <td>2019-02-01 23:16:40</td>\n",
       "      <td>Че такое ДНР?</td>\n",
       "      <td>2.0</td>\n",
       "      <td>neutral</td>\n",
       "      <td>0.866223</td>\n",
       "    </tr>\n",
       "  </tbody>\n",
       "</table>\n",
       "</div>"
      ],
      "text/plain": [
       "   Unnamed: 0          id     post_id             datetime  \\\n",
       "0           0  24006366.0  24006362.0  2019-02-01 23:14:14   \n",
       "1           1  24006370.0  24006362.0  2019-02-01 23:15:23   \n",
       "2           2  24006371.0  24006362.0  2019-02-01 23:16:21   \n",
       "3           3  24006374.0  24006362.0  2019-02-01 23:16:38   \n",
       "4           4  24006375.0  24006362.0  2019-02-01 23:16:40   \n",
       "\n",
       "                                                text  likes sentiment_verdict  \\\n",
       "0                                       ЧВК Вагнера?    5.0           neutral   \n",
       "1                [id4710641|Евгений], выздоравливай.    3.0           neutral   \n",
       "2  [id442655034|Андрей], искренне желаю этого все...    4.0          positive   \n",
       "3                         Опять про Украину новости?    1.0           neutral   \n",
       "4                                      Че такое ДНР?    2.0           neutral   \n",
       "\n",
       "   sentiment_score  \n",
       "0         0.912246  \n",
       "1         0.879370  \n",
       "2         0.676261  \n",
       "3         0.925939  \n",
       "4         0.866223  "
      ]
     },
     "execution_count": 70,
     "metadata": {},
     "output_type": "execute_result"
    }
   ],
   "source": [
    "#наверное стоило сделать новую переменную, но я не буду.......\n",
    "df_comments = pd.read_csv('/kaggle/input/df-comments-cooked/df_comments_cooked.csv')\n",
    "df_comments.head()"
   ]
  },
  {
   "cell_type": "markdown",
   "metadata": {
    "id": "smRVE1hVM_zn"
   },
   "source": [
    "## Часть 4: аналитика (3 балла + 0.2 бонусных)\n",
    "\n",
    "Мы с вами огромные молодцы. Мы обучили модель для категоризации новостей, построили с её помощью прогнозы. Мы проскорили комментарии на их сентимент-окрас. Теперь давайте проанализируем новости. Описывайте полученные результаты таким образом, чтобы не получить уголовку на 5 лет за дискредитацию чего-нибудь или оскорбление чувств кого-нибудь 💜"
   ]
  },
  {
   "cell_type": "markdown",
   "metadata": {
    "id": "7z-jdjgeM_zn"
   },
   "source": [
    "__[0.6 балла] Задание 10:__ Какая доля комментариев позитивная? Какая доля комментариев негативная? Выведите 10 самых позитивных комментариев.\n",
    "\n",
    "Выведите 10 самых негативных комментариев, поугарайте с них. Удалите их вывод из тетрадки. Никто не должен их видеть, это должно остаться только между нами. Поззитивные не удаляйте. Они пусть останутся."
   ]
  },
  {
   "cell_type": "code",
   "execution_count": null,
   "metadata": {
    "execution": {
     "iopub.execute_input": "2024-12-11T18:52:01.982784Z",
     "iopub.status.busy": "2024-12-11T18:52:01.982447Z",
     "iopub.status.idle": "2024-12-11T18:52:02.474146Z",
     "shell.execute_reply": "2024-12-11T18:52:02.473130Z",
     "shell.execute_reply.started": "2024-12-11T18:52:01.982754Z"
    },
    "id": "EqOwlAusM_zn",
    "outputId": "6221a5e4-4e36-4de3-94a9-3cc8d77260e3"
   },
   "outputs": [
    {
     "name": "stdout",
     "output_type": "stream",
     "text": [
      "Positive comments = 0.07\n",
      "Negative comments = 0.221\n"
     ]
    }
   ],
   "source": [
    "positive = len(df_comments[df_comments['sentiment_verdict'] == 'positive'])/len(df_comments)\n",
    "negative = len(df_comments[df_comments['sentiment_verdict'] == 'negative'])/len(df_comments)\n",
    "\n",
    "print(f'Positive comments = {round(positive, 3)}')\n",
    "print(f'Negative comments = {round(negative, 3)}')"
   ]
  },
  {
   "cell_type": "code",
   "execution_count": null,
   "metadata": {
    "execution": {
     "iopub.execute_input": "2024-12-11T18:52:05.819450Z",
     "iopub.status.busy": "2024-12-11T18:52:05.818742Z",
     "iopub.status.idle": "2024-12-11T18:52:06.522286Z",
     "shell.execute_reply": "2024-12-11T18:52:06.521311Z",
     "shell.execute_reply.started": "2024-12-11T18:52:05.819414Z"
    },
    "id": "hcpRhU5Ca8Gq",
    "outputId": "759192e2-954d-468b-ce09-5e32bf13fabe"
   },
   "outputs": [
    {
     "data": {
      "text/html": [
       "<div>\n",
       "<style scoped>\n",
       "    .dataframe tbody tr th:only-of-type {\n",
       "        vertical-align: middle;\n",
       "    }\n",
       "\n",
       "    .dataframe tbody tr th {\n",
       "        vertical-align: top;\n",
       "    }\n",
       "\n",
       "    .dataframe thead th {\n",
       "        text-align: right;\n",
       "    }\n",
       "</style>\n",
       "<table border=\"1\" class=\"dataframe\">\n",
       "  <thead>\n",
       "    <tr style=\"text-align: right;\">\n",
       "      <th></th>\n",
       "      <th>Unnamed: 0</th>\n",
       "      <th>id</th>\n",
       "      <th>post_id</th>\n",
       "      <th>datetime</th>\n",
       "      <th>text</th>\n",
       "      <th>likes</th>\n",
       "      <th>sentiment_verdict</th>\n",
       "      <th>sentiment_score</th>\n",
       "    </tr>\n",
       "  </thead>\n",
       "  <tbody>\n",
       "    <tr>\n",
       "      <th>479058</th>\n",
       "      <td>493792</td>\n",
       "      <td>23124647.0</td>\n",
       "      <td>23122693.0</td>\n",
       "      <td>2018-11-20 09:22:40</td>\n",
       "      <td>По всем рсми рашки твердят что аналогов С400 н...</td>\n",
       "      <td>0.0</td>\n",
       "      <td>positive</td>\n",
       "      <td>0.996725</td>\n",
       "    </tr>\n",
       "    <tr>\n",
       "      <th>1336413</th>\n",
       "      <td>1379447</td>\n",
       "      <td>21430353.0</td>\n",
       "      <td>21430175.0</td>\n",
       "      <td>2018-06-30 06:03:09</td>\n",
       "      <td>Осталось за воздух взимать плату. Ждем-с</td>\n",
       "      <td>1.0</td>\n",
       "      <td>positive</td>\n",
       "      <td>0.996674</td>\n",
       "    </tr>\n",
       "    <tr>\n",
       "      <th>2273139</th>\n",
       "      <td>2352264</td>\n",
       "      <td>18966945.0</td>\n",
       "      <td>18966918.0</td>\n",
       "      <td>2017-12-19 19:39:41</td>\n",
       "      <td>[id326530640|Без], эх, вот эти твои слова Влад...</td>\n",
       "      <td>0.0</td>\n",
       "      <td>positive</td>\n",
       "      <td>0.996605</td>\n",
       "    </tr>\n",
       "    <tr>\n",
       "      <th>1989599</th>\n",
       "      <td>2057938</td>\n",
       "      <td>19835467.0</td>\n",
       "      <td>19834316.0</td>\n",
       "      <td>2018-03-02 15:22:52</td>\n",
       "      <td>[id339999071|Костя], Блин, вы все время ждёте ...</td>\n",
       "      <td>2.0</td>\n",
       "      <td>positive</td>\n",
       "      <td>0.996536</td>\n",
       "    </tr>\n",
       "    <tr>\n",
       "      <th>2005708</th>\n",
       "      <td>2074701</td>\n",
       "      <td>19777893.0</td>\n",
       "      <td>19777484.0</td>\n",
       "      <td>2018-02-26 22:08:45</td>\n",
       "      <td>Отнял жизнь молодой девчонки. Такому не пожизн...</td>\n",
       "      <td>1.0</td>\n",
       "      <td>positive</td>\n",
       "      <td>0.996462</td>\n",
       "    </tr>\n",
       "    <tr>\n",
       "      <th>229898</th>\n",
       "      <td>236794</td>\n",
       "      <td>23600820.0</td>\n",
       "      <td>23599713.0</td>\n",
       "      <td>2018-12-31 04:52:12</td>\n",
       "      <td>А Путин  втер нам что  средний продолжительнос...</td>\n",
       "      <td>4.0</td>\n",
       "      <td>positive</td>\n",
       "      <td>0.996461</td>\n",
       "    </tr>\n",
       "    <tr>\n",
       "      <th>1260975</th>\n",
       "      <td>1300899</td>\n",
       "      <td>21603883.0</td>\n",
       "      <td>21603074.0</td>\n",
       "      <td>2018-07-13 03:38:28</td>\n",
       "      <td>Вы депутатов деньги то не считайте!))))</td>\n",
       "      <td>0.0</td>\n",
       "      <td>positive</td>\n",
       "      <td>0.996450</td>\n",
       "    </tr>\n",
       "    <tr>\n",
       "      <th>280055</th>\n",
       "      <td>288287</td>\n",
       "      <td>23505170.0</td>\n",
       "      <td>23505066.0</td>\n",
       "      <td>2018-12-21 20:27:45</td>\n",
       "      <td>Сказки про отказ от доллара продолжаются. Лапш...</td>\n",
       "      <td>0.0</td>\n",
       "      <td>positive</td>\n",
       "      <td>0.996444</td>\n",
       "    </tr>\n",
       "    <tr>\n",
       "      <th>399403</th>\n",
       "      <td>411428</td>\n",
       "      <td>23265211.0</td>\n",
       "      <td>23264494.0</td>\n",
       "      <td>2018-12-01 12:45:01</td>\n",
       "      <td>[id114124060|Олег], русские долго запрягают,но...</td>\n",
       "      <td>0.0</td>\n",
       "      <td>positive</td>\n",
       "      <td>0.996431</td>\n",
       "    </tr>\n",
       "    <tr>\n",
       "      <th>1627614</th>\n",
       "      <td>1681663</td>\n",
       "      <td>20758382.0</td>\n",
       "      <td>20758302.0</td>\n",
       "      <td>2018-05-05 08:41:23</td>\n",
       "      <td>No bad</td>\n",
       "      <td>0.0</td>\n",
       "      <td>positive</td>\n",
       "      <td>0.996418</td>\n",
       "    </tr>\n",
       "  </tbody>\n",
       "</table>\n",
       "</div>"
      ],
      "text/plain": [
       "         Unnamed: 0          id     post_id             datetime  \\\n",
       "479058       493792  23124647.0  23122693.0  2018-11-20 09:22:40   \n",
       "1336413     1379447  21430353.0  21430175.0  2018-06-30 06:03:09   \n",
       "2273139     2352264  18966945.0  18966918.0  2017-12-19 19:39:41   \n",
       "1989599     2057938  19835467.0  19834316.0  2018-03-02 15:22:52   \n",
       "2005708     2074701  19777893.0  19777484.0  2018-02-26 22:08:45   \n",
       "229898       236794  23600820.0  23599713.0  2018-12-31 04:52:12   \n",
       "1260975     1300899  21603883.0  21603074.0  2018-07-13 03:38:28   \n",
       "280055       288287  23505170.0  23505066.0  2018-12-21 20:27:45   \n",
       "399403       411428  23265211.0  23264494.0  2018-12-01 12:45:01   \n",
       "1627614     1681663  20758382.0  20758302.0  2018-05-05 08:41:23   \n",
       "\n",
       "                                                      text  likes  \\\n",
       "479058   По всем рсми рашки твердят что аналогов С400 н...    0.0   \n",
       "1336413           Осталось за воздух взимать плату. Ждем-с    1.0   \n",
       "2273139  [id326530640|Без], эх, вот эти твои слова Влад...    0.0   \n",
       "1989599  [id339999071|Костя], Блин, вы все время ждёте ...    2.0   \n",
       "2005708  Отнял жизнь молодой девчонки. Такому не пожизн...    1.0   \n",
       "229898   А Путин  втер нам что  средний продолжительнос...    4.0   \n",
       "1260975            Вы депутатов деньги то не считайте!))))    0.0   \n",
       "280055   Сказки про отказ от доллара продолжаются. Лапш...    0.0   \n",
       "399403   [id114124060|Олег], русские долго запрягают,но...    0.0   \n",
       "1627614                                             No bad    0.0   \n",
       "\n",
       "        sentiment_verdict  sentiment_score  \n",
       "479058           positive         0.996725  \n",
       "1336413          positive         0.996674  \n",
       "2273139          positive         0.996605  \n",
       "1989599          positive         0.996536  \n",
       "2005708          positive         0.996462  \n",
       "229898           positive         0.996461  \n",
       "1260975          positive         0.996450  \n",
       "280055           positive         0.996444  \n",
       "399403           positive         0.996431  \n",
       "1627614          positive         0.996418  "
      ]
     },
     "execution_count": 124,
     "metadata": {},
     "output_type": "execute_result"
    }
   ],
   "source": [
    "top_10_positive = df_comments[df_comments['sentiment_verdict'] == 'positive'].sort_values('sentiment_score', ascending = False).head(10)\n",
    "top_10_negative = df_comments[df_comments['sentiment_verdict'] == 'negative'].sort_values('sentiment_score', ascending = False).head(10)\n",
    "top_10_positive"
   ]
  },
  {
   "cell_type": "markdown",
   "metadata": {
    "id": "SGfBQto1M_zn"
   },
   "source": [
    "__[0.6 балла] Задание 11:__ Для каждой новости из датасета посчитайте количество негативных и позитивных комментариев под ней. Сохраните эти количества в виде новых колонок."
   ]
  },
  {
   "cell_type": "code",
   "execution_count": null,
   "metadata": {
    "execution": {
     "iopub.execute_input": "2024-12-11T18:52:36.996602Z",
     "iopub.status.busy": "2024-12-11T18:52:36.995768Z",
     "iopub.status.idle": "2024-12-11T18:52:37.371485Z",
     "shell.execute_reply": "2024-12-11T18:52:37.370414Z",
     "shell.execute_reply.started": "2024-12-11T18:52:36.996554Z"
    },
    "id": "lc3QCse-a8Gq",
    "outputId": "a58099be-f55e-4c8e-c0f1-235ee9421c35"
   },
   "outputs": [
    {
     "name": "stdout",
     "output_type": "stream",
     "text": [
      "sentiment_verdict   post_id  negative  neutral  positive\n",
      "0                  18223951        56      166         9\n",
      "1                  18224542        14       69         1\n",
      "2                  18224684        12       30         2\n",
      "3                  18224973         7       24         6\n",
      "4                  18225324        54      183        12\n",
      "...                     ...       ...      ...       ...\n",
      "19246              24005764        37       94         9\n",
      "19247              24005972        10       27         3\n",
      "19248              24006100         4       16         2\n",
      "19249              24006240        11       29         2\n",
      "19250              24006362        10       34         3\n",
      "\n",
      "[19251 rows x 4 columns]\n"
     ]
    },
    {
     "data": {
      "text/html": [
       "<div>\n",
       "<style scoped>\n",
       "    .dataframe tbody tr th:only-of-type {\n",
       "        vertical-align: middle;\n",
       "    }\n",
       "\n",
       "    .dataframe tbody tr th {\n",
       "        vertical-align: top;\n",
       "    }\n",
       "\n",
       "    .dataframe thead th {\n",
       "        text-align: right;\n",
       "    }\n",
       "</style>\n",
       "<table border=\"1\" class=\"dataframe\">\n",
       "  <thead>\n",
       "    <tr style=\"text-align: right;\">\n",
       "      <th></th>\n",
       "      <th>id</th>\n",
       "      <th>href</th>\n",
       "      <th>datetime</th>\n",
       "      <th>title</th>\n",
       "      <th>likes</th>\n",
       "      <th>comments</th>\n",
       "      <th>snippet</th>\n",
       "      <th>title_clean</th>\n",
       "      <th>snippet_clean</th>\n",
       "      <th>target_tags</th>\n",
       "      <th>negative</th>\n",
       "      <th>neutral</th>\n",
       "      <th>positive</th>\n",
       "    </tr>\n",
       "  </thead>\n",
       "  <tbody>\n",
       "    <tr>\n",
       "      <th>0</th>\n",
       "      <td>24006362</td>\n",
       "      <td>/20190201/1550280358.html</td>\n",
       "      <td>2019-02-01 23:13:17</td>\n",
       "      <td>В ДНР заявили о задержании диверсантов, причас...</td>\n",
       "      <td>15</td>\n",
       "      <td>28</td>\n",
       "      <td>NaN</td>\n",
       "      <td>в днр заявили о задержании диверсантов причаст...</td>\n",
       "      <td>#UNKN</td>\n",
       "      <td>[0]</td>\n",
       "      <td>10.0</td>\n",
       "      <td>34.0</td>\n",
       "      <td>3.0</td>\n",
       "    </tr>\n",
       "    <tr>\n",
       "      <th>1</th>\n",
       "      <td>24006240</td>\n",
       "      <td>/20190201/1550268781.html</td>\n",
       "      <td>2019-02-01 22:38:41</td>\n",
       "      <td>Житель Урала \"заминировал\" ТЦ из-за снятия  со...</td>\n",
       "      <td>32</td>\n",
       "      <td>42</td>\n",
       "      <td>NaN</td>\n",
       "      <td>житель урала заминировал тц изза снятия  сотов...</td>\n",
       "      <td>#UNKN</td>\n",
       "      <td>[0]</td>\n",
       "      <td>11.0</td>\n",
       "      <td>29.0</td>\n",
       "      <td>2.0</td>\n",
       "    </tr>\n",
       "    <tr>\n",
       "      <th>2</th>\n",
       "      <td>24006100</td>\n",
       "      <td>/20190201/1550282212.html</td>\n",
       "      <td>2019-02-01 21:58:52</td>\n",
       "      <td>В Черном море нашли \"потерянный флот Гитлера\"</td>\n",
       "      <td>84</td>\n",
       "      <td>23</td>\n",
       "      <td>NaN</td>\n",
       "      <td>в черном море нашли потерянный флот гитлера</td>\n",
       "      <td>#UNKN</td>\n",
       "      <td>[0]</td>\n",
       "      <td>4.0</td>\n",
       "      <td>16.0</td>\n",
       "      <td>2.0</td>\n",
       "    </tr>\n",
       "    <tr>\n",
       "      <th>3</th>\n",
       "      <td>24005972</td>\n",
       "      <td>/20190202/1550283179.html</td>\n",
       "      <td>2019-02-01 21:27:06</td>\n",
       "      <td>В США освободили задержанную российскую актрис...</td>\n",
       "      <td>58</td>\n",
       "      <td>35</td>\n",
       "      <td>NaN</td>\n",
       "      <td>в сша освободили задержанную российскую актрис...</td>\n",
       "      <td>#UNKN</td>\n",
       "      <td>[0]</td>\n",
       "      <td>10.0</td>\n",
       "      <td>27.0</td>\n",
       "      <td>3.0</td>\n",
       "    </tr>\n",
       "    <tr>\n",
       "      <th>4</th>\n",
       "      <td>24005764</td>\n",
       "      <td>/20190201/1550262848.html</td>\n",
       "      <td>2019-02-01 20:55:54</td>\n",
       "      <td>Толкнувший Скабееву депутат Рады заявил о гроз...</td>\n",
       "      <td>45</td>\n",
       "      <td>145</td>\n",
       "      <td>NaN</td>\n",
       "      <td>толкнувший скабееву депутат рады заявил о гроз...</td>\n",
       "      <td>#UNKN</td>\n",
       "      <td>[0]</td>\n",
       "      <td>37.0</td>\n",
       "      <td>94.0</td>\n",
       "      <td>9.0</td>\n",
       "    </tr>\n",
       "    <tr>\n",
       "      <th>...</th>\n",
       "      <td>...</td>\n",
       "      <td>...</td>\n",
       "      <td>...</td>\n",
       "      <td>...</td>\n",
       "      <td>...</td>\n",
       "      <td>...</td>\n",
       "      <td>...</td>\n",
       "      <td>...</td>\n",
       "      <td>...</td>\n",
       "      <td>...</td>\n",
       "      <td>...</td>\n",
       "      <td>...</td>\n",
       "      <td>...</td>\n",
       "    </tr>\n",
       "    <tr>\n",
       "      <th>19923</th>\n",
       "      <td>17976905</td>\n",
       "      <td>/politics/20170929/1505812885.html</td>\n",
       "      <td>2017-09-29 03:51:03</td>\n",
       "      <td>Политологи назвали губернаторов, которым грози...</td>\n",
       "      <td>141</td>\n",
       "      <td>114</td>\n",
       "      <td>NaN</td>\n",
       "      <td>политологи назвали губернаторов которым грозит...</td>\n",
       "      <td>#UNKN</td>\n",
       "      <td>[0]</td>\n",
       "      <td>NaN</td>\n",
       "      <td>NaN</td>\n",
       "      <td>NaN</td>\n",
       "    </tr>\n",
       "    <tr>\n",
       "      <th>19924</th>\n",
       "      <td>17976766</td>\n",
       "      <td>/politics/20170929/1505809314.html</td>\n",
       "      <td>2017-09-29 03:20:41</td>\n",
       "      <td>Захарова рассказала, какую книгу подписывал Ла...</td>\n",
       "      <td>140</td>\n",
       "      <td>50</td>\n",
       "      <td>NaN</td>\n",
       "      <td>захарова рассказала какую книгу подписывал лав...</td>\n",
       "      <td>#UNKN</td>\n",
       "      <td>[0]</td>\n",
       "      <td>NaN</td>\n",
       "      <td>NaN</td>\n",
       "      <td>NaN</td>\n",
       "    </tr>\n",
       "    <tr>\n",
       "      <th>19925</th>\n",
       "      <td>17976601</td>\n",
       "      <td>/science/20170928/1505787196.html</td>\n",
       "      <td>2017-09-29 02:55:49</td>\n",
       "      <td>Современные люди появились более 300 тысяч лет...</td>\n",
       "      <td>202</td>\n",
       "      <td>69</td>\n",
       "      <td>NaN</td>\n",
       "      <td>современные люди появились более 300 тысяч лет...</td>\n",
       "      <td>#UNKN</td>\n",
       "      <td>[0]</td>\n",
       "      <td>NaN</td>\n",
       "      <td>NaN</td>\n",
       "      <td>NaN</td>\n",
       "    </tr>\n",
       "    <tr>\n",
       "      <th>19926</th>\n",
       "      <td>17976198</td>\n",
       "      <td>/world/20170929/1505810992.html</td>\n",
       "      <td>2017-09-29 02:00:09</td>\n",
       "      <td>В США ребенок устроил стрельбу</td>\n",
       "      <td>138</td>\n",
       "      <td>51</td>\n",
       "      <td>NaN</td>\n",
       "      <td>в сша ребенок устроил стрельбу</td>\n",
       "      <td>#UNKN</td>\n",
       "      <td>[0]</td>\n",
       "      <td>NaN</td>\n",
       "      <td>NaN</td>\n",
       "      <td>NaN</td>\n",
       "    </tr>\n",
       "    <tr>\n",
       "      <th>19927</th>\n",
       "      <td>17976037</td>\n",
       "      <td>/defense_safety/20170929/1505808562.html</td>\n",
       "      <td>2017-09-29 01:28:55</td>\n",
       "      <td>В России впервые сократили число призывников н...</td>\n",
       "      <td>329</td>\n",
       "      <td>241</td>\n",
       "      <td>NaN</td>\n",
       "      <td>в россии впервые сократили число призывников н...</td>\n",
       "      <td>#UNKN</td>\n",
       "      <td>[0]</td>\n",
       "      <td>NaN</td>\n",
       "      <td>NaN</td>\n",
       "      <td>NaN</td>\n",
       "    </tr>\n",
       "  </tbody>\n",
       "</table>\n",
       "<p>19928 rows × 13 columns</p>\n",
       "</div>"
      ],
      "text/plain": [
       "             id                                      href  \\\n",
       "0      24006362                 /20190201/1550280358.html   \n",
       "1      24006240                 /20190201/1550268781.html   \n",
       "2      24006100                 /20190201/1550282212.html   \n",
       "3      24005972                 /20190202/1550283179.html   \n",
       "4      24005764                 /20190201/1550262848.html   \n",
       "...         ...                                       ...   \n",
       "19923  17976905        /politics/20170929/1505812885.html   \n",
       "19924  17976766        /politics/20170929/1505809314.html   \n",
       "19925  17976601         /science/20170928/1505787196.html   \n",
       "19926  17976198           /world/20170929/1505810992.html   \n",
       "19927  17976037  /defense_safety/20170929/1505808562.html   \n",
       "\n",
       "                  datetime                                              title  \\\n",
       "0      2019-02-01 23:13:17  В ДНР заявили о задержании диверсантов, причас...   \n",
       "1      2019-02-01 22:38:41  Житель Урала \"заминировал\" ТЦ из-за снятия  со...   \n",
       "2      2019-02-01 21:58:52      В Черном море нашли \"потерянный флот Гитлера\"   \n",
       "3      2019-02-01 21:27:06  В США освободили задержанную российскую актрис...   \n",
       "4      2019-02-01 20:55:54  Толкнувший Скабееву депутат Рады заявил о гроз...   \n",
       "...                    ...                                                ...   \n",
       "19923  2017-09-29 03:51:03  Политологи назвали губернаторов, которым грози...   \n",
       "19924  2017-09-29 03:20:41  Захарова рассказала, какую книгу подписывал Ла...   \n",
       "19925  2017-09-29 02:55:49  Современные люди появились более 300 тысяч лет...   \n",
       "19926  2017-09-29 02:00:09                     В США ребенок устроил стрельбу   \n",
       "19927  2017-09-29 01:28:55  В России впервые сократили число призывников н...   \n",
       "\n",
       "       likes  comments snippet  \\\n",
       "0         15        28     NaN   \n",
       "1         32        42     NaN   \n",
       "2         84        23     NaN   \n",
       "3         58        35     NaN   \n",
       "4         45       145     NaN   \n",
       "...      ...       ...     ...   \n",
       "19923    141       114     NaN   \n",
       "19924    140        50     NaN   \n",
       "19925    202        69     NaN   \n",
       "19926    138        51     NaN   \n",
       "19927    329       241     NaN   \n",
       "\n",
       "                                             title_clean snippet_clean  \\\n",
       "0      в днр заявили о задержании диверсантов причаст...         #UNKN   \n",
       "1      житель урала заминировал тц изза снятия  сотов...         #UNKN   \n",
       "2            в черном море нашли потерянный флот гитлера         #UNKN   \n",
       "3      в сша освободили задержанную российскую актрис...         #UNKN   \n",
       "4      толкнувший скабееву депутат рады заявил о гроз...         #UNKN   \n",
       "...                                                  ...           ...   \n",
       "19923  политологи назвали губернаторов которым грозит...         #UNKN   \n",
       "19924  захарова рассказала какую книгу подписывал лав...         #UNKN   \n",
       "19925  современные люди появились более 300 тысяч лет...         #UNKN   \n",
       "19926                     в сша ребенок устроил стрельбу         #UNKN   \n",
       "19927  в россии впервые сократили число призывников н...         #UNKN   \n",
       "\n",
       "      target_tags  negative  neutral  positive  \n",
       "0             [0]      10.0     34.0       3.0  \n",
       "1             [0]      11.0     29.0       2.0  \n",
       "2             [0]       4.0     16.0       2.0  \n",
       "3             [0]      10.0     27.0       3.0  \n",
       "4             [0]      37.0     94.0       9.0  \n",
       "...           ...       ...      ...       ...  \n",
       "19923         [0]       NaN      NaN       NaN  \n",
       "19924         [0]       NaN      NaN       NaN  \n",
       "19925         [0]       NaN      NaN       NaN  \n",
       "19926         [0]       NaN      NaN       NaN  \n",
       "19927         [0]       NaN      NaN       NaN  \n",
       "\n",
       "[19928 rows x 13 columns]"
      ]
     },
     "execution_count": 126,
     "metadata": {},
     "output_type": "execute_result"
    }
   ],
   "source": [
    "df_comments_grouped = df_comments.groupby(['post_id', 'sentiment_verdict']).size().unstack()\n",
    "df_comments_grouped = df_comments_grouped.reset_index().fillna(0).astype(int)\n",
    "print(df_comments_grouped)\n",
    "\n",
    "df_vk_new = pd.merge(df_vk, df_comments_grouped[['post_id',  'negative', 'neutral',  'positive']], how = 'left', left_on = 'id', right_on = 'post_id')\n",
    "df_vk_new = df_vk_new.drop('post_id', axis = 1)\n",
    "df_vk_new"
   ]
  },
  {
   "cell_type": "markdown",
   "metadata": {
    "id": "jBOzB5yBM_zn"
   },
   "source": [
    "__[0.6 балла] Задание 12:__ Правда ли, что новости с большим количеством лайков получают больше негативных комментариев? А позитивных? Правда ли, что чем больше лайков, тем под новостью больше комментариев?\n",
    "\n",
    "Постройте визуализацию, которая могла бы это проиллюстрировать."
   ]
  },
  {
   "cell_type": "code",
   "execution_count": null,
   "metadata": {
    "execution": {
     "iopub.execute_input": "2024-12-11T18:14:46.308769Z",
     "iopub.status.busy": "2024-12-11T18:14:46.308088Z",
     "iopub.status.idle": "2024-12-11T18:14:47.240657Z",
     "shell.execute_reply": "2024-12-11T18:14:47.239823Z",
     "shell.execute_reply.started": "2024-12-11T18:14:46.308734Z"
    },
    "id": "UjI74lt5M_zn",
    "outputId": "2febbf0a-343d-44f4-a5ec-64c70039678d"
   },
   "outputs": [
    {
     "data": {
      "image/png": "[encoded data removed]",
      "text/plain": [
       "<Figure size 1800x400 with 3 Axes>"
      ]
     },
     "metadata": {},
     "output_type": "display_data"
    }
   ],
   "source": [
    "plt.figure(figsize=(18, 4))\n",
    "\n",
    "plt.subplot(1, 3, 1)\n",
    "plt.scatter(df_vk_new['likes'], df_vk_new['comments'], color='yellow')\n",
    "plt.title('Likes & Comments')\n",
    "plt.xlabel('Likes')\n",
    "plt.ylabel('Comments')\n",
    "\n",
    "plt.subplot(1, 3, 2)\n",
    "plt.scatter(df_vk_new['likes'], df_vk_new['positive'], color='green')\n",
    "plt.title('Likes & Positive comments')\n",
    "plt.xlabel('Likes')\n",
    "plt.ylabel('Positive comments')\n",
    "\n",
    "plt.subplot(1, 3, 3)\n",
    "plt.scatter(df_vk_new['likes'], df_vk_new['negative'], color='red')\n",
    "plt.title('Likes & Negative comments')\n",
    "plt.xlabel('Likes')\n",
    "plt.ylabel('Negative comments')\n",
    "\n",
    "plt.tight_layout()\n",
    "\n",
    "plt.show()"
   ]
  },
  {
   "cell_type": "markdown",
   "metadata": {
    "id": "me67vrrca8Gq"
   },
   "source": [
    "Наверное нельзя сказать, что существует какая-то зависимость между количеством лайков и количеством комментариев. При этом особенно слабая эта связь для негативных комментариев, а для позитивных комментариев, напротив, можно разглядеть положительную зависимость между количеством лайков и количеством комментариев этого типа."
   ]
  },
  {
   "cell_type": "markdown",
   "metadata": {
    "id": "3wN5AFrAM_zn"
   },
   "source": [
    "__[0.6 балла] Задание 13:__  Давайте построим по сентимент-окрасу комментариев топ позитивных новостей.\n",
    "\n",
    "- Если под новостью оставлено 100 комментариев, из которых 80 позитивные, мы можем быть уверены в том, что новость была хорошо воспринята людьми.\n",
    "- Если под новостью всего один комментарий и он оказался позитивным, то у нас 100% позитивных комментариев, но это вовсе не означает, что новость была воспринята хорошо.\n",
    "\n",
    "Получается, что сортировать по доле позитивных комментариев нельзя. Давайте поступим умнее. Доля позитивных комментариев под постом -- это случайная величина. Её довольно часто моделируют с помощью бета-распределения. Если это случайная величина, мы можем построить для неё предиктивный интервал. Пусть $u$ - число позитивных комментариев, а $d$ - нейтральных и негативных.  Пусть\n",
    "\n",
    "$$\n",
    "a = 1 + u \\qquad b = 1 + d.\n",
    "$$\n",
    "\n",
    "Тогда нижняя граница $95\\%$ предиктивного интервала для доли будет вычисляться по такой формуле:\n",
    "\n",
    "$$\n",
    "\\frac{a}{a + b} - 1.65 \\cdot \\sqrt{\\frac{a \\cdot b}{(a + b)^2 \\cdot (a + b + 1)}}\n",
    "$$\n",
    "\n",
    "Если под новостью был всего один комментарий, у такой случайной величины будет высокая дисперсия. Это означаeт, что штука, которую мы вычитаем из доли, окажется высокой. Левая граница интервала окажется маленькой и мы не поднимем комментарий в нашем топе наверх. Фактически мы делаем сортировку по квантилю уровня $0.05$ вместо среднего.\n",
    "\n",
    "От вас требуется вбить эту формулу, сделать сортировку и вывести на экран топ позитивных новостей. Подробнее про то, откуда берётся эта формула можно почитать [в этой книге.](https://disk.yandex.ru/i/Ctd08bTwC9eI3g) Ищите 4 главу, страницу 140."
   ]
  },
  {
   "cell_type": "code",
   "execution_count": null,
   "metadata": {
    "execution": {
     "iopub.execute_input": "2024-12-11T18:51:44.231408Z",
     "iopub.status.busy": "2024-12-11T18:51:44.231064Z",
     "iopub.status.idle": "2024-12-11T18:51:44.261431Z",
     "shell.execute_reply": "2024-12-11T18:51:44.260600Z",
     "shell.execute_reply.started": "2024-12-11T18:51:44.231382Z"
    },
    "id": "ToygzCZwM_zn",
    "outputId": "88f9dc8a-be78-4902-b740-c3d47b7a8965"
   },
   "outputs": [
    {
     "data": {
      "text/html": [
       "<div>\n",
       "<style scoped>\n",
       "    .dataframe tbody tr th:only-of-type {\n",
       "        vertical-align: middle;\n",
       "    }\n",
       "\n",
       "    .dataframe tbody tr th {\n",
       "        vertical-align: top;\n",
       "    }\n",
       "\n",
       "    .dataframe thead th {\n",
       "        text-align: right;\n",
       "    }\n",
       "</style>\n",
       "<table border=\"1\" class=\"dataframe\">\n",
       "  <thead>\n",
       "    <tr style=\"text-align: right;\">\n",
       "      <th></th>\n",
       "      <th>id</th>\n",
       "      <th>href</th>\n",
       "      <th>datetime</th>\n",
       "      <th>title</th>\n",
       "      <th>likes</th>\n",
       "      <th>comments</th>\n",
       "      <th>snippet</th>\n",
       "      <th>title_clean</th>\n",
       "      <th>snippet_clean</th>\n",
       "      <th>target_tags</th>\n",
       "      <th>negative</th>\n",
       "      <th>neutral</th>\n",
       "      <th>positive</th>\n",
       "      <th>interval_lower</th>\n",
       "    </tr>\n",
       "  </thead>\n",
       "  <tbody>\n",
       "    <tr>\n",
       "      <th>14189</th>\n",
       "      <td>19965364</td>\n",
       "      <td>/science/20180311/1516126324.html</td>\n",
       "      <td>2018-03-11 20:27:37</td>\n",
       "      <td>Телескоп \"Хаббл\" сфотографировал сталкивающиес...</td>\n",
       "      <td>369</td>\n",
       "      <td>107</td>\n",
       "      <td>NaN</td>\n",
       "      <td>телескоп хаббл сфотографировал сталкивающиеся ...</td>\n",
       "      <td>#UNKN</td>\n",
       "      <td>[0]</td>\n",
       "      <td>3.0</td>\n",
       "      <td>32.0</td>\n",
       "      <td>70.0</td>\n",
       "      <td>0.588533</td>\n",
       "    </tr>\n",
       "    <tr>\n",
       "      <th>9521</th>\n",
       "      <td>21544373</td>\n",
       "      <td>https://rsport.ria.ru/russia2018_ourteam/20180...</td>\n",
       "      <td>2018-07-08 16:13:28</td>\n",
       "      <td>Болельщики сборной России подарили Акинфееву б...</td>\n",
       "      <td>921</td>\n",
       "      <td>124</td>\n",
       "      <td>#ЧМ2018</td>\n",
       "      <td>болельщики сборной россии подарили акинфееву б...</td>\n",
       "      <td>чм2018</td>\n",
       "      <td>[0]</td>\n",
       "      <td>10.0</td>\n",
       "      <td>39.0</td>\n",
       "      <td>69.0</td>\n",
       "      <td>0.509382</td>\n",
       "    </tr>\n",
       "    <tr>\n",
       "      <th>14188</th>\n",
       "      <td>19965584</td>\n",
       "      <td>/culture/20180311/1516125774.html</td>\n",
       "      <td>2018-03-11 20:57:56</td>\n",
       "      <td>Юлия Самойлова представит Россию на Евровидени...</td>\n",
       "      <td>418</td>\n",
       "      <td>203</td>\n",
       "      <td>NaN</td>\n",
       "      <td>юлия самойлова представит россию на евровидени...</td>\n",
       "      <td>#UNKN</td>\n",
       "      <td>[0]</td>\n",
       "      <td>8.0</td>\n",
       "      <td>80.0</td>\n",
       "      <td>112.0</td>\n",
       "      <td>0.501912</td>\n",
       "    </tr>\n",
       "    <tr>\n",
       "      <th>10545</th>\n",
       "      <td>21216757</td>\n",
       "      <td>/tourism/20180611/1522532289.html</td>\n",
       "      <td>2018-06-11 19:01:32</td>\n",
       "      <td>Один из самых больших айсбергов на планете мож...</td>\n",
       "      <td>328</td>\n",
       "      <td>63</td>\n",
       "      <td>Ученые NASA сообщили, что крупнейший айсберг, ...</td>\n",
       "      <td>один из самых больших айсбергов на планете мож...</td>\n",
       "      <td>ученые nasa сообщили что крупнейший айсберг ко...</td>\n",
       "      <td>[0]</td>\n",
       "      <td>2.0</td>\n",
       "      <td>23.0</td>\n",
       "      <td>36.0</td>\n",
       "      <td>0.485761</td>\n",
       "    </tr>\n",
       "    <tr>\n",
       "      <th>9895</th>\n",
       "      <td>21423423</td>\n",
       "      <td>http://ria.ru/society/20180629/1523631104.html</td>\n",
       "      <td>2018-06-29 13:48:42</td>\n",
       "      <td>Обратившаяся к Путину украинка встретилась с с...</td>\n",
       "      <td>405</td>\n",
       "      <td>156</td>\n",
       "      <td>NaN</td>\n",
       "      <td>обратившаяся к путину украинка встретилась с с...</td>\n",
       "      <td>#UNKN</td>\n",
       "      <td>[0]</td>\n",
       "      <td>15.0</td>\n",
       "      <td>58.0</td>\n",
       "      <td>79.0</td>\n",
       "      <td>0.453265</td>\n",
       "    </tr>\n",
       "  </tbody>\n",
       "</table>\n",
       "</div>"
      ],
      "text/plain": [
       "             id                                               href  \\\n",
       "14189  19965364                  /science/20180311/1516126324.html   \n",
       "9521   21544373  https://rsport.ria.ru/russia2018_ourteam/20180...   \n",
       "14188  19965584                  /culture/20180311/1516125774.html   \n",
       "10545  21216757                  /tourism/20180611/1522532289.html   \n",
       "9895   21423423     http://ria.ru/society/20180629/1523631104.html   \n",
       "\n",
       "                  datetime                                              title  \\\n",
       "14189  2018-03-11 20:27:37  Телескоп \"Хаббл\" сфотографировал сталкивающиес...   \n",
       "9521   2018-07-08 16:13:28  Болельщики сборной России подарили Акинфееву б...   \n",
       "14188  2018-03-11 20:57:56  Юлия Самойлова представит Россию на Евровидени...   \n",
       "10545  2018-06-11 19:01:32  Один из самых больших айсбергов на планете мож...   \n",
       "9895   2018-06-29 13:48:42  Обратившаяся к Путину украинка встретилась с с...   \n",
       "\n",
       "       likes  comments                                            snippet  \\\n",
       "14189    369       107                                                NaN   \n",
       "9521     921       124                                            #ЧМ2018   \n",
       "14188    418       203                                                NaN   \n",
       "10545    328        63  Ученые NASA сообщили, что крупнейший айсберг, ...   \n",
       "9895     405       156                                                NaN   \n",
       "\n",
       "                                             title_clean  \\\n",
       "14189  телескоп хаббл сфотографировал сталкивающиеся ...   \n",
       "9521   болельщики сборной россии подарили акинфееву б...   \n",
       "14188  юлия самойлова представит россию на евровидени...   \n",
       "10545  один из самых больших айсбергов на планете мож...   \n",
       "9895   обратившаяся к путину украинка встретилась с с...   \n",
       "\n",
       "                                           snippet_clean target_tags  \\\n",
       "14189                                              #UNKN         [0]   \n",
       "9521                                              чм2018         [0]   \n",
       "14188                                              #UNKN         [0]   \n",
       "10545  ученые nasa сообщили что крупнейший айсберг ко...         [0]   \n",
       "9895                                               #UNKN         [0]   \n",
       "\n",
       "       negative  neutral  positive  interval_lower  \n",
       "14189       3.0     32.0      70.0        0.588533  \n",
       "9521       10.0     39.0      69.0        0.509382  \n",
       "14188       8.0     80.0     112.0        0.501912  \n",
       "10545       2.0     23.0      36.0        0.485761  \n",
       "9895       15.0     58.0      79.0        0.453265  "
      ]
     },
     "execution_count": 122,
     "metadata": {},
     "output_type": "execute_result"
    }
   ],
   "source": [
    "alpha = 1 + df_vk_new['positive']\n",
    "beta = 1 + df_vk_new['neutral'] + df_vk_new['negative']\n",
    "\n",
    "df_vk_new['interval_lower'] = alpha / (alpha + beta) - 1.65 * np.sqrt(alpha * beta / ((alpha + beta)**2 * (alpha + beta + 1)))\n",
    "\n",
    "news_sort = df_vk_new.sort_values('interval_lower', ascending = False)\n",
    "news_sort.head()"
   ]
  },
  {
   "cell_type": "markdown",
   "metadata": {
    "id": "8CuDk6kbM_zn"
   },
   "source": [
    "Построили? Срочно пришлите свою любимую позитивную  новость в общий чат!!!\n",
    "\n",
    "Топ негативных новостей строить не будем. Вокруг итак слишком много негатива 😻😻😻"
   ]
  },
  {
   "cell_type": "markdown",
   "metadata": {
    "id": "Gg_wCzsBM_zn"
   },
   "source": [
    "__[0.6 балла] Задание 14:__ Какие категории новостей оказались самыми позитивными? Придумайте способ найти такие категории и опишите его тут.\n",
    "\n",
    "__Ответ:__ Самые позитивные категории: различные географические места (города, океаны, страны), известные личности, lada?, интерактивные проекты. В коде описал ход мыслей"
   ]
  },
  {
   "cell_type": "code",
   "execution_count": null,
   "metadata": {
    "execution": {
     "iopub.execute_input": "2024-12-11T18:53:09.923789Z",
     "iopub.status.busy": "2024-12-11T18:53:09.923425Z",
     "iopub.status.idle": "2024-12-11T18:53:09.972082Z",
     "shell.execute_reply": "2024-12-11T18:53:09.970904Z",
     "shell.execute_reply.started": "2024-12-11T18:53:09.923758Z"
    },
    "id": "xI5wGLkDa8Gr",
    "outputId": "616e7de9-6ff2-4a9b-e50e-ba346769e856"
   },
   "outputs": [
    {
     "data": {
      "text/html": [
       "<div>\n",
       "<style scoped>\n",
       "    .dataframe tbody tr th:only-of-type {\n",
       "        vertical-align: middle;\n",
       "    }\n",
       "\n",
       "    .dataframe tbody tr th {\n",
       "        vertical-align: top;\n",
       "    }\n",
       "\n",
       "    .dataframe thead th {\n",
       "        text-align: right;\n",
       "    }\n",
       "</style>\n",
       "<table border=\"1\" class=\"dataframe\">\n",
       "  <thead>\n",
       "    <tr style=\"text-align: right;\">\n",
       "      <th></th>\n",
       "      <th>href</th>\n",
       "      <th>id</th>\n",
       "      <th>datetime</th>\n",
       "      <th>title</th>\n",
       "      <th>likes</th>\n",
       "      <th>comments</th>\n",
       "      <th>snippet</th>\n",
       "      <th>title_clean</th>\n",
       "      <th>snippet_clean</th>\n",
       "      <th>target_tags</th>\n",
       "      <th>negative</th>\n",
       "      <th>neutral</th>\n",
       "      <th>positive</th>\n",
       "      <th>interval_lower</th>\n",
       "      <th>tags</th>\n",
       "    </tr>\n",
       "  </thead>\n",
       "  <tbody>\n",
       "    <tr>\n",
       "      <th>0</th>\n",
       "      <td>/20181220/1548086735.html</td>\n",
       "      <td>23492479</td>\n",
       "      <td>2018-12-20 20:00:05</td>\n",
       "      <td>AR-проект \"Кто твой Дед Мороз?\"</td>\n",
       "      <td>32</td>\n",
       "      <td>7</td>\n",
       "      <td>\"Кто твой Дед Мороз?\" - история в дополненной ...</td>\n",
       "      <td>arпроект кто твой дед мороз</td>\n",
       "      <td>кто твой дед мороз  история в дополненной реал...</td>\n",
       "      <td>[0]</td>\n",
       "      <td>1.0</td>\n",
       "      <td>2.0</td>\n",
       "      <td>3.0</td>\n",
       "      <td>0.225000</td>\n",
       "      <td>интерактивные проекты,внутренний лонгрид,новый...</td>\n",
       "    </tr>\n",
       "    <tr>\n",
       "      <th>1</th>\n",
       "      <td>/20181226/1548764202.html</td>\n",
       "      <td>23557103</td>\n",
       "      <td>2018-12-26 18:55:52</td>\n",
       "      <td>Пожилой француз отправился в путешествие через...</td>\n",
       "      <td>130</td>\n",
       "      <td>66</td>\n",
       "      <td>Француз Жан-Жак Савен начал свое путешествие в...</td>\n",
       "      <td>пожилой француз отправился в путешествие через...</td>\n",
       "      <td>француз жанжак савен начал свое путешествие в ...</td>\n",
       "      <td>[0]</td>\n",
       "      <td>8.0</td>\n",
       "      <td>38.0</td>\n",
       "      <td>18.0</td>\n",
       "      <td>0.196609</td>\n",
       "      <td>атлантический океан,франция,в мире</td>\n",
       "    </tr>\n",
       "    <tr>\n",
       "      <th>2</th>\n",
       "      <td>/20181214/1548023961.html</td>\n",
       "      <td>23424551</td>\n",
       "      <td>2018-12-15 00:04:21</td>\n",
       "      <td>Архиепископ УПЦ назвал \"объединительный собор\"...</td>\n",
       "      <td>164</td>\n",
       "      <td>52</td>\n",
       "      <td>NaN</td>\n",
       "      <td>архиепископ упц назвал объединительный собор с...</td>\n",
       "      <td>#UNKN</td>\n",
       "      <td>[0]</td>\n",
       "      <td>7.0</td>\n",
       "      <td>28.0</td>\n",
       "      <td>14.0</td>\n",
       "      <td>0.189860</td>\n",
       "      <td>религия и мировоззрение,ситуация вокруг упц,ва...</td>\n",
       "    </tr>\n",
       "    <tr>\n",
       "      <th>3</th>\n",
       "      <td>/20181224/1548533049.html</td>\n",
       "      <td>23527352</td>\n",
       "      <td>2018-12-24 01:53:54</td>\n",
       "      <td>Шнуров и Собчак устроили перепалку в соцсетях</td>\n",
       "      <td>105</td>\n",
       "      <td>77</td>\n",
       "      <td>Шнуров опубликовал в своем Instagram стих, в к...</td>\n",
       "      <td>шнуров и собчак устроили перепалку в соцсетях</td>\n",
       "      <td>шнуров опубликовал в своем instagram стих в ко...</td>\n",
       "      <td>[0]</td>\n",
       "      <td>1.0</td>\n",
       "      <td>54.0</td>\n",
       "      <td>19.0</td>\n",
       "      <td>0.180357</td>\n",
       "      <td>шнур (сергей шнуров),ксения собчак,общество</td>\n",
       "    </tr>\n",
       "    <tr>\n",
       "      <th>4</th>\n",
       "      <td>/20181210/1547765148.html</td>\n",
       "      <td>23373128</td>\n",
       "      <td>2018-12-10 17:09:21</td>\n",
       "      <td>LADA стала вторым автомобильным брендом в мире...</td>\n",
       "      <td>269</td>\n",
       "      <td>223</td>\n",
       "      <td>NaN</td>\n",
       "      <td>lada стала вторым автомобильным брендом в мире...</td>\n",
       "      <td>#UNKN</td>\n",
       "      <td>[0]</td>\n",
       "      <td>38.0</td>\n",
       "      <td>128.0</td>\n",
       "      <td>46.0</td>\n",
       "      <td>0.173040</td>\n",
       "      <td>lada,авто,россия</td>\n",
       "    </tr>\n",
       "    <tr>\n",
       "      <th>...</th>\n",
       "      <td>...</td>\n",
       "      <td>...</td>\n",
       "      <td>...</td>\n",
       "      <td>...</td>\n",
       "      <td>...</td>\n",
       "      <td>...</td>\n",
       "      <td>...</td>\n",
       "      <td>...</td>\n",
       "      <td>...</td>\n",
       "      <td>...</td>\n",
       "      <td>...</td>\n",
       "      <td>...</td>\n",
       "      <td>...</td>\n",
       "      <td>...</td>\n",
       "      <td>...</td>\n",
       "    </tr>\n",
       "    <tr>\n",
       "      <th>1128</th>\n",
       "      <td>/20181219/1548201219.html</td>\n",
       "      <td>23478972</td>\n",
       "      <td>2018-12-19 20:05:00</td>\n",
       "      <td>\"Фройляйн Иванова\": русская танцовщица — о съе...</td>\n",
       "      <td>42</td>\n",
       "      <td>11</td>\n",
       "      <td>В мистическом триллере \"Суспирия\", который сей...</td>\n",
       "      <td>фройляйн иванова русская танцовщица  о съемках...</td>\n",
       "      <td>в мистическом триллере суспирия который сейчас...</td>\n",
       "      <td>[0]</td>\n",
       "      <td>2.0</td>\n",
       "      <td>9.0</td>\n",
       "      <td>0.0</td>\n",
       "      <td>-0.040585</td>\n",
       "      <td>тильда суинтон,культура</td>\n",
       "    </tr>\n",
       "    <tr>\n",
       "      <th>1129</th>\n",
       "      <td>/20181222/1548483735.html</td>\n",
       "      <td>23512149</td>\n",
       "      <td>2018-12-22 14:53:09</td>\n",
       "      <td>Имена погибших в ДРК российских пилотов назову...</td>\n",
       "      <td>50</td>\n",
       "      <td>10</td>\n",
       "      <td>NaN</td>\n",
       "      <td>имена погибших в дрк российских пилотов назову...</td>\n",
       "      <td>#UNKN</td>\n",
       "      <td>[0]</td>\n",
       "      <td>2.0</td>\n",
       "      <td>8.0</td>\n",
       "      <td>0.0</td>\n",
       "      <td>-0.043148</td>\n",
       "      <td>крушение пассажирского самолета в дрк,в мире</td>\n",
       "    </tr>\n",
       "    <tr>\n",
       "      <th>1130</th>\n",
       "      <td>/20181226/1548001199.html</td>\n",
       "      <td>23553084</td>\n",
       "      <td>2018-12-26 12:00:15</td>\n",
       "      <td>Найдите ингредиенты для салата как можно скорее</td>\n",
       "      <td>29</td>\n",
       "      <td>8</td>\n",
       "      <td>Создайте себе праздничное настроение — пройдит...</td>\n",
       "      <td>найдите ингредиенты для салата как можно скорее</td>\n",
       "      <td>создайте себе праздничное настроение  пройдите...</td>\n",
       "      <td>[0]</td>\n",
       "      <td>4.0</td>\n",
       "      <td>4.0</td>\n",
       "      <td>0.0</td>\n",
       "      <td>-0.049248</td>\n",
       "      <td>инфографика,инфографика</td>\n",
       "    </tr>\n",
       "    <tr>\n",
       "      <th>1131</th>\n",
       "      <td>/20181217/1547762856.html</td>\n",
       "      <td>23450475</td>\n",
       "      <td>2018-12-17 13:00:12</td>\n",
       "      <td>Собери новогодний пазл</td>\n",
       "      <td>41</td>\n",
       "      <td>8</td>\n",
       "      <td>Создай своего новогоднего персонажа и поделись...</td>\n",
       "      <td>собери новогодний пазл</td>\n",
       "      <td>создай своего новогоднего персонажа и поделись...</td>\n",
       "      <td>[0]</td>\n",
       "      <td>0.0</td>\n",
       "      <td>8.0</td>\n",
       "      <td>0.0</td>\n",
       "      <td>-0.049248</td>\n",
       "      <td>инфографика,инфографика</td>\n",
       "    </tr>\n",
       "    <tr>\n",
       "      <th>1132</th>\n",
       "      <td>/20181229/1548890062.html</td>\n",
       "      <td>23583831</td>\n",
       "      <td>2018-12-29 06:55:21</td>\n",
       "      <td>В Хабаровском крае после схода лавины нашли жи...</td>\n",
       "      <td>185</td>\n",
       "      <td>5</td>\n",
       "      <td>NaN</td>\n",
       "      <td>в хабаровском крае после схода лавины нашли жи...</td>\n",
       "      <td>#UNKN</td>\n",
       "      <td>[0]</td>\n",
       "      <td>2.0</td>\n",
       "      <td>2.0</td>\n",
       "      <td>0.0</td>\n",
       "      <td>-0.065751</td>\n",
       "      <td>сход лавины в хабаровском крае,происшествия</td>\n",
       "    </tr>\n",
       "  </tbody>\n",
       "</table>\n",
       "<p>1133 rows × 15 columns</p>\n",
       "</div>"
      ],
      "text/plain": [
       "                           href        id             datetime  \\\n",
       "0     /20181220/1548086735.html  23492479  2018-12-20 20:00:05   \n",
       "1     /20181226/1548764202.html  23557103  2018-12-26 18:55:52   \n",
       "2     /20181214/1548023961.html  23424551  2018-12-15 00:04:21   \n",
       "3     /20181224/1548533049.html  23527352  2018-12-24 01:53:54   \n",
       "4     /20181210/1547765148.html  23373128  2018-12-10 17:09:21   \n",
       "...                         ...       ...                  ...   \n",
       "1128  /20181219/1548201219.html  23478972  2018-12-19 20:05:00   \n",
       "1129  /20181222/1548483735.html  23512149  2018-12-22 14:53:09   \n",
       "1130  /20181226/1548001199.html  23553084  2018-12-26 12:00:15   \n",
       "1131  /20181217/1547762856.html  23450475  2018-12-17 13:00:12   \n",
       "1132  /20181229/1548890062.html  23583831  2018-12-29 06:55:21   \n",
       "\n",
       "                                                  title  likes  comments  \\\n",
       "0                       AR-проект \"Кто твой Дед Мороз?\"     32         7   \n",
       "1     Пожилой француз отправился в путешествие через...    130        66   \n",
       "2     Архиепископ УПЦ назвал \"объединительный собор\"...    164        52   \n",
       "3         Шнуров и Собчак устроили перепалку в соцсетях    105        77   \n",
       "4     LADA стала вторым автомобильным брендом в мире...    269       223   \n",
       "...                                                 ...    ...       ...   \n",
       "1128  \"Фройляйн Иванова\": русская танцовщица — о съе...     42        11   \n",
       "1129  Имена погибших в ДРК российских пилотов назову...     50        10   \n",
       "1130   Найдите ингредиенты для салата как можно скорее      29         8   \n",
       "1131                             Собери новогодний пазл     41         8   \n",
       "1132  В Хабаровском крае после схода лавины нашли жи...    185         5   \n",
       "\n",
       "                                                snippet  \\\n",
       "0     \"Кто твой Дед Мороз?\" - история в дополненной ...   \n",
       "1     Француз Жан-Жак Савен начал свое путешествие в...   \n",
       "2                                                   NaN   \n",
       "3     Шнуров опубликовал в своем Instagram стих, в к...   \n",
       "4                                                   NaN   \n",
       "...                                                 ...   \n",
       "1128  В мистическом триллере \"Суспирия\", который сей...   \n",
       "1129                                                NaN   \n",
       "1130  Создайте себе праздничное настроение — пройдит...   \n",
       "1131  Создай своего новогоднего персонажа и поделись...   \n",
       "1132                                                NaN   \n",
       "\n",
       "                                            title_clean  \\\n",
       "0                           arпроект кто твой дед мороз   \n",
       "1     пожилой француз отправился в путешествие через...   \n",
       "2     архиепископ упц назвал объединительный собор с...   \n",
       "3         шнуров и собчак устроили перепалку в соцсетях   \n",
       "4     lada стала вторым автомобильным брендом в мире...   \n",
       "...                                                 ...   \n",
       "1128  фройляйн иванова русская танцовщица  о съемках...   \n",
       "1129  имена погибших в дрк российских пилотов назову...   \n",
       "1130    найдите ингредиенты для салата как можно скорее   \n",
       "1131                             собери новогодний пазл   \n",
       "1132  в хабаровском крае после схода лавины нашли жи...   \n",
       "\n",
       "                                          snippet_clean target_tags  negative  \\\n",
       "0     кто твой дед мороз  история в дополненной реал...         [0]       1.0   \n",
       "1     француз жанжак савен начал свое путешествие в ...         [0]       8.0   \n",
       "2                                                 #UNKN         [0]       7.0   \n",
       "3     шнуров опубликовал в своем instagram стих в ко...         [0]       1.0   \n",
       "4                                                 #UNKN         [0]      38.0   \n",
       "...                                                 ...         ...       ...   \n",
       "1128  в мистическом триллере суспирия который сейчас...         [0]       2.0   \n",
       "1129                                              #UNKN         [0]       2.0   \n",
       "1130  создайте себе праздничное настроение  пройдите...         [0]       4.0   \n",
       "1131  создай своего новогоднего персонажа и поделись...         [0]       0.0   \n",
       "1132                                              #UNKN         [0]       2.0   \n",
       "\n",
       "      neutral  positive  interval_lower  \\\n",
       "0         2.0       3.0        0.225000   \n",
       "1        38.0      18.0        0.196609   \n",
       "2        28.0      14.0        0.189860   \n",
       "3        54.0      19.0        0.180357   \n",
       "4       128.0      46.0        0.173040   \n",
       "...       ...       ...             ...   \n",
       "1128      9.0       0.0       -0.040585   \n",
       "1129      8.0       0.0       -0.043148   \n",
       "1130      4.0       0.0       -0.049248   \n",
       "1131      8.0       0.0       -0.049248   \n",
       "1132      2.0       0.0       -0.065751   \n",
       "\n",
       "                                                   tags  \n",
       "0     интерактивные проекты,внутренний лонгрид,новый...  \n",
       "1                    атлантический океан,франция,в мире  \n",
       "2     религия и мировоззрение,ситуация вокруг упц,ва...  \n",
       "3           шнур (сергей шнуров),ксения собчак,общество  \n",
       "4                                      lada,авто,россия  \n",
       "...                                                 ...  \n",
       "1128                            тильда суинтон,культура  \n",
       "1129       крушение пассажирского самолета в дрк,в мире  \n",
       "1130                            инфографика,инфографика  \n",
       "1131                            инфографика,инфографика  \n",
       "1132        сход лавины в хабаровском крае,происшествия  \n",
       "\n",
       "[1133 rows x 15 columns]"
      ]
     },
     "execution_count": 127,
     "metadata": {},
     "output_type": "execute_result"
    }
   ],
   "source": [
    "df_oob_for_positive = news_sort[news_sort.href.isin(test_hrefs)]\n",
    "df_ria_oob_new = df_ria[df_ria.href.isin(test_hrefs)][['href', 'tags']]\n",
    "df_oob_for_positive = df_oob_for_positive.set_index('href').join(df_ria_oob_new.set_index('href')).reset_index()\n",
    "df_oob_for_positive"
   ]
  },
  {
   "cell_type": "code",
   "execution_count": null,
   "metadata": {
    "execution": {
     "iopub.execute_input": "2024-12-11T18:53:16.501160Z",
     "iopub.status.busy": "2024-12-11T18:53:16.500317Z",
     "iopub.status.idle": "2024-12-11T18:53:16.521863Z",
     "shell.execute_reply": "2024-12-11T18:53:16.520917Z",
     "shell.execute_reply.started": "2024-12-11T18:53:16.501126Z"
    },
    "id": "Tmj4io_Da8Gr",
    "outputId": "e4a0dab4-831a-4d74-b799-80123926b7b6"
   },
   "outputs": [
    {
     "data": {
      "text/plain": [
       "tags_words\n",
       "интерактивные проекты                          0.225000\n",
       "атлантический океан                            0.196609\n",
       "дед мороз                                      0.174694\n",
       "lada                                           0.173040\n",
       "новая зеландия                                 0.157934\n",
       "истра                                          0.157925\n",
       "карелия                                        0.157925\n",
       "суздаль                                        0.157925\n",
       "осташков                                       0.157925\n",
       "великий устюг                                  0.157925\n",
       "варфоломей i (патриарх константинопольский)    0.154418\n",
       "грымчак юрий                                   0.151821\n",
       "вмс великобритании                             0.151821\n",
       "ксения собчак                                  0.149223\n",
       "газированная вода                              0.136799\n",
       "Name: interval_lower, dtype: float64"
      ]
     },
     "execution_count": 128,
     "metadata": {},
     "output_type": "execute_result"
    }
   ],
   "source": [
    "# Разбиваем текст тегов на список со словами\n",
    "df_oob_for_positive['tags_words'] = df_oob_for_positive['tags'].apply(lambda x: x.split(','))\n",
    "\n",
    "# Для каждого уникального слова в списке ячейки создаём новые строки, в которых повторяется информация для разных слов из одного списка\n",
    "df_oob_for_positive_tags = df_oob_for_positive.explode('tags_words')\n",
    "\n",
    "# Группируем табличку по одинаковым словам и ищем для каждого из них значение q3 'interval_lower'\n",
    "tags_sentiment_mean = df_oob_for_positive_tags.groupby('tags_words')['interval_lower'].quantile(0.75)\n",
    "\n",
    "# Сортируем по полученному значению\n",
    "tags_sentiment_mean_sort = tags_sentiment_mean.sort_values(ascending=False)\n",
    "tags_sentiment_mean_sort.head(15)"
   ]
  },
  {
   "cell_type": "markdown",
   "metadata": {
    "id": "gDFw6uQeM_zn"
   },
   "source": [
    "__[0.2 балла] Бонусное задание 3:__ Проанализируйте, как температура комментария (вероятность того, что он негативный) зависит от длины трэда (число комментариев под новостью)? Значима ли эта взаимосвязь? Если вам для проверки этого хочется построить линейную регрессию, не сдерживайтесь."
   ]
  },
  {
   "cell_type": "code",
   "execution_count": null,
   "metadata": {
    "id": "usdYfPV0M_zn"
   },
   "outputs": [],
   "source": [
    "# your code here\n",
    "# ヾ(๑╹◡╹)ﾉ"
   ]
  }
 ],
 "metadata": {
  "accelerator": "GPU",
  "colab": {
   "gpuType": "T4",
   "provenance": []
  },
  "kaggle": {
   "accelerator": "nvidiaTeslaT4",
   "dataSources": [
    {
     "datasetId": 6273996,
     "sourceId": 10160556,
     "sourceType": "datasetVersion"
    },
    {
     "datasetId": 6283278,
     "sourceId": 10173203,
     "sourceType": "datasetVersion"
    }
   ],
   "dockerImageVersionId": 30805,
   "isGpuEnabled": true,
   "isInternetEnabled": true,
   "language": "python",
   "sourceType": "notebook"
  },
  "kernelspec": {
   "display_name": "Python 3",
   "language": "python",
   "name": "python3"
  },
  "language_info": {
   "codemirror_mode": {
    "name": "ipython",
    "version": 3
   },
   "file_extension": ".py",
   "mimetype": "text/x-python",
   "name": "python",
   "nbconvert_exporter": "python",
   "pygments_lexer": "ipython3",
   "version": "3.10.14"
  }
 },
 "nbformat": 4,
 "nbformat_minor": 0
}
